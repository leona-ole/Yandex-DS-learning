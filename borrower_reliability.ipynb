{
 "cells": [
  {
   "cell_type": "markdown",
   "id": "578840ba",
   "metadata": {
    "deletable": false,
    "editable": false,
    "id": "c81daeeb"
   },
   "source": [
    "# Исследование надежности заемщиков\n"
   ]
  },
  {
   "cell_type": "markdown",
   "id": "629e304f",
   "metadata": {
    "deletable": false,
    "editable": false,
    "id": "827c20bf"
   },
   "source": [
    "Во второй части проекта вы выполните шаги 3 и 4. Их вручную проверит ревьюер.\n",
    "Чтобы вам не пришлось писать код заново для шагов 1 и 2, мы добавили авторские решения в ячейки с кодом. \n",
    "\n"
   ]
  },
  {
   "cell_type": "markdown",
   "id": "9549cac7",
   "metadata": {
    "deletable": false,
    "editable": false,
    "id": "744d7639"
   },
   "source": [
    "## Откройте таблицу и изучите общую информацию о данных"
   ]
  },
  {
   "cell_type": "markdown",
   "id": "85ea9121",
   "metadata": {
    "deletable": false,
    "editable": false,
    "id": "e7a14c31"
   },
   "source": [
    "**Задание 1. Импортируйте библиотеку pandas. Считайте данные из csv-файла в датафрейм и сохраните в переменную `data`. Путь к файлу:**\n",
    "\n",
    "`/datasets/data.csv`"
   ]
  },
  {
   "cell_type": "code",
   "execution_count": null,
   "id": "be359568",
   "metadata": {
    "deletable": false,
    "id": "7bcf75c9"
   },
   "outputs": [],
   "source": [
    "import pandas as pd\n",
    "import matplotlib.pyplot as plt\n",
    "import seaborn as sns\n",
    "\n",
    "data = pd.read_csv('datasets/data.csv')"
   ]
  },
  {
   "cell_type": "markdown",
   "id": "da0cfb00",
   "metadata": {
    "deletable": false,
    "editable": false,
    "id": "b8038fe3"
   },
   "source": [
    "**Задание 2. Выведите первые 20 строчек датафрейма `data` на экран.**"
   ]
  },
  {
   "cell_type": "code",
   "execution_count": null,
   "id": "247e58d5",
   "metadata": {
    "deletable": false,
    "id": "2a7cab99",
    "outputId": "1a8f3ef2-d323-4ec2-ddf7-89670b5944c4"
   },
   "outputs": [],
   "source": [
    "data.head(20)"
   ]
  },
  {
   "cell_type": "markdown",
   "id": "6e99c0db",
   "metadata": {
    "deletable": false,
    "editable": false,
    "id": "1c12e233"
   },
   "source": [
    "**Задание 3. Выведите основную информацию о датафрейме с помощью метода `info()`.**"
   ]
  },
  {
   "cell_type": "code",
   "execution_count": null,
   "id": "ff2a6065",
   "metadata": {
    "deletable": false,
    "id": "2b757bca",
    "outputId": "15376089-8dad-46c9-b520-c05248d43158"
   },
   "outputs": [],
   "source": [
    "data.info()"
   ]
  },
  {
   "cell_type": "markdown",
   "id": "6e2fc8e1",
   "metadata": {
    "deletable": false,
    "editable": false,
    "id": "333ec665"
   },
   "source": [
    "## Предобработка данных"
   ]
  },
  {
   "cell_type": "markdown",
   "id": "91d1ea3c",
   "metadata": {
    "deletable": false,
    "editable": false,
    "id": "02d92d53"
   },
   "source": [
    "### Удаление пропусков"
   ]
  },
  {
   "cell_type": "markdown",
   "id": "fba43444",
   "metadata": {
    "deletable": false,
    "editable": false,
    "id": "cd84967c"
   },
   "source": [
    "**Задание 4. Выведите количество пропущенных значений для каждого столбца. Используйте комбинацию двух методов.**"
   ]
  },
  {
   "cell_type": "code",
   "execution_count": null,
   "id": "2fdb2eea",
   "metadata": {
    "deletable": false,
    "id": "7f9b2309",
    "outputId": "81f4d817-781c-465c-ed15-91ce4446810d"
   },
   "outputs": [],
   "source": [
    "data.isna().sum()"
   ]
  },
  {
   "cell_type": "markdown",
   "id": "153754f8",
   "metadata": {
    "deletable": false,
    "editable": false,
    "id": "db86e27b"
   },
   "source": [
    "**Задание 5. В двух столбцах есть пропущенные значения. Один из них — `days_employed`. Пропуски в этом столбце вы обработаете на следующем этапе. Другой столбец с пропущенными значениями — `total_income` — хранит данные о доходах. На сумму дохода сильнее всего влияет тип занятости, поэтому заполнить пропуски в этом столбце нужно медианным значением по каждому типу из столбца `income_type`. Например, у человека с типом занятости `сотрудник` пропуск в столбце `total_income` должен быть заполнен медианным доходом среди всех записей с тем же типом.**"
   ]
  },
  {
   "cell_type": "code",
   "execution_count": null,
   "id": "e4a0ff36",
   "metadata": {
    "deletable": false,
    "id": "42006a93"
   },
   "outputs": [],
   "source": [
    "for t in data['income_type'].unique():\n",
    "    data.loc[(data['income_type'] == t) & (data['total_income'].isna()), 'total_income'] = \\\n",
    "    data.loc[(data['income_type'] == t), 'total_income'].median()"
   ]
  },
  {
   "cell_type": "markdown",
   "id": "655c2fbf",
   "metadata": {
    "deletable": false,
    "editable": false,
    "id": "89da5ece"
   },
   "source": [
    "### Обработка аномальных значений"
   ]
  },
  {
   "cell_type": "markdown",
   "id": "42d21159",
   "metadata": {
    "deletable": false,
    "editable": false,
    "id": "57964554"
   },
   "source": [
    "**Задание 6. В данных могут встречаться артефакты (аномалии) — значения, которые не отражают действительность и появились по какой-то ошибке. таким артефактом будет отрицательное количество дней трудового стажа в столбце `days_employed`. Для реальных данных это нормально. Обработайте значения в этом столбце: замените все отрицательные значения положительными с помощью метода `abs()`.**"
   ]
  },
  {
   "cell_type": "code",
   "execution_count": null,
   "id": "50a85578",
   "metadata": {
    "deletable": false,
    "id": "f6f055bf"
   },
   "outputs": [],
   "source": [
    "data['days_employed'] = data['days_employed'].abs()"
   ]
  },
  {
   "cell_type": "markdown",
   "id": "44feb0bb",
   "metadata": {
    "deletable": false,
    "editable": false,
    "id": "6107dd2f"
   },
   "source": [
    "**Задание 7. Для каждого типа занятости выведите медианное значение трудового стажа `days_employed` в днях.**"
   ]
  },
  {
   "cell_type": "code",
   "execution_count": null,
   "id": "fd31b153",
   "metadata": {
    "deletable": false,
    "id": "85a5faf6",
    "outputId": "801ef80e-522b-4668-f34e-565af7432bcf"
   },
   "outputs": [],
   "source": [
    "data.groupby('income_type')['days_employed'].agg('median')"
   ]
  },
  {
   "cell_type": "markdown",
   "id": "9608202e",
   "metadata": {
    "deletable": false,
    "editable": false,
    "id": "38d1a030"
   },
   "source": [
    "У двух типов (безработные и пенсионеры) получатся аномально большие значения. Исправить такие значения сложно, поэтому оставьте их как есть. Тем более этот столбец не понадобится вам для исследования."
   ]
  },
  {
   "cell_type": "markdown",
   "id": "86ba6fcb",
   "metadata": {
    "deletable": false,
    "editable": false,
    "id": "d8a9f147"
   },
   "source": [
    "**Задание 8. Выведите перечень уникальных значений столбца `children`.**"
   ]
  },
  {
   "cell_type": "code",
   "execution_count": null,
   "id": "1da75cc9",
   "metadata": {
    "deletable": false,
    "id": "ef5056eb",
    "outputId": "6975b15c-7f95-4697-d16d-a0c79b657b03"
   },
   "outputs": [],
   "source": [
    "data['children'].unique()"
   ]
  },
  {
   "cell_type": "markdown",
   "id": "013eb0d8",
   "metadata": {
    "deletable": false,
    "editable": false,
    "id": "40b9ebf2"
   },
   "source": [
    "**Задание 9. В столбце `children` есть два аномальных значения. Удалите строки, в которых встречаются такие аномальные значения из датафрейма `data`.**"
   ]
  },
  {
   "cell_type": "code",
   "execution_count": null,
   "id": "d291997f",
   "metadata": {
    "deletable": false,
    "id": "3ff9801d"
   },
   "outputs": [],
   "source": [
    "data = data[(data['children'] != -1) & (data['children'] != 20)]"
   ]
  },
  {
   "cell_type": "markdown",
   "id": "876acd9e",
   "metadata": {
    "deletable": false,
    "editable": false,
    "id": "bbc4d0ce"
   },
   "source": [
    "**Задание 10. Ещё раз выведите перечень уникальных значений столбца `children`, чтобы убедиться, что артефакты удалены.**"
   ]
  },
  {
   "cell_type": "code",
   "execution_count": null,
   "id": "e6e5f864",
   "metadata": {
    "deletable": false,
    "id": "ad4fa8b7",
    "outputId": "b2097101-d49d-44d9-901b-32a65c9463d1"
   },
   "outputs": [],
   "source": [
    "data['children'].unique()"
   ]
  },
  {
   "cell_type": "markdown",
   "id": "7069ee12",
   "metadata": {
    "deletable": false,
    "editable": false,
    "id": "75440b63"
   },
   "source": [
    "### Удаление пропусков (продолжение)"
   ]
  },
  {
   "cell_type": "markdown",
   "id": "b8ae7a7a",
   "metadata": {
    "deletable": false,
    "editable": false,
    "id": "f4ea573f"
   },
   "source": [
    "**Задание 11. Заполните пропуски в столбце `days_employed` медианными значениями по каждого типа занятости `income_type`.**"
   ]
  },
  {
   "cell_type": "code",
   "execution_count": null,
   "id": "0540d3c3",
   "metadata": {
    "deletable": false,
    "id": "af6b1a7e"
   },
   "outputs": [],
   "source": [
    "for t in data['income_type'].unique():\n",
    "    data.loc[(data['income_type'] == t) & (data['days_employed'].isna()), 'days_employed'] = \\\n",
    "    data.loc[(data['income_type'] == t), 'days_employed'].median()"
   ]
  },
  {
   "cell_type": "markdown",
   "id": "7532885d",
   "metadata": {
    "deletable": false,
    "editable": false,
    "id": "2753f40d"
   },
   "source": [
    "**Задание 12. Убедитесь, что все пропуски заполнены. Проверьте себя и ещё раз выведите количество пропущенных значений для каждого столбца с помощью двух методов.**"
   ]
  },
  {
   "cell_type": "code",
   "execution_count": null,
   "id": "d8f8a2d5",
   "metadata": {
    "deletable": false,
    "id": "55f78bc2",
    "outputId": "8da1e4e1-358e-4e87-98c9-f261bce0a7b2"
   },
   "outputs": [],
   "source": [
    "data.isna().sum()"
   ]
  },
  {
   "cell_type": "markdown",
   "id": "caf2cb4a",
   "metadata": {
    "deletable": false,
    "editable": false,
    "id": "ddc81e43"
   },
   "source": [
    "### Изменение типов данных"
   ]
  },
  {
   "cell_type": "markdown",
   "id": "012b8e1b",
   "metadata": {
    "deletable": false,
    "editable": false,
    "id": "42d19d24"
   },
   "source": [
    "**Задание 13. Замените вещественный тип данных в столбце `total_income` на целочисленный с помощью метода `astype()`.**"
   ]
  },
  {
   "cell_type": "code",
   "execution_count": null,
   "id": "51a2db14",
   "metadata": {
    "deletable": false,
    "id": "920b65ad"
   },
   "outputs": [],
   "source": [
    "data['total_income'] = data['total_income'].astype(int)"
   ]
  },
  {
   "cell_type": "markdown",
   "id": "0fa247ab",
   "metadata": {
    "deletable": false,
    "editable": false,
    "id": "80c420ba"
   },
   "source": [
    "### Обработка дубликатов"
   ]
  },
  {
   "cell_type": "markdown",
   "id": "c6290a1a",
   "metadata": {
    "deletable": false,
    "editable": false
   },
   "source": [
    "**Задание 14. Обработайте неявные дубликаты в столбце `education`. В этом столбце есть одни и те же значения, но записанные по-разному: с использованием заглавных и строчных букв. Приведите их к нижнему регистру. Проверьте остальные столбцы.**"
   ]
  },
  {
   "cell_type": "code",
   "execution_count": null,
   "id": "a6035ba2",
   "metadata": {
    "deletable": false
   },
   "outputs": [],
   "source": [
    "data['education'] = data['education'].str.lower()"
   ]
  },
  {
   "cell_type": "markdown",
   "id": "49dfecec",
   "metadata": {
    "deletable": false,
    "editable": false,
    "id": "dc587695"
   },
   "source": [
    "**Задание 15. Выведите на экран количество строк-дубликатов в данных. Если такие строки присутствуют, удалите их.**"
   ]
  },
  {
   "cell_type": "code",
   "execution_count": null,
   "id": "340010b8",
   "metadata": {
    "deletable": false,
    "id": "3ee445e4",
    "outputId": "9684deba-1934-42d1-99e1-cda61740f822"
   },
   "outputs": [],
   "source": [
    "data.duplicated().sum()"
   ]
  },
  {
   "cell_type": "code",
   "execution_count": null,
   "id": "36c6702c",
   "metadata": {
    "deletable": false,
    "id": "8575fe05"
   },
   "outputs": [],
   "source": [
    "data = data.drop_duplicates()"
   ]
  },
  {
   "cell_type": "markdown",
   "id": "8ed6bc53",
   "metadata": {
    "deletable": false,
    "editable": false,
    "id": "9904cf55"
   },
   "source": [
    "### Категоризация данных"
   ]
  },
  {
   "cell_type": "markdown",
   "id": "3846a859",
   "metadata": {
    "deletable": false,
    "editable": false,
    "id": "72fcc8a2"
   },
   "source": [
    "**Задание 16. На основании диапазонов, указанных ниже, создайте в датафрейме `data` столбец `total_income_category` с категориями:**\n",
    "\n",
    "- 0–30000 — `'E'`;\n",
    "- 30001–50000 — `'D'`;\n",
    "- 50001–200000 — `'C'`;\n",
    "- 200001–1000000 — `'B'`;\n",
    "- 1000001 и выше — `'A'`.\n",
    "\n",
    "\n",
    "**Например, кредитополучателю с доходом 25000 нужно назначить категорию `'E'`, а клиенту, получающему 235000, — `'B'`. Используйте собственную функцию с именем `categorize_income()` и метод `apply()`.**"
   ]
  },
  {
   "cell_type": "code",
   "execution_count": null,
   "id": "d0f7bdb4",
   "metadata": {
    "deletable": false,
    "id": "e1771346"
   },
   "outputs": [],
   "source": [
    "def categorize_income(income):\n",
    "    try:\n",
    "        if 0 <= income <= 30000:\n",
    "            return 'E'\n",
    "        elif 30001 <= income <= 50000:\n",
    "            return 'D'\n",
    "        elif 50001 <= income <= 200000:\n",
    "            return 'C'\n",
    "        elif 200001 <= income <= 1000000:\n",
    "            return 'B'\n",
    "        elif income >= 1000001:\n",
    "            return 'A'\n",
    "    except:\n",
    "        pass"
   ]
  },
  {
   "cell_type": "code",
   "execution_count": null,
   "id": "47a8244e",
   "metadata": {
    "deletable": false,
    "id": "d5f3586d"
   },
   "outputs": [],
   "source": [
    "data['total_income_category'] = data['total_income'].apply(categorize_income)"
   ]
  },
  {
   "cell_type": "markdown",
   "id": "4c64b868",
   "metadata": {
    "deletable": false,
    "editable": false,
    "id": "dde49b5c"
   },
   "source": [
    "**Задание 17. Выведите на экран перечень уникальных целей взятия кредита из столбца `purpose`.**"
   ]
  },
  {
   "cell_type": "code",
   "execution_count": null,
   "id": "c323e1d1",
   "metadata": {
    "deletable": false,
    "id": "f67ce9b3",
    "outputId": "673c12d9-7d7e-4ae0-9812-c622c89dd244"
   },
   "outputs": [],
   "source": [
    "data['purpose'].unique()"
   ]
  },
  {
   "cell_type": "markdown",
   "id": "1cb36b7c",
   "metadata": {
    "deletable": false,
    "editable": false,
    "id": "85d0aef0"
   },
   "source": [
    "**Задание 18. Создайте функцию, которая на основании данных из столбца `purpose` сформирует новый столбец `purpose_category`, в который войдут следующие категории:**\n",
    "\n",
    "- `'операции с автомобилем'`,\n",
    "- `'операции с недвижимостью'`,\n",
    "- `'проведение свадьбы'`,\n",
    "- `'получение образования'`.\n",
    "\n",
    "**Например, если в столбце `purpose` находится подстрока `'на покупку автомобиля'`, то в столбце `purpose_category` должна появиться строка `'операции с автомобилем'`.**\n",
    "\n",
    "**Используйте собственную функцию с именем `categorize_purpose()` и метод `apply()`. Изучите данные в столбце `purpose` и определите, какие подстроки помогут вам правильно определить категорию.**"
   ]
  },
  {
   "cell_type": "code",
   "execution_count": null,
   "id": "37aab5ef",
   "metadata": {
    "deletable": false,
    "id": "e149fab4"
   },
   "outputs": [],
   "source": [
    "def categorize_purpose(row):\n",
    "    try:\n",
    "        if 'автом' in row:\n",
    "            return 'операции с автомобилем'\n",
    "        elif 'жил' in row or 'недвиж' in row:\n",
    "            return 'операции с недвижимостью'\n",
    "        elif 'свад' in row:\n",
    "            return 'проведение свадьбы'\n",
    "        elif 'образов' in row:\n",
    "            return 'получение образования'\n",
    "    except:\n",
    "        return 'нет категории'"
   ]
  },
  {
   "cell_type": "code",
   "execution_count": null,
   "id": "d46e22d9",
   "metadata": {
    "deletable": false,
    "id": "bf36e69b"
   },
   "outputs": [],
   "source": [
    "data['purpose_category'] = data['purpose'].apply(categorize_purpose)"
   ]
  },
  {
   "cell_type": "markdown",
   "id": "e803ac43",
   "metadata": {
    "deletable": false,
    "editable": false,
    "id": "09b242bf"
   },
   "source": [
    "### Шаг 3. Исследуйте данные и ответьте на вопросы"
   ]
  },
  {
   "cell_type": "markdown",
   "id": "50c13cf4",
   "metadata": {
    "deletable": false,
    "editable": false,
    "id": "c5d66278"
   },
   "source": [
    "#### 3.1 Есть ли зависимость между количеством детей и возвратом кредита в срок?"
   ]
  },
  {
   "cell_type": "code",
   "execution_count": null,
   "id": "a405df6e",
   "metadata": {},
   "outputs": [],
   "source": [
    "# Функция для построения сводных во всех вопросах\n",
    "def dependence_between(data, parameter_1, parameter_2='debt'):\n",
    "    return data.groupby(parameter_1)[parameter_2].agg(['count', 'sum', 'mean'])"
   ]
  },
  {
   "cell_type": "code",
   "execution_count": null,
   "id": "cc18d63f",
   "metadata": {
    "deletable": false,
    "id": "2cacfc4a"
   },
   "outputs": [],
   "source": [
    "df = dependence_between(data, 'children')\n",
    "df"
   ]
  },
  {
   "cell_type": "code",
   "execution_count": null,
   "id": "fb713e04",
   "metadata": {},
   "outputs": [],
   "source": [
    "# указываем размер визуализации\n",
    "plt.rcParams['figure.figsize'] = (8, 4)\n",
    "\n",
    "# формируем график\n",
    "bar=sns.barplot(x=df.index, y='mean', data=df[['mean']], palette='dark:#4287f5', alpha=0.8)\n",
    "\n",
    "# добавляем подписи данных\n",
    "for index, value in enumerate(df['mean']):\n",
    "    label = format(float(value), '.2%')\n",
    "    plt.annotate(label, xy=(index-0.15, value+0.005), color='black')\n",
    "    \n",
    "# корректируем заголовок, оси, подписи осей\n",
    "plt.title(\"Зависимость между количеством детей и возвратом кредита в срок\\n\".upper(), loc='center')\n",
    "plt.xticks()\n",
    "plt.yticks([])\n",
    "\n",
    "plt.ylabel(\"Не вернули кредит, %\")\n",
    "plt.xlabel(\"Количество детей\")\n",
    "\n",
    "bar.spines.clear()"
   ]
  },
  {
   "cell_type": "markdown",
   "id": "a320bf7a",
   "metadata": {
    "deletable": false,
    "id": "3a6b99ec"
   },
   "source": [
    "**Вывод:** \n",
    "\n",
    "Люди, у которых *количество детей равно 5*, никогда не имели задолженности по кредиту. Однако, стоит учитывать, что количество людей в выборке с количеством детей равном 5 составляет 9 человек. \n",
    "\n",
    "Больше всего данных имеется для категорий заемщиков без детей, с 1 и 2 детьми. Процент невозврата кредита меньше у людей, не имеющих детей. Для категорий с 1 или 2 детьми процент невозврата выше приблизительно на 2%. Это может быть связано с увеличенными тратами на детей."
   ]
  },
  {
   "cell_type": "markdown",
   "id": "be2955b4",
   "metadata": {
    "deletable": false,
    "editable": false,
    "id": "97be82ca"
   },
   "source": [
    "#### 3.2 Есть ли зависимость между семейным положением и возвратом кредита в срок?"
   ]
  },
  {
   "cell_type": "code",
   "execution_count": null,
   "id": "e4e1ebc4",
   "metadata": {
    "deletable": false,
    "id": "dc3f7ee8"
   },
   "outputs": [],
   "source": [
    "df = dependence_between(data, 'family_status')\n",
    "\n",
    "df.index = [f'{label.capitalize()}' for label in df.index]\n",
    "df = df.sort_values(by='mean')\n",
    "df"
   ]
  },
  {
   "cell_type": "code",
   "execution_count": null,
   "id": "3644d8e8",
   "metadata": {},
   "outputs": [],
   "source": [
    "# указываем размер визуализации\n",
    "plt.rcParams['figure.figsize'] = (8, 4)\n",
    "\n",
    "# формируем график\n",
    "bar=sns.barplot(x='mean', y=df.index, data=df[['mean']], palette='dark:#4287f5', alpha=0.8)\n",
    "\n",
    "# добавляем подписи данных\n",
    "for index, value in enumerate(df['mean']):\n",
    "    label = format(float(value), '.2%')\n",
    "    plt.annotate(label, xy=(value+0.001, index), color='black')\n",
    "    \n",
    "# корректируем заголовок, оси, подписи осей\n",
    "plt.title(\"Зависимость между семейным положением и возвратом кредита в срок\\n\".upper(), loc='center')\n",
    "plt.xticks()\n",
    "plt.yticks()\n",
    "plt.xlabel(\"Не вернули кредит, %\")\n",
    "plt.ylabel(\"Семейное положение\")\n",
    "bar.spines.clear()"
   ]
  },
  {
   "cell_type": "markdown",
   "id": "3496155e",
   "metadata": {
    "deletable": false,
    "id": "1cef7837"
   },
   "source": [
    "**Вывод:** \n",
    "\n",
    "Для любого семейного положения процент возврата кредита примерно одинаковый и равен от 6 до 10%.\n",
    "\n",
    "Люди с семейным положением *\"Не женат / не замужем\"* чаще остальных не возвращают кредит. \n",
    "\n",
    "Люди с семейным положением *\"Вдовец / вдова\"* реже остальных не возвращают кредит. \n",
    "\n",
    "Люди, которые никогда не были женаты / замужем, чаще не возвращают кредиты. Возможно, есть связь с возрастом."
   ]
  },
  {
   "cell_type": "markdown",
   "id": "a34d7823",
   "metadata": {
    "deletable": false,
    "editable": false,
    "id": "1e8b2fca"
   },
   "source": [
    "#### 3.3 Есть ли зависимость между уровнем дохода и возвратом кредита в срок?"
   ]
  },
  {
   "cell_type": "code",
   "execution_count": null,
   "id": "4b048f54",
   "metadata": {},
   "outputs": [],
   "source": [
    "# Немного скорректируем функцию, чтобы в графике можно было сделать сортировку по категории и вывести понятные значения \n",
    "def income_group (income):\n",
    "    try: \n",
    "        if 0 <= income <= 30000:\n",
    "            return pd.Series(['E', 'до 30 000'])\n",
    "        elif 30001 <= income <= 50000:\n",
    "            return pd.Series(['D', 'от 30 000 до 50 000'])\n",
    "        elif 50001 <= income <= 200000:\n",
    "            return pd.Series(['C', 'от 50 000 до 200 000'])\n",
    "        elif 200001 <= income <= 1000000:\n",
    "            return pd.Series(['B', 'от 200 000 до 1 000 000'])\n",
    "        elif income >= 1000001:\n",
    "            return pd.Series(['A', 'выше 1 000 000'])    \n",
    "    except:\n",
    "        pass\n",
    "    \n",
    "# Применим функцию и получим категории на основании дохода \n",
    "df = pd.DataFrame()\n",
    "data[['total_income_category', 'income_group']] = data['total_income'].apply(income_group)\n",
    "\n",
    "df = dependence_between(data, ['total_income_category', 'income_group'])\n",
    "df = df.reset_index(0).reset_index(drop=False)\n",
    "df"
   ]
  },
  {
   "cell_type": "code",
   "execution_count": null,
   "id": "a99c758a",
   "metadata": {},
   "outputs": [],
   "source": [
    "# указываем размер визуализации\n",
    "plt.rcParams['figure.figsize'] = (16, 4)\n",
    "\n",
    "# формируем график\n",
    "bar=sns.barplot(y='mean', x='income_group', data=df[['income_group', 'mean']], palette='dark:#4287f5', alpha=0.8, hue='income_group', legend=False)\n",
    "\n",
    "# добавляем подписи данных\n",
    "for index, value in enumerate(df['mean']):\n",
    "    label = format(float(value), '.2%')\n",
    "    plt.annotate(label, xy=(index-0.06, value+0.003), color='black')\n",
    "    \n",
    "# корректируем заголовок, оси, подписи осей\n",
    "plt.title(\"Зависимость между уровнем дохода и возвратом кредита в срок\\n\".upper(), loc='center')\n",
    "plt.yticks()\n",
    "plt.yticks()\n",
    "\n",
    "# Скорректировала подписи\n",
    "plt.ylabel(\"Не вернули кредит, %\")\n",
    "plt.xlabel(\"Категория дохода\")\n",
    "bar.spines.clear();"
   ]
  },
  {
   "cell_type": "markdown",
   "id": "7943f4b2",
   "metadata": {
    "deletable": false,
    "id": "e8593def"
   },
   "source": [
    "**Вывод:** \n",
    "Для каждой категории дохода процент не возврата кредита составляет от 6 до 9%.\n",
    "\n",
    "Больше всего данных имеется для категорий C (от 50 000 до 200 000) и B (от 200 000 до 1 000 000).\n",
    "\n",
    "Заемщики с более низким доходом (из категории С) чаще не возвращают кредиты, чем заемщики с более высоким доходом (из категории B)."
   ]
  },
  {
   "cell_type": "markdown",
   "id": "bec05f32",
   "metadata": {
    "deletable": false,
    "editable": false,
    "id": "99ecbd1f"
   },
   "source": [
    "#### 3.4 Как разные цели кредита влияют на его возврат в срок?"
   ]
  },
  {
   "cell_type": "code",
   "execution_count": null,
   "id": "2ccc7d4d",
   "metadata": {
    "deletable": false,
    "id": "2b687290"
   },
   "outputs": [],
   "source": [
    "# Найдем отношение количества людей, не имеющих задолженности, к общему количеству людей каждой категории дохода\n",
    "df = dependence_between(data, 'purpose_category')\n",
    "\n",
    "df.index = [f'{label.capitalize()}' for label in df.index]\n",
    "df = df.sort_values(by='mean')\n",
    "df"
   ]
  },
  {
   "cell_type": "code",
   "execution_count": null,
   "id": "5922ac8b",
   "metadata": {},
   "outputs": [],
   "source": [
    "# указываем размер визуализации\n",
    "plt.rcParams['figure.figsize'] = (8, 4)\n",
    "\n",
    "# формируем график\n",
    "bar=sns.barplot(x='mean', y=df.index, data=df[['mean']], palette='dark:#4287f5', alpha=0.8, hue='mean', legend=False)\n",
    "\n",
    "# добавляем подписи данных\n",
    "for index, value in enumerate(df['mean']):\n",
    "    label = format(float(value), '.2%')\n",
    "    plt.annotate(label, xy=(value+0.001, index), color='black')\n",
    "    \n",
    "# корректируем заголовок, оси, подписи осей\n",
    "plt.title(\"Зависимость между целями кредита и возвратом кредита в срок\\n\".upper(), loc='center')\n",
    "plt.xticks()\n",
    "plt.yticks()\n",
    "plt.xlabel(\"Не вернули кредит, %\")\n",
    "plt.ylabel(\"Цель кредита\")\n",
    "bar.spines.clear();"
   ]
  },
  {
   "cell_type": "markdown",
   "id": "261593fd",
   "metadata": {
    "deletable": false,
    "id": "b4bb2ce6"
   },
   "source": [
    "**Вывод:** \n",
    "Для каждой цели кредита процент возврата равен от 7 до 9.5%. \n",
    "\n",
    "Чаще остальных не возвращают кредит в случае цели *Операций с автомобилем*.\n",
    "\n",
    "Реже остальных не возвращают кредит в случае цели  *Операций с недвижимостью*.\n",
    "\n",
    "Вероятно такое распределение может быть связано с тем, что:\n",
    "\n",
    "- автомобили теряют в цене сразу после их покупки, а недвижимость, наоборот, со временем только растет в цене;\n",
    "\n",
    "- автомобили могут требовать непредвиденных дополнительных расходов (в случае поломок, аварий), непредвиденные расходы в отношении недвижимости случаются, но реже."
   ]
  },
  {
   "cell_type": "markdown",
   "id": "03ff30ff",
   "metadata": {
    "deletable": false,
    "editable": false,
    "id": "09c3ac4c"
   },
   "source": [
    "#### 3.5 Приведите возможные причины появления пропусков в исходных данных."
   ]
  },
  {
   "cell_type": "markdown",
   "id": "efcd3aaa",
   "metadata": {
    "deletable": false,
    "id": "9da2ceda"
   },
   "source": [
    "*Ответ:* \n",
    "- технические ошибки:\n",
    "    - ошибки в коде при обработке данных\n",
    "    - ошибки при переносе данных\n",
    "- человеческий фактор:\n",
    "    - забыли/не захотели заполнить\n",
    "    - опечатались\n",
    "    - неверно поняли задачу и т.п.\n",
    "    - не договорились как нужно заполнять"
   ]
  },
  {
   "cell_type": "markdown",
   "id": "bdf62d4e",
   "metadata": {
    "deletable": false,
    "editable": false,
    "id": "7b0487d6"
   },
   "source": [
    "#### 3.6 Объясните, почему заполнить пропуски медианным значением — лучшее решение для количественных переменных."
   ]
  },
  {
   "cell_type": "markdown",
   "id": "0c1b8a65",
   "metadata": {
    "deletable": false,
    "id": "7ecf2b8e"
   },
   "source": [
    "*Ответ:* \n",
    "\n",
    "Среднее и медиана различаются, если в выборке присутствуют выбросы (значения, выделяющиеся из общей выборки). \n",
    "\n",
    "Медиана позволяет нивелировать их влияние."
   ]
  },
  {
   "cell_type": "markdown",
   "id": "af241368",
   "metadata": {
    "deletable": false,
    "editable": false,
    "id": "6db5255a"
   },
   "source": [
    "### Шаг 4: Общий вывод"
   ]
  },
  {
   "cell_type": "markdown",
   "id": "c99f8d9a",
   "metadata": {
    "deletable": false,
    "id": "bad65432"
   },
   "source": [
    "1. Была выполнена предобработка данных, а именно исправлены следующие несоответствия: \n",
    "- выявлены отрицательные значения в столбце данных о трудовом стаже (days_employed) и приведены к положительным значениям;\n",
    "- выявлены аномальные значения в столбцу данных о количестве детей (children) и выполнена выборка только строк с корректными значениями;\n",
    "- выявлены пропуски значений в столбце данных о доходах (total_income) и выполнена замена пропусков на медианные значения;\n",
    "- выявлены пропуски значений в столбце данных о трудовом стаже (days_employed) и выполнена замена пропусков на медианные значения;\n",
    "- изменен тип данных (с вещественного на целочисленный) для столбца с данными о доходах (total_income);\n",
    "- выявлены неявные дубликаты в столбце с данными об образовании (education) и приведены к единому формату;\n",
    "- удалены дубликаты строк.\n",
    "\n",
    "2. Выявлены следующие зависимости просрочки:\n",
    "- заемщики без детей чаще недопускают просрочек по кредиту, в отличие от заемщиков с детьми;\n",
    "- заемщики, которые никогда не были женаты/замужем, чаще остальных допускают просрочки по кредиту (возможно есть связь с возрастом);\n",
    "- заемщики с более низким доходом чаще допускают просрочки по кредиту, чем заемщики с более высоким доходом;\n",
    "- просрочки по кредитам, которые брались с целью операций с автомобилем или получения образования, случаются чаще, чем по кредитам, цель которых была проведение свадьбы или операции с недвижимостью.\n",
    "    \n",
    "3. Портреты надежного и рискованного заемщика:\n",
    "    3.1. Самый надежный заемщик: \n",
    "\t- без детей;\n",
    "\t- вдовец / вдова;\n",
    "\t- с доходом от 200 000;\n",
    "\t- с целью кредита: операции с недвижимостью.\n",
    "3.2. Самый ненадежный заемщик:\n",
    "\t- имеет детей;\n",
    "\t- не женат / не замужем или в гражданском браке;\n",
    "\t- с доходом от 50 000 до 200 000;\n",
    "\t- с целью кредита: операции с автомобилем.\n",
    "\n",
    "4. При принятии решения о выдаче кредита рекомендуется обращать внимание на следующие параметры: \n",
    "\t- наличие и количество детей;\n",
    "\t- возраст и семейное положение; \n",
    "\t- уровень дохода;\n",
    "\t- цели кредита.  \n",
    "\n",
    "Для расчета связей указанных выше параметров между собой требуется проведение дополнительного исслледования. \n",
    "\n"
   ]
  }
 ],
 "metadata": {
  "ExecuteTimeLog": [
   {
    "duration": 577,
    "start_time": "2025-02-08T11:08:46.162Z"
   },
   {
    "duration": 28,
    "start_time": "2025-02-08T11:08:46.741Z"
   },
   {
    "duration": 26,
    "start_time": "2025-02-08T11:08:46.772Z"
   },
   {
    "duration": 13,
    "start_time": "2025-02-08T11:08:46.801Z"
   },
   {
    "duration": 73,
    "start_time": "2025-02-08T11:08:46.816Z"
   },
   {
    "duration": 4,
    "start_time": "2025-02-08T11:08:46.893Z"
   },
   {
    "duration": 13,
    "start_time": "2025-02-08T11:08:46.898Z"
   },
   {
    "duration": 5,
    "start_time": "2025-02-08T11:08:46.913Z"
   },
   {
    "duration": 8,
    "start_time": "2025-02-08T11:08:46.920Z"
   },
   {
    "duration": 7,
    "start_time": "2025-02-08T11:08:46.932Z"
   },
   {
    "duration": 73,
    "start_time": "2025-02-08T11:08:46.941Z"
   },
   {
    "duration": 13,
    "start_time": "2025-02-08T11:08:47.016Z"
   },
   {
    "duration": 5,
    "start_time": "2025-02-08T11:08:47.030Z"
   },
   {
    "duration": 50,
    "start_time": "2025-02-08T11:08:47.037Z"
   },
   {
    "duration": 24,
    "start_time": "2025-02-08T11:08:47.089Z"
   },
   {
    "duration": 20,
    "start_time": "2025-02-08T11:08:47.114Z"
   },
   {
    "duration": 5,
    "start_time": "2025-02-08T11:08:47.136Z"
   },
   {
    "duration": 44,
    "start_time": "2025-02-08T11:08:47.143Z"
   },
   {
    "duration": 8,
    "start_time": "2025-02-08T11:08:47.189Z"
   },
   {
    "duration": 8,
    "start_time": "2025-02-08T11:08:47.199Z"
   },
   {
    "duration": 17,
    "start_time": "2025-02-08T11:08:47.209Z"
   },
   {
    "duration": 1107,
    "start_time": "2025-02-08T11:08:47.229Z"
   },
   {
    "duration": 37,
    "start_time": "2025-02-08T11:08:48.338Z"
   },
   {
    "duration": 281,
    "start_time": "2025-02-08T11:08:48.385Z"
   },
   {
    "duration": 0,
    "start_time": "2025-02-08T11:08:48.679Z"
   },
   {
    "duration": 0,
    "start_time": "2025-02-08T11:08:48.680Z"
   },
   {
    "duration": 0,
    "start_time": "2025-02-08T11:08:48.681Z"
   },
   {
    "duration": 0,
    "start_time": "2025-02-08T11:08:48.682Z"
   },
   {
    "duration": 0,
    "start_time": "2025-02-08T11:08:48.682Z"
   },
   {
    "duration": 0,
    "start_time": "2025-02-08T11:08:48.683Z"
   },
   {
    "duration": 500,
    "start_time": "2025-02-08T16:32:57.087Z"
   },
   {
    "duration": 22,
    "start_time": "2025-02-08T16:32:57.589Z"
   },
   {
    "duration": 16,
    "start_time": "2025-02-08T16:32:57.612Z"
   },
   {
    "duration": 11,
    "start_time": "2025-02-08T16:32:57.629Z"
   },
   {
    "duration": 34,
    "start_time": "2025-02-08T16:32:57.642Z"
   },
   {
    "duration": 3,
    "start_time": "2025-02-08T16:32:57.678Z"
   },
   {
    "duration": 31,
    "start_time": "2025-02-08T16:32:57.683Z"
   },
   {
    "duration": 4,
    "start_time": "2025-02-08T16:32:57.716Z"
   },
   {
    "duration": 27,
    "start_time": "2025-02-08T16:32:57.721Z"
   },
   {
    "duration": 4,
    "start_time": "2025-02-08T16:32:57.750Z"
   },
   {
    "duration": 36,
    "start_time": "2025-02-08T16:32:57.755Z"
   },
   {
    "duration": 21,
    "start_time": "2025-02-08T16:32:57.792Z"
   },
   {
    "duration": 4,
    "start_time": "2025-02-08T16:32:57.814Z"
   },
   {
    "duration": 17,
    "start_time": "2025-02-08T16:32:57.820Z"
   },
   {
    "duration": 20,
    "start_time": "2025-02-08T16:32:57.839Z"
   },
   {
    "duration": 16,
    "start_time": "2025-02-08T16:32:57.861Z"
   },
   {
    "duration": 4,
    "start_time": "2025-02-08T16:32:57.879Z"
   },
   {
    "duration": 31,
    "start_time": "2025-02-08T16:32:57.884Z"
   },
   {
    "duration": 11,
    "start_time": "2025-02-08T16:32:57.917Z"
   },
   {
    "duration": 4,
    "start_time": "2025-02-08T16:32:57.929Z"
   },
   {
    "duration": 10,
    "start_time": "2025-02-08T16:32:57.934Z"
   },
   {
    "duration": 925,
    "start_time": "2025-02-08T16:32:57.946Z"
   },
   {
    "duration": 17,
    "start_time": "2025-02-08T16:32:58.874Z"
   },
   {
    "duration": 242,
    "start_time": "2025-02-08T16:32:58.893Z"
   },
   {
    "duration": 0,
    "start_time": "2025-02-08T16:32:59.137Z"
   },
   {
    "duration": 0,
    "start_time": "2025-02-08T16:32:59.138Z"
   },
   {
    "duration": 0,
    "start_time": "2025-02-08T16:32:59.139Z"
   },
   {
    "duration": 0,
    "start_time": "2025-02-08T16:32:59.140Z"
   },
   {
    "duration": 0,
    "start_time": "2025-02-08T16:32:59.141Z"
   },
   {
    "duration": 0,
    "start_time": "2025-02-08T16:32:59.142Z"
   },
   {
    "duration": 63,
    "start_time": "2025-02-08T16:34:57.629Z"
   },
   {
    "duration": 1209,
    "start_time": "2025-02-08T16:56:42.979Z"
   },
   {
    "duration": 26,
    "start_time": "2025-02-08T16:56:45.494Z"
   },
   {
    "duration": 17,
    "start_time": "2025-02-08T16:56:48.151Z"
   },
   {
    "duration": 12,
    "start_time": "2025-02-08T16:56:51.171Z"
   },
   {
    "duration": 37,
    "start_time": "2025-02-08T16:56:53.212Z"
   },
   {
    "duration": 4,
    "start_time": "2025-02-08T16:56:55.339Z"
   },
   {
    "duration": 9,
    "start_time": "2025-02-08T16:56:57.553Z"
   },
   {
    "duration": 5,
    "start_time": "2025-02-08T16:57:00.013Z"
   },
   {
    "duration": 7,
    "start_time": "2025-02-08T16:57:02.024Z"
   },
   {
    "duration": 5,
    "start_time": "2025-02-08T16:57:04.310Z"
   },
   {
    "duration": 35,
    "start_time": "2025-02-08T16:57:06.106Z"
   },
   {
    "duration": 11,
    "start_time": "2025-02-08T16:57:07.757Z"
   },
   {
    "duration": 4,
    "start_time": "2025-02-08T16:57:09.801Z"
   },
   {
    "duration": 14,
    "start_time": "2025-02-08T16:57:11.698Z"
   },
   {
    "duration": 21,
    "start_time": "2025-02-08T16:57:13.553Z"
   },
   {
    "duration": 18,
    "start_time": "2025-02-08T16:57:15.182Z"
   },
   {
    "duration": 3,
    "start_time": "2025-02-08T16:57:17.452Z"
   },
   {
    "duration": 11,
    "start_time": "2025-02-08T16:57:19.231Z"
   },
   {
    "duration": 6,
    "start_time": "2025-02-08T16:57:21.200Z"
   },
   {
    "duration": 4,
    "start_time": "2025-02-08T16:57:25.338Z"
   },
   {
    "duration": 9,
    "start_time": "2025-02-08T16:57:25.828Z"
   },
   {
    "duration": 15,
    "start_time": "2025-02-08T16:57:36.901Z"
   },
   {
    "duration": 218,
    "start_time": "2025-02-08T16:57:40.167Z"
   },
   {
    "duration": 136,
    "start_time": "2025-02-08T16:57:53.246Z"
   },
   {
    "duration": 319,
    "start_time": "2025-02-08T16:58:06.863Z"
   },
   {
    "duration": 79,
    "start_time": "2025-02-08T16:59:49.160Z"
   },
   {
    "duration": 300,
    "start_time": "2025-02-08T17:00:14.831Z"
   },
   {
    "duration": 299,
    "start_time": "2025-02-08T17:00:20.677Z"
   },
   {
    "duration": 377,
    "start_time": "2025-02-08T17:00:31.141Z"
   },
   {
    "duration": 296,
    "start_time": "2025-02-08T17:00:39.619Z"
   },
   {
    "duration": 125,
    "start_time": "2025-02-08T17:00:54.953Z"
   },
   {
    "duration": 322,
    "start_time": "2025-02-08T17:01:32.064Z"
   },
   {
    "duration": 293,
    "start_time": "2025-02-08T17:01:55.824Z"
   },
   {
    "duration": 303,
    "start_time": "2025-02-08T17:02:12.791Z"
   },
   {
    "duration": 292,
    "start_time": "2025-02-08T17:02:19.320Z"
   },
   {
    "duration": 307,
    "start_time": "2025-02-08T17:02:22.636Z"
   },
   {
    "duration": 130,
    "start_time": "2025-02-08T17:02:40.712Z"
   },
   {
    "duration": 127,
    "start_time": "2025-02-08T17:03:13.872Z"
   },
   {
    "duration": 12,
    "start_time": "2025-02-08T17:03:26.564Z"
   },
   {
    "duration": 76,
    "start_time": "2025-02-08T17:04:07.407Z"
   },
   {
    "duration": 440,
    "start_time": "2025-02-08T17:04:17.644Z"
   },
   {
    "duration": 292,
    "start_time": "2025-02-08T17:04:24.456Z"
   },
   {
    "duration": 321,
    "start_time": "2025-02-08T17:05:52.094Z"
   },
   {
    "duration": 19,
    "start_time": "2025-02-08T17:08:01.184Z"
   },
   {
    "duration": 22,
    "start_time": "2025-02-08T17:08:51.021Z"
   },
   {
    "duration": 18,
    "start_time": "2025-02-08T17:08:59.742Z"
   },
   {
    "duration": 20,
    "start_time": "2025-02-08T17:09:22.824Z"
   },
   {
    "duration": 20,
    "start_time": "2025-02-08T17:09:31.103Z"
   },
   {
    "duration": 16,
    "start_time": "2025-02-08T17:09:54.420Z"
   },
   {
    "duration": 18,
    "start_time": "2025-02-08T17:10:05.359Z"
   },
   {
    "duration": 18,
    "start_time": "2025-02-08T17:10:14.228Z"
   },
   {
    "duration": 20,
    "start_time": "2025-02-08T17:11:14.337Z"
   },
   {
    "duration": 20,
    "start_time": "2025-02-08T17:11:29.025Z"
   },
   {
    "duration": 13,
    "start_time": "2025-02-08T17:12:10.410Z"
   },
   {
    "duration": 364,
    "start_time": "2025-02-08T17:12:51.640Z"
   },
   {
    "duration": 15,
    "start_time": "2025-02-08T17:13:21.852Z"
   },
   {
    "duration": 14,
    "start_time": "2025-02-08T17:13:26.455Z"
   },
   {
    "duration": 12,
    "start_time": "2025-02-08T17:13:32.171Z"
   },
   {
    "duration": 14,
    "start_time": "2025-02-08T17:13:37.863Z"
   },
   {
    "duration": 16,
    "start_time": "2025-02-08T17:14:08.113Z"
   },
   {
    "duration": 814,
    "start_time": "2025-02-08T17:14:33.476Z"
   },
   {
    "duration": 8,
    "start_time": "2025-02-08T17:15:00.645Z"
   },
   {
    "duration": 14,
    "start_time": "2025-02-08T17:15:14.419Z"
   },
   {
    "duration": 367,
    "start_time": "2025-02-08T17:15:24.193Z"
   },
   {
    "duration": 359,
    "start_time": "2025-02-08T17:18:10.869Z"
   },
   {
    "duration": 350,
    "start_time": "2025-02-08T17:18:27.588Z"
   },
   {
    "duration": 467,
    "start_time": "2025-02-08T17:18:42.875Z"
   },
   {
    "duration": 392,
    "start_time": "2025-02-08T17:18:48.769Z"
   },
   {
    "duration": 7,
    "start_time": "2025-02-08T17:18:59.867Z"
   },
   {
    "duration": 567,
    "start_time": "2025-02-08T17:19:03.114Z"
   },
   {
    "duration": 558,
    "start_time": "2025-02-08T17:19:07.918Z"
   },
   {
    "duration": 8,
    "start_time": "2025-02-08T17:19:17.484Z"
   },
   {
    "duration": 364,
    "start_time": "2025-02-08T17:19:20.169Z"
   },
   {
    "duration": 451,
    "start_time": "2025-02-08T17:19:30.531Z"
   },
   {
    "duration": 359,
    "start_time": "2025-02-08T17:19:41.312Z"
   },
   {
    "duration": 371,
    "start_time": "2025-02-08T17:19:51.879Z"
   },
   {
    "duration": 145,
    "start_time": "2025-02-08T17:20:13.773Z"
   },
   {
    "duration": 149,
    "start_time": "2025-02-08T17:20:21.794Z"
   },
   {
    "duration": 149,
    "start_time": "2025-02-08T17:20:31.535Z"
   },
   {
    "duration": 369,
    "start_time": "2025-02-08T17:20:40.820Z"
   },
   {
    "duration": 158,
    "start_time": "2025-02-08T17:20:44.699Z"
   },
   {
    "duration": 253,
    "start_time": "2025-02-08T17:20:56.564Z"
   },
   {
    "duration": 154,
    "start_time": "2025-02-08T17:20:59.625Z"
   },
   {
    "duration": 152,
    "start_time": "2025-02-08T17:21:06.382Z"
   },
   {
    "duration": 156,
    "start_time": "2025-02-08T17:21:11.987Z"
   },
   {
    "duration": 7,
    "start_time": "2025-02-08T17:21:35.678Z"
   },
   {
    "duration": 12,
    "start_time": "2025-02-08T17:21:41.519Z"
   },
   {
    "duration": 161,
    "start_time": "2025-02-08T17:21:52.982Z"
   },
   {
    "duration": 167,
    "start_time": "2025-02-08T17:22:04.774Z"
   },
   {
    "duration": 162,
    "start_time": "2025-02-08T17:22:11.453Z"
   },
   {
    "duration": 132,
    "start_time": "2025-02-08T17:22:19.161Z"
   },
   {
    "duration": 166,
    "start_time": "2025-02-08T17:22:53.340Z"
   },
   {
    "duration": 165,
    "start_time": "2025-02-08T17:22:59.727Z"
   },
   {
    "duration": 165,
    "start_time": "2025-02-08T17:23:09.129Z"
   },
   {
    "duration": 247,
    "start_time": "2025-02-08T17:23:15.562Z"
   },
   {
    "duration": 12,
    "start_time": "2025-02-08T17:23:24.480Z"
   },
   {
    "duration": 161,
    "start_time": "2025-02-08T17:23:27.457Z"
   },
   {
    "duration": 1166,
    "start_time": "2025-02-08T17:23:36.422Z"
   },
   {
    "duration": 19,
    "start_time": "2025-02-08T17:23:37.591Z"
   },
   {
    "duration": 16,
    "start_time": "2025-02-08T17:23:37.612Z"
   },
   {
    "duration": 9,
    "start_time": "2025-02-08T17:23:37.630Z"
   },
   {
    "duration": 34,
    "start_time": "2025-02-08T17:23:37.641Z"
   },
   {
    "duration": 3,
    "start_time": "2025-02-08T17:23:37.677Z"
   },
   {
    "duration": 34,
    "start_time": "2025-02-08T17:23:37.682Z"
   },
   {
    "duration": 4,
    "start_time": "2025-02-08T17:23:37.717Z"
   },
   {
    "duration": 8,
    "start_time": "2025-02-08T17:23:37.722Z"
   },
   {
    "duration": 3,
    "start_time": "2025-02-08T17:23:37.732Z"
   },
   {
    "duration": 35,
    "start_time": "2025-02-08T17:23:37.736Z"
   },
   {
    "duration": 10,
    "start_time": "2025-02-08T17:23:37.772Z"
   },
   {
    "duration": 29,
    "start_time": "2025-02-08T17:23:37.783Z"
   },
   {
    "duration": 15,
    "start_time": "2025-02-08T17:23:37.815Z"
   },
   {
    "duration": 37,
    "start_time": "2025-02-08T17:23:37.832Z"
   },
   {
    "duration": 16,
    "start_time": "2025-02-08T17:23:37.870Z"
   },
   {
    "duration": 4,
    "start_time": "2025-02-08T17:23:37.888Z"
   },
   {
    "duration": 20,
    "start_time": "2025-02-08T17:23:37.893Z"
   },
   {
    "duration": 6,
    "start_time": "2025-02-08T17:23:37.914Z"
   },
   {
    "duration": 4,
    "start_time": "2025-02-08T17:23:37.921Z"
   },
   {
    "duration": 9,
    "start_time": "2025-02-08T17:23:37.926Z"
   },
   {
    "duration": 15,
    "start_time": "2025-02-08T17:23:37.937Z"
   },
   {
    "duration": 194,
    "start_time": "2025-02-08T17:23:37.953Z"
   },
   {
    "duration": 18,
    "start_time": "2025-02-08T17:23:38.149Z"
   },
   {
    "duration": 223,
    "start_time": "2025-02-08T17:23:38.169Z"
   },
   {
    "duration": 0,
    "start_time": "2025-02-08T17:23:38.394Z"
   },
   {
    "duration": 0,
    "start_time": "2025-02-08T17:23:38.394Z"
   },
   {
    "duration": 0,
    "start_time": "2025-02-08T17:23:38.395Z"
   },
   {
    "duration": 0,
    "start_time": "2025-02-08T17:23:38.396Z"
   },
   {
    "duration": 16,
    "start_time": "2025-02-08T17:23:54.431Z"
   },
   {
    "duration": 14,
    "start_time": "2025-02-08T17:24:04.717Z"
   },
   {
    "duration": 13,
    "start_time": "2025-02-08T17:24:08.269Z"
   },
   {
    "duration": 11,
    "start_time": "2025-02-08T17:24:15.934Z"
   },
   {
    "duration": 18,
    "start_time": "2025-02-08T17:24:19.086Z"
   },
   {
    "duration": 11,
    "start_time": "2025-02-08T17:24:31.014Z"
   },
   {
    "duration": 162,
    "start_time": "2025-02-08T17:24:33.596Z"
   },
   {
    "duration": 160,
    "start_time": "2025-02-08T17:24:41.520Z"
   },
   {
    "duration": 164,
    "start_time": "2025-02-08T17:24:49.627Z"
   },
   {
    "duration": 132,
    "start_time": "2025-02-08T17:24:56.548Z"
   },
   {
    "duration": 161,
    "start_time": "2025-02-08T17:25:06.426Z"
   },
   {
    "duration": 136,
    "start_time": "2025-02-08T17:25:16.700Z"
   },
   {
    "duration": 225,
    "start_time": "2025-02-08T17:25:31.545Z"
   },
   {
    "duration": 156,
    "start_time": "2025-02-08T17:25:37.737Z"
   },
   {
    "duration": 154,
    "start_time": "2025-02-08T17:25:41.117Z"
   },
   {
    "duration": 148,
    "start_time": "2025-02-08T17:25:45.376Z"
   },
   {
    "duration": 158,
    "start_time": "2025-02-08T17:25:49.311Z"
   },
   {
    "duration": 154,
    "start_time": "2025-02-08T17:25:55.494Z"
   },
   {
    "duration": 180,
    "start_time": "2025-02-08T17:26:03.386Z"
   },
   {
    "duration": 146,
    "start_time": "2025-02-08T17:26:06.688Z"
   },
   {
    "duration": 18,
    "start_time": "2025-02-08T17:26:08.823Z"
   },
   {
    "duration": 154,
    "start_time": "2025-02-08T17:26:11.380Z"
   },
   {
    "duration": 158,
    "start_time": "2025-02-08T17:26:17.111Z"
   },
   {
    "duration": 155,
    "start_time": "2025-02-08T17:26:22.739Z"
   },
   {
    "duration": 265,
    "start_time": "2025-02-08T17:26:28.590Z"
   },
   {
    "duration": 155,
    "start_time": "2025-02-08T17:26:37.649Z"
   },
   {
    "duration": 165,
    "start_time": "2025-02-08T17:26:41.142Z"
   },
   {
    "duration": 155,
    "start_time": "2025-02-08T17:26:46.947Z"
   },
   {
    "duration": 155,
    "start_time": "2025-02-08T17:26:50.764Z"
   },
   {
    "duration": 155,
    "start_time": "2025-02-08T17:26:54.017Z"
   },
   {
    "duration": 150,
    "start_time": "2025-02-08T17:26:57.019Z"
   },
   {
    "duration": 9,
    "start_time": "2025-02-08T17:29:55.533Z"
   },
   {
    "duration": 14,
    "start_time": "2025-02-08T17:30:03.902Z"
   },
   {
    "duration": 13,
    "start_time": "2025-02-08T17:30:14.917Z"
   },
   {
    "duration": 14,
    "start_time": "2025-02-08T17:30:56.547Z"
   },
   {
    "duration": 165,
    "start_time": "2025-02-08T17:31:45.550Z"
   },
   {
    "duration": 14,
    "start_time": "2025-02-08T17:31:55.649Z"
   },
   {
    "duration": 156,
    "start_time": "2025-02-08T17:31:59.324Z"
   },
   {
    "duration": 656,
    "start_time": "2025-02-08T17:32:58.346Z"
   },
   {
    "duration": 630,
    "start_time": "2025-02-08T17:33:05.424Z"
   },
   {
    "duration": 215,
    "start_time": "2025-02-08T17:33:12.720Z"
   },
   {
    "duration": 14,
    "start_time": "2025-02-08T17:33:18.942Z"
   },
   {
    "duration": 140,
    "start_time": "2025-02-08T17:33:21.383Z"
   },
   {
    "duration": 13,
    "start_time": "2025-02-08T17:34:27.657Z"
   },
   {
    "duration": 135,
    "start_time": "2025-02-08T17:34:29.469Z"
   },
   {
    "duration": 13,
    "start_time": "2025-02-08T17:34:52.741Z"
   },
   {
    "duration": 136,
    "start_time": "2025-02-08T17:35:21.978Z"
   },
   {
    "duration": 155,
    "start_time": "2025-02-08T17:35:31.105Z"
   },
   {
    "duration": 151,
    "start_time": "2025-02-08T17:35:39.326Z"
   },
   {
    "duration": 155,
    "start_time": "2025-02-08T17:35:43.656Z"
   },
   {
    "duration": 154,
    "start_time": "2025-02-08T17:36:36.861Z"
   },
   {
    "duration": 153,
    "start_time": "2025-02-08T17:36:43.298Z"
   },
   {
    "duration": 15,
    "start_time": "2025-02-08T17:37:20.086Z"
   },
   {
    "duration": 154,
    "start_time": "2025-02-08T17:37:24.932Z"
   },
   {
    "duration": 3320,
    "start_time": "2025-02-08T17:39:53.112Z"
   },
   {
    "duration": 3284,
    "start_time": "2025-02-08T17:39:57.489Z"
   },
   {
    "duration": 120,
    "start_time": "2025-02-08T17:40:09.730Z"
   },
   {
    "duration": 78,
    "start_time": "2025-02-08T17:41:01.050Z"
   },
   {
    "duration": 81,
    "start_time": "2025-02-08T17:41:06.073Z"
   },
   {
    "duration": 14,
    "start_time": "2025-02-08T17:41:12.694Z"
   },
   {
    "duration": 14,
    "start_time": "2025-02-08T17:41:32.915Z"
   },
   {
    "duration": 13,
    "start_time": "2025-02-08T17:41:56.450Z"
   },
   {
    "duration": 14,
    "start_time": "2025-02-08T17:42:21.874Z"
   },
   {
    "duration": 3314,
    "start_time": "2025-02-08T17:43:27.056Z"
   },
   {
    "duration": 50,
    "start_time": "2025-02-08T17:43:36.728Z"
   },
   {
    "duration": 3241,
    "start_time": "2025-02-08T17:44:03.015Z"
   },
   {
    "duration": 3241,
    "start_time": "2025-02-08T17:44:21.020Z"
   },
   {
    "duration": 3226,
    "start_time": "2025-02-08T17:44:29.915Z"
   },
   {
    "duration": 10,
    "start_time": "2025-02-08T17:44:53.713Z"
   },
   {
    "duration": 10,
    "start_time": "2025-02-08T17:45:12.584Z"
   },
   {
    "duration": 3184,
    "start_time": "2025-02-08T17:45:34.245Z"
   },
   {
    "duration": 131,
    "start_time": "2025-02-08T17:46:13.459Z"
   },
   {
    "duration": 49,
    "start_time": "2025-02-08T17:46:24.523Z"
   },
   {
    "duration": 44,
    "start_time": "2025-02-08T17:46:37.796Z"
   },
   {
    "duration": 42,
    "start_time": "2025-02-08T17:47:17.596Z"
   },
   {
    "duration": 186,
    "start_time": "2025-02-08T17:47:30.718Z"
   },
   {
    "duration": 137,
    "start_time": "2025-02-08T17:47:41.192Z"
   },
   {
    "duration": 923,
    "start_time": "2025-02-08T17:47:50.920Z"
   },
   {
    "duration": 817,
    "start_time": "2025-02-08T17:47:57.661Z"
   },
   {
    "duration": 830,
    "start_time": "2025-02-08T17:48:03.221Z"
   },
   {
    "duration": 141,
    "start_time": "2025-02-08T17:48:30.450Z"
   },
   {
    "duration": 140,
    "start_time": "2025-02-08T17:48:43.871Z"
   },
   {
    "duration": 853,
    "start_time": "2025-02-08T17:48:51.627Z"
   },
   {
    "duration": 838,
    "start_time": "2025-02-08T17:49:14.448Z"
   },
   {
    "duration": 840,
    "start_time": "2025-02-08T17:49:25.642Z"
   },
   {
    "duration": 827,
    "start_time": "2025-02-08T17:49:32.610Z"
   },
   {
    "duration": 72,
    "start_time": "2025-02-08T17:49:42.697Z"
   },
   {
    "duration": 899,
    "start_time": "2025-02-08T17:49:45.498Z"
   },
   {
    "duration": 823,
    "start_time": "2025-02-08T17:49:51.576Z"
   },
   {
    "duration": 823,
    "start_time": "2025-02-08T17:49:59.374Z"
   },
   {
    "duration": 843,
    "start_time": "2025-02-08T17:50:05.917Z"
   },
   {
    "duration": 161,
    "start_time": "2025-02-08T17:50:21.333Z"
   },
   {
    "duration": 153,
    "start_time": "2025-02-08T17:50:30.646Z"
   },
   {
    "duration": 157,
    "start_time": "2025-02-08T17:50:34.239Z"
   },
   {
    "duration": 153,
    "start_time": "2025-02-08T17:50:38.637Z"
   },
   {
    "duration": 174,
    "start_time": "2025-02-08T17:50:48.901Z"
   },
   {
    "duration": 167,
    "start_time": "2025-02-08T17:50:54.515Z"
   },
   {
    "duration": 165,
    "start_time": "2025-02-08T17:51:06.415Z"
   },
   {
    "duration": 258,
    "start_time": "2025-02-08T17:51:13.254Z"
   },
   {
    "duration": 178,
    "start_time": "2025-02-08T17:51:23.389Z"
   },
   {
    "duration": 18,
    "start_time": "2025-02-08T17:54:26.411Z"
   },
   {
    "duration": 13,
    "start_time": "2025-02-08T17:54:33.053Z"
   },
   {
    "duration": 947,
    "start_time": "2025-02-08T17:55:20.119Z"
   },
   {
    "duration": 138,
    "start_time": "2025-02-08T17:55:47.213Z"
   },
   {
    "duration": 140,
    "start_time": "2025-02-08T17:55:58.440Z"
   },
   {
    "duration": 1226,
    "start_time": "2025-02-08T17:58:49.320Z"
   },
   {
    "duration": 20,
    "start_time": "2025-02-08T17:58:50.548Z"
   },
   {
    "duration": 29,
    "start_time": "2025-02-08T17:58:50.569Z"
   },
   {
    "duration": 10,
    "start_time": "2025-02-08T17:58:50.600Z"
   },
   {
    "duration": 35,
    "start_time": "2025-02-08T17:58:50.612Z"
   },
   {
    "duration": 3,
    "start_time": "2025-02-08T17:58:50.649Z"
   },
   {
    "duration": 45,
    "start_time": "2025-02-08T17:58:50.653Z"
   },
   {
    "duration": 16,
    "start_time": "2025-02-08T17:58:50.700Z"
   },
   {
    "duration": 22,
    "start_time": "2025-02-08T17:58:50.718Z"
   },
   {
    "duration": 4,
    "start_time": "2025-02-08T17:58:50.742Z"
   },
   {
    "duration": 35,
    "start_time": "2025-02-08T17:58:50.748Z"
   },
   {
    "duration": 11,
    "start_time": "2025-02-08T17:58:50.785Z"
   },
   {
    "duration": 3,
    "start_time": "2025-02-08T17:58:50.797Z"
   },
   {
    "duration": 11,
    "start_time": "2025-02-08T17:58:50.811Z"
   },
   {
    "duration": 27,
    "start_time": "2025-02-08T17:58:50.824Z"
   },
   {
    "duration": 15,
    "start_time": "2025-02-08T17:58:50.852Z"
   },
   {
    "duration": 3,
    "start_time": "2025-02-08T17:58:50.869Z"
   },
   {
    "duration": 22,
    "start_time": "2025-02-08T17:58:50.874Z"
   },
   {
    "duration": 16,
    "start_time": "2025-02-08T17:58:50.898Z"
   },
   {
    "duration": 13,
    "start_time": "2025-02-08T17:58:50.915Z"
   },
   {
    "duration": 18,
    "start_time": "2025-02-08T17:58:50.929Z"
   },
   {
    "duration": 13,
    "start_time": "2025-02-08T17:58:50.948Z"
   },
   {
    "duration": 136,
    "start_time": "2025-02-08T17:58:50.962Z"
   },
   {
    "duration": 17,
    "start_time": "2025-02-08T17:58:51.099Z"
   },
   {
    "duration": 170,
    "start_time": "2025-02-08T17:58:51.118Z"
   },
   {
    "duration": 3504,
    "start_time": "2025-02-08T17:58:51.290Z"
   },
   {
    "duration": 166,
    "start_time": "2025-02-08T17:58:54.796Z"
   },
   {
    "duration": 13,
    "start_time": "2025-02-08T17:58:54.963Z"
   },
   {
    "duration": 210,
    "start_time": "2025-02-08T17:58:54.977Z"
   },
   {
    "duration": 1132,
    "start_time": "2025-02-08T18:20:10.947Z"
   },
   {
    "duration": 18,
    "start_time": "2025-02-08T18:20:12.080Z"
   },
   {
    "duration": 17,
    "start_time": "2025-02-08T18:20:12.099Z"
   },
   {
    "duration": 10,
    "start_time": "2025-02-08T18:20:12.118Z"
   },
   {
    "duration": 34,
    "start_time": "2025-02-08T18:20:12.129Z"
   },
   {
    "duration": 3,
    "start_time": "2025-02-08T18:20:12.165Z"
   },
   {
    "duration": 11,
    "start_time": "2025-02-08T18:20:12.169Z"
   },
   {
    "duration": 4,
    "start_time": "2025-02-08T18:20:12.181Z"
   },
   {
    "duration": 28,
    "start_time": "2025-02-08T18:20:12.186Z"
   },
   {
    "duration": 4,
    "start_time": "2025-02-08T18:20:12.216Z"
   },
   {
    "duration": 52,
    "start_time": "2025-02-08T18:20:12.221Z"
   },
   {
    "duration": 13,
    "start_time": "2025-02-08T18:20:12.275Z"
   },
   {
    "duration": 19,
    "start_time": "2025-02-08T18:20:12.290Z"
   },
   {
    "duration": 15,
    "start_time": "2025-02-08T18:20:12.312Z"
   },
   {
    "duration": 31,
    "start_time": "2025-02-08T18:20:12.329Z"
   },
   {
    "duration": 17,
    "start_time": "2025-02-08T18:20:12.362Z"
   },
   {
    "duration": 4,
    "start_time": "2025-02-08T18:20:12.380Z"
   },
   {
    "duration": 28,
    "start_time": "2025-02-08T18:20:12.385Z"
   },
   {
    "duration": 6,
    "start_time": "2025-02-08T18:20:12.414Z"
   },
   {
    "duration": 7,
    "start_time": "2025-02-08T18:20:12.421Z"
   },
   {
    "duration": 9,
    "start_time": "2025-02-08T18:20:12.430Z"
   },
   {
    "duration": 19,
    "start_time": "2025-02-08T18:20:12.440Z"
   },
   {
    "duration": 151,
    "start_time": "2025-02-08T18:20:12.460Z"
   },
   {
    "duration": 14,
    "start_time": "2025-02-08T18:20:12.612Z"
   },
   {
    "duration": 172,
    "start_time": "2025-02-08T18:20:12.627Z"
   },
   {
    "duration": 3172,
    "start_time": "2025-02-08T18:20:12.801Z"
   },
   {
    "duration": 169,
    "start_time": "2025-02-08T18:20:15.974Z"
   },
   {
    "duration": 14,
    "start_time": "2025-02-08T18:20:16.146Z"
   },
   {
    "duration": 228,
    "start_time": "2025-02-08T18:20:16.161Z"
   },
   {
    "duration": 1551,
    "start_time": "2025-02-08T18:36:31.840Z"
   },
   {
    "duration": 24,
    "start_time": "2025-02-08T18:36:33.393Z"
   },
   {
    "duration": 28,
    "start_time": "2025-02-08T18:36:33.419Z"
   },
   {
    "duration": 12,
    "start_time": "2025-02-08T18:36:33.450Z"
   },
   {
    "duration": 45,
    "start_time": "2025-02-08T18:36:33.464Z"
   },
   {
    "duration": 22,
    "start_time": "2025-02-08T18:36:33.511Z"
   },
   {
    "duration": 29,
    "start_time": "2025-02-08T18:36:33.534Z"
   },
   {
    "duration": 10,
    "start_time": "2025-02-08T18:36:33.565Z"
   },
   {
    "duration": 11,
    "start_time": "2025-02-08T18:36:33.576Z"
   },
   {
    "duration": 15,
    "start_time": "2025-02-08T18:36:33.590Z"
   },
   {
    "duration": 58,
    "start_time": "2025-02-08T18:36:33.607Z"
   },
   {
    "duration": 12,
    "start_time": "2025-02-08T18:36:33.667Z"
   },
   {
    "duration": 10,
    "start_time": "2025-02-08T18:36:33.680Z"
   },
   {
    "duration": 41,
    "start_time": "2025-02-08T18:36:33.692Z"
   },
   {
    "duration": 71,
    "start_time": "2025-02-08T18:36:33.735Z"
   },
   {
    "duration": 26,
    "start_time": "2025-02-08T18:36:33.808Z"
   },
   {
    "duration": 3,
    "start_time": "2025-02-08T18:36:33.836Z"
   },
   {
    "duration": 14,
    "start_time": "2025-02-08T18:36:33.841Z"
   },
   {
    "duration": 10,
    "start_time": "2025-02-08T18:36:33.857Z"
   },
   {
    "duration": 3,
    "start_time": "2025-02-08T18:36:33.869Z"
   },
   {
    "duration": 32,
    "start_time": "2025-02-08T18:36:33.874Z"
   },
   {
    "duration": 27,
    "start_time": "2025-02-08T18:36:33.908Z"
   },
   {
    "duration": 153,
    "start_time": "2025-02-08T18:36:33.937Z"
   },
   {
    "duration": 15,
    "start_time": "2025-02-08T18:36:34.092Z"
   },
   {
    "duration": 195,
    "start_time": "2025-02-08T18:36:34.108Z"
   },
   {
    "duration": 3540,
    "start_time": "2025-02-08T18:36:34.304Z"
   },
   {
    "duration": 191,
    "start_time": "2025-02-08T18:36:37.846Z"
   },
   {
    "duration": 15,
    "start_time": "2025-02-08T18:36:38.040Z"
   },
   {
    "duration": 246,
    "start_time": "2025-02-08T18:36:38.057Z"
   },
   {
    "duration": 1214,
    "start_time": "2025-02-09T14:21:24.616Z"
   },
   {
    "duration": 20,
    "start_time": "2025-02-09T14:21:25.832Z"
   },
   {
    "duration": 15,
    "start_time": "2025-02-09T14:21:25.858Z"
   },
   {
    "duration": 10,
    "start_time": "2025-02-09T14:21:25.874Z"
   },
   {
    "duration": 35,
    "start_time": "2025-02-09T14:21:25.887Z"
   },
   {
    "duration": 3,
    "start_time": "2025-02-09T14:21:25.924Z"
   },
   {
    "duration": 34,
    "start_time": "2025-02-09T14:21:25.929Z"
   },
   {
    "duration": 5,
    "start_time": "2025-02-09T14:21:25.965Z"
   },
   {
    "duration": 9,
    "start_time": "2025-02-09T14:21:25.972Z"
   },
   {
    "duration": 5,
    "start_time": "2025-02-09T14:21:25.983Z"
   },
   {
    "duration": 85,
    "start_time": "2025-02-09T14:21:25.991Z"
   },
   {
    "duration": 17,
    "start_time": "2025-02-09T14:21:26.078Z"
   },
   {
    "duration": 4,
    "start_time": "2025-02-09T14:21:26.096Z"
   },
   {
    "duration": 11,
    "start_time": "2025-02-09T14:21:26.103Z"
   },
   {
    "duration": 19,
    "start_time": "2025-02-09T14:21:26.115Z"
   },
   {
    "duration": 17,
    "start_time": "2025-02-09T14:21:26.158Z"
   },
   {
    "duration": 3,
    "start_time": "2025-02-09T14:21:26.177Z"
   },
   {
    "duration": 17,
    "start_time": "2025-02-09T14:21:26.183Z"
   },
   {
    "duration": 7,
    "start_time": "2025-02-09T14:21:26.202Z"
   },
   {
    "duration": 4,
    "start_time": "2025-02-09T14:21:26.210Z"
   },
   {
    "duration": 8,
    "start_time": "2025-02-09T14:21:26.215Z"
   },
   {
    "duration": 34,
    "start_time": "2025-02-09T14:21:26.225Z"
   },
   {
    "duration": 26,
    "start_time": "2025-02-09T14:21:26.261Z"
   },
   {
    "duration": 140,
    "start_time": "2025-02-09T14:21:26.289Z"
   },
   {
    "duration": 14,
    "start_time": "2025-02-09T14:21:26.431Z"
   },
   {
    "duration": 173,
    "start_time": "2025-02-09T14:21:26.446Z"
   },
   {
    "duration": 3281,
    "start_time": "2025-02-09T14:21:26.620Z"
   },
   {
    "duration": 172,
    "start_time": "2025-02-09T14:21:29.902Z"
   },
   {
    "duration": 13,
    "start_time": "2025-02-09T14:21:30.076Z"
   },
   {
    "duration": 232,
    "start_time": "2025-02-09T14:21:30.091Z"
   },
   {
    "duration": 1511,
    "start_time": "2025-02-09T14:40:12.604Z"
   },
   {
    "duration": 24,
    "start_time": "2025-02-09T14:40:14.118Z"
   },
   {
    "duration": 26,
    "start_time": "2025-02-09T14:40:14.144Z"
   },
   {
    "duration": 12,
    "start_time": "2025-02-09T14:40:14.172Z"
   },
   {
    "duration": 41,
    "start_time": "2025-02-09T14:40:14.185Z"
   },
   {
    "duration": 28,
    "start_time": "2025-02-09T14:40:14.228Z"
   },
   {
    "duration": 19,
    "start_time": "2025-02-09T14:40:14.257Z"
   },
   {
    "duration": 5,
    "start_time": "2025-02-09T14:40:14.277Z"
   },
   {
    "duration": 15,
    "start_time": "2025-02-09T14:40:14.285Z"
   },
   {
    "duration": 5,
    "start_time": "2025-02-09T14:40:14.304Z"
   },
   {
    "duration": 70,
    "start_time": "2025-02-09T14:40:14.311Z"
   },
   {
    "duration": 12,
    "start_time": "2025-02-09T14:40:14.384Z"
   },
   {
    "duration": 5,
    "start_time": "2025-02-09T14:40:14.398Z"
   },
   {
    "duration": 14,
    "start_time": "2025-02-09T14:40:14.405Z"
   },
   {
    "duration": 47,
    "start_time": "2025-02-09T14:40:14.421Z"
   },
   {
    "duration": 19,
    "start_time": "2025-02-09T14:40:14.470Z"
   },
   {
    "duration": 4,
    "start_time": "2025-02-09T14:40:14.491Z"
   },
   {
    "duration": 32,
    "start_time": "2025-02-09T14:40:14.497Z"
   },
   {
    "duration": 10,
    "start_time": "2025-02-09T14:40:14.531Z"
   },
   {
    "duration": 12,
    "start_time": "2025-02-09T14:40:14.543Z"
   },
   {
    "duration": 10,
    "start_time": "2025-02-09T14:40:14.557Z"
   },
   {
    "duration": 4,
    "start_time": "2025-02-09T14:40:14.569Z"
   },
   {
    "duration": 14,
    "start_time": "2025-02-09T14:40:14.575Z"
   },
   {
    "duration": 211,
    "start_time": "2025-02-09T14:40:14.591Z"
   },
   {
    "duration": 18,
    "start_time": "2025-02-09T14:40:14.804Z"
   },
   {
    "duration": 208,
    "start_time": "2025-02-09T14:40:14.824Z"
   },
   {
    "duration": 3679,
    "start_time": "2025-02-09T14:40:15.035Z"
   },
   {
    "duration": 209,
    "start_time": "2025-02-09T14:40:18.718Z"
   },
   {
    "duration": 15,
    "start_time": "2025-02-09T14:40:18.929Z"
   },
   {
    "duration": 266,
    "start_time": "2025-02-09T14:40:18.956Z"
   }
  ],
  "colab": {
   "name": "dpp_template_part2.ipynb",
   "provenance": []
  },
  "kernelspec": {
   "display_name": "Python 3",
   "language": "python",
   "name": "python3"
  },
  "language_info": {
   "codemirror_mode": {
    "name": "ipython",
    "version": 3
   },
   "file_extension": ".py",
   "mimetype": "text/x-python",
   "name": "python",
   "nbconvert_exporter": "python",
   "pygments_lexer": "ipython3",
   "version": "3.11.9"
  },
  "toc": {
   "base_numbering": 1,
   "nav_menu": {},
   "number_sections": true,
   "sideBar": true,
   "skip_h1_title": true,
   "title_cell": "Table of Contents",
   "title_sidebar": "Contents",
   "toc_cell": false,
   "toc_position": {},
   "toc_section_display": true,
   "toc_window_display": false
  }
 },
 "nbformat": 4,
 "nbformat_minor": 5
}
