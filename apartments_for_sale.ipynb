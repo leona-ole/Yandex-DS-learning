{
 "cells": [
  {
   "cell_type": "markdown",
   "metadata": {
    "id": "-VFbjcb3Awb7"
   },
   "source": [
    "# Исследование объявлений о продаже квартир\n",
    "\n",
    "**Исходные данные:**\n",
    "\n",
    "Архив объявлений о продаже квартир в Санкт-Петербурге и соседних населенных пунктах за несколько лет.\n",
    "\n",
    "В архиве представлены данные двух видов:\n",
    "- добавленные пользователями;\n",
    "- полученные автоматически на основе картографических данных.\n",
    "\n",
    "**Цель работы:** \n",
    "\n",
    "На основании архива проанализировать стоимость объектов недвижимости и зависимость стоимости квартир от различных факторов. \n",
    "\n",
    "**План исследования:**\n",
    "1. Выполнить предобработку данных.\n",
    "2. Выявить и устранить аномалии в данных. \n",
    "3. Провести исследовательский анализ данных. \n",
    "4. Выявить как быстро продавались квартиры.\n",
    "5. Определить факторы, которые больше всего влияют на стоимость квартир. \n",
    "6. Выявить среднюю цену квадратного метра. \n",
    "7. Выявить зависимость (или ее отсутствие) стоимости квартир от их удаления от центра Санкт-Петербурга. "
   ]
  },
  {
   "cell_type": "markdown",
   "metadata": {
    "id": "aeFLH07FAwb9"
   },
   "source": [
    "### Откройте файл с данными и изучите общую информацию"
   ]
  },
  {
   "cell_type": "code",
   "execution_count": 1,
   "metadata": {
    "id": "7MZxY65pAwb9"
   },
   "outputs": [],
   "source": [
    "# Импортируем все необходимые библиотеки\n",
    "import pandas as pd\n",
    "import re\n",
    "import matplotlib.pyplot as plt\n",
    "\n",
    "pd.set_option('display.max_rows', None)"
   ]
  },
  {
   "cell_type": "code",
   "execution_count": 2,
   "metadata": {},
   "outputs": [
    {
     "data": {
      "application/vnd.microsoft.datawrangler.viewer.v0+json": {
       "columns": [
        {
         "name": "index",
         "rawType": "int64",
         "type": "integer"
        },
        {
         "name": "total_images",
         "rawType": "int64",
         "type": "integer"
        },
        {
         "name": "last_price",
         "rawType": "float64",
         "type": "float"
        },
        {
         "name": "total_area",
         "rawType": "float64",
         "type": "float"
        },
        {
         "name": "first_day_exposition",
         "rawType": "object",
         "type": "string"
        },
        {
         "name": "rooms",
         "rawType": "int64",
         "type": "integer"
        },
        {
         "name": "ceiling_height",
         "rawType": "float64",
         "type": "float"
        },
        {
         "name": "floors_total",
         "rawType": "float64",
         "type": "float"
        },
        {
         "name": "living_area",
         "rawType": "float64",
         "type": "float"
        },
        {
         "name": "floor",
         "rawType": "int64",
         "type": "integer"
        },
        {
         "name": "is_apartment",
         "rawType": "object",
         "type": "unknown"
        },
        {
         "name": "studio",
         "rawType": "bool",
         "type": "boolean"
        },
        {
         "name": "open_plan",
         "rawType": "bool",
         "type": "boolean"
        },
        {
         "name": "kitchen_area",
         "rawType": "float64",
         "type": "float"
        },
        {
         "name": "balcony",
         "rawType": "float64",
         "type": "float"
        },
        {
         "name": "locality_name",
         "rawType": "object",
         "type": "string"
        },
        {
         "name": "airports_nearest",
         "rawType": "float64",
         "type": "float"
        },
        {
         "name": "cityCenters_nearest",
         "rawType": "float64",
         "type": "float"
        },
        {
         "name": "parks_around3000",
         "rawType": "float64",
         "type": "float"
        },
        {
         "name": "parks_nearest",
         "rawType": "float64",
         "type": "float"
        },
        {
         "name": "ponds_around3000",
         "rawType": "float64",
         "type": "float"
        },
        {
         "name": "ponds_nearest",
         "rawType": "float64",
         "type": "float"
        },
        {
         "name": "days_exposition",
         "rawType": "float64",
         "type": "float"
        }
       ],
       "conversionMethod": "pd.DataFrame",
       "ref": "5eaa6faf-9912-4536-a697-ba6d666c63e1",
       "rows": [
        [
         "0",
         "20",
         "13000000.0",
         "108.0",
         "2019-03-07T00:00:00",
         "3",
         "2.7",
         "16.0",
         "51.0",
         "8",
         null,
         "False",
         "False",
         "25.0",
         null,
         "Санкт-Петербург",
         "18863.0",
         "16028.0",
         "1.0",
         "482.0",
         "2.0",
         "755.0",
         null
        ],
        [
         "1",
         "7",
         "3350000.0",
         "40.4",
         "2018-12-04T00:00:00",
         "1",
         null,
         "11.0",
         "18.6",
         "1",
         null,
         "False",
         "False",
         "11.0",
         "2.0",
         "посёлок Шушары",
         "12817.0",
         "18603.0",
         "0.0",
         null,
         "0.0",
         null,
         "81.0"
        ],
        [
         "2",
         "10",
         "5196000.0",
         "56.0",
         "2015-08-20T00:00:00",
         "2",
         null,
         "5.0",
         "34.3",
         "4",
         null,
         "False",
         "False",
         "8.3",
         "0.0",
         "Санкт-Петербург",
         "21741.0",
         "13933.0",
         "1.0",
         "90.0",
         "2.0",
         "574.0",
         "558.0"
        ],
        [
         "3",
         "0",
         "64900000.0",
         "159.0",
         "2015-07-24T00:00:00",
         "3",
         null,
         "14.0",
         null,
         "9",
         null,
         "False",
         "False",
         null,
         "0.0",
         "Санкт-Петербург",
         "28098.0",
         "6800.0",
         "2.0",
         "84.0",
         "3.0",
         "234.0",
         "424.0"
        ],
        [
         "4",
         "2",
         "10000000.0",
         "100.0",
         "2018-06-19T00:00:00",
         "2",
         "3.03",
         "14.0",
         "32.0",
         "13",
         null,
         "False",
         "False",
         "41.0",
         null,
         "Санкт-Петербург",
         "31856.0",
         "8098.0",
         "2.0",
         "112.0",
         "1.0",
         "48.0",
         "121.0"
        ],
        [
         "5",
         "10",
         "2890000.0",
         "30.4",
         "2018-09-10T00:00:00",
         "1",
         null,
         "12.0",
         "14.4",
         "5",
         null,
         "False",
         "False",
         "9.1",
         null,
         "городской посёлок Янино-1",
         null,
         null,
         null,
         null,
         null,
         null,
         "55.0"
        ],
        [
         "6",
         "6",
         "3700000.0",
         "37.3",
         "2017-11-02T00:00:00",
         "1",
         null,
         "26.0",
         "10.6",
         "6",
         null,
         "False",
         "False",
         "14.4",
         "1.0",
         "посёлок Парголово",
         "52996.0",
         "19143.0",
         "0.0",
         null,
         "0.0",
         null,
         "155.0"
        ],
        [
         "7",
         "5",
         "7915000.0",
         "71.6",
         "2019-04-18T00:00:00",
         "2",
         null,
         "24.0",
         null,
         "22",
         null,
         "False",
         "False",
         "18.9",
         "2.0",
         "Санкт-Петербург",
         "23982.0",
         "11634.0",
         "0.0",
         null,
         "0.0",
         null,
         null
        ],
        [
         "8",
         "20",
         "2900000.0",
         "33.16",
         "2018-05-23T00:00:00",
         "1",
         null,
         "27.0",
         "15.43",
         "26",
         null,
         "False",
         "False",
         "8.81",
         null,
         "посёлок Мурино",
         null,
         null,
         null,
         null,
         null,
         null,
         "189.00000000000003"
        ],
        [
         "9",
         "18",
         "5400000.0",
         "61.0",
         "2017-02-26T00:00:00",
         "3",
         "2.5",
         "9.0",
         "43.6",
         "7",
         null,
         "False",
         "False",
         "6.5",
         "2.0",
         "Санкт-Петербург",
         "50898.0",
         "15008.0",
         "0.0",
         null,
         "0.0",
         null,
         "289.0"
        ]
       ],
       "shape": {
        "columns": 22,
        "rows": 10
       }
      },
      "text/html": [
       "<div>\n",
       "<style scoped>\n",
       "    .dataframe tbody tr th:only-of-type {\n",
       "        vertical-align: middle;\n",
       "    }\n",
       "\n",
       "    .dataframe tbody tr th {\n",
       "        vertical-align: top;\n",
       "    }\n",
       "\n",
       "    .dataframe thead th {\n",
       "        text-align: right;\n",
       "    }\n",
       "</style>\n",
       "<table border=\"1\" class=\"dataframe\">\n",
       "  <thead>\n",
       "    <tr style=\"text-align: right;\">\n",
       "      <th></th>\n",
       "      <th>total_images</th>\n",
       "      <th>last_price</th>\n",
       "      <th>total_area</th>\n",
       "      <th>first_day_exposition</th>\n",
       "      <th>rooms</th>\n",
       "      <th>ceiling_height</th>\n",
       "      <th>floors_total</th>\n",
       "      <th>living_area</th>\n",
       "      <th>floor</th>\n",
       "      <th>is_apartment</th>\n",
       "      <th>...</th>\n",
       "      <th>kitchen_area</th>\n",
       "      <th>balcony</th>\n",
       "      <th>locality_name</th>\n",
       "      <th>airports_nearest</th>\n",
       "      <th>cityCenters_nearest</th>\n",
       "      <th>parks_around3000</th>\n",
       "      <th>parks_nearest</th>\n",
       "      <th>ponds_around3000</th>\n",
       "      <th>ponds_nearest</th>\n",
       "      <th>days_exposition</th>\n",
       "    </tr>\n",
       "  </thead>\n",
       "  <tbody>\n",
       "    <tr>\n",
       "      <th>0</th>\n",
       "      <td>20</td>\n",
       "      <td>13000000.0</td>\n",
       "      <td>108.00</td>\n",
       "      <td>2019-03-07T00:00:00</td>\n",
       "      <td>3</td>\n",
       "      <td>2.70</td>\n",
       "      <td>16.0</td>\n",
       "      <td>51.00</td>\n",
       "      <td>8</td>\n",
       "      <td>NaN</td>\n",
       "      <td>...</td>\n",
       "      <td>25.00</td>\n",
       "      <td>NaN</td>\n",
       "      <td>Санкт-Петербург</td>\n",
       "      <td>18863.0</td>\n",
       "      <td>16028.0</td>\n",
       "      <td>1.0</td>\n",
       "      <td>482.0</td>\n",
       "      <td>2.0</td>\n",
       "      <td>755.0</td>\n",
       "      <td>NaN</td>\n",
       "    </tr>\n",
       "    <tr>\n",
       "      <th>1</th>\n",
       "      <td>7</td>\n",
       "      <td>3350000.0</td>\n",
       "      <td>40.40</td>\n",
       "      <td>2018-12-04T00:00:00</td>\n",
       "      <td>1</td>\n",
       "      <td>NaN</td>\n",
       "      <td>11.0</td>\n",
       "      <td>18.60</td>\n",
       "      <td>1</td>\n",
       "      <td>NaN</td>\n",
       "      <td>...</td>\n",
       "      <td>11.00</td>\n",
       "      <td>2.0</td>\n",
       "      <td>посёлок Шушары</td>\n",
       "      <td>12817.0</td>\n",
       "      <td>18603.0</td>\n",
       "      <td>0.0</td>\n",
       "      <td>NaN</td>\n",
       "      <td>0.0</td>\n",
       "      <td>NaN</td>\n",
       "      <td>81.0</td>\n",
       "    </tr>\n",
       "    <tr>\n",
       "      <th>2</th>\n",
       "      <td>10</td>\n",
       "      <td>5196000.0</td>\n",
       "      <td>56.00</td>\n",
       "      <td>2015-08-20T00:00:00</td>\n",
       "      <td>2</td>\n",
       "      <td>NaN</td>\n",
       "      <td>5.0</td>\n",
       "      <td>34.30</td>\n",
       "      <td>4</td>\n",
       "      <td>NaN</td>\n",
       "      <td>...</td>\n",
       "      <td>8.30</td>\n",
       "      <td>0.0</td>\n",
       "      <td>Санкт-Петербург</td>\n",
       "      <td>21741.0</td>\n",
       "      <td>13933.0</td>\n",
       "      <td>1.0</td>\n",
       "      <td>90.0</td>\n",
       "      <td>2.0</td>\n",
       "      <td>574.0</td>\n",
       "      <td>558.0</td>\n",
       "    </tr>\n",
       "    <tr>\n",
       "      <th>3</th>\n",
       "      <td>0</td>\n",
       "      <td>64900000.0</td>\n",
       "      <td>159.00</td>\n",
       "      <td>2015-07-24T00:00:00</td>\n",
       "      <td>3</td>\n",
       "      <td>NaN</td>\n",
       "      <td>14.0</td>\n",
       "      <td>NaN</td>\n",
       "      <td>9</td>\n",
       "      <td>NaN</td>\n",
       "      <td>...</td>\n",
       "      <td>NaN</td>\n",
       "      <td>0.0</td>\n",
       "      <td>Санкт-Петербург</td>\n",
       "      <td>28098.0</td>\n",
       "      <td>6800.0</td>\n",
       "      <td>2.0</td>\n",
       "      <td>84.0</td>\n",
       "      <td>3.0</td>\n",
       "      <td>234.0</td>\n",
       "      <td>424.0</td>\n",
       "    </tr>\n",
       "    <tr>\n",
       "      <th>4</th>\n",
       "      <td>2</td>\n",
       "      <td>10000000.0</td>\n",
       "      <td>100.00</td>\n",
       "      <td>2018-06-19T00:00:00</td>\n",
       "      <td>2</td>\n",
       "      <td>3.03</td>\n",
       "      <td>14.0</td>\n",
       "      <td>32.00</td>\n",
       "      <td>13</td>\n",
       "      <td>NaN</td>\n",
       "      <td>...</td>\n",
       "      <td>41.00</td>\n",
       "      <td>NaN</td>\n",
       "      <td>Санкт-Петербург</td>\n",
       "      <td>31856.0</td>\n",
       "      <td>8098.0</td>\n",
       "      <td>2.0</td>\n",
       "      <td>112.0</td>\n",
       "      <td>1.0</td>\n",
       "      <td>48.0</td>\n",
       "      <td>121.0</td>\n",
       "    </tr>\n",
       "    <tr>\n",
       "      <th>5</th>\n",
       "      <td>10</td>\n",
       "      <td>2890000.0</td>\n",
       "      <td>30.40</td>\n",
       "      <td>2018-09-10T00:00:00</td>\n",
       "      <td>1</td>\n",
       "      <td>NaN</td>\n",
       "      <td>12.0</td>\n",
       "      <td>14.40</td>\n",
       "      <td>5</td>\n",
       "      <td>NaN</td>\n",
       "      <td>...</td>\n",
       "      <td>9.10</td>\n",
       "      <td>NaN</td>\n",
       "      <td>городской посёлок Янино-1</td>\n",
       "      <td>NaN</td>\n",
       "      <td>NaN</td>\n",
       "      <td>NaN</td>\n",
       "      <td>NaN</td>\n",
       "      <td>NaN</td>\n",
       "      <td>NaN</td>\n",
       "      <td>55.0</td>\n",
       "    </tr>\n",
       "    <tr>\n",
       "      <th>6</th>\n",
       "      <td>6</td>\n",
       "      <td>3700000.0</td>\n",
       "      <td>37.30</td>\n",
       "      <td>2017-11-02T00:00:00</td>\n",
       "      <td>1</td>\n",
       "      <td>NaN</td>\n",
       "      <td>26.0</td>\n",
       "      <td>10.60</td>\n",
       "      <td>6</td>\n",
       "      <td>NaN</td>\n",
       "      <td>...</td>\n",
       "      <td>14.40</td>\n",
       "      <td>1.0</td>\n",
       "      <td>посёлок Парголово</td>\n",
       "      <td>52996.0</td>\n",
       "      <td>19143.0</td>\n",
       "      <td>0.0</td>\n",
       "      <td>NaN</td>\n",
       "      <td>0.0</td>\n",
       "      <td>NaN</td>\n",
       "      <td>155.0</td>\n",
       "    </tr>\n",
       "    <tr>\n",
       "      <th>7</th>\n",
       "      <td>5</td>\n",
       "      <td>7915000.0</td>\n",
       "      <td>71.60</td>\n",
       "      <td>2019-04-18T00:00:00</td>\n",
       "      <td>2</td>\n",
       "      <td>NaN</td>\n",
       "      <td>24.0</td>\n",
       "      <td>NaN</td>\n",
       "      <td>22</td>\n",
       "      <td>NaN</td>\n",
       "      <td>...</td>\n",
       "      <td>18.90</td>\n",
       "      <td>2.0</td>\n",
       "      <td>Санкт-Петербург</td>\n",
       "      <td>23982.0</td>\n",
       "      <td>11634.0</td>\n",
       "      <td>0.0</td>\n",
       "      <td>NaN</td>\n",
       "      <td>0.0</td>\n",
       "      <td>NaN</td>\n",
       "      <td>NaN</td>\n",
       "    </tr>\n",
       "    <tr>\n",
       "      <th>8</th>\n",
       "      <td>20</td>\n",
       "      <td>2900000.0</td>\n",
       "      <td>33.16</td>\n",
       "      <td>2018-05-23T00:00:00</td>\n",
       "      <td>1</td>\n",
       "      <td>NaN</td>\n",
       "      <td>27.0</td>\n",
       "      <td>15.43</td>\n",
       "      <td>26</td>\n",
       "      <td>NaN</td>\n",
       "      <td>...</td>\n",
       "      <td>8.81</td>\n",
       "      <td>NaN</td>\n",
       "      <td>посёлок Мурино</td>\n",
       "      <td>NaN</td>\n",
       "      <td>NaN</td>\n",
       "      <td>NaN</td>\n",
       "      <td>NaN</td>\n",
       "      <td>NaN</td>\n",
       "      <td>NaN</td>\n",
       "      <td>189.0</td>\n",
       "    </tr>\n",
       "    <tr>\n",
       "      <th>9</th>\n",
       "      <td>18</td>\n",
       "      <td>5400000.0</td>\n",
       "      <td>61.00</td>\n",
       "      <td>2017-02-26T00:00:00</td>\n",
       "      <td>3</td>\n",
       "      <td>2.50</td>\n",
       "      <td>9.0</td>\n",
       "      <td>43.60</td>\n",
       "      <td>7</td>\n",
       "      <td>NaN</td>\n",
       "      <td>...</td>\n",
       "      <td>6.50</td>\n",
       "      <td>2.0</td>\n",
       "      <td>Санкт-Петербург</td>\n",
       "      <td>50898.0</td>\n",
       "      <td>15008.0</td>\n",
       "      <td>0.0</td>\n",
       "      <td>NaN</td>\n",
       "      <td>0.0</td>\n",
       "      <td>NaN</td>\n",
       "      <td>289.0</td>\n",
       "    </tr>\n",
       "  </tbody>\n",
       "</table>\n",
       "<p>10 rows × 22 columns</p>\n",
       "</div>"
      ],
      "text/plain": [
       "   total_images  last_price  total_area first_day_exposition  rooms  \\\n",
       "0            20  13000000.0      108.00  2019-03-07T00:00:00      3   \n",
       "1             7   3350000.0       40.40  2018-12-04T00:00:00      1   \n",
       "2            10   5196000.0       56.00  2015-08-20T00:00:00      2   \n",
       "3             0  64900000.0      159.00  2015-07-24T00:00:00      3   \n",
       "4             2  10000000.0      100.00  2018-06-19T00:00:00      2   \n",
       "5            10   2890000.0       30.40  2018-09-10T00:00:00      1   \n",
       "6             6   3700000.0       37.30  2017-11-02T00:00:00      1   \n",
       "7             5   7915000.0       71.60  2019-04-18T00:00:00      2   \n",
       "8            20   2900000.0       33.16  2018-05-23T00:00:00      1   \n",
       "9            18   5400000.0       61.00  2017-02-26T00:00:00      3   \n",
       "\n",
       "   ceiling_height  floors_total  living_area  floor is_apartment  ...  \\\n",
       "0            2.70          16.0        51.00      8          NaN  ...   \n",
       "1             NaN          11.0        18.60      1          NaN  ...   \n",
       "2             NaN           5.0        34.30      4          NaN  ...   \n",
       "3             NaN          14.0          NaN      9          NaN  ...   \n",
       "4            3.03          14.0        32.00     13          NaN  ...   \n",
       "5             NaN          12.0        14.40      5          NaN  ...   \n",
       "6             NaN          26.0        10.60      6          NaN  ...   \n",
       "7             NaN          24.0          NaN     22          NaN  ...   \n",
       "8             NaN          27.0        15.43     26          NaN  ...   \n",
       "9            2.50           9.0        43.60      7          NaN  ...   \n",
       "\n",
       "   kitchen_area  balcony              locality_name  airports_nearest  \\\n",
       "0         25.00      NaN            Санкт-Петербург           18863.0   \n",
       "1         11.00      2.0             посёлок Шушары           12817.0   \n",
       "2          8.30      0.0            Санкт-Петербург           21741.0   \n",
       "3           NaN      0.0            Санкт-Петербург           28098.0   \n",
       "4         41.00      NaN            Санкт-Петербург           31856.0   \n",
       "5          9.10      NaN  городской посёлок Янино-1               NaN   \n",
       "6         14.40      1.0          посёлок Парголово           52996.0   \n",
       "7         18.90      2.0            Санкт-Петербург           23982.0   \n",
       "8          8.81      NaN             посёлок Мурино               NaN   \n",
       "9          6.50      2.0            Санкт-Петербург           50898.0   \n",
       "\n",
       "  cityCenters_nearest  parks_around3000  parks_nearest  ponds_around3000  \\\n",
       "0             16028.0               1.0          482.0               2.0   \n",
       "1             18603.0               0.0            NaN               0.0   \n",
       "2             13933.0               1.0           90.0               2.0   \n",
       "3              6800.0               2.0           84.0               3.0   \n",
       "4              8098.0               2.0          112.0               1.0   \n",
       "5                 NaN               NaN            NaN               NaN   \n",
       "6             19143.0               0.0            NaN               0.0   \n",
       "7             11634.0               0.0            NaN               0.0   \n",
       "8                 NaN               NaN            NaN               NaN   \n",
       "9             15008.0               0.0            NaN               0.0   \n",
       "\n",
       "   ponds_nearest  days_exposition  \n",
       "0          755.0              NaN  \n",
       "1            NaN             81.0  \n",
       "2          574.0            558.0  \n",
       "3          234.0            424.0  \n",
       "4           48.0            121.0  \n",
       "5            NaN             55.0  \n",
       "6            NaN            155.0  \n",
       "7            NaN              NaN  \n",
       "8            NaN            189.0  \n",
       "9            NaN            289.0  \n",
       "\n",
       "[10 rows x 22 columns]"
      ]
     },
     "execution_count": 2,
     "metadata": {},
     "output_type": "execute_result"
    }
   ],
   "source": [
    "# Открываем файл, после первого ознакомления с данными добавляем корректный разделитель\n",
    "data = pd.read_csv('datasets/real_estate_data.csv', sep=\"\\t\")\n",
    "\n",
    "# Выведем на экран 10 строк для анализа\n",
    "data.head(10)"
   ]
  },
  {
   "cell_type": "code",
   "execution_count": 3,
   "metadata": {},
   "outputs": [
    {
     "name": "stdout",
     "output_type": "stream",
     "text": [
      "<class 'pandas.core.frame.DataFrame'>\n",
      "RangeIndex: 23699 entries, 0 to 23698\n",
      "Data columns (total 22 columns):\n",
      " #   Column                Non-Null Count  Dtype  \n",
      "---  ------                --------------  -----  \n",
      " 0   total_images          23699 non-null  int64  \n",
      " 1   last_price            23699 non-null  float64\n",
      " 2   total_area            23699 non-null  float64\n",
      " 3   first_day_exposition  23699 non-null  object \n",
      " 4   rooms                 23699 non-null  int64  \n",
      " 5   ceiling_height        14504 non-null  float64\n",
      " 6   floors_total          23613 non-null  float64\n",
      " 7   living_area           21796 non-null  float64\n",
      " 8   floor                 23699 non-null  int64  \n",
      " 9   is_apartment          2775 non-null   object \n",
      " 10  studio                23699 non-null  bool   \n",
      " 11  open_plan             23699 non-null  bool   \n",
      " 12  kitchen_area          21421 non-null  float64\n",
      " 13  balcony               12180 non-null  float64\n",
      " 14  locality_name         23650 non-null  object \n",
      " 15  airports_nearest      18157 non-null  float64\n",
      " 16  cityCenters_nearest   18180 non-null  float64\n",
      " 17  parks_around3000      18181 non-null  float64\n",
      " 18  parks_nearest         8079 non-null   float64\n",
      " 19  ponds_around3000      18181 non-null  float64\n",
      " 20  ponds_nearest         9110 non-null   float64\n",
      " 21  days_exposition       20518 non-null  float64\n",
      "dtypes: bool(2), float64(14), int64(3), object(3)\n",
      "memory usage: 3.7+ MB\n"
     ]
    }
   ],
   "source": [
    "# Выведем основную информацию о датафрейме\n",
    "data.info()"
   ]
  },
  {
   "cell_type": "code",
   "execution_count": 4,
   "metadata": {},
   "outputs": [
    {
     "data": {
      "image/png": "[encoded data removed]",
      "text/plain": [
       "<Figure size 1500x2000 with 20 Axes>"
      ]
     },
     "metadata": {},
     "output_type": "display_data"
    }
   ],
   "source": [
    "# Построим гистограмму для всех числовых столбцов таблицы на одном графике\n",
    "data.hist(figsize=(15, 20));"
   ]
  },
  {
   "cell_type": "markdown",
   "metadata": {},
   "source": [
    "После первичного ознакомления с данными можно сделать следующие выводы: \n",
    "\n",
    "1. В некоторых столбцах присутствуют пропуски данных. Нужно будет разобраться с чем они связаны и скорректировать где это возможно. \n",
    "2. На основании гистограмм можно заметить подозрительные значения в столбцах (например, столбец ceiling_height (есть объекты с потолками около 25 м)). Нужно будет внимательно изучить столбцы с числовыми значениями и проверить наличие аномалий, ошибок в данных.\n",
    "3. Общая \"картина\" на основании необработанных данных следующая - для большинства квартир характерны:\n",
    "- общая стоимость до 50 000 000\n",
    "- общая площадь до 100 кв.м\n",
    "- 3 комнаты\n",
    "- первые этажи\n",
    "- аэропорт и центр города в пределах 20 км\n",
    "- отсутствие прудов и парков в ближайших 3 км\n",
    "- закрытие объявления в течении 100 дней\n",
    "\n",
    "Проверим, так ли это на самом деле."
   ]
  },
  {
   "cell_type": "markdown",
   "metadata": {
    "id": "-O5NtivEAwb9"
   },
   "source": [
    "### Выполните предобработку данных"
   ]
  },
  {
   "cell_type": "code",
   "execution_count": 5,
   "metadata": {},
   "outputs": [],
   "source": [
    "# Переименуем столбцы\n",
    "data = data.rename(columns={'cityCenters_nearest': 'city_centers_nearest', 'parks_around3000': 'parks_around_3000', 'ponds_around3000': 'ponds_around_3000'})"
   ]
  },
  {
   "cell_type": "markdown",
   "metadata": {},
   "source": [
    "#### Работа с пропусками"
   ]
  },
  {
   "cell_type": "code",
   "execution_count": 6,
   "metadata": {
    "id": "7v3vAeTuAwb-"
   },
   "outputs": [
    {
     "data": {
      "text/plain": [
       "is_apartment            20924\n",
       "parks_nearest           15620\n",
       "ponds_nearest           14589\n",
       "balcony                 11519\n",
       "ceiling_height           9195\n",
       "airports_nearest         5542\n",
       "city_centers_nearest     5519\n",
       "parks_around_3000        5518\n",
       "ponds_around_3000        5518\n",
       "days_exposition          3181\n",
       "kitchen_area             2278\n",
       "living_area              1903\n",
       "floors_total               86\n",
       "locality_name              49\n",
       "rooms                       0\n",
       "first_day_exposition        0\n",
       "total_area                  0\n",
       "last_price                  0\n",
       "total_images                0\n",
       "studio                      0\n",
       "floor                       0\n",
       "open_plan                   0\n",
       "dtype: int64"
      ]
     },
     "execution_count": 6,
     "metadata": {},
     "output_type": "execute_result"
    }
   ],
   "source": [
    "# Определим в каких столбцах есть пропуски\n",
    "data.isna().sum().sort_values(ascending=False)"
   ]
  },
  {
   "cell_type": "code",
   "execution_count": 7,
   "metadata": {},
   "outputs": [
    {
     "data": {
      "text/plain": [
       "is_apartment            88.290645\n",
       "parks_nearest           65.909954\n",
       "ponds_nearest           61.559559\n",
       "balcony                 48.605426\n",
       "ceiling_height          38.799105\n",
       "airports_nearest        23.384953\n",
       "city_centers_nearest    23.287902\n",
       "parks_around_3000       23.283683\n",
       "ponds_around_3000       23.283683\n",
       "days_exposition         13.422507\n",
       "kitchen_area             9.612220\n",
       "living_area              8.029875\n",
       "floors_total             0.362885\n",
       "locality_name            0.206760\n",
       "rooms                    0.000000\n",
       "first_day_exposition     0.000000\n",
       "total_area               0.000000\n",
       "last_price               0.000000\n",
       "total_images             0.000000\n",
       "studio                   0.000000\n",
       "floor                    0.000000\n",
       "open_plan                0.000000\n",
       "dtype: float64"
      ]
     },
     "execution_count": 7,
     "metadata": {},
     "output_type": "execute_result"
    }
   ],
   "source": [
    "# Найдем доли пропущенных значений к общему числу значений в каждом столбце\n",
    "data.isna().mean().sort_values(ascending=False)*100"
   ]
  },
  {
   "cell_type": "markdown",
   "metadata": {},
   "source": [
    "Выявлены пропуски в следующих столбцах:\n",
    "- ceiling_height - высота потолков\n",
    "- balcony - число балконов\n",
    "- locality_name - название населённого пункта\n",
    "- kitchen_area - площадь кухни в квадратных метрах\n",
    "- living_area - жилая площадь в квадратных метрах\n",
    "- is_apartment - апартаменты\n",
    "- days_exposition - сколько дней было размещено объявление (от публикации до снятия)\n",
    "- floors_total - всего этажей в доме\n",
    "- airports_nearest - расстояние до ближайшего аэропорта в метрах\n",
    "- city_centers_nearest - расстояние до центра города \n",
    "- parks_around3000 - число парков в радиусе 3 км   \n",
    "- parks_nearest - расстояние до ближайшего парка    \n",
    "- ponds_around3000 - число водоёмов в радиусе 3 км\n",
    "- ponds_nearest - расстояние до ближайшего водоёма"
   ]
  },
  {
   "cell_type": "markdown",
   "metadata": {},
   "source": [
    "**ceiling_height**\n",
    "\n",
    "Высоту потолков могли не указывать, если не обладали этой информацией. \n",
    "\n",
    "Заменим медианным значением."
   ]
  },
  {
   "cell_type": "code",
   "execution_count": 8,
   "metadata": {},
   "outputs": [],
   "source": [
    "# Найдем медианное значение высоты потолков и заменим NaN значения\n",
    "ceiling_height_median = data['ceiling_height'].median()\n",
    "data['ceiling_height'] = data['ceiling_height'].fillna(ceiling_height_median)"
   ]
  },
  {
   "cell_type": "markdown",
   "metadata": {},
   "source": [
    "**balcony**\n",
    "\n",
    "Вероятнее всего число балконов не указывали те, у кого балконы отсутствуют. \n",
    "\n",
    "Заменим значения NaN на 0. "
   ]
  },
  {
   "cell_type": "code",
   "execution_count": 9,
   "metadata": {},
   "outputs": [],
   "source": [
    "# Заполним количество\n",
    "data['balcony'] = data['balcony'].fillna(0)"
   ]
  },
  {
   "cell_type": "markdown",
   "metadata": {},
   "source": [
    "**locality_name**\n",
    "\n",
    "Пропуск указания населенного пункта больше похож на техническую ошибку при выгрузке данных, неправильный запрос к БД при объединении таблиц. \n",
    "\n",
    "Учитывая количество пропущенных значений, их влияние кажется минимальным. Удалим строки, в которых название населенного пункта не указано."
   ]
  },
  {
   "cell_type": "code",
   "execution_count": 10,
   "metadata": {},
   "outputs": [],
   "source": [
    "# Удаляем строки, где locality_name пропущен\n",
    "data = data.dropna(subset=['locality_name']).reset_index(drop=True)"
   ]
  },
  {
   "cell_type": "markdown",
   "metadata": {},
   "source": [
    "**kitchen_area**\n",
    "\n",
    "Эти значения могли остаться не заполненными т.к., вероятно, поле было не обязательно для заполнения и:\n",
    "- у человека могла отсутствовать информация о точном значении площади\n",
    "- или площадь кухни не указывалась для студий или открытый планировок\n",
    "\n",
    "Заполним пропущенные значения, там где это возможно, путем нахождения разницы между столбцами total_area и living_area.\n",
    "\n",
    "Остальные значения оставим пропущенными."
   ]
  },
  {
   "cell_type": "code",
   "execution_count": 11,
   "metadata": {},
   "outputs": [
    {
     "name": "stdout",
     "output_type": "stream",
     "text": [
      "studio\n",
      "False    21381\n",
      "True         0\n",
      "Name: kitchen_area, dtype: int64\n"
     ]
    },
    {
     "data": {
      "text/plain": [
       "open_plan\n",
       "False    21381\n",
       "True         0\n",
       "Name: kitchen_area, dtype: int64"
      ]
     },
     "execution_count": 11,
     "metadata": {},
     "output_type": "execute_result"
    }
   ],
   "source": [
    "# Проверим верна ли гипотеза про студии и открытые планировки\n",
    "print(data.groupby('studio')['kitchen_area'].count())\n",
    "data.groupby('open_plan')['kitchen_area'].count()"
   ]
  },
  {
   "cell_type": "code",
   "execution_count": 12,
   "metadata": {},
   "outputs": [],
   "source": [
    "# Заполним kitchen_area путем нахождения разницы между total_area и living_area\n",
    "data.loc[(data['kitchen_area'].isna()), 'kitchen_area'] = data['total_area'] - data['living_area']"
   ]
  },
  {
   "cell_type": "markdown",
   "metadata": {},
   "source": [
    "**living_area**\n",
    "\n",
    "Эти значения могли остаться не заполненными, т.к., вероятно, поле было не обязательно для заполнения, и у человека отсутствовала информации о точном значении площади.\n",
    "\n",
    "Заполним пропущенные значения, там где это возможно, путем нахождения разницы между столбцами total_area и living_area.\n"
   ]
  },
  {
   "cell_type": "code",
   "execution_count": 13,
   "metadata": {},
   "outputs": [],
   "source": [
    "# Заполним living_area путем нахождения разницы между total_area и kitchen_area\n",
    "data.loc[(data['living_area'].isna()), 'living_area'] = data['total_area'] - data['kitchen_area']"
   ]
  },
  {
   "cell_type": "markdown",
   "metadata": {},
   "source": [
    "\n",
    "<!-- Для остальных пропущенных значений сгруппируем данные по количеству комнат на объекте, найдем медианное значение для каждой группы и заполним пропуски. Для этого создадим функцию. -->\n",
    "\n",
    "Проверим везде ли total_area больше суммы площадей kitchen_area и living_area.\n",
    "\n",
    "После этого для остальных пропущенных значений сгруппируем данные по количеству комнат на объекте, найдем медианное значение для каждой группы и заполним пропуски. Для этого создадим функцию.\n",
    "\n",
    "И снова проверим везде ли total_area больше суммы площадей kitchen_area и living_area. После этого посчитаем как сильно могут повлиять некорректные строки на данные. Удалим их.\n"
   ]
  },
  {
   "cell_type": "code",
   "execution_count": 14,
   "metadata": {},
   "outputs": [
    {
     "data": {
      "text/plain": [
       "np.int64(68)"
      ]
     },
     "execution_count": 14,
     "metadata": {},
     "output_type": "execute_result"
    }
   ],
   "source": [
    "# Проверим встречаются ли строки, в которых сумма kitchen_area и living_area больше столбца total_area\n",
    "(data['living_area'] + data['kitchen_area'] > data['total_area']).sum()"
   ]
  },
  {
   "cell_type": "code",
   "execution_count": 15,
   "metadata": {},
   "outputs": [],
   "source": [
    "# Создадим функцию, которая будет группировать значения по определенному столбцу, находить медиану и заполнять им пропущенное значение\n",
    "def fill_nan(data, group, nan):\n",
    "    try:\n",
    "        for i in data[group].unique():\n",
    "            if data.loc[(data[group] == i), nan].count() > 0:\n",
    "                data.loc[(data[group] == i) & (data[nan].isna()), nan] = \\\n",
    "                data.loc[(data[group] == i), nan].median()\n",
    "    except Exception as e:\n",
    "        print(e)\n",
    "    finally:\n",
    "        return data"
   ]
  },
  {
   "cell_type": "code",
   "execution_count": 16,
   "metadata": {},
   "outputs": [],
   "source": [
    "# Для остальных пропущенных значений заменим на медианные сгруппированные по количеству комнат\n",
    "data = fill_nan(data, 'rooms', 'living_area')"
   ]
  },
  {
   "cell_type": "code",
   "execution_count": 17,
   "metadata": {},
   "outputs": [
    {
     "data": {
      "text/plain": [
       "np.float64(0.28752642706131076)"
      ]
     },
     "execution_count": 17,
     "metadata": {},
     "output_type": "execute_result"
    }
   ],
   "source": [
    "# Проверим увеличилось ли количество строк, в которых сумма kitchen_area и living_area больше столбца total_area\n",
    "(data['living_area'] + data['kitchen_area'] > data['total_area']).mean()*100"
   ]
  },
  {
   "cell_type": "code",
   "execution_count": 18,
   "metadata": {},
   "outputs": [],
   "source": [
    "# Удалим строки с некорректными данными\n",
    "data = data.drop(data[data['living_area'] + data['kitchen_area'] > data['total_area']].index)"
   ]
  },
  {
   "cell_type": "markdown",
   "metadata": {},
   "source": [
    "**is_apartment**\n",
    "\n",
    "Вероятнее всего это поле не заполняли владельцы квартир. Понятие апартаментов стало популярным относительно недавно, люди могли просто не задумываться, что этот параметр имеет значение у покупателей недвижимости.\n",
    "\n",
    "Обычно стоимость апартаментов и квартир отличается, чтобы убедиться, что наше предположение верно, проверим медианную стоимость недвижимости, для которой есть пропуски в столбце is_apartment. И сравним это значение с медианной стоимостью и квартир и апартаментов. \n",
    "\n",
    "Заменим пропущенные значения на 0."
   ]
  },
  {
   "cell_type": "code",
   "execution_count": 19,
   "metadata": {},
   "outputs": [
    {
     "name": "stdout",
     "output_type": "stream",
     "text": [
      "is_apartment\n",
      "False    4700000.0\n",
      "True     6900000.0\n",
      "Name: last_price, dtype: float64\n",
      "4600000.0\n"
     ]
    }
   ],
   "source": [
    "print(data.groupby('is_apartment')['last_price'].median())\n",
    "print(data[data['is_apartment'].isna()]['last_price'].median())\n",
    "\n",
    "data['is_apartment'] = data['is_apartment'].fillna(0)"
   ]
  },
  {
   "cell_type": "markdown",
   "metadata": {},
   "source": [
    "**days_exposition**\n",
    "\n",
    "Количество дней, в течении которых было размещено объявление, может быть не заполнено т.к. в этом поле идет подсчет дней со дня публикации до снятия объявления. Т.е. если объявление не снято с публикации, то и значения может не быть. \n",
    "\n",
    "Оставим пропущенные значения.\n"
   ]
  },
  {
   "cell_type": "markdown",
   "metadata": {},
   "source": [
    "**floors_total**\n",
    "\n",
    "Этажность дома могли не заполнять при создании объявления, либо могла возникнуть ошибка при сборе данных, выгрузке из БД. \n",
    "\n",
    "Сгруппируем объекты по их этажности и заменим пропущенные значения медианными (таким образом значения floors_total точно не будут меньше, чем floors)."
   ]
  },
  {
   "cell_type": "code",
   "execution_count": 20,
   "metadata": {},
   "outputs": [],
   "source": [
    "data = fill_nan(data, 'floor', 'floors_total')"
   ]
  },
  {
   "cell_type": "markdown",
   "metadata": {},
   "source": [
    "**airports_nearest**\n",
    "\n",
    "Расстояние до аэропорта могло не рассчитаться для тех населенных пунктов, для которых расстояние до аэропорта слишком далеко. \n",
    "\n",
    "Попробуем заменить значения на медианные в соответствии с названием населенного пункта. Оставшиеся значения оставим пропущенными. \n"
   ]
  },
  {
   "cell_type": "code",
   "execution_count": 21,
   "metadata": {},
   "outputs": [],
   "source": [
    "data = fill_nan(data, 'locality_name', 'airports_nearest')"
   ]
  },
  {
   "cell_type": "markdown",
   "metadata": {},
   "source": [
    "**city_centers_nearest**\n",
    "\n",
    "Расстояние до центра города могло не рассчитываться для небольших населенных пунктов (где эта информация не актуальна).\n",
    "\n",
    "Также расстояние могло не рассчитаться, если в объявлении не был указан точный адрес. \n",
    "\n",
    "Попробуем заменить значения на медианные в соответствии с названием населенного пункта. Оставшиеся значения оставим пропущенными. "
   ]
  },
  {
   "cell_type": "code",
   "execution_count": 22,
   "metadata": {},
   "outputs": [],
   "source": [
    "data = fill_nan(data, 'locality_name', 'city_centers_nearest')"
   ]
  },
  {
   "cell_type": "markdown",
   "metadata": {},
   "source": [
    "После обработки данных в столбцах airports_nearest и city_centers_nearest можно заметить, что количество пропущенных значений в них стало одинаковым. \n",
    "Заменять значения на 0 кажется не совсем верным, поэтому оставим пропуски как есть."
   ]
  },
  {
   "cell_type": "code",
   "execution_count": 23,
   "metadata": {},
   "outputs": [
    {
     "data": {
      "text/plain": [
       "np.int64(0)"
      ]
     },
     "execution_count": 23,
     "metadata": {},
     "output_type": "execute_result"
    }
   ],
   "source": [
    "data[data['city_centers_nearest'].isna()]['airports_nearest'].count()"
   ]
  },
  {
   "cell_type": "markdown",
   "metadata": {},
   "source": [
    "**parks_around3000, ponds_around3000**\n",
    "\n",
    "В небольших населенных пунктах вероятность наличия парка или пруда - не высокая. Наличие парка в окрестности 3км для крупных городов также не обязательно. \n",
    "\n",
    "Также расстояние могло не рассчитаться, если в объявлении не был указан точный адрес. \n",
    "\n",
    "Заменим пропуски нулевыми значениями.  "
   ]
  },
  {
   "cell_type": "code",
   "execution_count": 24,
   "metadata": {},
   "outputs": [],
   "source": [
    "data['parks_around_3000'] = data['parks_around_3000'].fillna(0)\n",
    "data['ponds_around_3000'] = data['ponds_around_3000'].fillna(0)"
   ]
  },
  {
   "cell_type": "markdown",
   "metadata": {},
   "source": [
    "**parks_nearest, ponds_nearest**\n",
    "\n",
    "Расстояние могло не рассчитаться, если в объявлении не был указан точный адрес. \n",
    "\n",
    "Изменять значение на 0 кажется неверным, поэтому оставим пропуски как есть."
   ]
  },
  {
   "cell_type": "markdown",
   "metadata": {},
   "source": [
    "После всех произведенных замен в следующих столбцах остались пропущенные значения: \n",
    "- kitchen_area - для квартир со свободной планировкой и студий\n",
    "- days_exposition - для незакрытых на момент сбора данных объявлений\n",
    "- airports_nearest - для объектов, которые далеко от аэропорта (предположительно)\n",
    "- cityCenters_nearest - для объектов, которые далеко от центра города (предположительно)\n",
    "- parks_nearest - для объектов, рядом с которыми нет парков\n",
    "- ponds_neares - для объектов, рядом с которыми нет прудов\n"
   ]
  },
  {
   "cell_type": "code",
   "execution_count": 25,
   "metadata": {},
   "outputs": [
    {
     "data": {
      "text/plain": [
       "total_images                0\n",
       "last_price                  0\n",
       "total_area                  0\n",
       "first_day_exposition        0\n",
       "rooms                       0\n",
       "ceiling_height              0\n",
       "floors_total                0\n",
       "living_area                 0\n",
       "floor                       0\n",
       "is_apartment                0\n",
       "studio                      0\n",
       "open_plan                   0\n",
       "kitchen_area             1460\n",
       "balcony                     0\n",
       "locality_name               0\n",
       "airports_nearest         5366\n",
       "city_centers_nearest     5366\n",
       "parks_around_3000           0\n",
       "parks_nearest           15538\n",
       "ponds_around_3000           0\n",
       "ponds_nearest           14518\n",
       "days_exposition          3172\n",
       "dtype: int64"
      ]
     },
     "execution_count": 25,
     "metadata": {},
     "output_type": "execute_result"
    }
   ],
   "source": [
    "data.isna().sum()"
   ]
  },
  {
   "cell_type": "markdown",
   "metadata": {},
   "source": [
    "#### Корректировка типов данных"
   ]
  },
  {
   "cell_type": "code",
   "execution_count": 26,
   "metadata": {},
   "outputs": [
    {
     "name": "stdout",
     "output_type": "stream",
     "text": [
      "<class 'pandas.core.frame.DataFrame'>\n",
      "Index: 23582 entries, 0 to 23649\n",
      "Data columns (total 22 columns):\n",
      " #   Column                Non-Null Count  Dtype  \n",
      "---  ------                --------------  -----  \n",
      " 0   total_images          23582 non-null  int64  \n",
      " 1   last_price            23582 non-null  float64\n",
      " 2   total_area            23582 non-null  float64\n",
      " 3   first_day_exposition  23582 non-null  object \n",
      " 4   rooms                 23582 non-null  int64  \n",
      " 5   ceiling_height        23582 non-null  float64\n",
      " 6   floors_total          23582 non-null  float64\n",
      " 7   living_area           23582 non-null  float64\n",
      " 8   floor                 23582 non-null  int64  \n",
      " 9   is_apartment          23582 non-null  object \n",
      " 10  studio                23582 non-null  bool   \n",
      " 11  open_plan             23582 non-null  bool   \n",
      " 12  kitchen_area          22122 non-null  float64\n",
      " 13  balcony               23582 non-null  float64\n",
      " 14  locality_name         23582 non-null  object \n",
      " 15  airports_nearest      18216 non-null  float64\n",
      " 16  city_centers_nearest  18216 non-null  float64\n",
      " 17  parks_around_3000     23582 non-null  float64\n",
      " 18  parks_nearest         8044 non-null   float64\n",
      " 19  ponds_around_3000     23582 non-null  float64\n",
      " 20  ponds_nearest         9064 non-null   float64\n",
      " 21  days_exposition       20410 non-null  float64\n",
      "dtypes: bool(2), float64(14), int64(3), object(3)\n",
      "memory usage: 3.8+ MB\n"
     ]
    }
   ],
   "source": [
    "# Скорректируем типы данных в столбцах\n",
    "data.info()"
   ]
  },
  {
   "cell_type": "code",
   "execution_count": 27,
   "metadata": {},
   "outputs": [],
   "source": [
    "# данные в first_day_exposition можно нужно к типу дата-время и вынести их в отдельных столбец\n",
    "data['first_day_exposition_datetime'] = pd.to_datetime(data['first_day_exposition'], format='%Y-%m-%dT%H:%M:%S')\n",
    "\n",
    "# данные в is_apartment приведем к булевому типу (т.к. в нем хранятся значения True/False)\n",
    "data['is_apartment'] = data['is_apartment'].astype('bool')\n",
    "\n",
    "# данные в balcony приведем к целочисленному типу (т.к. количество балконов не может быть нецелым числом)\n",
    "data['balcony'] = data['balcony'].astype('int64')\n",
    "\n",
    "# данные в floors_total можно привести к целочисленному типу (т.к. количество этажей не может быть нецелым числом)\n",
    "data['floors_total'] = data['floors_total'].astype('int64')\n",
    "\n",
    "# данные в parks_around3000 и ponds_around3000 приведем к целочисленному типу (т.к. количество парков и прудов не может быть нецелым числом)\n",
    "data['parks_around3000'] = data['parks_around_3000'].astype('int64')\n",
    "data['ponds_around3000'] = data['ponds_around_3000'].astype('int64')\n",
    "\n",
    "# данные в days_exposition можно привести к целочисленному типу (т.к. в столбце хранится количество дней)\n",
    "# т.к. в столбце есть пропуски данных, используем конструкцию try/except\n",
    "try:\n",
    "    data['days_exposition'] = data['days_exposition'].astype('int64')\n",
    "except:\n",
    "    pass"
   ]
  },
  {
   "cell_type": "markdown",
   "metadata": {},
   "source": [
    "#### Устранение дубликатов"
   ]
  },
  {
   "cell_type": "code",
   "execution_count": 28,
   "metadata": {},
   "outputs": [
    {
     "data": {
      "text/plain": [
       "np.int64(0)"
      ]
     },
     "execution_count": 28,
     "metadata": {},
     "output_type": "execute_result"
    }
   ],
   "source": [
    "# проверим количество дубликатов\n",
    "data.duplicated().sum()"
   ]
  },
  {
   "cell_type": "code",
   "execution_count": 29,
   "metadata": {},
   "outputs": [
    {
     "data": {
      "text/plain": [
       "array(['Санкт-Петербург', 'посёлок Шушары', 'городской посёлок Янино-1',\n",
       "       'посёлок Парголово', 'посёлок Мурино', 'Ломоносов', 'Сертолово',\n",
       "       'Петергоф', 'Пушкин', 'деревня Кудрово', 'Коммунар', 'Колпино',\n",
       "       'поселок городского типа Красный Бор', 'Гатчина', 'поселок Мурино',\n",
       "       'деревня Фёдоровское', 'Выборг', 'Кронштадт', 'Кировск',\n",
       "       'деревня Новое Девяткино', 'посёлок Металлострой',\n",
       "       'посёлок городского типа Лебяжье',\n",
       "       'посёлок городского типа Сиверский', 'поселок Молодцово',\n",
       "       'поселок городского типа Кузьмоловский',\n",
       "       'садовое товарищество Новая Ропша', 'Павловск',\n",
       "       'деревня Пикколово', 'Всеволожск', 'Волхов', 'Кингисепп',\n",
       "       'Приозерск', 'Сестрорецк', 'деревня Куттузи', 'посёлок Аннино',\n",
       "       'поселок городского типа Ефимовский', 'посёлок Плодовое',\n",
       "       'деревня Заклинье', 'поселок Торковичи', 'поселок Первомайское',\n",
       "       'Красное Село', 'посёлок Понтонный', 'Сясьстрой', 'деревня Старая',\n",
       "       'деревня Лесколово', 'посёлок Новый Свет', 'Сланцы',\n",
       "       'село Путилово', 'Ивангород', 'Мурино', 'Шлиссельбург',\n",
       "       'Никольское', 'Зеленогорск', 'Сосновый Бор', 'поселок Новый Свет',\n",
       "       'деревня Оржицы', 'деревня Кальтино', 'Кудрово',\n",
       "       'поселок Романовка', 'посёлок Бугры', 'поселок Бугры',\n",
       "       'поселок городского типа Рощино', 'Кириши', 'Луга', 'Волосово',\n",
       "       'Отрадное', 'село Павлово', 'поселок Оредеж', 'село Копорье',\n",
       "       'посёлок городского типа Красный Бор', 'посёлок Молодёжное',\n",
       "       'Тихвин', 'посёлок Победа', 'деревня Нурма',\n",
       "       'поселок городского типа Синявино', 'Тосно',\n",
       "       'посёлок городского типа Кузьмоловский', 'посёлок Стрельна',\n",
       "       'Бокситогорск', 'посёлок Александровская', 'деревня Лопухинка',\n",
       "       'Пикалёво', 'поселок Терволово',\n",
       "       'поселок городского типа Советский', 'Подпорожье',\n",
       "       'посёлок Петровское', 'посёлок городского типа Токсово',\n",
       "       'поселок Сельцо', 'посёлок городского типа Вырица',\n",
       "       'деревня Кипень', 'деревня Келози', 'деревня Вартемяги',\n",
       "       'посёлок Тельмана', 'поселок Севастьяново',\n",
       "       'городской поселок Большая Ижора', 'городской посёлок Павлово',\n",
       "       'деревня Агалатово', 'посёлок Новогорелово',\n",
       "       'городской посёлок Лесогорский', 'деревня Лаголово',\n",
       "       'поселок Цвелодубово', 'поселок городского типа Рахья',\n",
       "       'поселок городского типа Вырица', 'деревня Белогорка',\n",
       "       'поселок Заводской', 'городской посёлок Новоселье',\n",
       "       'деревня Большие Колпаны', 'деревня Горбунки', 'деревня Батово',\n",
       "       'деревня Заневка', 'деревня Иссад', 'Приморск',\n",
       "       'городской посёлок Фёдоровское', 'деревня Мистолово',\n",
       "       'Новая Ладога', 'поселок Зимитицы', 'поселок Барышево',\n",
       "       'деревня Разметелево', 'поселок городского типа имени Свердлова',\n",
       "       'деревня Пеники', 'поселок Рябово', 'деревня Пудомяги',\n",
       "       'поселок станции Корнево', 'деревня Низино', 'деревня Бегуницы',\n",
       "       'посёлок Поляны', 'городской посёлок Мга', 'поселок Елизаветино',\n",
       "       'посёлок городского типа Кузнечное', 'деревня Колтуши',\n",
       "       'поселок Запорожское', 'посёлок городского типа Рощино',\n",
       "       'деревня Гостилицы', 'деревня Малое Карлино',\n",
       "       'посёлок Мичуринское', 'посёлок городского типа имени Морозова',\n",
       "       'посёлок Песочный', 'посёлок Сосново', 'деревня Аро',\n",
       "       'поселок Ильичёво', 'посёлок городского типа Тайцы',\n",
       "       'деревня Малое Верево', 'деревня Извара', 'поселок станции Вещево',\n",
       "       'село Паша', 'деревня Калитино',\n",
       "       'посёлок городского типа Ульяновка', 'деревня Чудской Бор',\n",
       "       'поселок городского типа Дубровка', 'деревня Мины',\n",
       "       'поселок Войсковицы', 'посёлок городского типа имени Свердлова',\n",
       "       'деревня Коркино', 'посёлок Ропша',\n",
       "       'поселок городского типа Приладожский', 'посёлок Щеглово',\n",
       "       'посёлок Гаврилово', 'Лодейное Поле', 'деревня Рабитицы',\n",
       "       'поселок городского типа Никольский', 'деревня Кузьмолово',\n",
       "       'деревня Малые Колпаны', 'поселок Тельмана',\n",
       "       'посёлок Петро-Славянка', 'городской посёлок Назия',\n",
       "       'посёлок Репино', 'посёлок Ильичёво', 'поселок Углово',\n",
       "       'поселок Старая Малукса', 'садовое товарищество Рахья',\n",
       "       'поселок Аннино', 'поселок Победа', 'деревня Меньково',\n",
       "       'деревня Старые Бегуницы', 'посёлок Сапёрный', 'поселок Семрино',\n",
       "       'поселок Гаврилово', 'поселок Глажево', 'поселок Кобринское',\n",
       "       'деревня Гарболово', 'деревня Юкки',\n",
       "       'поселок станции Приветнинское', 'деревня Мануйлово',\n",
       "       'деревня Пчева', 'поселок Поляны', 'поселок Цвылёво',\n",
       "       'поселок Мельниково', 'посёлок Пудость', 'посёлок Усть-Луга',\n",
       "       'Светогорск', 'поселок Селезнёво',\n",
       "       'поселок городского типа Рябово', 'Каменногорск', 'деревня Кривко',\n",
       "       'поселок Глебычево', 'деревня Парицы', 'поселок Жилпосёлок',\n",
       "       'посёлок городского типа Мга', 'городской поселок Янино-1',\n",
       "       'посёлок Войскорово', 'село Никольское', 'посёлок Терволово',\n",
       "       'поселок Стеклянный', 'посёлок городского типа Важины',\n",
       "       'посёлок Мыза-Ивановка', 'село Русско-Высоцкое',\n",
       "       'поселок городского типа Лебяжье',\n",
       "       'поселок городского типа Форносово', 'село Старая Ладога',\n",
       "       'поселок Житково', 'городской посёлок Виллози', 'деревня Лампово',\n",
       "       'деревня Шпаньково', 'деревня Лаврики', 'посёлок Сумино',\n",
       "       'посёлок Возрождение', 'деревня Старосиверская',\n",
       "       'посёлок Кикерино', 'поселок Возрождение',\n",
       "       'деревня Старое Хинколово', 'посёлок Пригородный',\n",
       "       'посёлок Торфяное', 'Любань', 'городской посёлок Будогощь',\n",
       "       'поселок Суходолье', 'поселок Красная Долина', 'деревня Хапо-Ое',\n",
       "       'поселок городского типа Дружная Горка', 'поселок Лисий Нос',\n",
       "       'деревня Яльгелево', 'посёлок Стеклянный', 'село Рождествено',\n",
       "       'деревня Старополье', 'посёлок Левашово', 'деревня Сяськелево',\n",
       "       'деревня Камышовка',\n",
       "       'садоводческое некоммерческое товарищество Лесная Поляна',\n",
       "       'деревня Хязельки', 'поселок Жилгородок',\n",
       "       'посёлок городского типа Павлово', 'деревня Ялгино',\n",
       "       'поселок Новый Учхоз', 'городской посёлок Рощино',\n",
       "       'поселок Гончарово', 'поселок Почап', 'посёлок Сапёрное',\n",
       "       'посёлок Платформа 69-й километр', 'поселок Каложицы',\n",
       "       'деревня Фалилеево', 'деревня Пельгора',\n",
       "       'поселок городского типа Лесогорский', 'деревня Торошковичи',\n",
       "       'посёлок Белоостров', 'посёлок Алексеевка', 'поселок Серебрянский',\n",
       "       'поселок Лукаши', 'поселок Петровское', 'деревня Щеглово',\n",
       "       'поселок Мичуринское', 'деревня Тарасово', 'поселок Кингисеппский',\n",
       "       'посёлок при железнодорожной станции Вещево', 'поселок Ушаки',\n",
       "       'деревня Котлы', 'деревня Сижно', 'деревня Торосово',\n",
       "       'посёлок Форт Красная Горка', 'поселок городского типа Токсово',\n",
       "       'деревня Новолисино', 'посёлок станции Громово', 'деревня Глинка',\n",
       "       'посёлок Мельниково', 'поселок городского типа Назия',\n",
       "       'деревня Старая Пустошь', 'поселок Коммунары', 'поселок Починок',\n",
       "       'посёлок городского типа Вознесенье', 'деревня Разбегаево',\n",
       "       'посёлок городского типа Рябово', 'поселок Гладкое',\n",
       "       'посёлок при железнодорожной станции Приветнинское',\n",
       "       'поселок Тёсово-4', 'посёлок Жилгородок', 'деревня Бор',\n",
       "       'посёлок Коробицыно', 'деревня Большая Вруда', 'деревня Курковицы',\n",
       "       'посёлок Лисий Нос', 'городской посёлок Советский',\n",
       "       'посёлок Кобралово', 'деревня Суоранда', 'поселок Кобралово',\n",
       "       'поселок городского типа Кондратьево',\n",
       "       'коттеджный поселок Счастье', 'поселок Любань', 'деревня Реброво',\n",
       "       'деревня Зимитицы', 'деревня Тойворово', 'поселок Семиозерье',\n",
       "       'поселок Лесное', 'поселок Совхозный', 'поселок Усть-Луга',\n",
       "       'посёлок Ленинское', 'посёлок Суйда',\n",
       "       'посёлок городского типа Форносово', 'деревня Нижние Осельки',\n",
       "       'посёлок станции Свирь', 'поселок Перово', 'Высоцк',\n",
       "       'поселок Гарболово', 'село Шум', 'поселок Котельский',\n",
       "       'поселок станции Лужайка', 'деревня Большая Пустомержа',\n",
       "       'поселок Красносельское', 'деревня Вахнова Кара', 'деревня Пижма',\n",
       "       'коттеджный поселок Кивеннапа Север', 'поселок Коробицыно',\n",
       "       'поселок Ромашки', 'посёлок Перово', 'деревня Каськово',\n",
       "       'деревня Куровицы', 'посёлок Плоское', 'поселок Сумино',\n",
       "       'поселок городского типа Большая Ижора', 'поселок Кирпичное',\n",
       "       'деревня Ям-Тесово', 'деревня Раздолье', 'деревня Терпилицы',\n",
       "       'посёлок Шугозеро', 'деревня Ваганово', 'поселок Пушное',\n",
       "       'садовое товарищество Садко', 'посёлок Усть-Ижора',\n",
       "       'деревня Выскатка', 'городской посёлок Свирьстрой',\n",
       "       'поселок Громово', 'деревня Кисельня', 'посёлок Старая Малукса',\n",
       "       'деревня Трубников Бор', 'поселок Калитино',\n",
       "       'посёлок Высокоключевой', 'садовое товарищество Приладожский',\n",
       "       'посёлок Пансионат Зелёный Бор', 'деревня Ненимяки',\n",
       "       'поселок Пансионат Зелёный Бор', 'деревня Снегирёвка',\n",
       "       'деревня Рапполово', 'деревня Пустынка', 'поселок Рабитицы',\n",
       "       'деревня Большой Сабск', 'деревня Русско', 'деревня Лупполово',\n",
       "       'деревня Большое Рейзино', 'деревня Малая Романовка',\n",
       "       'поселок Дружноселье', 'поселок Пчевжа', 'поселок Володарское',\n",
       "       'деревня Нижняя', 'коттеджный посёлок Лесное', 'деревня Тихковицы',\n",
       "       'деревня Борисова Грива', 'посёлок Дзержинского'], dtype=object)"
      ]
     },
     "execution_count": 29,
     "metadata": {},
     "output_type": "execute_result"
    }
   ],
   "source": [
    "# Выведем уникальные названия населенных пунктов.\n",
    "data['locality_name'].unique()"
   ]
  },
  {
   "cell_type": "code",
   "execution_count": 30,
   "metadata": {},
   "outputs": [],
   "source": [
    "# Удаляем дубликаты\n",
    "data['locality_name'] = data['locality_name'].str.replace('ё', 'е')\n",
    "data['locality_name'] = data['locality_name'].replace('Мурино', 'поселок Мурино')\n",
    "data['locality_name'] = data['locality_name'].replace('поселок Рябово', 'поселок городского типа Рябово')"
   ]
  },
  {
   "cell_type": "code",
   "execution_count": 31,
   "metadata": {},
   "outputs": [],
   "source": [
    "# Создадим функцию для корректировки названий населенных пунктов\n",
    "\n",
    "def get_city_name(city_full_name):\n",
    "    pattern = r'[А-Я]{1}[А-Яа-я0-9 -]+'\n",
    "    city = re.search(pattern=pattern, string=city_full_name)\n",
    "    return city.group(0)\n",
    "\n",
    "data['locality_name'] = data['locality_name'].apply(get_city_name)"
   ]
  },
  {
   "cell_type": "markdown",
   "metadata": {
    "id": "QCcvyY6YAwb-"
   },
   "source": [
    "### Добавьте в таблицу новые столбцы"
   ]
  },
  {
   "cell_type": "code",
   "execution_count": 32,
   "metadata": {},
   "outputs": [],
   "source": [
    "# Добавим столбец - цена одного квадратного метра\n",
    "data['one_squere_meter_price'] = (data['last_price'] / data['total_area']).round(2)\n",
    "\n",
    "# Добавим столбец - день недели публикации объявления\n",
    "data['first_day_exposition_weekday'] = pd.DatetimeIndex(data['first_day_exposition']).weekday\n",
    "\n",
    "# Добавим столбец - месяц публикации объявления\n",
    "data['first_day_exposition_month'] = pd.DatetimeIndex(data['first_day_exposition']).month \n",
    "\n",
    "# Добавим столбец - год публикации объявления\n",
    "data['first_day_exposition_year'] = pd.DatetimeIndex(data['first_day_exposition']).year \n",
    "\n",
    "# Добавим столбец - расстояние до центра города в километрах\n",
    "data['city_centers_nearest_km'] = (data['city_centers_nearest']/1000).round()"
   ]
  },
  {
   "cell_type": "code",
   "execution_count": 33,
   "metadata": {},
   "outputs": [],
   "source": [
    "# Добавим столбец - тип этажа квартиры (значения — «первый», «последний», «другой»)\n",
    "def get_floor_category(row):\n",
    "    floor = row['floor']\n",
    "    total_floor = row['floors_total']\n",
    "    try:\n",
    "        if floor == 1:\n",
    "            return 'первый'\n",
    "        elif floor == total_floor:\n",
    "            return 'последний'\n",
    "        else:\n",
    "            return 'другой'\n",
    "    except Exception as e:\n",
    "        print(e)\n",
    "\n",
    "data['floor_category'] = data.apply(get_floor_category, axis=1) "
   ]
  },
  {
   "cell_type": "markdown",
   "metadata": {
    "id": "pPyxrKWTAwb-"
   },
   "source": [
    "### Проведите исследовательский анализ данных"
   ]
  },
  {
   "cell_type": "markdown",
   "metadata": {},
   "source": [
    "**Общая площадь**"
   ]
  },
  {
   "cell_type": "code",
   "execution_count": 34,
   "metadata": {
    "id": "V2f0D3kLAwb-"
   },
   "outputs": [
    {
     "data": {
      "text/plain": [
       "count    23582.000000\n",
       "mean        60.361185\n",
       "std         35.694811\n",
       "min         12.000000\n",
       "25%         40.000000\n",
       "50%         52.000000\n",
       "75%         69.800000\n",
       "max        900.000000\n",
       "Name: total_area, dtype: float64"
      ]
     },
     "execution_count": 34,
     "metadata": {},
     "output_type": "execute_result"
    }
   ],
   "source": [
    "data['total_area'].describe()"
   ]
  },
  {
   "cell_type": "code",
   "execution_count": 35,
   "metadata": {},
   "outputs": [
    {
     "data": {
      "image/png": "[encoded data removed]",
      "text/plain": [
       "<Figure size 640x480 with 1 Axes>"
      ]
     },
     "metadata": {},
     "output_type": "display_data"
    }
   ],
   "source": [
    "data.hist('total_area', bins = 100, range = (0, 300));"
   ]
  },
  {
   "cell_type": "code",
   "execution_count": 36,
   "metadata": {},
   "outputs": [
    {
     "data": {
      "image/png": "[encoded data removed]",
      "text/plain": [
       "<Figure size 640x480 with 1 Axes>"
      ]
     },
     "metadata": {},
     "output_type": "display_data"
    }
   ],
   "source": [
    "data.boxplot('total_area')\n",
    "plt.ylim(10, 500);"
   ]
  },
  {
   "cell_type": "code",
   "execution_count": 37,
   "metadata": {},
   "outputs": [
    {
     "data": {
      "application/vnd.microsoft.datawrangler.viewer.v0+json": {
       "columns": [
        {
         "name": "index",
         "rawType": "int64",
         "type": "integer"
        },
        {
         "name": "locality_name",
         "rawType": "object",
         "type": "string"
        },
        {
         "name": "last_price",
         "rawType": "float64",
         "type": "float"
        },
        {
         "name": "total_area",
         "rawType": "float64",
         "type": "float"
        }
       ],
       "conversionMethod": "pd.DataFrame",
       "ref": "8acfd2df-31d9-4fcf-868b-0aa9930a8b92",
       "rows": [
        [
         "19505",
         "Санкт-Петербург",
         "420000000.0",
         "900.0"
        ],
        [
         "12840",
         "Санкт-Петербург",
         "140000000.0",
         "631.2"
        ],
        [
         "3113",
         "Санкт-Петербург",
         "140000000.0",
         "631.0"
        ],
        [
         "15626",
         "Санкт-Петербург",
         "300000000.0",
         "618.0"
        ],
        [
         "5349",
         "Санкт-Петербург",
         "65000000.0",
         "590.0"
        ],
        [
         "4230",
         "Санкт-Петербург",
         "50000000.0",
         "517.0"
        ],
        [
         "8004",
         "Санкт-Петербург",
         "84000000.0",
         "507.0"
        ],
        [
         "14991",
         "Санкт-Петербург",
         "150000000.0",
         "500.0"
        ],
        [
         "5883",
         "Санкт-Петербург",
         "230000000.0",
         "500.0"
        ],
        [
         "12382",
         "Санкт-Петербург",
         "91500000.0",
         "495.0"
        ]
       ],
       "shape": {
        "columns": 3,
        "rows": 10
       }
      },
      "text/html": [
       "<div>\n",
       "<style scoped>\n",
       "    .dataframe tbody tr th:only-of-type {\n",
       "        vertical-align: middle;\n",
       "    }\n",
       "\n",
       "    .dataframe tbody tr th {\n",
       "        vertical-align: top;\n",
       "    }\n",
       "\n",
       "    .dataframe thead th {\n",
       "        text-align: right;\n",
       "    }\n",
       "</style>\n",
       "<table border=\"1\" class=\"dataframe\">\n",
       "  <thead>\n",
       "    <tr style=\"text-align: right;\">\n",
       "      <th></th>\n",
       "      <th>locality_name</th>\n",
       "      <th>last_price</th>\n",
       "      <th>total_area</th>\n",
       "    </tr>\n",
       "  </thead>\n",
       "  <tbody>\n",
       "    <tr>\n",
       "      <th>19505</th>\n",
       "      <td>Санкт-Петербург</td>\n",
       "      <td>420000000.0</td>\n",
       "      <td>900.0</td>\n",
       "    </tr>\n",
       "    <tr>\n",
       "      <th>12840</th>\n",
       "      <td>Санкт-Петербург</td>\n",
       "      <td>140000000.0</td>\n",
       "      <td>631.2</td>\n",
       "    </tr>\n",
       "    <tr>\n",
       "      <th>3113</th>\n",
       "      <td>Санкт-Петербург</td>\n",
       "      <td>140000000.0</td>\n",
       "      <td>631.0</td>\n",
       "    </tr>\n",
       "    <tr>\n",
       "      <th>15626</th>\n",
       "      <td>Санкт-Петербург</td>\n",
       "      <td>300000000.0</td>\n",
       "      <td>618.0</td>\n",
       "    </tr>\n",
       "    <tr>\n",
       "      <th>5349</th>\n",
       "      <td>Санкт-Петербург</td>\n",
       "      <td>65000000.0</td>\n",
       "      <td>590.0</td>\n",
       "    </tr>\n",
       "    <tr>\n",
       "      <th>4230</th>\n",
       "      <td>Санкт-Петербург</td>\n",
       "      <td>50000000.0</td>\n",
       "      <td>517.0</td>\n",
       "    </tr>\n",
       "    <tr>\n",
       "      <th>8004</th>\n",
       "      <td>Санкт-Петербург</td>\n",
       "      <td>84000000.0</td>\n",
       "      <td>507.0</td>\n",
       "    </tr>\n",
       "    <tr>\n",
       "      <th>14991</th>\n",
       "      <td>Санкт-Петербург</td>\n",
       "      <td>150000000.0</td>\n",
       "      <td>500.0</td>\n",
       "    </tr>\n",
       "    <tr>\n",
       "      <th>5883</th>\n",
       "      <td>Санкт-Петербург</td>\n",
       "      <td>230000000.0</td>\n",
       "      <td>500.0</td>\n",
       "    </tr>\n",
       "    <tr>\n",
       "      <th>12382</th>\n",
       "      <td>Санкт-Петербург</td>\n",
       "      <td>91500000.0</td>\n",
       "      <td>495.0</td>\n",
       "    </tr>\n",
       "  </tbody>\n",
       "</table>\n",
       "</div>"
      ],
      "text/plain": [
       "         locality_name   last_price  total_area\n",
       "19505  Санкт-Петербург  420000000.0       900.0\n",
       "12840  Санкт-Петербург  140000000.0       631.2\n",
       "3113   Санкт-Петербург  140000000.0       631.0\n",
       "15626  Санкт-Петербург  300000000.0       618.0\n",
       "5349   Санкт-Петербург   65000000.0       590.0\n",
       "4230   Санкт-Петербург   50000000.0       517.0\n",
       "8004   Санкт-Петербург   84000000.0       507.0\n",
       "14991  Санкт-Петербург  150000000.0       500.0\n",
       "5883   Санкт-Петербург  230000000.0       500.0\n",
       "12382  Санкт-Петербург   91500000.0       495.0"
      ]
     },
     "execution_count": 37,
     "metadata": {},
     "output_type": "execute_result"
    }
   ],
   "source": [
    "data[data['total_area'] > 300][['locality_name', 'last_price', 'total_area']].sort_values(by='total_area', ascending=False).head(10)"
   ]
  },
  {
   "cell_type": "code",
   "execution_count": 38,
   "metadata": {},
   "outputs": [],
   "source": [
    "data = data.query('total_area < 300')"
   ]
  },
  {
   "cell_type": "markdown",
   "metadata": {},
   "source": [
    "Мы получили ожидаемое распределение.\n",
    "\n",
    "Отсутствуют объекты с площадью ниже 0. \n",
    "\n",
    "Наиболее часто встречаются площади в диапазоне от 50 до 70 кв.м. \n",
    "\n",
    "Оставим в выборке только те строки, в которых площадь не превышает 300 кв.м."
   ]
  },
  {
   "cell_type": "markdown",
   "metadata": {},
   "source": [
    "**Жилая площадь**"
   ]
  },
  {
   "cell_type": "code",
   "execution_count": 39,
   "metadata": {},
   "outputs": [
    {
     "data": {
      "text/plain": [
       "count    23519.000000\n",
       "mean        34.258790\n",
       "std         20.143696\n",
       "min          2.000000\n",
       "25%         18.500000\n",
       "50%         30.300000\n",
       "75%         42.900000\n",
       "max        250.000000\n",
       "Name: living_area, dtype: float64"
      ]
     },
     "execution_count": 39,
     "metadata": {},
     "output_type": "execute_result"
    }
   ],
   "source": [
    "data['living_area'].describe()"
   ]
  },
  {
   "cell_type": "code",
   "execution_count": 40,
   "metadata": {},
   "outputs": [
    {
     "data": {
      "image/png": "[encoded data removed]",
      "text/plain": [
       "<Figure size 640x480 with 1 Axes>"
      ]
     },
     "metadata": {},
     "output_type": "display_data"
    }
   ],
   "source": [
    "data['living_area'].hist(bins=50, range=(0, 200));"
   ]
  },
  {
   "cell_type": "code",
   "execution_count": 41,
   "metadata": {},
   "outputs": [
    {
     "data": {
      "image/png": "[encoded data removed]",
      "text/plain": [
       "<Figure size 640x480 with 1 Axes>"
      ]
     },
     "metadata": {},
     "output_type": "display_data"
    }
   ],
   "source": [
    "data.boxplot('living_area')\n",
    "plt.ylim(10, 200);"
   ]
  },
  {
   "cell_type": "code",
   "execution_count": 42,
   "metadata": {},
   "outputs": [
    {
     "data": {
      "application/vnd.microsoft.datawrangler.viewer.v0+json": {
       "columns": [
        {
         "name": "index",
         "rawType": "int64",
         "type": "integer"
        },
        {
         "name": "living_area",
         "rawType": "float64",
         "type": "float"
        },
        {
         "name": "rooms",
         "rawType": "int64",
         "type": "integer"
        },
        {
         "name": "is_apartment",
         "rawType": "bool",
         "type": "boolean"
        },
        {
         "name": "open_plan",
         "rawType": "bool",
         "type": "boolean"
        }
       ],
       "conversionMethod": "pd.DataFrame",
       "ref": "09b21809-328b-4e3f-995b-8043243b2bdf",
       "rows": [
        [
         "21714",
         "2.0",
         "0",
         "False",
         "False"
        ],
        [
         "13892",
         "2.0",
         "2",
         "False",
         "False"
        ],
        [
         "23525",
         "3.0",
         "3",
         "False",
         "False"
        ],
        [
         "3238",
         "3.0",
         "1",
         "False",
         "False"
        ],
        [
         "17551",
         "5.0",
         "0",
         "False",
         "False"
        ],
        [
         "21898",
         "5.4",
         "4",
         "False",
         "False"
        ],
        [
         "16404",
         "6.0",
         "1",
         "False",
         "False"
        ],
        [
         "19216",
         "6.5",
         "1",
         "False",
         "False"
        ],
        [
         "23160",
         "8.0",
         "1",
         "False",
         "False"
        ],
        [
         "20954",
         "8.0",
         "2",
         "False",
         "False"
        ]
       ],
       "shape": {
        "columns": 4,
        "rows": 10
       }
      },
      "text/html": [
       "<div>\n",
       "<style scoped>\n",
       "    .dataframe tbody tr th:only-of-type {\n",
       "        vertical-align: middle;\n",
       "    }\n",
       "\n",
       "    .dataframe tbody tr th {\n",
       "        vertical-align: top;\n",
       "    }\n",
       "\n",
       "    .dataframe thead th {\n",
       "        text-align: right;\n",
       "    }\n",
       "</style>\n",
       "<table border=\"1\" class=\"dataframe\">\n",
       "  <thead>\n",
       "    <tr style=\"text-align: right;\">\n",
       "      <th></th>\n",
       "      <th>living_area</th>\n",
       "      <th>rooms</th>\n",
       "      <th>is_apartment</th>\n",
       "      <th>open_plan</th>\n",
       "    </tr>\n",
       "  </thead>\n",
       "  <tbody>\n",
       "    <tr>\n",
       "      <th>21714</th>\n",
       "      <td>2.0</td>\n",
       "      <td>0</td>\n",
       "      <td>False</td>\n",
       "      <td>False</td>\n",
       "    </tr>\n",
       "    <tr>\n",
       "      <th>13892</th>\n",
       "      <td>2.0</td>\n",
       "      <td>2</td>\n",
       "      <td>False</td>\n",
       "      <td>False</td>\n",
       "    </tr>\n",
       "    <tr>\n",
       "      <th>23525</th>\n",
       "      <td>3.0</td>\n",
       "      <td>3</td>\n",
       "      <td>False</td>\n",
       "      <td>False</td>\n",
       "    </tr>\n",
       "    <tr>\n",
       "      <th>3238</th>\n",
       "      <td>3.0</td>\n",
       "      <td>1</td>\n",
       "      <td>False</td>\n",
       "      <td>False</td>\n",
       "    </tr>\n",
       "    <tr>\n",
       "      <th>17551</th>\n",
       "      <td>5.0</td>\n",
       "      <td>0</td>\n",
       "      <td>False</td>\n",
       "      <td>False</td>\n",
       "    </tr>\n",
       "    <tr>\n",
       "      <th>21898</th>\n",
       "      <td>5.4</td>\n",
       "      <td>4</td>\n",
       "      <td>False</td>\n",
       "      <td>False</td>\n",
       "    </tr>\n",
       "    <tr>\n",
       "      <th>16404</th>\n",
       "      <td>6.0</td>\n",
       "      <td>1</td>\n",
       "      <td>False</td>\n",
       "      <td>False</td>\n",
       "    </tr>\n",
       "    <tr>\n",
       "      <th>19216</th>\n",
       "      <td>6.5</td>\n",
       "      <td>1</td>\n",
       "      <td>False</td>\n",
       "      <td>False</td>\n",
       "    </tr>\n",
       "    <tr>\n",
       "      <th>23160</th>\n",
       "      <td>8.0</td>\n",
       "      <td>1</td>\n",
       "      <td>False</td>\n",
       "      <td>False</td>\n",
       "    </tr>\n",
       "    <tr>\n",
       "      <th>20954</th>\n",
       "      <td>8.0</td>\n",
       "      <td>2</td>\n",
       "      <td>False</td>\n",
       "      <td>False</td>\n",
       "    </tr>\n",
       "  </tbody>\n",
       "</table>\n",
       "</div>"
      ],
      "text/plain": [
       "       living_area  rooms  is_apartment  open_plan\n",
       "21714          2.0      0         False      False\n",
       "13892          2.0      2         False      False\n",
       "23525          3.0      3         False      False\n",
       "3238           3.0      1         False      False\n",
       "17551          5.0      0         False      False\n",
       "21898          5.4      4         False      False\n",
       "16404          6.0      1         False      False\n",
       "19216          6.5      1         False      False\n",
       "23160          8.0      1         False      False\n",
       "20954          8.0      2         False      False"
      ]
     },
     "execution_count": 42,
     "metadata": {},
     "output_type": "execute_result"
    }
   ],
   "source": [
    "data.sort_values('living_area')[['living_area', 'rooms', 'is_apartment', 'open_plan']].head(10)"
   ]
  },
  {
   "cell_type": "code",
   "execution_count": 43,
   "metadata": {},
   "outputs": [],
   "source": [
    "data = data.query('living_area > 9')"
   ]
  },
  {
   "cell_type": "markdown",
   "metadata": {},
   "source": [
    "Не похоже на нормальное распределение. \n",
    "\n",
    "Есть провал по частоте между практически минимальной площадью и средней. \n",
    "\n",
    "Можно увидеть, что в выборке есть значения жилой площади менее 9 кв.м (что противоречит нормам). Исключим площади меньше 9 кв.м. "
   ]
  },
  {
   "cell_type": "markdown",
   "metadata": {},
   "source": [
    "**Площадь кухни**"
   ]
  },
  {
   "cell_type": "code",
   "execution_count": 44,
   "metadata": {},
   "outputs": [
    {
     "data": {
      "text/plain": [
       "count    22045.000000\n",
       "mean        10.752652\n",
       "std          6.253931\n",
       "min          0.000000\n",
       "25%          7.000000\n",
       "50%          9.200000\n",
       "75%         12.000000\n",
       "max        120.000000\n",
       "Name: kitchen_area, dtype: float64"
      ]
     },
     "execution_count": 44,
     "metadata": {},
     "output_type": "execute_result"
    }
   ],
   "source": [
    "data['kitchen_area'].describe()"
   ]
  },
  {
   "cell_type": "code",
   "execution_count": 45,
   "metadata": {},
   "outputs": [
    {
     "data": {
      "image/png": "[encoded data removed]",
      "text/plain": [
       "<Figure size 640x480 with 1 Axes>"
      ]
     },
     "metadata": {},
     "output_type": "display_data"
    }
   ],
   "source": [
    "data['kitchen_area'].hist(bins=50, range=(0, 120));"
   ]
  },
  {
   "cell_type": "code",
   "execution_count": 46,
   "metadata": {},
   "outputs": [
    {
     "data": {
      "image/png": "[encoded data removed]",
      "text/plain": [
       "<Figure size 640x480 with 1 Axes>"
      ]
     },
     "metadata": {},
     "output_type": "display_data"
    }
   ],
   "source": [
    "data.boxplot('kitchen_area')\n",
    "plt.ylim(0, 100);"
   ]
  },
  {
   "cell_type": "code",
   "execution_count": 47,
   "metadata": {},
   "outputs": [],
   "source": [
    "data = data.query('kitchen_area < 60')"
   ]
  },
  {
   "cell_type": "markdown",
   "metadata": {},
   "source": [
    "Похоже на ожидаемое распределение. \n",
    "\n",
    "Больше всего объектов с кухнями около 10 кв.м. \n",
    "\n",
    "Но где-то встречаются и кухни площадью больше 40 кв.м. \n",
    "\n",
    "Объекты с площадью кухни больше 60 кв.м исключим из рассмотрения."
   ]
  },
  {
   "cell_type": "markdown",
   "metadata": {},
   "source": [
    "**Цена объекта**"
   ]
  },
  {
   "cell_type": "code",
   "execution_count": 48,
   "metadata": {},
   "outputs": [
    {
     "data": {
      "text/plain": [
       "count    2.201300e+04\n",
       "mean     6.255497e+06\n",
       "std      7.527737e+06\n",
       "min      1.219000e+04\n",
       "25%      3.450000e+06\n",
       "50%      4.650000e+06\n",
       "75%      6.750000e+06\n",
       "max      3.300000e+08\n",
       "Name: last_price, dtype: float64"
      ]
     },
     "execution_count": 48,
     "metadata": {},
     "output_type": "execute_result"
    }
   ],
   "source": [
    "data['last_price'].describe()"
   ]
  },
  {
   "cell_type": "code",
   "execution_count": 49,
   "metadata": {},
   "outputs": [
    {
     "data": {
      "image/png": "[encoded data removed]",
      "text/plain": [
       "<Figure size 640x480 with 1 Axes>"
      ]
     },
     "metadata": {},
     "output_type": "display_data"
    }
   ],
   "source": [
    "data['last_price'].hist(bins=100, range=(0, 50000000));"
   ]
  },
  {
   "cell_type": "code",
   "execution_count": 50,
   "metadata": {},
   "outputs": [
    {
     "data": {
      "image/png": "[encoded data removed]",
      "text/plain": [
       "<Figure size 640x480 with 1 Axes>"
      ]
     },
     "metadata": {},
     "output_type": "display_data"
    }
   ],
   "source": [
    "data.boxplot('last_price')\n",
    "plt.ylim(1000000, 100000000);"
   ]
  },
  {
   "cell_type": "code",
   "execution_count": 51,
   "metadata": {},
   "outputs": [],
   "source": [
    "data = data.query('last_price < 100000000')"
   ]
  },
  {
   "cell_type": "markdown",
   "metadata": {},
   "source": [
    "На графике видно, что больше всего объектов стоят около 5 млн.руб. \n",
    "\n",
    "Объекты стоимостью выше 100 000 000 исключим из выборки."
   ]
  },
  {
   "cell_type": "markdown",
   "metadata": {},
   "source": [
    "**Количество комнат**\n"
   ]
  },
  {
   "cell_type": "code",
   "execution_count": 52,
   "metadata": {},
   "outputs": [
    {
     "data": {
      "text/plain": [
       "count    21995.000000\n",
       "mean         2.057604\n",
       "std          1.040291\n",
       "min          0.000000\n",
       "25%          1.000000\n",
       "50%          2.000000\n",
       "75%          3.000000\n",
       "max         16.000000\n",
       "Name: rooms, dtype: float64"
      ]
     },
     "execution_count": 52,
     "metadata": {},
     "output_type": "execute_result"
    }
   ],
   "source": [
    "data['rooms'].describe()"
   ]
  },
  {
   "cell_type": "code",
   "execution_count": 53,
   "metadata": {},
   "outputs": [
    {
     "data": {
      "image/png": "[encoded data removed]",
      "text/plain": [
       "<Figure size 640x480 with 1 Axes>"
      ]
     },
     "metadata": {},
     "output_type": "display_data"
    }
   ],
   "source": [
    "data['rooms'].hist(bins=100, range=(0, 30));"
   ]
  },
  {
   "cell_type": "code",
   "execution_count": 54,
   "metadata": {},
   "outputs": [
    {
     "data": {
      "image/png": "[encoded data removed]",
      "text/plain": [
       "<Figure size 640x480 with 1 Axes>"
      ]
     },
     "metadata": {},
     "output_type": "display_data"
    }
   ],
   "source": [
    "data.boxplot('rooms')\n",
    "plt.ylim(0, 15);"
   ]
  },
  {
   "cell_type": "code",
   "execution_count": 55,
   "metadata": {},
   "outputs": [
    {
     "name": "stdout",
     "output_type": "stream",
     "text": [
      "rooms\n",
      "0      181\n",
      "1     7468\n",
      "2     7413\n",
      "3     5429\n",
      "4     1086\n",
      "5      277\n",
      "6       85\n",
      "7       40\n",
      "8        6\n",
      "9        3\n",
      "10       3\n",
      "11       2\n",
      "14       1\n",
      "16       1\n",
      "Name: rooms, dtype: int64\n"
     ]
    }
   ],
   "source": [
    "print(data.groupby('rooms')['rooms'].count())\n",
    "data = data.query('(rooms == 0 and open_plan == True) or (rooms > 0 and rooms < 10)')"
   ]
  },
  {
   "cell_type": "markdown",
   "metadata": {},
   "source": [
    "Наиболее популярны одно- и двухкомнатные квартиры. \n",
    "\n",
    "С увеличением количества комнат количество объектов падает.\n",
    "\n",
    "Выявили объекты, в которых количество комнат равно 0. Уберем эти квартиры из выборки, если это не открытая планировка.\n",
    "Также исключим объекты с количеством комнат более 10. "
   ]
  },
  {
   "cell_type": "markdown",
   "metadata": {},
   "source": [
    "**Высота потолков**"
   ]
  },
  {
   "cell_type": "code",
   "execution_count": 56,
   "metadata": {},
   "outputs": [
    {
     "data": {
      "text/plain": [
       "count    21862.000000\n",
       "mean         2.722791\n",
       "std          0.998350\n",
       "min          1.000000\n",
       "25%          2.600000\n",
       "50%          2.650000\n",
       "75%          2.700000\n",
       "max        100.000000\n",
       "Name: ceiling_height, dtype: float64"
      ]
     },
     "execution_count": 56,
     "metadata": {},
     "output_type": "execute_result"
    }
   ],
   "source": [
    "data['ceiling_height'].describe()"
   ]
  },
  {
   "cell_type": "code",
   "execution_count": 57,
   "metadata": {},
   "outputs": [
    {
     "data": {
      "image/png": "[encoded data removed]",
      "text/plain": [
       "<Figure size 640x480 with 1 Axes>"
      ]
     },
     "metadata": {},
     "output_type": "display_data"
    }
   ],
   "source": [
    "data['ceiling_height'].hist(bins=100, range=(0, 30));"
   ]
  },
  {
   "cell_type": "code",
   "execution_count": 58,
   "metadata": {},
   "outputs": [
    {
     "data": {
      "image/png": "[encoded data removed]",
      "text/plain": [
       "<Figure size 640x480 with 1 Axes>"
      ]
     },
     "metadata": {},
     "output_type": "display_data"
    }
   ],
   "source": [
    "data.boxplot('ceiling_height')\n",
    "plt.ylim(0, 5);"
   ]
  },
  {
   "cell_type": "code",
   "execution_count": 59,
   "metadata": {},
   "outputs": [],
   "source": [
    "data['ceiling_height'].value_counts()\n",
    "data = data.query('ceiling_height > 2 and ceiling_height < 8')"
   ]
  },
  {
   "cell_type": "markdown",
   "metadata": {},
   "source": [
    "Больше всего объектов с высотой ~2.65 метров. \n",
    "\n",
    "С увеличением высотки потолков количество объектов уменьшается. \n",
    "\n",
    "Для некоторых объектов высота потолков указана значительно больше, чем медианная. Высота потолков ниже 2 метров и выше 8 кажется некорректной (даже, если при вводе данных были допущены опечатки (225 метров вместо 2,25 или т.п.), их количество не велико). Уберем их из выборки."
   ]
  },
  {
   "cell_type": "markdown",
   "metadata": {},
   "source": [
    "**Тип этажа квартиры**"
   ]
  },
  {
   "cell_type": "code",
   "execution_count": 60,
   "metadata": {},
   "outputs": [
    {
     "data": {
      "text/plain": [
       "count      21823\n",
       "unique         3\n",
       "top       другой\n",
       "freq       16084\n",
       "Name: floor_category, dtype: object"
      ]
     },
     "execution_count": 60,
     "metadata": {},
     "output_type": "execute_result"
    }
   ],
   "source": [
    "data['floor_category'].describe()"
   ]
  },
  {
   "cell_type": "code",
   "execution_count": 61,
   "metadata": {},
   "outputs": [
    {
     "data": {
      "image/png": "[encoded data removed]",
      "text/plain": [
       "<Figure size 640x480 with 1 Axes>"
      ]
     },
     "metadata": {},
     "output_type": "display_data"
    }
   ],
   "source": [
    "data['floor_category'].hist(bins=100, range=(0, 5));"
   ]
  },
  {
   "cell_type": "markdown",
   "metadata": {},
   "source": [
    "Меньше всего продается объектов на первом и последнем этажах, что логично, т.к. \"других\" этажей в совокупности больше в домах. "
   ]
  },
  {
   "cell_type": "markdown",
   "metadata": {},
   "source": [
    "**Общее количество этажей в доме**"
   ]
  },
  {
   "cell_type": "code",
   "execution_count": 62,
   "metadata": {},
   "outputs": [
    {
     "data": {
      "text/plain": [
       "count    21823.000000\n",
       "mean        10.658388\n",
       "std          6.557642\n",
       "min          1.000000\n",
       "25%          5.000000\n",
       "50%          9.000000\n",
       "75%         16.000000\n",
       "max         60.000000\n",
       "Name: floors_total, dtype: float64"
      ]
     },
     "execution_count": 62,
     "metadata": {},
     "output_type": "execute_result"
    }
   ],
   "source": [
    "data['floors_total'].describe()"
   ]
  },
  {
   "cell_type": "code",
   "execution_count": 63,
   "metadata": {},
   "outputs": [
    {
     "data": {
      "image/png": "[encoded data removed]",
      "text/plain": [
       "<Figure size 640x480 with 1 Axes>"
      ]
     },
     "metadata": {},
     "output_type": "display_data"
    }
   ],
   "source": [
    "data['floors_total'].hist(bins=50, range=(0, 60));"
   ]
  },
  {
   "cell_type": "markdown",
   "metadata": {},
   "source": [
    "Нет четкого распределения. \n",
    "\n",
    "Есть всплески на уровне 5-ти, 9-ти этажных домов, как наиболее часто встречающихся. "
   ]
  },
  {
   "cell_type": "markdown",
   "metadata": {},
   "source": [
    "**Расстояние до центра города в метрах**\n"
   ]
  },
  {
   "cell_type": "code",
   "execution_count": 64,
   "metadata": {},
   "outputs": [
    {
     "data": {
      "text/plain": [
       "count    16971.000000\n",
       "mean     14314.137912\n",
       "std       8679.165389\n",
       "min        181.000000\n",
       "25%       9422.500000\n",
       "50%      13123.000000\n",
       "75%      16343.500000\n",
       "max      65968.000000\n",
       "Name: city_centers_nearest, dtype: float64"
      ]
     },
     "execution_count": 64,
     "metadata": {},
     "output_type": "execute_result"
    }
   ],
   "source": [
    "data['city_centers_nearest'].describe()"
   ]
  },
  {
   "cell_type": "code",
   "execution_count": 65,
   "metadata": {},
   "outputs": [
    {
     "data": {
      "image/png": "[encoded data removed]",
      "text/plain": [
       "<Figure size 640x480 with 1 Axes>"
      ]
     },
     "metadata": {},
     "output_type": "display_data"
    }
   ],
   "source": [
    "data['city_centers_nearest'].hist(bins=100, range=(0, 65000));"
   ]
  },
  {
   "cell_type": "code",
   "execution_count": 66,
   "metadata": {},
   "outputs": [
    {
     "data": {
      "image/png": "[encoded data removed]",
      "text/plain": [
       "<Figure size 640x480 with 1 Axes>"
      ]
     },
     "metadata": {},
     "output_type": "display_data"
    }
   ],
   "source": [
    "data.boxplot('city_centers_nearest')\n",
    "plt.ylim(150, 60000);"
   ]
  },
  {
   "cell_type": "markdown",
   "metadata": {},
   "source": [
    "Можно заметить несколько пиков (даже на расстоянии 50км), скорее всего распределены так: \n",
    "- первый пик - центр Санкт-Петербурга\n",
    "- второй пик - окраина Санкт-Петебурга и ближайшие пригородные населенные пункты\n",
    "- следующие всплески - населенные пункты Ленинградской области"
   ]
  },
  {
   "cell_type": "markdown",
   "metadata": {},
   "source": [
    "**Расстояние до ближайшего парка**"
   ]
  },
  {
   "cell_type": "code",
   "execution_count": 67,
   "metadata": {},
   "outputs": [
    {
     "data": {
      "text/plain": [
       "count    7475.000000\n",
       "mean      487.898328\n",
       "std       337.475960\n",
       "min         1.000000\n",
       "25%       287.500000\n",
       "50%       451.000000\n",
       "75%       610.000000\n",
       "max      3190.000000\n",
       "Name: parks_nearest, dtype: float64"
      ]
     },
     "execution_count": 67,
     "metadata": {},
     "output_type": "execute_result"
    }
   ],
   "source": [
    "data['parks_nearest'].describe()"
   ]
  },
  {
   "cell_type": "code",
   "execution_count": 68,
   "metadata": {},
   "outputs": [
    {
     "data": {
      "image/png": "[encoded data removed]",
      "text/plain": [
       "<Figure size 640x480 with 1 Axes>"
      ]
     },
     "metadata": {},
     "output_type": "display_data"
    }
   ],
   "source": [
    "data['parks_nearest'].hist(bins=100, range=(0, 3000));"
   ]
  },
  {
   "cell_type": "code",
   "execution_count": 69,
   "metadata": {},
   "outputs": [
    {
     "data": {
      "image/png": "[encoded data removed]",
      "text/plain": [
       "<Figure size 640x480 with 1 Axes>"
      ]
     },
     "metadata": {},
     "output_type": "display_data"
    }
   ],
   "source": [
    "data.boxplot('parks_nearest')\n",
    "plt.ylim(0, 750);"
   ]
  },
  {
   "cell_type": "markdown",
   "metadata": {},
   "source": [
    "Распределение кажется ожидаемым. Очень много объектов, располагаемых рядом с парками. При этом, если парк находится далеко, скорее всего информацию об этом могли не указывать в объявлении (о чем нам говорят пропуски в данных)."
   ]
  },
  {
   "cell_type": "markdown",
   "metadata": {},
   "source": [
    "#### Изучите, как быстро продавались квартиры"
   ]
  },
  {
   "cell_type": "code",
   "execution_count": 70,
   "metadata": {},
   "outputs": [
    {
     "data": {
      "text/plain": [
       "count    18807.000000\n",
       "mean       184.550487\n",
       "std        221.424205\n",
       "min          1.000000\n",
       "25%         44.000000\n",
       "50%        101.000000\n",
       "75%        238.000000\n",
       "max       1580.000000\n",
       "Name: days_exposition, dtype: float64"
      ]
     },
     "execution_count": 70,
     "metadata": {},
     "output_type": "execute_result"
    }
   ],
   "source": [
    "data['days_exposition'].describe()"
   ]
  },
  {
   "cell_type": "code",
   "execution_count": 71,
   "metadata": {},
   "outputs": [
    {
     "data": {
      "image/png": "[encoded data removed]",
      "text/plain": [
       "<Figure size 640x480 with 1 Axes>"
      ]
     },
     "metadata": {},
     "output_type": "display_data"
    }
   ],
   "source": [
    "data['days_exposition'].hist(bins=100, range=(0, 1500));"
   ]
  },
  {
   "cell_type": "markdown",
   "metadata": {},
   "source": [
    "**Вывод**\n",
    "\n",
    "1. В среднем продажа занимает 184 дня. \n",
    "2. Но большинство объектов продаются в течении 101 дня. \n",
    "3. Быстрыми можно считать продажи менее 44 дней. \n",
    "4. Долгими можно считать продажи более 238 дня. "
   ]
  },
  {
   "cell_type": "markdown",
   "metadata": {},
   "source": [
    "#### Определите факторы, которые больше всего влияют на общую (полную) стоимость объекта       "
   ]
  },
  {
   "cell_type": "markdown",
   "metadata": {},
   "source": [
    "**Общая площадь**"
   ]
  },
  {
   "cell_type": "code",
   "execution_count": 72,
   "metadata": {},
   "outputs": [
    {
     "data": {
      "image/png": "[encoded data removed]",
      "text/plain": [
       "<Figure size 300x300 with 1 Axes>"
      ]
     },
     "metadata": {},
     "output_type": "display_data"
    }
   ],
   "source": [
    "data.plot(x='last_price', y='total_area', kind='scatter', alpha=0.1, figsize=(3, 3));"
   ]
  },
  {
   "cell_type": "code",
   "execution_count": 73,
   "metadata": {},
   "outputs": [
    {
     "data": {
      "text/plain": [
       "np.float64(0.7561678134666139)"
      ]
     },
     "execution_count": 73,
     "metadata": {},
     "output_type": "execute_result"
    }
   ],
   "source": [
    "data['last_price'].corr(data['total_area'])"
   ]
  },
  {
   "cell_type": "markdown",
   "metadata": {},
   "source": [
    "Есть зависимость между стоимостью и общей площадью (чем больше площадь, тем выше стоимость)."
   ]
  },
  {
   "cell_type": "markdown",
   "metadata": {},
   "source": [
    "**Жилая площадь**"
   ]
  },
  {
   "cell_type": "code",
   "execution_count": 74,
   "metadata": {},
   "outputs": [
    {
     "data": {
      "image/png": "[encoded data removed]",
      "text/plain": [
       "<Figure size 300x300 with 1 Axes>"
      ]
     },
     "metadata": {},
     "output_type": "display_data"
    }
   ],
   "source": [
    "data.plot(x='last_price', y='living_area', kind='scatter', alpha=0.1, figsize=(3, 3));"
   ]
  },
  {
   "cell_type": "code",
   "execution_count": 75,
   "metadata": {},
   "outputs": [
    {
     "data": {
      "text/plain": [
       "np.float64(0.6615655868760537)"
      ]
     },
     "execution_count": 75,
     "metadata": {},
     "output_type": "execute_result"
    }
   ],
   "source": [
    "data['last_price'].corr(data['living_area'])"
   ]
  },
  {
   "cell_type": "markdown",
   "metadata": {},
   "source": [
    "Есть зависимость цены и жилой площади, но меньше, чем цены и общей площади."
   ]
  },
  {
   "cell_type": "markdown",
   "metadata": {},
   "source": [
    "**Площадь кухни**"
   ]
  },
  {
   "cell_type": "code",
   "execution_count": 76,
   "metadata": {},
   "outputs": [
    {
     "data": {
      "image/png": "[encoded data removed]",
      "text/plain": [
       "<Figure size 300x300 with 1 Axes>"
      ]
     },
     "metadata": {},
     "output_type": "display_data"
    }
   ],
   "source": [
    "data.plot(x='last_price', y='kitchen_area', kind='scatter', alpha=0.1, figsize=(3, 3));"
   ]
  },
  {
   "cell_type": "code",
   "execution_count": 77,
   "metadata": {},
   "outputs": [
    {
     "data": {
      "text/plain": [
       "np.float64(0.5278707891691192)"
      ]
     },
     "execution_count": 77,
     "metadata": {},
     "output_type": "execute_result"
    }
   ],
   "source": [
    "data['last_price'].corr(data['kitchen_area'])"
   ]
  },
  {
   "cell_type": "markdown",
   "metadata": {},
   "source": [
    "Есть зависимость цены и площади кухни (чем больше площадь кухни, тем выше цена), но не большая."
   ]
  },
  {
   "cell_type": "markdown",
   "metadata": {},
   "source": [
    "**Количество комнат**"
   ]
  },
  {
   "cell_type": "code",
   "execution_count": 78,
   "metadata": {},
   "outputs": [
    {
     "data": {
      "image/png": "[encoded data removed]",
      "text/plain": [
       "<Figure size 300x300 with 1 Axes>"
      ]
     },
     "metadata": {},
     "output_type": "display_data"
    }
   ],
   "source": [
    "data.plot(x='last_price', y='rooms', kind='scatter', alpha=0.1, figsize=(3, 3));"
   ]
  },
  {
   "cell_type": "code",
   "execution_count": 79,
   "metadata": {},
   "outputs": [
    {
     "data": {
      "text/plain": [
       "np.float64(0.4692879058510194)"
      ]
     },
     "execution_count": 79,
     "metadata": {},
     "output_type": "execute_result"
    }
   ],
   "source": [
    "data['last_price'].corr(data['rooms'])"
   ]
  },
  {
   "cell_type": "markdown",
   "metadata": {},
   "source": [
    "Зависимость между ценой и количеством комнат есть, но не большая."
   ]
  },
  {
   "cell_type": "markdown",
   "metadata": {},
   "source": [
    "**Тип этажа, на котором расположена квартира**  "
   ]
  },
  {
   "cell_type": "code",
   "execution_count": 80,
   "metadata": {},
   "outputs": [
    {
     "data": {
      "image/png": "[encoded data removed]",
      "text/plain": [
       "<Figure size 300x300 with 1 Axes>"
      ]
     },
     "metadata": {},
     "output_type": "display_data"
    }
   ],
   "source": [
    "data.plot(x='last_price', y='floor_category', kind='scatter', alpha=0.1, figsize=(3, 3));"
   ]
  },
  {
   "cell_type": "markdown",
   "metadata": {},
   "source": [
    "Зависимость между ценой и категорией этажа отсутствует."
   ]
  },
  {
   "cell_type": "markdown",
   "metadata": {},
   "source": [
    "**Дата размещения (день недели, месяц, год)**"
   ]
  },
  {
   "cell_type": "code",
   "execution_count": 81,
   "metadata": {},
   "outputs": [
    {
     "data": {
      "image/png": "[encoded data removed]",
      "text/plain": [
       "<Figure size 300x300 with 1 Axes>"
      ]
     },
     "metadata": {},
     "output_type": "display_data"
    }
   ],
   "source": [
    "data.plot(x='last_price', y='first_day_exposition_weekday', kind='scatter', alpha=0.1, figsize=(3, 3));"
   ]
  },
  {
   "cell_type": "code",
   "execution_count": 82,
   "metadata": {},
   "outputs": [
    {
     "data": {
      "image/png": "[encoded data removed]",
      "text/plain": [
       "<Figure size 300x300 with 1 Axes>"
      ]
     },
     "metadata": {},
     "output_type": "display_data"
    }
   ],
   "source": [
    "data.plot(x='last_price', y='first_day_exposition_month', kind='scatter', alpha=0.1, figsize=(3, 3));"
   ]
  },
  {
   "cell_type": "code",
   "execution_count": 83,
   "metadata": {},
   "outputs": [
    {
     "data": {
      "image/png": "[encoded data removed]",
      "text/plain": [
       "<Figure size 300x300 with 1 Axes>"
      ]
     },
     "metadata": {},
     "output_type": "display_data"
    }
   ],
   "source": [
    "data.plot(x='last_price', y='first_day_exposition_year', kind='scatter', alpha=0.1, figsize=(3, 3));"
   ]
  },
  {
   "cell_type": "code",
   "execution_count": 84,
   "metadata": {},
   "outputs": [
    {
     "data": {
      "text/plain": [
       "np.float64(-0.008346997409021647)"
      ]
     },
     "execution_count": 84,
     "metadata": {},
     "output_type": "execute_result"
    }
   ],
   "source": [
    "data['last_price'].corr(data['first_day_exposition_weekday'])"
   ]
  },
  {
   "cell_type": "code",
   "execution_count": 85,
   "metadata": {},
   "outputs": [
    {
     "data": {
      "text/plain": [
       "np.float64(0.002927799445681118)"
      ]
     },
     "execution_count": 85,
     "metadata": {},
     "output_type": "execute_result"
    }
   ],
   "source": [
    "data['last_price'].corr(data['first_day_exposition_month'])"
   ]
  },
  {
   "cell_type": "code",
   "execution_count": 86,
   "metadata": {},
   "outputs": [
    {
     "data": {
      "text/plain": [
       "np.float64(-0.04559686650114882)"
      ]
     },
     "execution_count": 86,
     "metadata": {},
     "output_type": "execute_result"
    }
   ],
   "source": [
    "data['last_price'].corr(data['first_day_exposition_year'])"
   ]
  },
  {
   "cell_type": "markdown",
   "metadata": {},
   "source": [
    "Зависимость между ценой и датой размещения объявления отсутствует."
   ]
  },
  {
   "cell_type": "markdown",
   "metadata": {},
   "source": [
    "#### Посчитайте среднюю цену одного квадратного метра в 10 населённых пунктах с наибольшим числом объявлений"
   ]
  },
  {
   "cell_type": "code",
   "execution_count": 87,
   "metadata": {},
   "outputs": [
    {
     "data": {
      "application/vnd.microsoft.datawrangler.viewer.v0+json": {
       "columns": [
        {
         "name": "locality_name",
         "rawType": "object",
         "type": "string"
        },
        {
         "name": "one_squere_meter_price",
         "rawType": "float64",
         "type": "float"
        }
       ],
       "conversionMethod": "pd.DataFrame",
       "ref": "fb7a0835-a29d-48d6-85eb-417ac5a15fdf",
       "rows": [
        [
         "Санкт-Петербург",
         "112825.43"
        ],
        [
         "Пушкин",
         "103179.27"
        ],
        [
         "Кудрово",
         "95533.83"
        ],
        [
         "Парголово",
         "90444.88"
        ],
        [
         "Мурино",
         "86011.84"
        ],
        [
         "Шушары",
         "78621.58"
        ],
        [
         "Колпино",
         "75307.1"
        ],
        [
         "Всеволожск",
         "68824.06"
        ],
        [
         "Гатчина",
         "68569.47"
        ],
        [
         "Выборг",
         "58355.67"
        ]
       ],
       "shape": {
        "columns": 1,
        "rows": 10
       }
      },
      "text/html": [
       "<div>\n",
       "<style scoped>\n",
       "    .dataframe tbody tr th:only-of-type {\n",
       "        vertical-align: middle;\n",
       "    }\n",
       "\n",
       "    .dataframe tbody tr th {\n",
       "        vertical-align: top;\n",
       "    }\n",
       "\n",
       "    .dataframe thead th {\n",
       "        text-align: right;\n",
       "    }\n",
       "</style>\n",
       "<table border=\"1\" class=\"dataframe\">\n",
       "  <thead>\n",
       "    <tr style=\"text-align: right;\">\n",
       "      <th></th>\n",
       "      <th>one_squere_meter_price</th>\n",
       "    </tr>\n",
       "    <tr>\n",
       "      <th>locality_name</th>\n",
       "      <th></th>\n",
       "    </tr>\n",
       "  </thead>\n",
       "  <tbody>\n",
       "    <tr>\n",
       "      <th>Санкт-Петербург</th>\n",
       "      <td>112825.43</td>\n",
       "    </tr>\n",
       "    <tr>\n",
       "      <th>Пушкин</th>\n",
       "      <td>103179.27</td>\n",
       "    </tr>\n",
       "    <tr>\n",
       "      <th>Кудрово</th>\n",
       "      <td>95533.83</td>\n",
       "    </tr>\n",
       "    <tr>\n",
       "      <th>Парголово</th>\n",
       "      <td>90444.88</td>\n",
       "    </tr>\n",
       "    <tr>\n",
       "      <th>Мурино</th>\n",
       "      <td>86011.84</td>\n",
       "    </tr>\n",
       "    <tr>\n",
       "      <th>Шушары</th>\n",
       "      <td>78621.58</td>\n",
       "    </tr>\n",
       "    <tr>\n",
       "      <th>Колпино</th>\n",
       "      <td>75307.10</td>\n",
       "    </tr>\n",
       "    <tr>\n",
       "      <th>Всеволожск</th>\n",
       "      <td>68824.06</td>\n",
       "    </tr>\n",
       "    <tr>\n",
       "      <th>Гатчина</th>\n",
       "      <td>68569.47</td>\n",
       "    </tr>\n",
       "    <tr>\n",
       "      <th>Выборг</th>\n",
       "      <td>58355.67</td>\n",
       "    </tr>\n",
       "  </tbody>\n",
       "</table>\n",
       "</div>"
      ],
      "text/plain": [
       "                 one_squere_meter_price\n",
       "locality_name                          \n",
       "Санкт-Петербург               112825.43\n",
       "Пушкин                        103179.27\n",
       "Кудрово                        95533.83\n",
       "Парголово                      90444.88\n",
       "Мурино                         86011.84\n",
       "Шушары                         78621.58\n",
       "Колпино                        75307.10\n",
       "Всеволожск                     68824.06\n",
       "Гатчина                        68569.47\n",
       "Выборг                         58355.67"
      ]
     },
     "execution_count": 87,
     "metadata": {},
     "output_type": "execute_result"
    }
   ],
   "source": [
    "locality_names = data['locality_name'].value_counts().sort_values(ascending=False).head(10).index\n",
    "df_locality_names = data.query('locality_name in @locality_names')\n",
    "result = df_locality_names.pivot_table(index='locality_name', values='one_squere_meter_price', aggfunc='mean').sort_values(by='one_squere_meter_price', ascending=False)\n",
    "result['one_squere_meter_price'] = result['one_squere_meter_price'].round(2)\n",
    "result"
   ]
  },
  {
   "cell_type": "markdown",
   "metadata": {},
   "source": [
    "Самая высокая стоимость квадратного метра в Санкт-Петербурге.\n",
    "\n",
    "Самая низкая стоимость квадратного метра в Выборге."
   ]
  },
  {
   "cell_type": "markdown",
   "metadata": {},
   "source": [
    "#### Выделите квартиры в Санкт-Петербурге с помощью столбца `locality_name` и вычислите их среднюю стоимость на разном удалении от центра»:"
   ]
  },
  {
   "cell_type": "code",
   "execution_count": 88,
   "metadata": {},
   "outputs": [
    {
     "data": {
      "image/png": "[encoded data removed]",
      "text/plain": [
       "<Figure size 400x400 with 1 Axes>"
      ]
     },
     "metadata": {},
     "output_type": "display_data"
    }
   ],
   "source": [
    "# Построим график взаимосвязи стоимости квартир в Санкт-Петебурге от их удаленности от центра\n",
    "(\n",
    "data\n",
    " .query('locality_name == \"Санкт-Петербург\"')\n",
    " .pivot_table(index='city_centers_nearest_km', values=['last_price'], aggfunc='mean')\n",
    " .plot(alpha=0.5, figsize=(4, 4))\n",
    ");"
   ]
  },
  {
   "cell_type": "code",
   "execution_count": 89,
   "metadata": {},
   "outputs": [],
   "source": [
    "# Передадим срез данных в отдельную переменную, чтобы получить коэффициент корреляции Пирсона\n",
    "spb_data = data.query('locality_name == \"Санкт-Петербург\"').pivot_table(index='city_centers_nearest_km', values=['last_price'], aggfunc='mean').reset_index(drop=False)"
   ]
  },
  {
   "cell_type": "code",
   "execution_count": 90,
   "metadata": {},
   "outputs": [
    {
     "data": {
      "text/plain": [
       "np.float64(-0.7875683592243705)"
      ]
     },
     "execution_count": 90,
     "metadata": {},
     "output_type": "execute_result"
    }
   ],
   "source": [
    "spb_data['city_centers_nearest_km'].corr(spb_data['last_price'])"
   ]
  },
  {
   "cell_type": "markdown",
   "metadata": {},
   "source": [
    "Для квартир из Санкт-Петерубрга выявлена корреляция цены и расстояния до центра города (чем больше расстояние от центра, тем меньше цена)."
   ]
  },
  {
   "cell_type": "markdown",
   "metadata": {
    "id": "h7VpzkIDAwb-"
   },
   "source": [
    "### Напишите общий вывод"
   ]
  },
  {
   "cell_type": "markdown",
   "metadata": {
    "id": "3H4lnp_KAwb-"
   },
   "source": [
    "1. Была выполнена предобработка данных:\n",
    "\n",
    "    1.1. Работа с пропусками:\n",
    "- заполнены пропуски в столбцах: ceiling_height, balcony, living_area, is_apartment, floors_total, parks_around_3000, ponds_around_3000\n",
    "- частично исправлены пропуски в столбцах: airports_nearest, city_centers_nearest, kitchen_area\n",
    "- исключены строки, в которых были пропущены значения в столбце locality_name\n",
    "- были оставлены пропуски в столбцах:\n",
    "\t- days_exposition - сколько дней было размещено объявление (от публикации до снятия)\n",
    "\t- parks_nearest - расстояние до ближайшего парка    \n",
    "\t- ponds_nearest\n",
    "\n",
    "    1.2. Корректировка типов данных\n",
    "\n",
    "    1.3. Устранение дубликатов\n",
    "\n",
    "    1.4. Для удобства анализа были добавлены следующие столбцы:\n",
    "\n",
    "- цена одного квадратного метра\n",
    "- день недели публикации объявления\n",
    "- месяц публикации объявления\n",
    "- год публикации объявления\n",
    "- расстояние до центра города в километрах\n",
    "- тип этажа квартиры\n",
    "\n",
    "2. Были удалены строки, в которых:\n",
    "- общая площадь превышает 300 кв.м\n",
    "- жилая площадь менее 9 кв.м\n",
    "- площадь кухни более 60 кв.м\n",
    "- цена объекта выше 100 000 000 руб. \n",
    "- количество комнат более 10\n",
    "- высота потолков менее 2 м и более 8 м\n",
    "\n",
    "3. Было выявлено, что:\n",
    "- в среднем продажа объектов занимает 184 дня\n",
    "- большинство объектов продаются в течении 101 дня\n",
    "- быстрыми можно считать продажи менее 44 дней\n",
    "- долгими можно считать продажи более 238 дня\n",
    "\n",
    "4. В большей степени на стоимость объектов влияют:\n",
    "- общая площадь\n",
    "- жилая площадь \n",
    "- площадь кухни\n",
    "\n",
    "Не влияют (полностью или имеют минимальное влияние) на стоимость объекта:\n",
    "- количество комнат\n",
    "- тип этажа, на котором расположена квартира (первый, последний, другой)\n",
    "- дата размещения (день недели, месяц, год)\n",
    "\n",
    "5. Самая высокая стоимость квадратного метра в Санкт-Петербурге.\n",
    "Самая низкая стоимость квадратного метра в Выборге.\n",
    "\n",
    "6. Для квартир из Санкт-Петерубрга выявлена корреляция цены и расстояния до центра города (чем больше расстояние от центра, тем меньше цена)"
   ]
  }
 ],
 "metadata": {
  "ExecuteTimeLog": [
   {
    "duration": 1275,
    "start_time": "2025-02-23T14:45:23.107Z"
   },
   {
    "duration": 122,
    "start_time": "2025-02-23T14:45:24.384Z"
   },
   {
    "duration": 14,
    "start_time": "2025-02-23T14:45:24.507Z"
   },
   {
    "duration": 1799,
    "start_time": "2025-02-23T14:45:24.522Z"
   },
   {
    "duration": 5,
    "start_time": "2025-02-23T14:45:26.323Z"
   },
   {
    "duration": 20,
    "start_time": "2025-02-23T14:45:26.329Z"
   },
   {
    "duration": 5,
    "start_time": "2025-02-23T14:45:26.350Z"
   },
   {
    "duration": 14,
    "start_time": "2025-02-23T14:45:26.356Z"
   },
   {
    "duration": 13,
    "start_time": "2025-02-23T14:45:26.371Z"
   },
   {
    "duration": 7,
    "start_time": "2025-02-23T14:45:26.386Z"
   },
   {
    "duration": 6,
    "start_time": "2025-02-23T14:45:26.395Z"
   },
   {
    "duration": 35,
    "start_time": "2025-02-23T14:45:26.402Z"
   },
   {
    "duration": 47,
    "start_time": "2025-02-23T14:45:26.439Z"
   },
   {
    "duration": 56,
    "start_time": "2025-02-23T14:45:26.489Z"
   },
   {
    "duration": 644,
    "start_time": "2025-02-23T14:45:26.547Z"
   },
   {
    "duration": 646,
    "start_time": "2025-02-23T14:45:27.192Z"
   },
   {
    "duration": 6,
    "start_time": "2025-02-23T14:45:27.839Z"
   },
   {
    "duration": 6,
    "start_time": "2025-02-23T14:45:27.846Z"
   },
   {
    "duration": 20,
    "start_time": "2025-02-23T14:45:27.853Z"
   },
   {
    "duration": 13,
    "start_time": "2025-02-23T14:45:27.874Z"
   },
   {
    "duration": 15,
    "start_time": "2025-02-23T14:45:27.889Z"
   },
   {
    "duration": 21,
    "start_time": "2025-02-23T14:45:27.906Z"
   },
   {
    "duration": 6,
    "start_time": "2025-02-23T14:45:27.928Z"
   },
   {
    "duration": 47,
    "start_time": "2025-02-23T14:45:27.935Z"
   },
   {
    "duration": 34,
    "start_time": "2025-02-23T14:45:27.984Z"
   },
   {
    "duration": 266,
    "start_time": "2025-02-23T14:45:28.020Z"
   },
   {
    "duration": 9,
    "start_time": "2025-02-23T14:45:28.287Z"
   },
   {
    "duration": 247,
    "start_time": "2025-02-23T14:45:28.297Z"
   },
   {
    "duration": 114,
    "start_time": "2025-02-23T14:45:28.545Z"
   },
   {
    "duration": 20,
    "start_time": "2025-02-23T14:45:28.660Z"
   },
   {
    "duration": 30,
    "start_time": "2025-02-23T14:45:28.682Z"
   },
   {
    "duration": 9,
    "start_time": "2025-02-23T14:45:28.714Z"
   },
   {
    "duration": 190,
    "start_time": "2025-02-23T14:45:28.724Z"
   },
   {
    "duration": 113,
    "start_time": "2025-02-23T14:45:28.915Z"
   },
   {
    "duration": 14,
    "start_time": "2025-02-23T14:45:29.030Z"
   },
   {
    "duration": 21,
    "start_time": "2025-02-23T14:45:29.053Z"
   },
   {
    "duration": 8,
    "start_time": "2025-02-23T14:45:29.076Z"
   },
   {
    "duration": 179,
    "start_time": "2025-02-23T14:45:29.085Z"
   },
   {
    "duration": 193,
    "start_time": "2025-02-23T14:45:29.270Z"
   },
   {
    "duration": 9,
    "start_time": "2025-02-23T14:45:29.471Z"
   },
   {
    "duration": 10,
    "start_time": "2025-02-23T14:45:29.486Z"
   },
   {
    "duration": 238,
    "start_time": "2025-02-23T14:45:29.497Z"
   },
   {
    "duration": 104,
    "start_time": "2025-02-23T14:45:29.736Z"
   },
   {
    "duration": 8,
    "start_time": "2025-02-23T14:45:29.842Z"
   },
   {
    "duration": 25,
    "start_time": "2025-02-23T14:45:29.851Z"
   },
   {
    "duration": 224,
    "start_time": "2025-02-23T14:45:29.877Z"
   },
   {
    "duration": 119,
    "start_time": "2025-02-23T14:45:30.103Z"
   },
   {
    "duration": 12,
    "start_time": "2025-02-23T14:45:30.223Z"
   },
   {
    "duration": 39,
    "start_time": "2025-02-23T14:45:30.236Z"
   },
   {
    "duration": 239,
    "start_time": "2025-02-23T14:45:30.277Z"
   },
   {
    "duration": 112,
    "start_time": "2025-02-23T14:45:30.518Z"
   },
   {
    "duration": 10,
    "start_time": "2025-02-23T14:45:30.631Z"
   },
   {
    "duration": 28,
    "start_time": "2025-02-23T14:45:30.642Z"
   },
   {
    "duration": 330,
    "start_time": "2025-02-23T14:45:30.671Z"
   },
   {
    "duration": 8,
    "start_time": "2025-02-23T14:45:31.003Z"
   },
   {
    "duration": 199,
    "start_time": "2025-02-23T14:45:31.012Z"
   },
   {
    "duration": 9,
    "start_time": "2025-02-23T14:45:31.213Z"
   },
   {
    "duration": 259,
    "start_time": "2025-02-23T14:45:31.224Z"
   },
   {
    "duration": 115,
    "start_time": "2025-02-23T14:45:31.485Z"
   },
   {
    "duration": 9,
    "start_time": "2025-02-23T14:45:31.602Z"
   },
   {
    "duration": 273,
    "start_time": "2025-02-23T14:45:31.612Z"
   },
   {
    "duration": 112,
    "start_time": "2025-02-23T14:45:31.887Z"
   },
   {
    "duration": 9,
    "start_time": "2025-02-23T14:45:32.000Z"
   },
   {
    "duration": 253,
    "start_time": "2025-02-23T14:45:32.010Z"
   },
   {
    "duration": 174,
    "start_time": "2025-02-23T14:45:32.265Z"
   },
   {
    "duration": 7,
    "start_time": "2025-02-23T14:45:32.440Z"
   },
   {
    "duration": 173,
    "start_time": "2025-02-23T14:45:32.448Z"
   },
   {
    "duration": 5,
    "start_time": "2025-02-23T14:45:32.623Z"
   },
   {
    "duration": 173,
    "start_time": "2025-02-23T14:45:32.630Z"
   },
   {
    "duration": 6,
    "start_time": "2025-02-23T14:45:32.805Z"
   },
   {
    "duration": 159,
    "start_time": "2025-02-23T14:45:32.812Z"
   },
   {
    "duration": 6,
    "start_time": "2025-02-23T14:45:32.973Z"
   },
   {
    "duration": 277,
    "start_time": "2025-02-23T14:45:32.980Z"
   },
   {
    "duration": 165,
    "start_time": "2025-02-23T14:45:33.259Z"
   },
   {
    "duration": 157,
    "start_time": "2025-02-23T14:45:33.425Z"
   },
   {
    "duration": 155,
    "start_time": "2025-02-23T14:45:33.583Z"
   },
   {
    "duration": 5,
    "start_time": "2025-02-23T14:45:33.739Z"
   },
   {
    "duration": 10,
    "start_time": "2025-02-23T14:45:33.745Z"
   },
   {
    "duration": 5,
    "start_time": "2025-02-23T14:45:33.770Z"
   },
   {
    "duration": 31,
    "start_time": "2025-02-23T14:45:33.776Z"
   },
   {
    "duration": 152,
    "start_time": "2025-02-23T14:45:33.808Z"
   },
   {
    "duration": 16,
    "start_time": "2025-02-23T14:45:33.962Z"
   },
   {
    "duration": 32,
    "start_time": "2025-02-23T14:45:33.979Z"
   },
   {
    "duration": 1089,
    "start_time": "2025-02-23T14:45:46.410Z"
   },
   {
    "duration": 111,
    "start_time": "2025-02-23T14:45:47.501Z"
   },
   {
    "duration": 14,
    "start_time": "2025-02-23T14:45:47.613Z"
   },
   {
    "duration": 1883,
    "start_time": "2025-02-23T14:45:47.628Z"
   },
   {
    "duration": 5,
    "start_time": "2025-02-23T14:45:49.513Z"
   },
   {
    "duration": 18,
    "start_time": "2025-02-23T14:45:49.520Z"
   },
   {
    "duration": 5,
    "start_time": "2025-02-23T14:45:49.539Z"
   },
   {
    "duration": 19,
    "start_time": "2025-02-23T14:45:49.545Z"
   },
   {
    "duration": 20,
    "start_time": "2025-02-23T14:45:49.566Z"
   },
   {
    "duration": 8,
    "start_time": "2025-02-23T14:45:49.588Z"
   },
   {
    "duration": 5,
    "start_time": "2025-02-23T14:45:49.597Z"
   },
   {
    "duration": 39,
    "start_time": "2025-02-23T14:45:49.604Z"
   },
   {
    "duration": 26,
    "start_time": "2025-02-23T14:45:49.644Z"
   },
   {
    "duration": 60,
    "start_time": "2025-02-23T14:45:49.672Z"
   },
   {
    "duration": 669,
    "start_time": "2025-02-23T14:45:49.734Z"
   },
   {
    "duration": 622,
    "start_time": "2025-02-23T14:45:50.404Z"
   },
   {
    "duration": 6,
    "start_time": "2025-02-23T14:45:51.027Z"
   },
   {
    "duration": 40,
    "start_time": "2025-02-23T14:45:51.034Z"
   },
   {
    "duration": 23,
    "start_time": "2025-02-23T14:45:51.076Z"
   },
   {
    "duration": 21,
    "start_time": "2025-02-23T14:45:51.100Z"
   },
   {
    "duration": 22,
    "start_time": "2025-02-23T14:45:51.122Z"
   },
   {
    "duration": 41,
    "start_time": "2025-02-23T14:45:51.146Z"
   },
   {
    "duration": 17,
    "start_time": "2025-02-23T14:45:51.188Z"
   },
   {
    "duration": 13,
    "start_time": "2025-02-23T14:45:51.207Z"
   },
   {
    "duration": 49,
    "start_time": "2025-02-23T14:45:51.222Z"
   },
   {
    "duration": 269,
    "start_time": "2025-02-23T14:45:51.272Z"
   },
   {
    "duration": 8,
    "start_time": "2025-02-23T14:45:51.543Z"
   },
   {
    "duration": 247,
    "start_time": "2025-02-23T14:45:51.552Z"
   },
   {
    "duration": 120,
    "start_time": "2025-02-23T14:45:51.800Z"
   },
   {
    "duration": 11,
    "start_time": "2025-02-23T14:45:51.922Z"
   },
   {
    "duration": 40,
    "start_time": "2025-02-23T14:45:51.934Z"
   },
   {
    "duration": 12,
    "start_time": "2025-02-23T14:45:51.976Z"
   },
   {
    "duration": 177,
    "start_time": "2025-02-23T14:45:51.990Z"
   },
   {
    "duration": 118,
    "start_time": "2025-02-23T14:45:52.171Z"
   },
   {
    "duration": 15,
    "start_time": "2025-02-23T14:45:52.290Z"
   },
   {
    "duration": 7,
    "start_time": "2025-02-23T14:45:52.306Z"
   },
   {
    "duration": 20,
    "start_time": "2025-02-23T14:45:52.315Z"
   },
   {
    "duration": 182,
    "start_time": "2025-02-23T14:45:52.336Z"
   },
   {
    "duration": 193,
    "start_time": "2025-02-23T14:45:52.519Z"
   },
   {
    "duration": 7,
    "start_time": "2025-02-23T14:45:52.714Z"
   },
   {
    "duration": 23,
    "start_time": "2025-02-23T14:45:52.725Z"
   },
   {
    "duration": 224,
    "start_time": "2025-02-23T14:45:52.750Z"
   },
   {
    "duration": 116,
    "start_time": "2025-02-23T14:45:52.976Z"
   },
   {
    "duration": 8,
    "start_time": "2025-02-23T14:45:53.093Z"
   },
   {
    "duration": 8,
    "start_time": "2025-02-23T14:45:53.102Z"
   },
   {
    "duration": 247,
    "start_time": "2025-02-23T14:45:53.112Z"
   },
   {
    "duration": 117,
    "start_time": "2025-02-23T14:45:53.361Z"
   },
   {
    "duration": 10,
    "start_time": "2025-02-23T14:45:53.480Z"
   },
   {
    "duration": 7,
    "start_time": "2025-02-23T14:45:53.492Z"
   },
   {
    "duration": 247,
    "start_time": "2025-02-23T14:45:53.500Z"
   },
   {
    "duration": 107,
    "start_time": "2025-02-23T14:45:53.748Z"
   },
   {
    "duration": 21,
    "start_time": "2025-02-23T14:45:53.857Z"
   },
   {
    "duration": 11,
    "start_time": "2025-02-23T14:45:53.879Z"
   },
   {
    "duration": 335,
    "start_time": "2025-02-23T14:45:53.891Z"
   },
   {
    "duration": 7,
    "start_time": "2025-02-23T14:45:54.228Z"
   },
   {
    "duration": 174,
    "start_time": "2025-02-23T14:45:54.236Z"
   },
   {
    "duration": 8,
    "start_time": "2025-02-23T14:45:54.412Z"
   },
   {
    "duration": 229,
    "start_time": "2025-02-23T14:45:54.422Z"
   },
   {
    "duration": 105,
    "start_time": "2025-02-23T14:45:54.653Z"
   },
   {
    "duration": 17,
    "start_time": "2025-02-23T14:45:54.760Z"
   },
   {
    "duration": 232,
    "start_time": "2025-02-23T14:45:54.778Z"
   },
   {
    "duration": 113,
    "start_time": "2025-02-23T14:45:55.012Z"
   },
   {
    "duration": 10,
    "start_time": "2025-02-23T14:45:55.128Z"
   },
   {
    "duration": 247,
    "start_time": "2025-02-23T14:45:55.140Z"
   },
   {
    "duration": 173,
    "start_time": "2025-02-23T14:45:55.389Z"
   },
   {
    "duration": 8,
    "start_time": "2025-02-23T14:45:55.563Z"
   },
   {
    "duration": 173,
    "start_time": "2025-02-23T14:45:55.573Z"
   },
   {
    "duration": 5,
    "start_time": "2025-02-23T14:45:55.747Z"
   },
   {
    "duration": 153,
    "start_time": "2025-02-23T14:45:55.770Z"
   },
   {
    "duration": 6,
    "start_time": "2025-02-23T14:45:55.924Z"
   },
   {
    "duration": 161,
    "start_time": "2025-02-23T14:45:55.932Z"
   },
   {
    "duration": 6,
    "start_time": "2025-02-23T14:45:56.094Z"
   },
   {
    "duration": 296,
    "start_time": "2025-02-23T14:45:56.101Z"
   },
   {
    "duration": 164,
    "start_time": "2025-02-23T14:45:56.398Z"
   },
   {
    "duration": 157,
    "start_time": "2025-02-23T14:45:56.563Z"
   },
   {
    "duration": 158,
    "start_time": "2025-02-23T14:45:56.722Z"
   },
   {
    "duration": 5,
    "start_time": "2025-02-23T14:45:56.881Z"
   },
   {
    "duration": 5,
    "start_time": "2025-02-23T14:45:56.888Z"
   },
   {
    "duration": 8,
    "start_time": "2025-02-23T14:45:56.894Z"
   },
   {
    "duration": 22,
    "start_time": "2025-02-23T14:45:56.904Z"
   },
   {
    "duration": 183,
    "start_time": "2025-02-23T14:45:56.928Z"
   },
   {
    "duration": 14,
    "start_time": "2025-02-23T14:45:57.112Z"
   },
   {
    "duration": 13,
    "start_time": "2025-02-23T14:45:57.127Z"
   },
   {
    "duration": 785,
    "start_time": "2025-02-23T21:10:51.775Z"
   },
   {
    "duration": 126,
    "start_time": "2025-02-23T21:10:52.562Z"
   },
   {
    "duration": 24,
    "start_time": "2025-02-23T21:10:52.690Z"
   },
   {
    "duration": 1918,
    "start_time": "2025-02-23T21:10:52.716Z"
   },
   {
    "duration": 6,
    "start_time": "2025-02-23T21:10:54.636Z"
   },
   {
    "duration": 14,
    "start_time": "2025-02-23T21:10:54.643Z"
   },
   {
    "duration": 11,
    "start_time": "2025-02-23T21:10:54.658Z"
   },
   {
    "duration": 4,
    "start_time": "2025-02-23T21:10:54.671Z"
   },
   {
    "duration": 3,
    "start_time": "2025-02-23T21:10:54.676Z"
   },
   {
    "duration": 13,
    "start_time": "2025-02-23T21:10:54.681Z"
   },
   {
    "duration": 25,
    "start_time": "2025-02-23T21:10:54.695Z"
   },
   {
    "duration": 5,
    "start_time": "2025-02-23T21:10:54.722Z"
   },
   {
    "duration": 4,
    "start_time": "2025-02-23T21:10:54.729Z"
   },
   {
    "duration": 5,
    "start_time": "2025-02-23T21:10:54.736Z"
   },
   {
    "duration": 3,
    "start_time": "2025-02-23T21:10:54.743Z"
   },
   {
    "duration": 76,
    "start_time": "2025-02-23T21:10:54.748Z"
   },
   {
    "duration": 6,
    "start_time": "2025-02-23T21:10:54.825Z"
   },
   {
    "duration": 70,
    "start_time": "2025-02-23T21:10:54.832Z"
   },
   {
    "duration": 19,
    "start_time": "2025-02-23T21:10:54.904Z"
   },
   {
    "duration": 61,
    "start_time": "2025-02-23T21:10:54.925Z"
   },
   {
    "duration": 685,
    "start_time": "2025-02-23T21:10:54.988Z"
   },
   {
    "duration": 684,
    "start_time": "2025-02-23T21:10:55.675Z"
   },
   {
    "duration": 6,
    "start_time": "2025-02-23T21:10:56.361Z"
   },
   {
    "duration": 4,
    "start_time": "2025-02-23T21:10:56.368Z"
   },
   {
    "duration": 9,
    "start_time": "2025-02-23T21:10:56.374Z"
   },
   {
    "duration": 38,
    "start_time": "2025-02-23T21:10:56.384Z"
   },
   {
    "duration": 14,
    "start_time": "2025-02-23T21:10:56.424Z"
   },
   {
    "duration": 22,
    "start_time": "2025-02-23T21:10:56.439Z"
   },
   {
    "duration": 6,
    "start_time": "2025-02-23T21:10:56.462Z"
   },
   {
    "duration": 14,
    "start_time": "2025-02-23T21:10:56.469Z"
   },
   {
    "duration": 50,
    "start_time": "2025-02-23T21:10:56.515Z"
   },
   {
    "duration": 49,
    "start_time": "2025-02-23T21:10:56.567Z"
   },
   {
    "duration": 285,
    "start_time": "2025-02-23T21:10:56.618Z"
   },
   {
    "duration": 14,
    "start_time": "2025-02-23T21:10:56.905Z"
   },
   {
    "duration": 257,
    "start_time": "2025-02-23T21:10:56.921Z"
   },
   {
    "duration": 113,
    "start_time": "2025-02-23T21:10:57.180Z"
   },
   {
    "duration": 25,
    "start_time": "2025-02-23T21:10:57.296Z"
   },
   {
    "duration": 99,
    "start_time": "2025-02-23T21:10:57.323Z"
   },
   {
    "duration": 10,
    "start_time": "2025-02-23T21:10:57.423Z"
   },
   {
    "duration": 189,
    "start_time": "2025-02-23T21:10:57.435Z"
   },
   {
    "duration": 132,
    "start_time": "2025-02-23T21:10:57.630Z"
   },
   {
    "duration": 15,
    "start_time": "2025-02-23T21:10:57.764Z"
   },
   {
    "duration": 8,
    "start_time": "2025-02-23T21:10:57.781Z"
   },
   {
    "duration": 25,
    "start_time": "2025-02-23T21:10:57.791Z"
   },
   {
    "duration": 183,
    "start_time": "2025-02-23T21:10:57.818Z"
   },
   {
    "duration": 125,
    "start_time": "2025-02-23T21:10:58.003Z"
   },
   {
    "duration": 9,
    "start_time": "2025-02-23T21:10:58.130Z"
   },
   {
    "duration": 10,
    "start_time": "2025-02-23T21:10:58.140Z"
   },
   {
    "duration": 261,
    "start_time": "2025-02-23T21:10:58.152Z"
   },
   {
    "duration": 121,
    "start_time": "2025-02-23T21:10:58.415Z"
   },
   {
    "duration": 8,
    "start_time": "2025-02-23T21:10:58.537Z"
   },
   {
    "duration": 7,
    "start_time": "2025-02-23T21:10:58.547Z"
   },
   {
    "duration": 254,
    "start_time": "2025-02-23T21:10:58.556Z"
   },
   {
    "duration": 120,
    "start_time": "2025-02-23T21:10:58.813Z"
   },
   {
    "duration": 12,
    "start_time": "2025-02-23T21:10:58.935Z"
   },
   {
    "duration": 25,
    "start_time": "2025-02-23T21:10:58.949Z"
   },
   {
    "duration": 419,
    "start_time": "2025-02-23T21:10:58.976Z"
   },
   {
    "duration": 108,
    "start_time": "2025-02-23T21:10:59.397Z"
   },
   {
    "duration": 8,
    "start_time": "2025-02-23T21:10:59.513Z"
   },
   {
    "duration": 72,
    "start_time": "2025-02-23T21:10:59.523Z"
   },
   {
    "duration": 230,
    "start_time": "2025-02-23T21:10:59.596Z"
   },
   {
    "duration": 8,
    "start_time": "2025-02-23T21:10:59.829Z"
   },
   {
    "duration": 201,
    "start_time": "2025-02-23T21:10:59.839Z"
   },
   {
    "duration": 10,
    "start_time": "2025-02-23T21:11:00.042Z"
   },
   {
    "duration": 259,
    "start_time": "2025-02-23T21:11:00.054Z"
   },
   {
    "duration": 129,
    "start_time": "2025-02-23T21:11:00.315Z"
   },
   {
    "duration": 9,
    "start_time": "2025-02-23T21:11:00.446Z"
   },
   {
    "duration": 262,
    "start_time": "2025-02-23T21:11:00.457Z"
   },
   {
    "duration": 215,
    "start_time": "2025-02-23T21:11:00.721Z"
   },
   {
    "duration": 9,
    "start_time": "2025-02-23T21:11:00.938Z"
   },
   {
    "duration": 376,
    "start_time": "2025-02-23T21:11:00.949Z"
   },
   {
    "duration": 190,
    "start_time": "2025-02-23T21:11:01.327Z"
   },
   {
    "duration": 7,
    "start_time": "2025-02-23T21:11:01.519Z"
   },
   {
    "duration": 249,
    "start_time": "2025-02-23T21:11:01.527Z"
   },
   {
    "duration": 7,
    "start_time": "2025-02-23T21:11:01.778Z"
   },
   {
    "duration": 184,
    "start_time": "2025-02-23T21:11:01.786Z"
   },
   {
    "duration": 6,
    "start_time": "2025-02-23T21:11:01.972Z"
   },
   {
    "duration": 174,
    "start_time": "2025-02-23T21:11:01.979Z"
   },
   {
    "duration": 6,
    "start_time": "2025-02-23T21:11:02.154Z"
   },
   {
    "duration": 163,
    "start_time": "2025-02-23T21:11:02.161Z"
   },
   {
    "duration": 185,
    "start_time": "2025-02-23T21:11:02.326Z"
   },
   {
    "duration": 176,
    "start_time": "2025-02-23T21:11:02.514Z"
   },
   {
    "duration": 183,
    "start_time": "2025-02-23T21:11:02.692Z"
   },
   {
    "duration": 6,
    "start_time": "2025-02-23T21:11:02.877Z"
   },
   {
    "duration": 54,
    "start_time": "2025-02-23T21:11:02.884Z"
   },
   {
    "duration": 9,
    "start_time": "2025-02-23T21:11:02.940Z"
   },
   {
    "duration": 96,
    "start_time": "2025-02-23T21:11:02.950Z"
   },
   {
    "duration": 221,
    "start_time": "2025-02-23T21:11:03.047Z"
   },
   {
    "duration": 14,
    "start_time": "2025-02-23T21:11:03.270Z"
   },
   {
    "duration": 67,
    "start_time": "2025-02-23T21:11:03.286Z"
   }
  ],
  "colab": {
   "provenance": []
  },
  "kernelspec": {
   "display_name": "Python 3",
   "language": "python",
   "name": "python3"
  },
  "language_info": {
   "codemirror_mode": {
    "name": "ipython",
    "version": 3
   },
   "file_extension": ".py",
   "mimetype": "text/x-python",
   "name": "python",
   "nbconvert_exporter": "python",
   "pygments_lexer": "ipython3",
   "version": "3.11.9"
  },
  "toc": {
   "base_numbering": 1,
   "nav_menu": {},
   "number_sections": true,
   "sideBar": true,
   "skip_h1_title": true,
   "title_cell": "Table of Contents",
   "title_sidebar": "Contents",
   "toc_cell": false,
   "toc_position": {},
   "toc_section_display": true,
   "toc_window_display": false
  }
 },
 "nbformat": 4,
 "nbformat_minor": 1
}
