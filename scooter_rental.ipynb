{
 "cells": [
  {
   "cell_type": "markdown",
   "id": "d841004b",
   "metadata": {},
   "source": [
    "# Статистический анализ данных сервиса аренды самокатов GoFast\n",
    "\n",
    "**Исходные данные:**\n",
    "\n",
    "Сведения о пользователях, их поездках и подписках. \n",
    "\n",
    "**Цель работы:** \n",
    "\n",
    "Проанализировать данные и проверить следующие гипотезы:\n",
    "- тратят ли пользователи с подпиской больше времени на поездки?\n",
    "- среднее расстояние, которое проезжают пользователи с подпиской за одну поездку, не превышает 3130 метров?\n",
    "- будет ли помесячная выручка от пользователей с подпиской по месяцам выше, чем выручка от пользователей без подписки?\n",
    "\n",
    "**План исследования:**\n",
    "1. Выполнить предобработку данных.\n",
    "2. Выявить и устранить аномалии в данных. \n",
    "3. Провести исследовательский анализ данных. \n",
    "4. Объединить данные для анализа информации о расстоянии и времени поездок для пользователей обеих категорий.\n",
    "5. Подсчитать выручку компании. \n",
    "6. Проверить гипотезы из списка выше.  \n",
    "7. Построить графики распределений.  "
   ]
  },
  {
   "cell_type": "code",
   "execution_count": 1,
   "id": "72576667",
   "metadata": {},
   "outputs": [],
   "source": [
    "import pandas as pd\n",
    "import matplotlib.pyplot as plt\n",
    "import numpy as np\n",
    "from scipy import stats as st\n",
    "from math import sqrt\n",
    "from scipy.stats import norm\n",
    "\n",
    "pd.set_option('display.max_rows', None)"
   ]
  },
  {
   "cell_type": "markdown",
   "id": "c42cbe00",
   "metadata": {},
   "source": [
    "#### Шаг 1. Загрузка данных"
   ]
  },
  {
   "cell_type": "code",
   "execution_count": 2,
   "id": "eff9f206",
   "metadata": {},
   "outputs": [],
   "source": [
    "# Открываем файлы с данными о пользователях, поездках, подписках, соответственно\n",
    "users = pd.read_csv('datasets/users_go.csv')\n",
    "rides = pd.read_csv('datasets/rides_go.csv')\n",
    "subscriptions = pd.read_csv('datasets/subscriptions_go.csv')"
   ]
  },
  {
   "cell_type": "code",
   "execution_count": 3,
   "id": "17cd8ce4",
   "metadata": {},
   "outputs": [
    {
     "data": {
      "application/vnd.microsoft.datawrangler.viewer.v0+json": {
       "columns": [
        {
         "name": "index",
         "rawType": "int64",
         "type": "integer"
        },
        {
         "name": "user_id",
         "rawType": "int64",
         "type": "integer"
        },
        {
         "name": "name",
         "rawType": "object",
         "type": "string"
        },
        {
         "name": "age",
         "rawType": "int64",
         "type": "integer"
        },
        {
         "name": "city",
         "rawType": "object",
         "type": "string"
        },
        {
         "name": "subscription_type",
         "rawType": "object",
         "type": "string"
        }
       ],
       "conversionMethod": "pd.DataFrame",
       "ref": "3c4e8f5d-5a5c-45a7-8e8e-29f9c6bbfdfe",
       "rows": [
        [
         "0",
         "1",
         "Кира",
         "22",
         "Тюмень",
         "ultra"
        ],
        [
         "1",
         "2",
         "Станислав",
         "31",
         "Омск",
         "ultra"
        ],
        [
         "2",
         "3",
         "Алексей",
         "20",
         "Москва",
         "ultra"
        ],
        [
         "3",
         "4",
         "Константин",
         "26",
         "Ростов-на-Дону",
         "ultra"
        ],
        [
         "4",
         "5",
         "Адель",
         "28",
         "Омск",
         "ultra"
        ],
        [
         "5",
         "6",
         "Регина",
         "25",
         "Краснодар",
         "ultra"
        ],
        [
         "6",
         "7",
         "Игорь",
         "23",
         "Омск",
         "ultra"
        ],
        [
         "7",
         "8",
         "Юрий",
         "23",
         "Краснодар",
         "ultra"
        ],
        [
         "8",
         "9",
         "Ян",
         "21",
         "Пятигорск",
         "ultra"
        ],
        [
         "9",
         "10",
         "Валерий",
         "18",
         "Екатеринбург",
         "ultra"
        ]
       ],
       "shape": {
        "columns": 5,
        "rows": 10
       }
      },
      "text/html": [
       "<div>\n",
       "<style scoped>\n",
       "    .dataframe tbody tr th:only-of-type {\n",
       "        vertical-align: middle;\n",
       "    }\n",
       "\n",
       "    .dataframe tbody tr th {\n",
       "        vertical-align: top;\n",
       "    }\n",
       "\n",
       "    .dataframe thead th {\n",
       "        text-align: right;\n",
       "    }\n",
       "</style>\n",
       "<table border=\"1\" class=\"dataframe\">\n",
       "  <thead>\n",
       "    <tr style=\"text-align: right;\">\n",
       "      <th></th>\n",
       "      <th>user_id</th>\n",
       "      <th>name</th>\n",
       "      <th>age</th>\n",
       "      <th>city</th>\n",
       "      <th>subscription_type</th>\n",
       "    </tr>\n",
       "  </thead>\n",
       "  <tbody>\n",
       "    <tr>\n",
       "      <th>0</th>\n",
       "      <td>1</td>\n",
       "      <td>Кира</td>\n",
       "      <td>22</td>\n",
       "      <td>Тюмень</td>\n",
       "      <td>ultra</td>\n",
       "    </tr>\n",
       "    <tr>\n",
       "      <th>1</th>\n",
       "      <td>2</td>\n",
       "      <td>Станислав</td>\n",
       "      <td>31</td>\n",
       "      <td>Омск</td>\n",
       "      <td>ultra</td>\n",
       "    </tr>\n",
       "    <tr>\n",
       "      <th>2</th>\n",
       "      <td>3</td>\n",
       "      <td>Алексей</td>\n",
       "      <td>20</td>\n",
       "      <td>Москва</td>\n",
       "      <td>ultra</td>\n",
       "    </tr>\n",
       "    <tr>\n",
       "      <th>3</th>\n",
       "      <td>4</td>\n",
       "      <td>Константин</td>\n",
       "      <td>26</td>\n",
       "      <td>Ростов-на-Дону</td>\n",
       "      <td>ultra</td>\n",
       "    </tr>\n",
       "    <tr>\n",
       "      <th>4</th>\n",
       "      <td>5</td>\n",
       "      <td>Адель</td>\n",
       "      <td>28</td>\n",
       "      <td>Омск</td>\n",
       "      <td>ultra</td>\n",
       "    </tr>\n",
       "    <tr>\n",
       "      <th>5</th>\n",
       "      <td>6</td>\n",
       "      <td>Регина</td>\n",
       "      <td>25</td>\n",
       "      <td>Краснодар</td>\n",
       "      <td>ultra</td>\n",
       "    </tr>\n",
       "    <tr>\n",
       "      <th>6</th>\n",
       "      <td>7</td>\n",
       "      <td>Игорь</td>\n",
       "      <td>23</td>\n",
       "      <td>Омск</td>\n",
       "      <td>ultra</td>\n",
       "    </tr>\n",
       "    <tr>\n",
       "      <th>7</th>\n",
       "      <td>8</td>\n",
       "      <td>Юрий</td>\n",
       "      <td>23</td>\n",
       "      <td>Краснодар</td>\n",
       "      <td>ultra</td>\n",
       "    </tr>\n",
       "    <tr>\n",
       "      <th>8</th>\n",
       "      <td>9</td>\n",
       "      <td>Ян</td>\n",
       "      <td>21</td>\n",
       "      <td>Пятигорск</td>\n",
       "      <td>ultra</td>\n",
       "    </tr>\n",
       "    <tr>\n",
       "      <th>9</th>\n",
       "      <td>10</td>\n",
       "      <td>Валерий</td>\n",
       "      <td>18</td>\n",
       "      <td>Екатеринбург</td>\n",
       "      <td>ultra</td>\n",
       "    </tr>\n",
       "  </tbody>\n",
       "</table>\n",
       "</div>"
      ],
      "text/plain": [
       "   user_id        name  age            city subscription_type\n",
       "0        1        Кира   22          Тюмень             ultra\n",
       "1        2   Станислав   31            Омск             ultra\n",
       "2        3     Алексей   20          Москва             ultra\n",
       "3        4  Константин   26  Ростов-на-Дону             ultra\n",
       "4        5       Адель   28            Омск             ultra\n",
       "5        6      Регина   25       Краснодар             ultra\n",
       "6        7       Игорь   23            Омск             ultra\n",
       "7        8        Юрий   23       Краснодар             ultra\n",
       "8        9          Ян   21       Пятигорск             ultra\n",
       "9       10     Валерий   18    Екатеринбург             ultra"
      ]
     },
     "execution_count": 3,
     "metadata": {},
     "output_type": "execute_result"
    }
   ],
   "source": [
    "# Выведем на экран 10 строк из набора данных о пользователях\n",
    "users.head(10)"
   ]
  },
  {
   "cell_type": "code",
   "execution_count": 4,
   "id": "1d60367f",
   "metadata": {},
   "outputs": [
    {
     "data": {
      "application/vnd.microsoft.datawrangler.viewer.v0+json": {
       "columns": [
        {
         "name": "index",
         "rawType": "int64",
         "type": "integer"
        },
        {
         "name": "user_id",
         "rawType": "int64",
         "type": "integer"
        },
        {
         "name": "distance",
         "rawType": "float64",
         "type": "float"
        },
        {
         "name": "duration",
         "rawType": "float64",
         "type": "float"
        },
        {
         "name": "date",
         "rawType": "object",
         "type": "string"
        }
       ],
       "conversionMethod": "pd.DataFrame",
       "ref": "52e3fcc9-7b6e-4753-8272-672c1ae78609",
       "rows": [
        [
         "0",
         "1",
         "4409.919140196136",
         "25.59976897198896",
         "2021-01-01"
        ],
        [
         "1",
         "1",
         "2617.5921534552563",
         "15.816871452122792",
         "2021-01-18"
        ],
        [
         "2",
         "1",
         "754.1598069611837",
         "6.232113458405072",
         "2021-04-20"
        ],
        [
         "3",
         "1",
         "2694.7832537889467",
         "18.510999719255103",
         "2021-08-11"
        ],
        [
         "4",
         "1",
         "4028.6873061660526",
         "26.265802740711653",
         "2021-08-28"
        ],
        [
         "5",
         "1",
         "2770.890807774881",
         "16.650137938659714",
         "2021-10-09"
        ],
        [
         "6",
         "1",
         "3039.0202923997176",
         "14.927879023651435",
         "2021-10-19"
        ],
        [
         "7",
         "1",
         "2842.1180504740605",
         "23.117467925264897",
         "2021-11-06"
        ],
        [
         "8",
         "1",
         "3412.6906682951376",
         "15.238072004885412",
         "2021-11-14"
        ],
        [
         "9",
         "1",
         "748.6906445372992",
         "15.041883576010816",
         "2021-11-22"
        ]
       ],
       "shape": {
        "columns": 4,
        "rows": 10
       }
      },
      "text/html": [
       "<div>\n",
       "<style scoped>\n",
       "    .dataframe tbody tr th:only-of-type {\n",
       "        vertical-align: middle;\n",
       "    }\n",
       "\n",
       "    .dataframe tbody tr th {\n",
       "        vertical-align: top;\n",
       "    }\n",
       "\n",
       "    .dataframe thead th {\n",
       "        text-align: right;\n",
       "    }\n",
       "</style>\n",
       "<table border=\"1\" class=\"dataframe\">\n",
       "  <thead>\n",
       "    <tr style=\"text-align: right;\">\n",
       "      <th></th>\n",
       "      <th>user_id</th>\n",
       "      <th>distance</th>\n",
       "      <th>duration</th>\n",
       "      <th>date</th>\n",
       "    </tr>\n",
       "  </thead>\n",
       "  <tbody>\n",
       "    <tr>\n",
       "      <th>0</th>\n",
       "      <td>1</td>\n",
       "      <td>4409.919140</td>\n",
       "      <td>25.599769</td>\n",
       "      <td>2021-01-01</td>\n",
       "    </tr>\n",
       "    <tr>\n",
       "      <th>1</th>\n",
       "      <td>1</td>\n",
       "      <td>2617.592153</td>\n",
       "      <td>15.816871</td>\n",
       "      <td>2021-01-18</td>\n",
       "    </tr>\n",
       "    <tr>\n",
       "      <th>2</th>\n",
       "      <td>1</td>\n",
       "      <td>754.159807</td>\n",
       "      <td>6.232113</td>\n",
       "      <td>2021-04-20</td>\n",
       "    </tr>\n",
       "    <tr>\n",
       "      <th>3</th>\n",
       "      <td>1</td>\n",
       "      <td>2694.783254</td>\n",
       "      <td>18.511000</td>\n",
       "      <td>2021-08-11</td>\n",
       "    </tr>\n",
       "    <tr>\n",
       "      <th>4</th>\n",
       "      <td>1</td>\n",
       "      <td>4028.687306</td>\n",
       "      <td>26.265803</td>\n",
       "      <td>2021-08-28</td>\n",
       "    </tr>\n",
       "    <tr>\n",
       "      <th>5</th>\n",
       "      <td>1</td>\n",
       "      <td>2770.890808</td>\n",
       "      <td>16.650138</td>\n",
       "      <td>2021-10-09</td>\n",
       "    </tr>\n",
       "    <tr>\n",
       "      <th>6</th>\n",
       "      <td>1</td>\n",
       "      <td>3039.020292</td>\n",
       "      <td>14.927879</td>\n",
       "      <td>2021-10-19</td>\n",
       "    </tr>\n",
       "    <tr>\n",
       "      <th>7</th>\n",
       "      <td>1</td>\n",
       "      <td>2842.118050</td>\n",
       "      <td>23.117468</td>\n",
       "      <td>2021-11-06</td>\n",
       "    </tr>\n",
       "    <tr>\n",
       "      <th>8</th>\n",
       "      <td>1</td>\n",
       "      <td>3412.690668</td>\n",
       "      <td>15.238072</td>\n",
       "      <td>2021-11-14</td>\n",
       "    </tr>\n",
       "    <tr>\n",
       "      <th>9</th>\n",
       "      <td>1</td>\n",
       "      <td>748.690645</td>\n",
       "      <td>15.041884</td>\n",
       "      <td>2021-11-22</td>\n",
       "    </tr>\n",
       "  </tbody>\n",
       "</table>\n",
       "</div>"
      ],
      "text/plain": [
       "   user_id     distance   duration        date\n",
       "0        1  4409.919140  25.599769  2021-01-01\n",
       "1        1  2617.592153  15.816871  2021-01-18\n",
       "2        1   754.159807   6.232113  2021-04-20\n",
       "3        1  2694.783254  18.511000  2021-08-11\n",
       "4        1  4028.687306  26.265803  2021-08-28\n",
       "5        1  2770.890808  16.650138  2021-10-09\n",
       "6        1  3039.020292  14.927879  2021-10-19\n",
       "7        1  2842.118050  23.117468  2021-11-06\n",
       "8        1  3412.690668  15.238072  2021-11-14\n",
       "9        1   748.690645  15.041884  2021-11-22"
      ]
     },
     "execution_count": 4,
     "metadata": {},
     "output_type": "execute_result"
    }
   ],
   "source": [
    "# Выведем на экран 10 строк из набора данных о поездках\n",
    "rides.head(10)"
   ]
  },
  {
   "cell_type": "code",
   "execution_count": 5,
   "id": "c2ad1eed",
   "metadata": {},
   "outputs": [
    {
     "data": {
      "application/vnd.microsoft.datawrangler.viewer.v0+json": {
       "columns": [
        {
         "name": "index",
         "rawType": "int64",
         "type": "integer"
        },
        {
         "name": "subscription_type",
         "rawType": "object",
         "type": "string"
        },
        {
         "name": "minute_price",
         "rawType": "int64",
         "type": "integer"
        },
        {
         "name": "start_ride_price",
         "rawType": "int64",
         "type": "integer"
        },
        {
         "name": "subscription_fee",
         "rawType": "int64",
         "type": "integer"
        }
       ],
       "conversionMethod": "pd.DataFrame",
       "ref": "8c73a0cf-e4df-4701-83e2-2ad12e87a347",
       "rows": [
        [
         "0",
         "free",
         "8",
         "50",
         "0"
        ],
        [
         "1",
         "ultra",
         "6",
         "0",
         "199"
        ]
       ],
       "shape": {
        "columns": 4,
        "rows": 2
       }
      },
      "text/html": [
       "<div>\n",
       "<style scoped>\n",
       "    .dataframe tbody tr th:only-of-type {\n",
       "        vertical-align: middle;\n",
       "    }\n",
       "\n",
       "    .dataframe tbody tr th {\n",
       "        vertical-align: top;\n",
       "    }\n",
       "\n",
       "    .dataframe thead th {\n",
       "        text-align: right;\n",
       "    }\n",
       "</style>\n",
       "<table border=\"1\" class=\"dataframe\">\n",
       "  <thead>\n",
       "    <tr style=\"text-align: right;\">\n",
       "      <th></th>\n",
       "      <th>subscription_type</th>\n",
       "      <th>minute_price</th>\n",
       "      <th>start_ride_price</th>\n",
       "      <th>subscription_fee</th>\n",
       "    </tr>\n",
       "  </thead>\n",
       "  <tbody>\n",
       "    <tr>\n",
       "      <th>0</th>\n",
       "      <td>free</td>\n",
       "      <td>8</td>\n",
       "      <td>50</td>\n",
       "      <td>0</td>\n",
       "    </tr>\n",
       "    <tr>\n",
       "      <th>1</th>\n",
       "      <td>ultra</td>\n",
       "      <td>6</td>\n",
       "      <td>0</td>\n",
       "      <td>199</td>\n",
       "    </tr>\n",
       "  </tbody>\n",
       "</table>\n",
       "</div>"
      ],
      "text/plain": [
       "  subscription_type  minute_price  start_ride_price  subscription_fee\n",
       "0              free             8                50                 0\n",
       "1             ultra             6                 0               199"
      ]
     },
     "execution_count": 5,
     "metadata": {},
     "output_type": "execute_result"
    }
   ],
   "source": [
    "# Выведем на экран 10 строк из набора данных о подписках\n",
    "subscriptions.head(10)"
   ]
  },
  {
   "cell_type": "code",
   "execution_count": 6,
   "id": "c272611d",
   "metadata": {},
   "outputs": [
    {
     "name": "stdout",
     "output_type": "stream",
     "text": [
      "<class 'pandas.core.frame.DataFrame'>\n",
      "RangeIndex: 1565 entries, 0 to 1564\n",
      "Data columns (total 5 columns):\n",
      " #   Column             Non-Null Count  Dtype \n",
      "---  ------             --------------  ----- \n",
      " 0   user_id            1565 non-null   int64 \n",
      " 1   name               1565 non-null   object\n",
      " 2   age                1565 non-null   int64 \n",
      " 3   city               1565 non-null   object\n",
      " 4   subscription_type  1565 non-null   object\n",
      "dtypes: int64(2), object(3)\n",
      "memory usage: 61.3+ KB\n"
     ]
    }
   ],
   "source": [
    "# Выведем основную информацию о датафрейме с набором данных о пользователях\n",
    "users.info()"
   ]
  },
  {
   "cell_type": "code",
   "execution_count": 7,
   "id": "bfc0f167",
   "metadata": {},
   "outputs": [
    {
     "name": "stdout",
     "output_type": "stream",
     "text": [
      "<class 'pandas.core.frame.DataFrame'>\n",
      "RangeIndex: 18068 entries, 0 to 18067\n",
      "Data columns (total 4 columns):\n",
      " #   Column    Non-Null Count  Dtype  \n",
      "---  ------    --------------  -----  \n",
      " 0   user_id   18068 non-null  int64  \n",
      " 1   distance  18068 non-null  float64\n",
      " 2   duration  18068 non-null  float64\n",
      " 3   date      18068 non-null  object \n",
      "dtypes: float64(2), int64(1), object(1)\n",
      "memory usage: 564.8+ KB\n"
     ]
    }
   ],
   "source": [
    "# Выведем основную информацию о датафрейме с набором данных о поездках\n",
    "rides.info()"
   ]
  },
  {
   "cell_type": "code",
   "execution_count": 8,
   "id": "0481aa47",
   "metadata": {},
   "outputs": [
    {
     "name": "stdout",
     "output_type": "stream",
     "text": [
      "<class 'pandas.core.frame.DataFrame'>\n",
      "RangeIndex: 2 entries, 0 to 1\n",
      "Data columns (total 4 columns):\n",
      " #   Column             Non-Null Count  Dtype \n",
      "---  ------             --------------  ----- \n",
      " 0   subscription_type  2 non-null      object\n",
      " 1   minute_price       2 non-null      int64 \n",
      " 2   start_ride_price   2 non-null      int64 \n",
      " 3   subscription_fee   2 non-null      int64 \n",
      "dtypes: int64(3), object(1)\n",
      "memory usage: 196.0+ bytes\n"
     ]
    }
   ],
   "source": [
    "# Выведем основную информацию о датафрейме с набором данных о подписках\n",
    "subscriptions.info()"
   ]
  },
  {
   "cell_type": "markdown",
   "id": "c3f0c59c",
   "metadata": {},
   "source": [
    "После первичного ознакомления с данными можно сделать следующие выводы: \n",
    "- для анализа переданы данные о 1565 пользователях;\n",
    "- на счету этих пользователей 18 068 поездок.\n",
    "\n",
    "Сервисом можно пользоваться:\n",
    "- без подписки\n",
    "    - абонентская плата отсутствует;\n",
    "    - стоимость одной минуты поездки — 8 рублей;\n",
    "    - стоимость старта (начала поездки) — 50 рублей;\n",
    "- с подпиской Ultra\n",
    "    - абонентская плата — 199 рублей в месяц;\n",
    "    - стоимость одной минуты поездки — 6 рублей;\n",
    "    - стоимость старта — бесплатно."
   ]
  },
  {
   "cell_type": "markdown",
   "id": "e95ebca7",
   "metadata": {},
   "source": [
    "#### Шаг 2. Предобработка данных"
   ]
  },
  {
   "cell_type": "markdown",
   "id": "6c8e6d8c",
   "metadata": {},
   "source": [
    "##### Корректировка типов данных"
   ]
  },
  {
   "cell_type": "code",
   "execution_count": 9,
   "id": "af6d202c",
   "metadata": {},
   "outputs": [],
   "source": [
    "# приведем столбец date датафрейма rides к корректному типу данных\n",
    "rides['date'] = pd.to_datetime(rides['date'], format='%Y-%m-%d')"
   ]
  },
  {
   "cell_type": "markdown",
   "id": "f024a68b",
   "metadata": {},
   "source": [
    "##### Создание новых столбцов"
   ]
  },
  {
   "cell_type": "code",
   "execution_count": 10,
   "id": "8eadf20d",
   "metadata": {},
   "outputs": [
    {
     "data": {
      "text/plain": [
       "count                            18068\n",
       "mean     2021-06-30 19:47:21.266327296\n",
       "min                2021-01-01 00:00:00\n",
       "25%                2021-04-02 00:00:00\n",
       "50%                2021-06-30 00:00:00\n",
       "75%                2021-09-28 00:00:00\n",
       "max                2021-12-30 00:00:00\n",
       "Name: date, dtype: object"
      ]
     },
     "execution_count": 10,
     "metadata": {},
     "output_type": "execute_result"
    }
   ],
   "source": [
    "# проверим за какой период нам предоставлены данные\n",
    "# результат говорит о том, что данные предоставлены за один календарный год. Это подходит для анализа\n",
    "rides['date'].describe()"
   ]
  },
  {
   "cell_type": "code",
   "execution_count": 11,
   "id": "0bd8d48d",
   "metadata": {},
   "outputs": [],
   "source": [
    "# создадим новый столбец с номером месяца на основе столбца date\n",
    "rides['ride_month'] = pd.DatetimeIndex(rides['date']).month"
   ]
  },
  {
   "cell_type": "markdown",
   "id": "95978a16",
   "metadata": {},
   "source": [
    "##### Работа с пропусками"
   ]
  },
  {
   "cell_type": "code",
   "execution_count": 12,
   "id": "253f11e6",
   "metadata": {},
   "outputs": [
    {
     "data": {
      "text/plain": [
       "user_id              0\n",
       "name                 0\n",
       "age                  0\n",
       "city                 0\n",
       "subscription_type    0\n",
       "dtype: int64"
      ]
     },
     "execution_count": 12,
     "metadata": {},
     "output_type": "execute_result"
    }
   ],
   "source": [
    "# Проверим есть ли пропуски в датафрейме users\n",
    "users.isna().sum().sort_values(ascending=False)"
   ]
  },
  {
   "cell_type": "code",
   "execution_count": 13,
   "id": "7126d6d6",
   "metadata": {},
   "outputs": [
    {
     "data": {
      "text/plain": [
       "user_id       0\n",
       "distance      0\n",
       "duration      0\n",
       "date          0\n",
       "ride_month    0\n",
       "dtype: int64"
      ]
     },
     "execution_count": 13,
     "metadata": {},
     "output_type": "execute_result"
    }
   ],
   "source": [
    "# Проверим есть ли пропуски в датафрейме rides\n",
    "rides.isna().sum().sort_values(ascending=False)"
   ]
  },
  {
   "cell_type": "markdown",
   "id": "c03780cc",
   "metadata": {},
   "source": [
    "##### Работа с дубликатами"
   ]
  },
  {
   "cell_type": "code",
   "execution_count": 14,
   "id": "48323b8f",
   "metadata": {},
   "outputs": [
    {
     "data": {
      "text/plain": [
       "np.int64(31)"
      ]
     },
     "execution_count": 14,
     "metadata": {},
     "output_type": "execute_result"
    }
   ],
   "source": [
    "# проверим количество дубликатов в датафрейме users\n",
    "users.duplicated().sum()"
   ]
  },
  {
   "cell_type": "code",
   "execution_count": 15,
   "id": "02492bb9",
   "metadata": {},
   "outputs": [],
   "source": [
    "# удалим полные дубликаты\n",
    "users = users.drop_duplicates().reset_index(drop=True)"
   ]
  },
  {
   "cell_type": "code",
   "execution_count": 16,
   "id": "440f4cfa",
   "metadata": {},
   "outputs": [
    {
     "data": {
      "text/plain": [
       "np.int64(0)"
      ]
     },
     "execution_count": 16,
     "metadata": {},
     "output_type": "execute_result"
    }
   ],
   "source": [
    "# проверим количество дубликатов в датафрейме rides\n",
    "rides.duplicated().sum()"
   ]
  },
  {
   "cell_type": "markdown",
   "id": "1aef4d24",
   "metadata": {},
   "source": [
    "По результатам предобработки данных можно говорить о хорошем качестве исходных данных. \n",
    "\n",
    "Потребовались минимальные изменения:\n",
    "- корректировка типа данных столбца `date`;\n",
    "- удаление дубликатов строк с пользователями."
   ]
  },
  {
   "cell_type": "markdown",
   "id": "212593c7",
   "metadata": {},
   "source": [
    "#### Шаг 3. Исследовательский анализ данных"
   ]
  },
  {
   "cell_type": "markdown",
   "id": "1bb7afac",
   "metadata": {},
   "source": [
    "##### Частота встречаемости городов"
   ]
  },
  {
   "cell_type": "code",
   "execution_count": 17,
   "id": "e3a4274c",
   "metadata": {},
   "outputs": [
    {
     "data": {
      "image/png": "[encoded data removed]",
      "text/plain": [
       "<Figure size 600x400 with 1 Axes>"
      ]
     },
     "metadata": {},
     "output_type": "display_data"
    }
   ],
   "source": [
    "# построим график частоты встречаемости городов\n",
    "'''df = users.value_counts('city').\\\n",
    "    plot(kind='bar', figsize=(6, 4), xlabel='', ylabel='', title='Частота встречаемости городов\\n'.upper())'''\n",
    "\n",
    "df = users.value_counts('city').\\\n",
    "    plot(kind='barh', figsize=(6, 4), title='Частота встречаемости городов\\n'.upper())\n",
    "plt.xlabel('Количество поездок')\n",
    "plt.ylabel('Название города');"
   ]
  },
  {
   "cell_type": "markdown",
   "id": "021dd235",
   "metadata": {},
   "source": [
    "На основании столбчатой диаграммы можно сделать выводы:\n",
    "- большинство пользователей из Пятигорска;\n",
    "- меньше всего пользователей из Москвы.\n",
    "\n",
    "Количество пользователей на юге страны больше, возможно, из-за длительного сезона пользования самокатами."
   ]
  },
  {
   "cell_type": "markdown",
   "id": "1e4429c1",
   "metadata": {},
   "source": [
    "##### Соотношение пользователей с подпиской и без подписки"
   ]
  },
  {
   "cell_type": "code",
   "execution_count": 18,
   "id": "08adb722",
   "metadata": {},
   "outputs": [
    {
     "data": {
      "image/png": "[encoded data removed]",
      "text/plain": [
       "<Figure size 600x400 with 1 Axes>"
      ]
     },
     "metadata": {},
     "output_type": "display_data"
    }
   ],
   "source": [
    "# построим график количества пользователей с подпиской и без\n",
    "users['subscription_type'].value_counts().\\\n",
    "    plot(kind='pie', figsize=(6, 4), xlabel='', ylabel='', title='Соотношение пользователей с подпиской и без подписки\\n'.upper(), labels=['Без подписки', 'С подпиской'], autopct='%1.1f%%');"
   ]
  },
  {
   "cell_type": "markdown",
   "id": "9d699762",
   "metadata": {},
   "source": [
    "На основании столбчатой гистограммы можно сделать вывод о том, что пользователей без подписки больше, чем пользователей, которые приобрели подписку. Но разница между этими группами пользователей не очень большая."
   ]
  },
  {
   "cell_type": "markdown",
   "id": "f186c2f5",
   "metadata": {},
   "source": [
    "##### Возраст пользователей"
   ]
  },
  {
   "cell_type": "code",
   "execution_count": 19,
   "id": "88880b69",
   "metadata": {},
   "outputs": [
    {
     "data": {
      "text/plain": [
       "count    1534.000000\n",
       "mean       24.903520\n",
       "std         4.572367\n",
       "min        12.000000\n",
       "25%        22.000000\n",
       "50%        25.000000\n",
       "75%        28.000000\n",
       "max        43.000000\n",
       "Name: age, dtype: float64"
      ]
     },
     "execution_count": 19,
     "metadata": {},
     "output_type": "execute_result"
    }
   ],
   "source": [
    "# получим описание данных столбца age\n",
    "users['age'].describe()"
   ]
  },
  {
   "cell_type": "code",
   "execution_count": 20,
   "id": "067331a8",
   "metadata": {},
   "outputs": [
    {
     "data": {
      "image/png": "[encoded data removed]",
      "text/plain": [
       "<Figure size 600x400 with 1 Axes>"
      ]
     },
     "metadata": {},
     "output_type": "display_data"
    }
   ],
   "source": [
    "# построим гистограмму по данным о возрасте пользователей\n",
    "users['age'].plot(kind='hist', bins=20, range=(5, 50), figsize=(6, 4), title='Распределение возрастов пользователей\\n'.upper())\n",
    "plt.xlabel('Возраст, лет')\n",
    "plt.ylabel('Количество пользователей');"
   ]
  },
  {
   "cell_type": "code",
   "execution_count": 21,
   "id": "84e72e20",
   "metadata": {},
   "outputs": [
    {
     "data": {
      "image/png": "[encoded data removed]",
      "text/plain": [
       "<Figure size 640x480 with 1 Axes>"
      ]
     },
     "metadata": {},
     "output_type": "display_data"
    }
   ],
   "source": [
    "# построим график распределения для столбца age\n",
    "users.boxplot('age');"
   ]
  },
  {
   "cell_type": "markdown",
   "id": "6257c1b5",
   "metadata": {},
   "source": [
    "На основании графиков и описания данных можно сделать выводы:\n",
    "- больше всего пользователей, арендующих самокаты, находятся в возрасте ~~от 20 до 30 лет~~ ~ 25 лет;\n",
    "- самому младшему пользователю 12 лет;\n",
    "- самому старшему пользователю 43."
   ]
  },
  {
   "cell_type": "markdown",
   "id": "08842507",
   "metadata": {},
   "source": [
    "##### Расстояние, которое пользователь преодолел за одну поездку"
   ]
  },
  {
   "cell_type": "code",
   "execution_count": 22,
   "id": "ae8249b4",
   "metadata": {},
   "outputs": [
    {
     "data": {
      "text/plain": [
       "count    18068.000000\n",
       "mean      3070.659976\n",
       "std       1116.831209\n",
       "min          0.855683\n",
       "25%       2543.226360\n",
       "50%       3133.609994\n",
       "75%       3776.222735\n",
       "max       7211.007745\n",
       "Name: distance, dtype: float64"
      ]
     },
     "execution_count": 22,
     "metadata": {},
     "output_type": "execute_result"
    }
   ],
   "source": [
    "# получим описание данных столбца distance\n",
    "rides['distance'].describe()"
   ]
  },
  {
   "cell_type": "code",
   "execution_count": 23,
   "id": "785a7ed7",
   "metadata": {},
   "outputs": [
    {
     "data": {
      "image/png": "[encoded data removed]",
      "text/plain": [
       "<Figure size 600x400 with 1 Axes>"
      ]
     },
     "metadata": {},
     "output_type": "display_data"
    }
   ],
   "source": [
    "# построим гистограмму по данным о расстояниях, которые пользователи преодолевали за одну поездку\n",
    "'''rides['distance'].plot(kind='hist', figsize=(6, 4),  title='Расстояния, которые пользователи преодолевают за одну поездку\\n'.upper())'''\n",
    "\n",
    "rides['distance'].plot(kind='hist', figsize=(6, 4),  title='Расстояния, которые пользователи преодолевают за одну поездку\\n'.upper())\n",
    "plt.xlabel('Расстояние, м')\n",
    "plt.ylabel('Количество поездок');"
   ]
  },
  {
   "cell_type": "code",
   "execution_count": 24,
   "id": "664ec984",
   "metadata": {},
   "outputs": [
    {
     "data": {
      "image/png": "[encoded data removed]",
      "text/plain": [
       "<Figure size 640x480 with 1 Axes>"
      ]
     },
     "metadata": {},
     "output_type": "display_data"
    }
   ],
   "source": [
    "# построим график распределения для столбца distance\n",
    "rides.boxplot('distance');"
   ]
  },
  {
   "cell_type": "markdown",
   "id": "8f16c205",
   "metadata": {},
   "source": [
    "На основании графиков и описания данных можно сделать выводы: \n",
    "- медианное расстояние поездок составляет ~ 3133 м;\n",
    "- самая короткая поездка менее 1 км;\n",
    "- самая длинная поездка ~ 7,2 км."
   ]
  },
  {
   "cell_type": "markdown",
   "id": "8586ead6",
   "metadata": {},
   "source": [
    "##### Продолжительность поездок"
   ]
  },
  {
   "cell_type": "code",
   "execution_count": 25,
   "id": "566b9e51",
   "metadata": {},
   "outputs": [
    {
     "data": {
      "text/plain": [
       "count    18068.000000\n",
       "mean        17.805011\n",
       "std          6.091051\n",
       "min          0.500000\n",
       "25%         13.597563\n",
       "50%         17.678395\n",
       "75%         21.724800\n",
       "max         40.823963\n",
       "Name: duration, dtype: float64"
      ]
     },
     "execution_count": 25,
     "metadata": {},
     "output_type": "execute_result"
    }
   ],
   "source": [
    "# получим описание данных столбца duration\n",
    "rides['duration'].describe()"
   ]
  },
  {
   "cell_type": "code",
   "execution_count": 26,
   "id": "d51fffdb",
   "metadata": {},
   "outputs": [
    {
     "data": {
      "image/png": "[encoded data removed]",
      "text/plain": [
       "<Figure size 600x400 with 1 Axes>"
      ]
     },
     "metadata": {},
     "output_type": "display_data"
    }
   ],
   "source": [
    "# построим гистограмму по данным о продолжительности поездок\n",
    "rides['duration'].plot(kind='hist', figsize=(6, 4), title='Продолжительности поездок\\n'.upper())\n",
    "plt.xlabel('Продолжительность поездки, мин.')\n",
    "plt.ylabel('Количество поездок');"
   ]
  },
  {
   "cell_type": "code",
   "execution_count": 27,
   "id": "3ea24f09",
   "metadata": {},
   "outputs": [
    {
     "data": {
      "image/png": "[encoded data removed]",
      "text/plain": [
       "<Figure size 640x480 with 1 Axes>"
      ]
     },
     "metadata": {},
     "output_type": "display_data"
    }
   ],
   "source": [
    "# построим график распределения для столбца distance\n",
    "rides.boxplot('duration');"
   ]
  },
  {
   "cell_type": "markdown",
   "id": "df3eec13",
   "metadata": {},
   "source": [
    "На основании графиков и описания данных можно сделать выводы: \n",
    "- медианная (как и средняя) длительность поездок составляет ~ 17 мин.;\n",
    "- самая короткая поездка длилась менее 1 минуты;\n",
    "- самая длинная поездка длилась почти 41 минуту."
   ]
  },
  {
   "cell_type": "markdown",
   "id": "4ef51331",
   "metadata": {},
   "source": [
    "#### Шаг 4. Объединение данных"
   ]
  },
  {
   "cell_type": "code",
   "execution_count": 28,
   "id": "b7ab8096",
   "metadata": {},
   "outputs": [
    {
     "name": "stdout",
     "output_type": "stream",
     "text": [
      "<class 'pandas.core.frame.DataFrame'>\n",
      "RangeIndex: 1534 entries, 0 to 1533\n",
      "Data columns (total 5 columns):\n",
      " #   Column             Non-Null Count  Dtype \n",
      "---  ------             --------------  ----- \n",
      " 0   user_id            1534 non-null   int64 \n",
      " 1   name               1534 non-null   object\n",
      " 2   age                1534 non-null   int64 \n",
      " 3   city               1534 non-null   object\n",
      " 4   subscription_type  1534 non-null   object\n",
      "dtypes: int64(2), object(3)\n",
      "memory usage: 60.1+ KB\n"
     ]
    }
   ],
   "source": [
    "# проверим размерности датасетов до их объединения\n",
    "users.info()"
   ]
  },
  {
   "cell_type": "code",
   "execution_count": 29,
   "id": "f3473c7d",
   "metadata": {},
   "outputs": [
    {
     "name": "stdout",
     "output_type": "stream",
     "text": [
      "<class 'pandas.core.frame.DataFrame'>\n",
      "RangeIndex: 18068 entries, 0 to 18067\n",
      "Data columns (total 5 columns):\n",
      " #   Column      Non-Null Count  Dtype         \n",
      "---  ------      --------------  -----         \n",
      " 0   user_id     18068 non-null  int64         \n",
      " 1   distance    18068 non-null  float64       \n",
      " 2   duration    18068 non-null  float64       \n",
      " 3   date        18068 non-null  datetime64[ns]\n",
      " 4   ride_month  18068 non-null  int32         \n",
      "dtypes: datetime64[ns](1), float64(2), int32(1), int64(1)\n",
      "memory usage: 635.3 KB\n"
     ]
    }
   ],
   "source": [
    "rides.info()"
   ]
  },
  {
   "cell_type": "code",
   "execution_count": 30,
   "id": "8d8c2ffd",
   "metadata": {},
   "outputs": [
    {
     "name": "stdout",
     "output_type": "stream",
     "text": [
      "<class 'pandas.core.frame.DataFrame'>\n",
      "RangeIndex: 2 entries, 0 to 1\n",
      "Data columns (total 4 columns):\n",
      " #   Column             Non-Null Count  Dtype \n",
      "---  ------             --------------  ----- \n",
      " 0   subscription_type  2 non-null      object\n",
      " 1   minute_price       2 non-null      int64 \n",
      " 2   start_ride_price   2 non-null      int64 \n",
      " 3   subscription_fee   2 non-null      int64 \n",
      "dtypes: int64(3), object(1)\n",
      "memory usage: 196.0+ bytes\n"
     ]
    }
   ],
   "source": [
    "subscriptions.info()"
   ]
  },
  {
   "cell_type": "code",
   "execution_count": 31,
   "id": "6bf288b5",
   "metadata": {},
   "outputs": [
    {
     "name": "stdout",
     "output_type": "stream",
     "text": [
      "<class 'pandas.core.frame.DataFrame'>\n",
      "RangeIndex: 18068 entries, 0 to 18067\n",
      "Data columns (total 9 columns):\n",
      " #   Column             Non-Null Count  Dtype         \n",
      "---  ------             --------------  -----         \n",
      " 0   user_id            18068 non-null  int64         \n",
      " 1   name               18068 non-null  object        \n",
      " 2   age                18068 non-null  int64         \n",
      " 3   city               18068 non-null  object        \n",
      " 4   subscription_type  18068 non-null  object        \n",
      " 5   distance           18068 non-null  float64       \n",
      " 6   duration           18068 non-null  float64       \n",
      " 7   date               18068 non-null  datetime64[ns]\n",
      " 8   ride_month         18068 non-null  int32         \n",
      "dtypes: datetime64[ns](1), float64(2), int32(1), int64(2), object(3)\n",
      "memory usage: 1.2+ MB\n"
     ]
    }
   ],
   "source": [
    "# объединим данные о пользователях и поездках по столбцу user_id\n",
    "users_and_rides = users.merge(rides, on='user_id')\n",
    "\n",
    "# проверим корректно ли произошло объединение\n",
    "users_and_rides.info()"
   ]
  },
  {
   "cell_type": "code",
   "execution_count": 32,
   "id": "713e4f09",
   "metadata": {},
   "outputs": [
    {
     "name": "stdout",
     "output_type": "stream",
     "text": [
      "<class 'pandas.core.frame.DataFrame'>\n",
      "RangeIndex: 18068 entries, 0 to 18067\n",
      "Data columns (total 12 columns):\n",
      " #   Column             Non-Null Count  Dtype         \n",
      "---  ------             --------------  -----         \n",
      " 0   user_id            18068 non-null  int64         \n",
      " 1   name               18068 non-null  object        \n",
      " 2   age                18068 non-null  int64         \n",
      " 3   city               18068 non-null  object        \n",
      " 4   subscription_type  18068 non-null  object        \n",
      " 5   distance           18068 non-null  float64       \n",
      " 6   duration           18068 non-null  float64       \n",
      " 7   date               18068 non-null  datetime64[ns]\n",
      " 8   ride_month         18068 non-null  int32         \n",
      " 9   minute_price       18068 non-null  int64         \n",
      " 10  start_ride_price   18068 non-null  int64         \n",
      " 11  subscription_fee   18068 non-null  int64         \n",
      "dtypes: datetime64[ns](1), float64(2), int32(1), int64(5), object(3)\n",
      "memory usage: 1.6+ MB\n"
     ]
    }
   ],
   "source": [
    "# теперь объединим получившийся датафрейм с subscriptions\n",
    "df = users_and_rides.merge(subscriptions, on='subscription_type')\n",
    "\n",
    "# проверим корректно ли произошло объединение\n",
    "df.info()"
   ]
  },
  {
   "cell_type": "code",
   "execution_count": 33,
   "id": "e0e5bbf6",
   "metadata": {},
   "outputs": [
    {
     "data": {
      "application/vnd.microsoft.datawrangler.viewer.v0+json": {
       "columns": [
        {
         "name": "index",
         "rawType": "int64",
         "type": "integer"
        },
        {
         "name": "user_id",
         "rawType": "int64",
         "type": "integer"
        },
        {
         "name": "name",
         "rawType": "object",
         "type": "string"
        },
        {
         "name": "age",
         "rawType": "int64",
         "type": "integer"
        },
        {
         "name": "city",
         "rawType": "object",
         "type": "string"
        },
        {
         "name": "subscription_type",
         "rawType": "object",
         "type": "string"
        },
        {
         "name": "distance",
         "rawType": "float64",
         "type": "float"
        },
        {
         "name": "duration",
         "rawType": "float64",
         "type": "float"
        },
        {
         "name": "date",
         "rawType": "datetime64[ns]",
         "type": "datetime"
        },
        {
         "name": "ride_month",
         "rawType": "int32",
         "type": "integer"
        },
        {
         "name": "minute_price",
         "rawType": "int64",
         "type": "integer"
        },
        {
         "name": "start_ride_price",
         "rawType": "int64",
         "type": "integer"
        },
        {
         "name": "subscription_fee",
         "rawType": "int64",
         "type": "integer"
        }
       ],
       "conversionMethod": "pd.DataFrame",
       "ref": "2dfb41fc-8c7c-40a1-a008-9dbcf450ca0b",
       "rows": [
        [
         "0",
         "1",
         "Кира",
         "22",
         "Тюмень",
         "ultra",
         "4409.919140196136",
         "25.59976897198896",
         "2021-01-01 00:00:00",
         "1",
         "6",
         "0",
         "199"
        ],
        [
         "1",
         "1",
         "Кира",
         "22",
         "Тюмень",
         "ultra",
         "2617.5921534552563",
         "15.816871452122792",
         "2021-01-18 00:00:00",
         "1",
         "6",
         "0",
         "199"
        ],
        [
         "2",
         "1",
         "Кира",
         "22",
         "Тюмень",
         "ultra",
         "754.1598069611837",
         "6.232113458405072",
         "2021-04-20 00:00:00",
         "4",
         "6",
         "0",
         "199"
        ],
        [
         "3",
         "1",
         "Кира",
         "22",
         "Тюмень",
         "ultra",
         "2694.7832537889467",
         "18.510999719255103",
         "2021-08-11 00:00:00",
         "8",
         "6",
         "0",
         "199"
        ],
        [
         "4",
         "1",
         "Кира",
         "22",
         "Тюмень",
         "ultra",
         "4028.6873061660526",
         "26.265802740711653",
         "2021-08-28 00:00:00",
         "8",
         "6",
         "0",
         "199"
        ],
        [
         "5",
         "1",
         "Кира",
         "22",
         "Тюмень",
         "ultra",
         "2770.890807774881",
         "16.650137938659714",
         "2021-10-09 00:00:00",
         "10",
         "6",
         "0",
         "199"
        ],
        [
         "6",
         "1",
         "Кира",
         "22",
         "Тюмень",
         "ultra",
         "3039.0202923997176",
         "14.927879023651435",
         "2021-10-19 00:00:00",
         "10",
         "6",
         "0",
         "199"
        ],
        [
         "7",
         "1",
         "Кира",
         "22",
         "Тюмень",
         "ultra",
         "2842.1180504740605",
         "23.117467925264897",
         "2021-11-06 00:00:00",
         "11",
         "6",
         "0",
         "199"
        ],
        [
         "8",
         "1",
         "Кира",
         "22",
         "Тюмень",
         "ultra",
         "3412.6906682951376",
         "15.238072004885412",
         "2021-11-14 00:00:00",
         "11",
         "6",
         "0",
         "199"
        ],
        [
         "9",
         "1",
         "Кира",
         "22",
         "Тюмень",
         "ultra",
         "748.6906445372992",
         "15.041883576010816",
         "2021-11-22 00:00:00",
         "11",
         "6",
         "0",
         "199"
        ]
       ],
       "shape": {
        "columns": 12,
        "rows": 10
       }
      },
      "text/html": [
       "<div>\n",
       "<style scoped>\n",
       "    .dataframe tbody tr th:only-of-type {\n",
       "        vertical-align: middle;\n",
       "    }\n",
       "\n",
       "    .dataframe tbody tr th {\n",
       "        vertical-align: top;\n",
       "    }\n",
       "\n",
       "    .dataframe thead th {\n",
       "        text-align: right;\n",
       "    }\n",
       "</style>\n",
       "<table border=\"1\" class=\"dataframe\">\n",
       "  <thead>\n",
       "    <tr style=\"text-align: right;\">\n",
       "      <th></th>\n",
       "      <th>user_id</th>\n",
       "      <th>name</th>\n",
       "      <th>age</th>\n",
       "      <th>city</th>\n",
       "      <th>subscription_type</th>\n",
       "      <th>distance</th>\n",
       "      <th>duration</th>\n",
       "      <th>date</th>\n",
       "      <th>ride_month</th>\n",
       "      <th>minute_price</th>\n",
       "      <th>start_ride_price</th>\n",
       "      <th>subscription_fee</th>\n",
       "    </tr>\n",
       "  </thead>\n",
       "  <tbody>\n",
       "    <tr>\n",
       "      <th>0</th>\n",
       "      <td>1</td>\n",
       "      <td>Кира</td>\n",
       "      <td>22</td>\n",
       "      <td>Тюмень</td>\n",
       "      <td>ultra</td>\n",
       "      <td>4409.919140</td>\n",
       "      <td>25.599769</td>\n",
       "      <td>2021-01-01</td>\n",
       "      <td>1</td>\n",
       "      <td>6</td>\n",
       "      <td>0</td>\n",
       "      <td>199</td>\n",
       "    </tr>\n",
       "    <tr>\n",
       "      <th>1</th>\n",
       "      <td>1</td>\n",
       "      <td>Кира</td>\n",
       "      <td>22</td>\n",
       "      <td>Тюмень</td>\n",
       "      <td>ultra</td>\n",
       "      <td>2617.592153</td>\n",
       "      <td>15.816871</td>\n",
       "      <td>2021-01-18</td>\n",
       "      <td>1</td>\n",
       "      <td>6</td>\n",
       "      <td>0</td>\n",
       "      <td>199</td>\n",
       "    </tr>\n",
       "    <tr>\n",
       "      <th>2</th>\n",
       "      <td>1</td>\n",
       "      <td>Кира</td>\n",
       "      <td>22</td>\n",
       "      <td>Тюмень</td>\n",
       "      <td>ultra</td>\n",
       "      <td>754.159807</td>\n",
       "      <td>6.232113</td>\n",
       "      <td>2021-04-20</td>\n",
       "      <td>4</td>\n",
       "      <td>6</td>\n",
       "      <td>0</td>\n",
       "      <td>199</td>\n",
       "    </tr>\n",
       "    <tr>\n",
       "      <th>3</th>\n",
       "      <td>1</td>\n",
       "      <td>Кира</td>\n",
       "      <td>22</td>\n",
       "      <td>Тюмень</td>\n",
       "      <td>ultra</td>\n",
       "      <td>2694.783254</td>\n",
       "      <td>18.511000</td>\n",
       "      <td>2021-08-11</td>\n",
       "      <td>8</td>\n",
       "      <td>6</td>\n",
       "      <td>0</td>\n",
       "      <td>199</td>\n",
       "    </tr>\n",
       "    <tr>\n",
       "      <th>4</th>\n",
       "      <td>1</td>\n",
       "      <td>Кира</td>\n",
       "      <td>22</td>\n",
       "      <td>Тюмень</td>\n",
       "      <td>ultra</td>\n",
       "      <td>4028.687306</td>\n",
       "      <td>26.265803</td>\n",
       "      <td>2021-08-28</td>\n",
       "      <td>8</td>\n",
       "      <td>6</td>\n",
       "      <td>0</td>\n",
       "      <td>199</td>\n",
       "    </tr>\n",
       "    <tr>\n",
       "      <th>5</th>\n",
       "      <td>1</td>\n",
       "      <td>Кира</td>\n",
       "      <td>22</td>\n",
       "      <td>Тюмень</td>\n",
       "      <td>ultra</td>\n",
       "      <td>2770.890808</td>\n",
       "      <td>16.650138</td>\n",
       "      <td>2021-10-09</td>\n",
       "      <td>10</td>\n",
       "      <td>6</td>\n",
       "      <td>0</td>\n",
       "      <td>199</td>\n",
       "    </tr>\n",
       "    <tr>\n",
       "      <th>6</th>\n",
       "      <td>1</td>\n",
       "      <td>Кира</td>\n",
       "      <td>22</td>\n",
       "      <td>Тюмень</td>\n",
       "      <td>ultra</td>\n",
       "      <td>3039.020292</td>\n",
       "      <td>14.927879</td>\n",
       "      <td>2021-10-19</td>\n",
       "      <td>10</td>\n",
       "      <td>6</td>\n",
       "      <td>0</td>\n",
       "      <td>199</td>\n",
       "    </tr>\n",
       "    <tr>\n",
       "      <th>7</th>\n",
       "      <td>1</td>\n",
       "      <td>Кира</td>\n",
       "      <td>22</td>\n",
       "      <td>Тюмень</td>\n",
       "      <td>ultra</td>\n",
       "      <td>2842.118050</td>\n",
       "      <td>23.117468</td>\n",
       "      <td>2021-11-06</td>\n",
       "      <td>11</td>\n",
       "      <td>6</td>\n",
       "      <td>0</td>\n",
       "      <td>199</td>\n",
       "    </tr>\n",
       "    <tr>\n",
       "      <th>8</th>\n",
       "      <td>1</td>\n",
       "      <td>Кира</td>\n",
       "      <td>22</td>\n",
       "      <td>Тюмень</td>\n",
       "      <td>ultra</td>\n",
       "      <td>3412.690668</td>\n",
       "      <td>15.238072</td>\n",
       "      <td>2021-11-14</td>\n",
       "      <td>11</td>\n",
       "      <td>6</td>\n",
       "      <td>0</td>\n",
       "      <td>199</td>\n",
       "    </tr>\n",
       "    <tr>\n",
       "      <th>9</th>\n",
       "      <td>1</td>\n",
       "      <td>Кира</td>\n",
       "      <td>22</td>\n",
       "      <td>Тюмень</td>\n",
       "      <td>ultra</td>\n",
       "      <td>748.690645</td>\n",
       "      <td>15.041884</td>\n",
       "      <td>2021-11-22</td>\n",
       "      <td>11</td>\n",
       "      <td>6</td>\n",
       "      <td>0</td>\n",
       "      <td>199</td>\n",
       "    </tr>\n",
       "  </tbody>\n",
       "</table>\n",
       "</div>"
      ],
      "text/plain": [
       "   user_id  name  age    city subscription_type     distance   duration  \\\n",
       "0        1  Кира   22  Тюмень             ultra  4409.919140  25.599769   \n",
       "1        1  Кира   22  Тюмень             ultra  2617.592153  15.816871   \n",
       "2        1  Кира   22  Тюмень             ultra   754.159807   6.232113   \n",
       "3        1  Кира   22  Тюмень             ultra  2694.783254  18.511000   \n",
       "4        1  Кира   22  Тюмень             ultra  4028.687306  26.265803   \n",
       "5        1  Кира   22  Тюмень             ultra  2770.890808  16.650138   \n",
       "6        1  Кира   22  Тюмень             ultra  3039.020292  14.927879   \n",
       "7        1  Кира   22  Тюмень             ultra  2842.118050  23.117468   \n",
       "8        1  Кира   22  Тюмень             ultra  3412.690668  15.238072   \n",
       "9        1  Кира   22  Тюмень             ultra   748.690645  15.041884   \n",
       "\n",
       "        date  ride_month  minute_price  start_ride_price  subscription_fee  \n",
       "0 2021-01-01           1             6                 0               199  \n",
       "1 2021-01-18           1             6                 0               199  \n",
       "2 2021-04-20           4             6                 0               199  \n",
       "3 2021-08-11           8             6                 0               199  \n",
       "4 2021-08-28           8             6                 0               199  \n",
       "5 2021-10-09          10             6                 0               199  \n",
       "6 2021-10-19          10             6                 0               199  \n",
       "7 2021-11-06          11             6                 0               199  \n",
       "8 2021-11-14          11             6                 0               199  \n",
       "9 2021-11-22          11             6                 0               199  "
      ]
     },
     "execution_count": 33,
     "metadata": {},
     "output_type": "execute_result"
    }
   ],
   "source": [
    "# выведем несколько строк из датафрейма для ознакомления и проверки \n",
    "df.head(10)"
   ]
  },
  {
   "cell_type": "code",
   "execution_count": 34,
   "id": "2871c2d7",
   "metadata": {},
   "outputs": [
    {
     "data": {
      "application/vnd.microsoft.datawrangler.viewer.v0+json": {
       "columns": [
        {
         "name": "index",
         "rawType": "int64",
         "type": "integer"
        },
        {
         "name": "user_id",
         "rawType": "int64",
         "type": "integer"
        },
        {
         "name": "name",
         "rawType": "object",
         "type": "string"
        },
        {
         "name": "age",
         "rawType": "int64",
         "type": "integer"
        },
        {
         "name": "city",
         "rawType": "object",
         "type": "string"
        },
        {
         "name": "subscription_type",
         "rawType": "object",
         "type": "string"
        },
        {
         "name": "distance",
         "rawType": "float64",
         "type": "float"
        },
        {
         "name": "duration",
         "rawType": "float64",
         "type": "float"
        },
        {
         "name": "date",
         "rawType": "datetime64[ns]",
         "type": "datetime"
        },
        {
         "name": "ride_month",
         "rawType": "int32",
         "type": "integer"
        },
        {
         "name": "minute_price",
         "rawType": "int64",
         "type": "integer"
        },
        {
         "name": "start_ride_price",
         "rawType": "int64",
         "type": "integer"
        },
        {
         "name": "subscription_fee",
         "rawType": "int64",
         "type": "integer"
        }
       ],
       "conversionMethod": "pd.DataFrame",
       "ref": "512645cc-3e4c-459c-82de-fb77d112f468",
       "rows": [
        [
         "6500",
         "700",
         "Айдар",
         "22",
         "Омск",
         "free",
         "2515.690719145906",
         "14.944286481513387",
         "2021-01-02 00:00:00",
         "1",
         "8",
         "50",
         "0"
        ],
        [
         "6501",
         "700",
         "Айдар",
         "22",
         "Омск",
         "free",
         "846.9326421098314",
         "16.234663210549158",
         "2021-02-01 00:00:00",
         "2",
         "8",
         "50",
         "0"
        ],
        [
         "6502",
         "700",
         "Айдар",
         "22",
         "Омск",
         "free",
         "4004.434142314335",
         "20.01662803367876",
         "2021-02-04 00:00:00",
         "2",
         "8",
         "50",
         "0"
        ],
        [
         "6503",
         "700",
         "Айдар",
         "22",
         "Омск",
         "free",
         "1205.9112901681635",
         "9.782872208080375",
         "2021-02-10 00:00:00",
         "2",
         "8",
         "50",
         "0"
        ],
        [
         "6504",
         "700",
         "Айдар",
         "22",
         "Омск",
         "free",
         "3047.379435495477",
         "17.427672883108038",
         "2021-02-14 00:00:00",
         "2",
         "8",
         "50",
         "0"
        ],
        [
         "6505",
         "700",
         "Айдар",
         "22",
         "Омск",
         "free",
         "4342.002253505527",
         "22.368009014022103",
         "2021-02-23 00:00:00",
         "2",
         "8",
         "50",
         "0"
        ],
        [
         "6506",
         "700",
         "Айдар",
         "22",
         "Омск",
         "free",
         "3798.334905097114",
         "18.24375589411418",
         "2021-03-03 00:00:00",
         "3",
         "8",
         "50",
         "0"
        ],
        [
         "6507",
         "700",
         "Айдар",
         "22",
         "Омск",
         "free",
         "2984.551206191189",
         "15.424898545866911",
         "2021-04-09 00:00:00",
         "4",
         "8",
         "50",
         "0"
        ],
        [
         "6508",
         "700",
         "Айдар",
         "22",
         "Омск",
         "free",
         "3360.107140850197",
         "16.76549688917443",
         "2021-06-12 00:00:00",
         "6",
         "8",
         "50",
         "0"
        ],
        [
         "6509",
         "700",
         "Айдар",
         "22",
         "Омск",
         "free",
         "2567.543847433303",
         "11.312159684344769",
         "2021-06-23 00:00:00",
         "6",
         "8",
         "50",
         "0"
        ]
       ],
       "shape": {
        "columns": 12,
        "rows": 10
       }
      },
      "text/html": [
       "<div>\n",
       "<style scoped>\n",
       "    .dataframe tbody tr th:only-of-type {\n",
       "        vertical-align: middle;\n",
       "    }\n",
       "\n",
       "    .dataframe tbody tr th {\n",
       "        vertical-align: top;\n",
       "    }\n",
       "\n",
       "    .dataframe thead th {\n",
       "        text-align: right;\n",
       "    }\n",
       "</style>\n",
       "<table border=\"1\" class=\"dataframe\">\n",
       "  <thead>\n",
       "    <tr style=\"text-align: right;\">\n",
       "      <th></th>\n",
       "      <th>user_id</th>\n",
       "      <th>name</th>\n",
       "      <th>age</th>\n",
       "      <th>city</th>\n",
       "      <th>subscription_type</th>\n",
       "      <th>distance</th>\n",
       "      <th>duration</th>\n",
       "      <th>date</th>\n",
       "      <th>ride_month</th>\n",
       "      <th>minute_price</th>\n",
       "      <th>start_ride_price</th>\n",
       "      <th>subscription_fee</th>\n",
       "    </tr>\n",
       "  </thead>\n",
       "  <tbody>\n",
       "    <tr>\n",
       "      <th>6500</th>\n",
       "      <td>700</td>\n",
       "      <td>Айдар</td>\n",
       "      <td>22</td>\n",
       "      <td>Омск</td>\n",
       "      <td>free</td>\n",
       "      <td>2515.690719</td>\n",
       "      <td>14.944286</td>\n",
       "      <td>2021-01-02</td>\n",
       "      <td>1</td>\n",
       "      <td>8</td>\n",
       "      <td>50</td>\n",
       "      <td>0</td>\n",
       "    </tr>\n",
       "    <tr>\n",
       "      <th>6501</th>\n",
       "      <td>700</td>\n",
       "      <td>Айдар</td>\n",
       "      <td>22</td>\n",
       "      <td>Омск</td>\n",
       "      <td>free</td>\n",
       "      <td>846.932642</td>\n",
       "      <td>16.234663</td>\n",
       "      <td>2021-02-01</td>\n",
       "      <td>2</td>\n",
       "      <td>8</td>\n",
       "      <td>50</td>\n",
       "      <td>0</td>\n",
       "    </tr>\n",
       "    <tr>\n",
       "      <th>6502</th>\n",
       "      <td>700</td>\n",
       "      <td>Айдар</td>\n",
       "      <td>22</td>\n",
       "      <td>Омск</td>\n",
       "      <td>free</td>\n",
       "      <td>4004.434142</td>\n",
       "      <td>20.016628</td>\n",
       "      <td>2021-02-04</td>\n",
       "      <td>2</td>\n",
       "      <td>8</td>\n",
       "      <td>50</td>\n",
       "      <td>0</td>\n",
       "    </tr>\n",
       "    <tr>\n",
       "      <th>6503</th>\n",
       "      <td>700</td>\n",
       "      <td>Айдар</td>\n",
       "      <td>22</td>\n",
       "      <td>Омск</td>\n",
       "      <td>free</td>\n",
       "      <td>1205.911290</td>\n",
       "      <td>9.782872</td>\n",
       "      <td>2021-02-10</td>\n",
       "      <td>2</td>\n",
       "      <td>8</td>\n",
       "      <td>50</td>\n",
       "      <td>0</td>\n",
       "    </tr>\n",
       "    <tr>\n",
       "      <th>6504</th>\n",
       "      <td>700</td>\n",
       "      <td>Айдар</td>\n",
       "      <td>22</td>\n",
       "      <td>Омск</td>\n",
       "      <td>free</td>\n",
       "      <td>3047.379435</td>\n",
       "      <td>17.427673</td>\n",
       "      <td>2021-02-14</td>\n",
       "      <td>2</td>\n",
       "      <td>8</td>\n",
       "      <td>50</td>\n",
       "      <td>0</td>\n",
       "    </tr>\n",
       "    <tr>\n",
       "      <th>6505</th>\n",
       "      <td>700</td>\n",
       "      <td>Айдар</td>\n",
       "      <td>22</td>\n",
       "      <td>Омск</td>\n",
       "      <td>free</td>\n",
       "      <td>4342.002254</td>\n",
       "      <td>22.368009</td>\n",
       "      <td>2021-02-23</td>\n",
       "      <td>2</td>\n",
       "      <td>8</td>\n",
       "      <td>50</td>\n",
       "      <td>0</td>\n",
       "    </tr>\n",
       "    <tr>\n",
       "      <th>6506</th>\n",
       "      <td>700</td>\n",
       "      <td>Айдар</td>\n",
       "      <td>22</td>\n",
       "      <td>Омск</td>\n",
       "      <td>free</td>\n",
       "      <td>3798.334905</td>\n",
       "      <td>18.243756</td>\n",
       "      <td>2021-03-03</td>\n",
       "      <td>3</td>\n",
       "      <td>8</td>\n",
       "      <td>50</td>\n",
       "      <td>0</td>\n",
       "    </tr>\n",
       "    <tr>\n",
       "      <th>6507</th>\n",
       "      <td>700</td>\n",
       "      <td>Айдар</td>\n",
       "      <td>22</td>\n",
       "      <td>Омск</td>\n",
       "      <td>free</td>\n",
       "      <td>2984.551206</td>\n",
       "      <td>15.424899</td>\n",
       "      <td>2021-04-09</td>\n",
       "      <td>4</td>\n",
       "      <td>8</td>\n",
       "      <td>50</td>\n",
       "      <td>0</td>\n",
       "    </tr>\n",
       "    <tr>\n",
       "      <th>6508</th>\n",
       "      <td>700</td>\n",
       "      <td>Айдар</td>\n",
       "      <td>22</td>\n",
       "      <td>Омск</td>\n",
       "      <td>free</td>\n",
       "      <td>3360.107141</td>\n",
       "      <td>16.765497</td>\n",
       "      <td>2021-06-12</td>\n",
       "      <td>6</td>\n",
       "      <td>8</td>\n",
       "      <td>50</td>\n",
       "      <td>0</td>\n",
       "    </tr>\n",
       "    <tr>\n",
       "      <th>6509</th>\n",
       "      <td>700</td>\n",
       "      <td>Айдар</td>\n",
       "      <td>22</td>\n",
       "      <td>Омск</td>\n",
       "      <td>free</td>\n",
       "      <td>2567.543847</td>\n",
       "      <td>11.312160</td>\n",
       "      <td>2021-06-23</td>\n",
       "      <td>6</td>\n",
       "      <td>8</td>\n",
       "      <td>50</td>\n",
       "      <td>0</td>\n",
       "    </tr>\n",
       "  </tbody>\n",
       "</table>\n",
       "</div>"
      ],
      "text/plain": [
       "      user_id   name  age  city subscription_type     distance   duration  \\\n",
       "6500      700  Айдар   22  Омск              free  2515.690719  14.944286   \n",
       "6501      700  Айдар   22  Омск              free   846.932642  16.234663   \n",
       "6502      700  Айдар   22  Омск              free  4004.434142  20.016628   \n",
       "6503      700  Айдар   22  Омск              free  1205.911290   9.782872   \n",
       "6504      700  Айдар   22  Омск              free  3047.379435  17.427673   \n",
       "6505      700  Айдар   22  Омск              free  4342.002254  22.368009   \n",
       "6506      700  Айдар   22  Омск              free  3798.334905  18.243756   \n",
       "6507      700  Айдар   22  Омск              free  2984.551206  15.424899   \n",
       "6508      700  Айдар   22  Омск              free  3360.107141  16.765497   \n",
       "6509      700  Айдар   22  Омск              free  2567.543847  11.312160   \n",
       "\n",
       "           date  ride_month  minute_price  start_ride_price  subscription_fee  \n",
       "6500 2021-01-02           1             8                50                 0  \n",
       "6501 2021-02-01           2             8                50                 0  \n",
       "6502 2021-02-04           2             8                50                 0  \n",
       "6503 2021-02-10           2             8                50                 0  \n",
       "6504 2021-02-14           2             8                50                 0  \n",
       "6505 2021-02-23           2             8                50                 0  \n",
       "6506 2021-03-03           3             8                50                 0  \n",
       "6507 2021-04-09           4             8                50                 0  \n",
       "6508 2021-06-12           6             8                50                 0  \n",
       "6509 2021-06-23           6             8                50                 0  "
      ]
     },
     "execution_count": 34,
     "metadata": {},
     "output_type": "execute_result"
    }
   ],
   "source": [
    "# создадим датафрейм c данными о пользователях без подписки\n",
    "users_no_subscriptions = df[df['subscription_type'] == 'free']\n",
    "\n",
    "# выведем несколько строк из датафрейма для ознакомления и проверки \n",
    "users_no_subscriptions.head(10)"
   ]
  },
  {
   "cell_type": "code",
   "execution_count": 35,
   "id": "7506fc0c",
   "metadata": {},
   "outputs": [
    {
     "data": {
      "application/vnd.microsoft.datawrangler.viewer.v0+json": {
       "columns": [
        {
         "name": "index",
         "rawType": "int64",
         "type": "integer"
        },
        {
         "name": "user_id",
         "rawType": "int64",
         "type": "integer"
        },
        {
         "name": "name",
         "rawType": "object",
         "type": "string"
        },
        {
         "name": "age",
         "rawType": "int64",
         "type": "integer"
        },
        {
         "name": "city",
         "rawType": "object",
         "type": "string"
        },
        {
         "name": "subscription_type",
         "rawType": "object",
         "type": "string"
        },
        {
         "name": "distance",
         "rawType": "float64",
         "type": "float"
        },
        {
         "name": "duration",
         "rawType": "float64",
         "type": "float"
        },
        {
         "name": "date",
         "rawType": "datetime64[ns]",
         "type": "datetime"
        },
        {
         "name": "ride_month",
         "rawType": "int32",
         "type": "integer"
        },
        {
         "name": "minute_price",
         "rawType": "int64",
         "type": "integer"
        },
        {
         "name": "start_ride_price",
         "rawType": "int64",
         "type": "integer"
        },
        {
         "name": "subscription_fee",
         "rawType": "int64",
         "type": "integer"
        }
       ],
       "conversionMethod": "pd.DataFrame",
       "ref": "62056d53-420e-4f54-b355-433ef1c33336",
       "rows": [
        [
         "0",
         "1",
         "Кира",
         "22",
         "Тюмень",
         "ultra",
         "4409.919140196136",
         "25.59976897198896",
         "2021-01-01 00:00:00",
         "1",
         "6",
         "0",
         "199"
        ],
        [
         "1",
         "1",
         "Кира",
         "22",
         "Тюмень",
         "ultra",
         "2617.5921534552563",
         "15.816871452122792",
         "2021-01-18 00:00:00",
         "1",
         "6",
         "0",
         "199"
        ],
        [
         "2",
         "1",
         "Кира",
         "22",
         "Тюмень",
         "ultra",
         "754.1598069611837",
         "6.232113458405072",
         "2021-04-20 00:00:00",
         "4",
         "6",
         "0",
         "199"
        ],
        [
         "3",
         "1",
         "Кира",
         "22",
         "Тюмень",
         "ultra",
         "2694.7832537889467",
         "18.510999719255103",
         "2021-08-11 00:00:00",
         "8",
         "6",
         "0",
         "199"
        ],
        [
         "4",
         "1",
         "Кира",
         "22",
         "Тюмень",
         "ultra",
         "4028.6873061660526",
         "26.265802740711653",
         "2021-08-28 00:00:00",
         "8",
         "6",
         "0",
         "199"
        ],
        [
         "5",
         "1",
         "Кира",
         "22",
         "Тюмень",
         "ultra",
         "2770.890807774881",
         "16.650137938659714",
         "2021-10-09 00:00:00",
         "10",
         "6",
         "0",
         "199"
        ],
        [
         "6",
         "1",
         "Кира",
         "22",
         "Тюмень",
         "ultra",
         "3039.0202923997176",
         "14.927879023651435",
         "2021-10-19 00:00:00",
         "10",
         "6",
         "0",
         "199"
        ],
        [
         "7",
         "1",
         "Кира",
         "22",
         "Тюмень",
         "ultra",
         "2842.1180504740605",
         "23.117467925264897",
         "2021-11-06 00:00:00",
         "11",
         "6",
         "0",
         "199"
        ],
        [
         "8",
         "1",
         "Кира",
         "22",
         "Тюмень",
         "ultra",
         "3412.6906682951376",
         "15.238072004885412",
         "2021-11-14 00:00:00",
         "11",
         "6",
         "0",
         "199"
        ],
        [
         "9",
         "1",
         "Кира",
         "22",
         "Тюмень",
         "ultra",
         "748.6906445372992",
         "15.041883576010816",
         "2021-11-22 00:00:00",
         "11",
         "6",
         "0",
         "199"
        ]
       ],
       "shape": {
        "columns": 12,
        "rows": 10
       }
      },
      "text/html": [
       "<div>\n",
       "<style scoped>\n",
       "    .dataframe tbody tr th:only-of-type {\n",
       "        vertical-align: middle;\n",
       "    }\n",
       "\n",
       "    .dataframe tbody tr th {\n",
       "        vertical-align: top;\n",
       "    }\n",
       "\n",
       "    .dataframe thead th {\n",
       "        text-align: right;\n",
       "    }\n",
       "</style>\n",
       "<table border=\"1\" class=\"dataframe\">\n",
       "  <thead>\n",
       "    <tr style=\"text-align: right;\">\n",
       "      <th></th>\n",
       "      <th>user_id</th>\n",
       "      <th>name</th>\n",
       "      <th>age</th>\n",
       "      <th>city</th>\n",
       "      <th>subscription_type</th>\n",
       "      <th>distance</th>\n",
       "      <th>duration</th>\n",
       "      <th>date</th>\n",
       "      <th>ride_month</th>\n",
       "      <th>minute_price</th>\n",
       "      <th>start_ride_price</th>\n",
       "      <th>subscription_fee</th>\n",
       "    </tr>\n",
       "  </thead>\n",
       "  <tbody>\n",
       "    <tr>\n",
       "      <th>0</th>\n",
       "      <td>1</td>\n",
       "      <td>Кира</td>\n",
       "      <td>22</td>\n",
       "      <td>Тюмень</td>\n",
       "      <td>ultra</td>\n",
       "      <td>4409.919140</td>\n",
       "      <td>25.599769</td>\n",
       "      <td>2021-01-01</td>\n",
       "      <td>1</td>\n",
       "      <td>6</td>\n",
       "      <td>0</td>\n",
       "      <td>199</td>\n",
       "    </tr>\n",
       "    <tr>\n",
       "      <th>1</th>\n",
       "      <td>1</td>\n",
       "      <td>Кира</td>\n",
       "      <td>22</td>\n",
       "      <td>Тюмень</td>\n",
       "      <td>ultra</td>\n",
       "      <td>2617.592153</td>\n",
       "      <td>15.816871</td>\n",
       "      <td>2021-01-18</td>\n",
       "      <td>1</td>\n",
       "      <td>6</td>\n",
       "      <td>0</td>\n",
       "      <td>199</td>\n",
       "    </tr>\n",
       "    <tr>\n",
       "      <th>2</th>\n",
       "      <td>1</td>\n",
       "      <td>Кира</td>\n",
       "      <td>22</td>\n",
       "      <td>Тюмень</td>\n",
       "      <td>ultra</td>\n",
       "      <td>754.159807</td>\n",
       "      <td>6.232113</td>\n",
       "      <td>2021-04-20</td>\n",
       "      <td>4</td>\n",
       "      <td>6</td>\n",
       "      <td>0</td>\n",
       "      <td>199</td>\n",
       "    </tr>\n",
       "    <tr>\n",
       "      <th>3</th>\n",
       "      <td>1</td>\n",
       "      <td>Кира</td>\n",
       "      <td>22</td>\n",
       "      <td>Тюмень</td>\n",
       "      <td>ultra</td>\n",
       "      <td>2694.783254</td>\n",
       "      <td>18.511000</td>\n",
       "      <td>2021-08-11</td>\n",
       "      <td>8</td>\n",
       "      <td>6</td>\n",
       "      <td>0</td>\n",
       "      <td>199</td>\n",
       "    </tr>\n",
       "    <tr>\n",
       "      <th>4</th>\n",
       "      <td>1</td>\n",
       "      <td>Кира</td>\n",
       "      <td>22</td>\n",
       "      <td>Тюмень</td>\n",
       "      <td>ultra</td>\n",
       "      <td>4028.687306</td>\n",
       "      <td>26.265803</td>\n",
       "      <td>2021-08-28</td>\n",
       "      <td>8</td>\n",
       "      <td>6</td>\n",
       "      <td>0</td>\n",
       "      <td>199</td>\n",
       "    </tr>\n",
       "    <tr>\n",
       "      <th>5</th>\n",
       "      <td>1</td>\n",
       "      <td>Кира</td>\n",
       "      <td>22</td>\n",
       "      <td>Тюмень</td>\n",
       "      <td>ultra</td>\n",
       "      <td>2770.890808</td>\n",
       "      <td>16.650138</td>\n",
       "      <td>2021-10-09</td>\n",
       "      <td>10</td>\n",
       "      <td>6</td>\n",
       "      <td>0</td>\n",
       "      <td>199</td>\n",
       "    </tr>\n",
       "    <tr>\n",
       "      <th>6</th>\n",
       "      <td>1</td>\n",
       "      <td>Кира</td>\n",
       "      <td>22</td>\n",
       "      <td>Тюмень</td>\n",
       "      <td>ultra</td>\n",
       "      <td>3039.020292</td>\n",
       "      <td>14.927879</td>\n",
       "      <td>2021-10-19</td>\n",
       "      <td>10</td>\n",
       "      <td>6</td>\n",
       "      <td>0</td>\n",
       "      <td>199</td>\n",
       "    </tr>\n",
       "    <tr>\n",
       "      <th>7</th>\n",
       "      <td>1</td>\n",
       "      <td>Кира</td>\n",
       "      <td>22</td>\n",
       "      <td>Тюмень</td>\n",
       "      <td>ultra</td>\n",
       "      <td>2842.118050</td>\n",
       "      <td>23.117468</td>\n",
       "      <td>2021-11-06</td>\n",
       "      <td>11</td>\n",
       "      <td>6</td>\n",
       "      <td>0</td>\n",
       "      <td>199</td>\n",
       "    </tr>\n",
       "    <tr>\n",
       "      <th>8</th>\n",
       "      <td>1</td>\n",
       "      <td>Кира</td>\n",
       "      <td>22</td>\n",
       "      <td>Тюмень</td>\n",
       "      <td>ultra</td>\n",
       "      <td>3412.690668</td>\n",
       "      <td>15.238072</td>\n",
       "      <td>2021-11-14</td>\n",
       "      <td>11</td>\n",
       "      <td>6</td>\n",
       "      <td>0</td>\n",
       "      <td>199</td>\n",
       "    </tr>\n",
       "    <tr>\n",
       "      <th>9</th>\n",
       "      <td>1</td>\n",
       "      <td>Кира</td>\n",
       "      <td>22</td>\n",
       "      <td>Тюмень</td>\n",
       "      <td>ultra</td>\n",
       "      <td>748.690645</td>\n",
       "      <td>15.041884</td>\n",
       "      <td>2021-11-22</td>\n",
       "      <td>11</td>\n",
       "      <td>6</td>\n",
       "      <td>0</td>\n",
       "      <td>199</td>\n",
       "    </tr>\n",
       "  </tbody>\n",
       "</table>\n",
       "</div>"
      ],
      "text/plain": [
       "   user_id  name  age    city subscription_type     distance   duration  \\\n",
       "0        1  Кира   22  Тюмень             ultra  4409.919140  25.599769   \n",
       "1        1  Кира   22  Тюмень             ultra  2617.592153  15.816871   \n",
       "2        1  Кира   22  Тюмень             ultra   754.159807   6.232113   \n",
       "3        1  Кира   22  Тюмень             ultra  2694.783254  18.511000   \n",
       "4        1  Кира   22  Тюмень             ultra  4028.687306  26.265803   \n",
       "5        1  Кира   22  Тюмень             ultra  2770.890808  16.650138   \n",
       "6        1  Кира   22  Тюмень             ultra  3039.020292  14.927879   \n",
       "7        1  Кира   22  Тюмень             ultra  2842.118050  23.117468   \n",
       "8        1  Кира   22  Тюмень             ultra  3412.690668  15.238072   \n",
       "9        1  Кира   22  Тюмень             ultra   748.690645  15.041884   \n",
       "\n",
       "        date  ride_month  minute_price  start_ride_price  subscription_fee  \n",
       "0 2021-01-01           1             6                 0               199  \n",
       "1 2021-01-18           1             6                 0               199  \n",
       "2 2021-04-20           4             6                 0               199  \n",
       "3 2021-08-11           8             6                 0               199  \n",
       "4 2021-08-28           8             6                 0               199  \n",
       "5 2021-10-09          10             6                 0               199  \n",
       "6 2021-10-19          10             6                 0               199  \n",
       "7 2021-11-06          11             6                 0               199  \n",
       "8 2021-11-14          11             6                 0               199  \n",
       "9 2021-11-22          11             6                 0               199  "
      ]
     },
     "execution_count": 35,
     "metadata": {},
     "output_type": "execute_result"
    }
   ],
   "source": [
    "# создадим датафрейм с данными о пользователях с подпиской\n",
    "users_with_subscriptions = df[df['subscription_type'] == 'ultra']\n",
    "\n",
    "# выведем несколько строк из датафрейма для ознакомления и проверки \n",
    "users_with_subscriptions.head(10)"
   ]
  },
  {
   "cell_type": "markdown",
   "id": "a7150da0",
   "metadata": {},
   "source": [
    "##### Анализ данных о расстояних, которые пользователи преодолевают за одну поездку. С подпиской и без подписки"
   ]
  },
  {
   "cell_type": "code",
   "execution_count": 36,
   "id": "4a82d827",
   "metadata": {},
   "outputs": [
    {
     "data": {
      "image/png": "[encoded data removed]",
      "text/plain": [
       "<Figure size 600x400 with 1 Axes>"
      ]
     },
     "metadata": {},
     "output_type": "display_data"
    }
   ],
   "source": [
    "# построим гистограмму для пользователей без подписок\n",
    "users_no_subscriptions['distance'].plot(kind='hist', figsize=(6, 4), title='Расстояния, которые пользователи преодолевают за одну поездку\\n'.upper(), color='blue')\n",
    "\n",
    "# построим гистограмму для пользователей с подписками\n",
    "users_with_subscriptions['distance'].plot(kind='hist', figsize=(6, 4), title='Расстояния, которые пользователи преодолевают за одну поездку\\n'.upper(), color='green')\n",
    "\n",
    "plt.legend(['Без подписки', 'С подпиской'])\n",
    "plt.xlabel('Преодолеваемое расстояние, м')\n",
    "plt.ylabel('Количество поездок');"
   ]
  },
  {
   "cell_type": "markdown",
   "id": "eef38ae2",
   "metadata": {},
   "source": [
    "##### Анализ данных о длительности поездок пользователей. С подпиской и без подписки"
   ]
  },
  {
   "cell_type": "code",
   "execution_count": 37,
   "id": "f450c1e5",
   "metadata": {},
   "outputs": [
    {
     "data": {
      "image/png": "[encoded data removed]",
      "text/plain": [
       "<Figure size 600x400 with 1 Axes>"
      ]
     },
     "metadata": {},
     "output_type": "display_data"
    }
   ],
   "source": [
    "# построим гистограмму для пользователей без подписок\n",
    "users_no_subscriptions['duration'].plot(kind='hist', figsize=(6, 4),  title='Длительность поездок\\n'.upper(), color='blue')\n",
    "\n",
    "# построим гистограмму для пользователей с подписками\n",
    "users_with_subscriptions['duration'].plot(kind='hist', figsize=(6, 4), title='Длительность поездок\\n'.upper(), color='green')\n",
    "\n",
    "plt.legend(['Без подписки', 'С подпиской'])\n",
    "plt.xlabel('Длительность поездки, мин')\n",
    "plt.ylabel('Количество поездок');"
   ]
  },
  {
   "cell_type": "markdown",
   "id": "4acbc162",
   "metadata": {},
   "source": [
    "**Расстояние**\n",
    "\n",
    "По результатам анализа диаграммы можно сделать вывод о том, распределение среднего расстояния за одну поездку для пользователей с подписками и без них похожи. \n",
    "\n",
    "Пользователи без подписок чаще всего проезжают расстояния от 2 до 4,5 км. \n",
    "\n",
    "Пользователи с подписками чаще всего проезжают расстояния от 2,5 до 3,5 км. \n",
    "\n",
    "При этом у пользователей без подписки наблюдается некоторое количество поездок с расстоянием до 1 км, у пользователей с подпиской таких поездок значительно меньше. Это может быть связано с тем, что пользователи могут впервые пробовать поездки на самокате, чтобы оценить их удобство для себя и т.п. Пользователям с подпиской такая \"проба пера\" уже не требуется. \n",
    "\n",
    "**Длительность**\n",
    "\n",
    "По результатам анализа диаграммы можно сделать вывод о том, что длительность поездок у пользователей с подписками и без них похожи. \n",
    "\n",
    "Средняя длительность поездок у обоих категорий пользователей составляет от 10 до 20 минут.\n",
    "\n",
    "Максимальная длительность поездок немного выше у пользователей с подписками. \n",
    "\n",
    "При этом минимальная длительность поездок у пользователей с подпиской выше, чем у пользователей без подписки (что также может быть связано с поездками на короткие расстояния для пробы у пользователей без подписок)."
   ]
  },
  {
   "cell_type": "markdown",
   "id": "402d620f",
   "metadata": {},
   "source": [
    "#### Шаг 5. Подсчёт выручки"
   ]
  },
  {
   "cell_type": "code",
   "execution_count": 38,
   "id": "aa037129",
   "metadata": {},
   "outputs": [
    {
     "data": {
      "application/vnd.microsoft.datawrangler.viewer.v0+json": {
       "columns": [
        {
         "name": "index",
         "rawType": "int64",
         "type": "integer"
        },
        {
         "name": "user_id",
         "rawType": "int64",
         "type": "integer"
        },
        {
         "name": "name",
         "rawType": "object",
         "type": "string"
        },
        {
         "name": "age",
         "rawType": "int64",
         "type": "integer"
        },
        {
         "name": "city",
         "rawType": "object",
         "type": "string"
        },
        {
         "name": "subscription_type",
         "rawType": "object",
         "type": "string"
        },
        {
         "name": "distance",
         "rawType": "float64",
         "type": "float"
        },
        {
         "name": "duration",
         "rawType": "float64",
         "type": "float"
        },
        {
         "name": "date",
         "rawType": "datetime64[ns]",
         "type": "datetime"
        },
        {
         "name": "ride_month",
         "rawType": "int32",
         "type": "integer"
        },
        {
         "name": "minute_price",
         "rawType": "int64",
         "type": "integer"
        },
        {
         "name": "start_ride_price",
         "rawType": "int64",
         "type": "integer"
        },
        {
         "name": "subscription_fee",
         "rawType": "int64",
         "type": "integer"
        },
        {
         "name": "duration_full",
         "rawType": "float64",
         "type": "float"
        }
       ],
       "conversionMethod": "pd.DataFrame",
       "ref": "3b0dc3f5-77e7-4591-b7bd-a666b68178cc",
       "rows": [
        [
         "0",
         "1",
         "Кира",
         "22",
         "Тюмень",
         "ultra",
         "4409.919140196136",
         "25.59976897198896",
         "2021-01-01 00:00:00",
         "1",
         "6",
         "0",
         "199",
         "26.0"
        ],
        [
         "1",
         "1",
         "Кира",
         "22",
         "Тюмень",
         "ultra",
         "2617.5921534552563",
         "15.816871452122792",
         "2021-01-18 00:00:00",
         "1",
         "6",
         "0",
         "199",
         "16.0"
        ],
        [
         "2",
         "1",
         "Кира",
         "22",
         "Тюмень",
         "ultra",
         "754.1598069611837",
         "6.232113458405072",
         "2021-04-20 00:00:00",
         "4",
         "6",
         "0",
         "199",
         "7.0"
        ],
        [
         "3",
         "1",
         "Кира",
         "22",
         "Тюмень",
         "ultra",
         "2694.7832537889467",
         "18.510999719255103",
         "2021-08-11 00:00:00",
         "8",
         "6",
         "0",
         "199",
         "19.0"
        ],
        [
         "4",
         "1",
         "Кира",
         "22",
         "Тюмень",
         "ultra",
         "4028.6873061660526",
         "26.265802740711653",
         "2021-08-28 00:00:00",
         "8",
         "6",
         "0",
         "199",
         "27.0"
        ],
        [
         "5",
         "1",
         "Кира",
         "22",
         "Тюмень",
         "ultra",
         "2770.890807774881",
         "16.650137938659714",
         "2021-10-09 00:00:00",
         "10",
         "6",
         "0",
         "199",
         "17.0"
        ],
        [
         "6",
         "1",
         "Кира",
         "22",
         "Тюмень",
         "ultra",
         "3039.0202923997176",
         "14.927879023651435",
         "2021-10-19 00:00:00",
         "10",
         "6",
         "0",
         "199",
         "15.0"
        ],
        [
         "7",
         "1",
         "Кира",
         "22",
         "Тюмень",
         "ultra",
         "2842.1180504740605",
         "23.117467925264897",
         "2021-11-06 00:00:00",
         "11",
         "6",
         "0",
         "199",
         "24.0"
        ],
        [
         "8",
         "1",
         "Кира",
         "22",
         "Тюмень",
         "ultra",
         "3412.6906682951376",
         "15.238072004885412",
         "2021-11-14 00:00:00",
         "11",
         "6",
         "0",
         "199",
         "16.0"
        ],
        [
         "9",
         "1",
         "Кира",
         "22",
         "Тюмень",
         "ultra",
         "748.6906445372992",
         "15.041883576010816",
         "2021-11-22 00:00:00",
         "11",
         "6",
         "0",
         "199",
         "16.0"
        ]
       ],
       "shape": {
        "columns": 13,
        "rows": 10
       }
      },
      "text/html": [
       "<div>\n",
       "<style scoped>\n",
       "    .dataframe tbody tr th:only-of-type {\n",
       "        vertical-align: middle;\n",
       "    }\n",
       "\n",
       "    .dataframe tbody tr th {\n",
       "        vertical-align: top;\n",
       "    }\n",
       "\n",
       "    .dataframe thead th {\n",
       "        text-align: right;\n",
       "    }\n",
       "</style>\n",
       "<table border=\"1\" class=\"dataframe\">\n",
       "  <thead>\n",
       "    <tr style=\"text-align: right;\">\n",
       "      <th></th>\n",
       "      <th>user_id</th>\n",
       "      <th>name</th>\n",
       "      <th>age</th>\n",
       "      <th>city</th>\n",
       "      <th>subscription_type</th>\n",
       "      <th>distance</th>\n",
       "      <th>duration</th>\n",
       "      <th>date</th>\n",
       "      <th>ride_month</th>\n",
       "      <th>minute_price</th>\n",
       "      <th>start_ride_price</th>\n",
       "      <th>subscription_fee</th>\n",
       "      <th>duration_full</th>\n",
       "    </tr>\n",
       "  </thead>\n",
       "  <tbody>\n",
       "    <tr>\n",
       "      <th>0</th>\n",
       "      <td>1</td>\n",
       "      <td>Кира</td>\n",
       "      <td>22</td>\n",
       "      <td>Тюмень</td>\n",
       "      <td>ultra</td>\n",
       "      <td>4409.919140</td>\n",
       "      <td>25.599769</td>\n",
       "      <td>2021-01-01</td>\n",
       "      <td>1</td>\n",
       "      <td>6</td>\n",
       "      <td>0</td>\n",
       "      <td>199</td>\n",
       "      <td>26.0</td>\n",
       "    </tr>\n",
       "    <tr>\n",
       "      <th>1</th>\n",
       "      <td>1</td>\n",
       "      <td>Кира</td>\n",
       "      <td>22</td>\n",
       "      <td>Тюмень</td>\n",
       "      <td>ultra</td>\n",
       "      <td>2617.592153</td>\n",
       "      <td>15.816871</td>\n",
       "      <td>2021-01-18</td>\n",
       "      <td>1</td>\n",
       "      <td>6</td>\n",
       "      <td>0</td>\n",
       "      <td>199</td>\n",
       "      <td>16.0</td>\n",
       "    </tr>\n",
       "    <tr>\n",
       "      <th>2</th>\n",
       "      <td>1</td>\n",
       "      <td>Кира</td>\n",
       "      <td>22</td>\n",
       "      <td>Тюмень</td>\n",
       "      <td>ultra</td>\n",
       "      <td>754.159807</td>\n",
       "      <td>6.232113</td>\n",
       "      <td>2021-04-20</td>\n",
       "      <td>4</td>\n",
       "      <td>6</td>\n",
       "      <td>0</td>\n",
       "      <td>199</td>\n",
       "      <td>7.0</td>\n",
       "    </tr>\n",
       "    <tr>\n",
       "      <th>3</th>\n",
       "      <td>1</td>\n",
       "      <td>Кира</td>\n",
       "      <td>22</td>\n",
       "      <td>Тюмень</td>\n",
       "      <td>ultra</td>\n",
       "      <td>2694.783254</td>\n",
       "      <td>18.511000</td>\n",
       "      <td>2021-08-11</td>\n",
       "      <td>8</td>\n",
       "      <td>6</td>\n",
       "      <td>0</td>\n",
       "      <td>199</td>\n",
       "      <td>19.0</td>\n",
       "    </tr>\n",
       "    <tr>\n",
       "      <th>4</th>\n",
       "      <td>1</td>\n",
       "      <td>Кира</td>\n",
       "      <td>22</td>\n",
       "      <td>Тюмень</td>\n",
       "      <td>ultra</td>\n",
       "      <td>4028.687306</td>\n",
       "      <td>26.265803</td>\n",
       "      <td>2021-08-28</td>\n",
       "      <td>8</td>\n",
       "      <td>6</td>\n",
       "      <td>0</td>\n",
       "      <td>199</td>\n",
       "      <td>27.0</td>\n",
       "    </tr>\n",
       "    <tr>\n",
       "      <th>5</th>\n",
       "      <td>1</td>\n",
       "      <td>Кира</td>\n",
       "      <td>22</td>\n",
       "      <td>Тюмень</td>\n",
       "      <td>ultra</td>\n",
       "      <td>2770.890808</td>\n",
       "      <td>16.650138</td>\n",
       "      <td>2021-10-09</td>\n",
       "      <td>10</td>\n",
       "      <td>6</td>\n",
       "      <td>0</td>\n",
       "      <td>199</td>\n",
       "      <td>17.0</td>\n",
       "    </tr>\n",
       "    <tr>\n",
       "      <th>6</th>\n",
       "      <td>1</td>\n",
       "      <td>Кира</td>\n",
       "      <td>22</td>\n",
       "      <td>Тюмень</td>\n",
       "      <td>ultra</td>\n",
       "      <td>3039.020292</td>\n",
       "      <td>14.927879</td>\n",
       "      <td>2021-10-19</td>\n",
       "      <td>10</td>\n",
       "      <td>6</td>\n",
       "      <td>0</td>\n",
       "      <td>199</td>\n",
       "      <td>15.0</td>\n",
       "    </tr>\n",
       "    <tr>\n",
       "      <th>7</th>\n",
       "      <td>1</td>\n",
       "      <td>Кира</td>\n",
       "      <td>22</td>\n",
       "      <td>Тюмень</td>\n",
       "      <td>ultra</td>\n",
       "      <td>2842.118050</td>\n",
       "      <td>23.117468</td>\n",
       "      <td>2021-11-06</td>\n",
       "      <td>11</td>\n",
       "      <td>6</td>\n",
       "      <td>0</td>\n",
       "      <td>199</td>\n",
       "      <td>24.0</td>\n",
       "    </tr>\n",
       "    <tr>\n",
       "      <th>8</th>\n",
       "      <td>1</td>\n",
       "      <td>Кира</td>\n",
       "      <td>22</td>\n",
       "      <td>Тюмень</td>\n",
       "      <td>ultra</td>\n",
       "      <td>3412.690668</td>\n",
       "      <td>15.238072</td>\n",
       "      <td>2021-11-14</td>\n",
       "      <td>11</td>\n",
       "      <td>6</td>\n",
       "      <td>0</td>\n",
       "      <td>199</td>\n",
       "      <td>16.0</td>\n",
       "    </tr>\n",
       "    <tr>\n",
       "      <th>9</th>\n",
       "      <td>1</td>\n",
       "      <td>Кира</td>\n",
       "      <td>22</td>\n",
       "      <td>Тюмень</td>\n",
       "      <td>ultra</td>\n",
       "      <td>748.690645</td>\n",
       "      <td>15.041884</td>\n",
       "      <td>2021-11-22</td>\n",
       "      <td>11</td>\n",
       "      <td>6</td>\n",
       "      <td>0</td>\n",
       "      <td>199</td>\n",
       "      <td>16.0</td>\n",
       "    </tr>\n",
       "  </tbody>\n",
       "</table>\n",
       "</div>"
      ],
      "text/plain": [
       "   user_id  name  age    city subscription_type     distance   duration  \\\n",
       "0        1  Кира   22  Тюмень             ultra  4409.919140  25.599769   \n",
       "1        1  Кира   22  Тюмень             ultra  2617.592153  15.816871   \n",
       "2        1  Кира   22  Тюмень             ultra   754.159807   6.232113   \n",
       "3        1  Кира   22  Тюмень             ultra  2694.783254  18.511000   \n",
       "4        1  Кира   22  Тюмень             ultra  4028.687306  26.265803   \n",
       "5        1  Кира   22  Тюмень             ultra  2770.890808  16.650138   \n",
       "6        1  Кира   22  Тюмень             ultra  3039.020292  14.927879   \n",
       "7        1  Кира   22  Тюмень             ultra  2842.118050  23.117468   \n",
       "8        1  Кира   22  Тюмень             ultra  3412.690668  15.238072   \n",
       "9        1  Кира   22  Тюмень             ultra   748.690645  15.041884   \n",
       "\n",
       "        date  ride_month  minute_price  start_ride_price  subscription_fee  \\\n",
       "0 2021-01-01           1             6                 0               199   \n",
       "1 2021-01-18           1             6                 0               199   \n",
       "2 2021-04-20           4             6                 0               199   \n",
       "3 2021-08-11           8             6                 0               199   \n",
       "4 2021-08-28           8             6                 0               199   \n",
       "5 2021-10-09          10             6                 0               199   \n",
       "6 2021-10-19          10             6                 0               199   \n",
       "7 2021-11-06          11             6                 0               199   \n",
       "8 2021-11-14          11             6                 0               199   \n",
       "9 2021-11-22          11             6                 0               199   \n",
       "\n",
       "   duration_full  \n",
       "0           26.0  \n",
       "1           16.0  \n",
       "2            7.0  \n",
       "3           19.0  \n",
       "4           27.0  \n",
       "5           17.0  \n",
       "6           15.0  \n",
       "7           24.0  \n",
       "8           16.0  \n",
       "9           16.0  "
      ]
     },
     "execution_count": 38,
     "metadata": {},
     "output_type": "execute_result"
    }
   ],
   "source": [
    "# округлим значения в основном датафрейме в столбце duration до следующего целого числа и занесем в отдельный столбец\n",
    "df['duration_full'] = np.ceil(df['duration']) \n",
    "\n",
    "# проверим результат\n",
    "df.head(10)"
   ]
  },
  {
   "cell_type": "code",
   "execution_count": 39,
   "id": "53049e0a",
   "metadata": {},
   "outputs": [
    {
     "data": {
      "text/plain": [
       "distance          count    0\n",
       "                  sum      0\n",
       "duration_full     sum      0\n",
       "minute_price      mean     0\n",
       "start_ride_price  mean     0\n",
       "subscription_fee  mean     0\n",
       "dtype: int64"
      ]
     },
     "execution_count": 39,
     "metadata": {},
     "output_type": "execute_result"
    }
   ],
   "source": [
    "# найдем суммарное расстояние, количество поездок и суммарное время для каждого пользователя за каждый месяц\n",
    "agg_df = df.pivot_table(index=['user_id', 'ride_month'], \n",
    "                        values=['distance', 'duration_full', 'start_ride_price', 'minute_price', 'subscription_fee'], \\\n",
    "                        aggfunc=({'distance': {'sum', 'count'}, \n",
    "                                  'duration_full': 'sum', \n",
    "                                  'start_ride_price': 'mean', \n",
    "                                  'minute_price': 'mean', \n",
    "                                  'subscription_fee': 'mean'}))\n",
    "\n",
    "# проверим сводную таблицу на наличие пропусков\n",
    "agg_df.isna().sum()"
   ]
  },
  {
   "cell_type": "code",
   "execution_count": 40,
   "id": "7ff5e580",
   "metadata": {},
   "outputs": [
    {
     "data": {
      "application/vnd.microsoft.datawrangler.viewer.v0+json": {
       "columns": [
        {
         "name": "('user_id', 'ride_month')",
         "rawType": "object",
         "type": "unknown"
        },
        {
         "name": "('distance', 'count')",
         "rawType": "int64",
         "type": "integer"
        },
        {
         "name": "('distance', 'sum')",
         "rawType": "float64",
         "type": "float"
        },
        {
         "name": "('duration_full', 'sum')",
         "rawType": "float64",
         "type": "float"
        },
        {
         "name": "('minute_price', 'mean')",
         "rawType": "float64",
         "type": "float"
        },
        {
         "name": "('start_ride_price', 'mean')",
         "rawType": "float64",
         "type": "float"
        },
        {
         "name": "('subscription_fee', 'mean')",
         "rawType": "float64",
         "type": "float"
        }
       ],
       "conversionMethod": "pd.DataFrame",
       "ref": "19605cac-a031-446a-ab35-db771cf98ea5",
       "rows": [
        [
         "(np.int64(1), np.int32(1))",
         "2",
         "7027.51",
         "42.0",
         "6.0",
         "0.0",
         "199.0"
        ],
        [
         "(np.int64(1), np.int32(4))",
         "1",
         "754.16",
         "7.0",
         "6.0",
         "0.0",
         "199.0"
        ],
        [
         "(np.int64(1), np.int32(8))",
         "2",
         "6723.47",
         "46.0",
         "6.0",
         "0.0",
         "199.0"
        ],
        [
         "(np.int64(1), np.int32(10))",
         "2",
         "5809.91",
         "32.0",
         "6.0",
         "0.0",
         "199.0"
        ],
        [
         "(np.int64(1), np.int32(11))",
         "3",
         "7003.5",
         "56.0",
         "6.0",
         "0.0",
         "199.0"
        ]
       ],
       "shape": {
        "columns": 6,
        "rows": 5
       }
      },
      "text/html": [
       "<div>\n",
       "<style scoped>\n",
       "    .dataframe tbody tr th:only-of-type {\n",
       "        vertical-align: middle;\n",
       "    }\n",
       "\n",
       "    .dataframe tbody tr th {\n",
       "        vertical-align: top;\n",
       "    }\n",
       "\n",
       "    .dataframe thead tr th {\n",
       "        text-align: left;\n",
       "    }\n",
       "\n",
       "    .dataframe thead tr:last-of-type th {\n",
       "        text-align: right;\n",
       "    }\n",
       "</style>\n",
       "<table border=\"1\" class=\"dataframe\">\n",
       "  <thead>\n",
       "    <tr>\n",
       "      <th></th>\n",
       "      <th></th>\n",
       "      <th colspan=\"2\" halign=\"left\">distance</th>\n",
       "      <th>duration_full</th>\n",
       "      <th>minute_price</th>\n",
       "      <th>start_ride_price</th>\n",
       "      <th>subscription_fee</th>\n",
       "    </tr>\n",
       "    <tr>\n",
       "      <th></th>\n",
       "      <th></th>\n",
       "      <th>count</th>\n",
       "      <th>sum</th>\n",
       "      <th>sum</th>\n",
       "      <th>mean</th>\n",
       "      <th>mean</th>\n",
       "      <th>mean</th>\n",
       "    </tr>\n",
       "    <tr>\n",
       "      <th>user_id</th>\n",
       "      <th>ride_month</th>\n",
       "      <th></th>\n",
       "      <th></th>\n",
       "      <th></th>\n",
       "      <th></th>\n",
       "      <th></th>\n",
       "      <th></th>\n",
       "    </tr>\n",
       "  </thead>\n",
       "  <tbody>\n",
       "    <tr>\n",
       "      <th rowspan=\"5\" valign=\"top\">1</th>\n",
       "      <th>1</th>\n",
       "      <td>2</td>\n",
       "      <td>7027.51</td>\n",
       "      <td>42.0</td>\n",
       "      <td>6.0</td>\n",
       "      <td>0.0</td>\n",
       "      <td>199.0</td>\n",
       "    </tr>\n",
       "    <tr>\n",
       "      <th>4</th>\n",
       "      <td>1</td>\n",
       "      <td>754.16</td>\n",
       "      <td>7.0</td>\n",
       "      <td>6.0</td>\n",
       "      <td>0.0</td>\n",
       "      <td>199.0</td>\n",
       "    </tr>\n",
       "    <tr>\n",
       "      <th>8</th>\n",
       "      <td>2</td>\n",
       "      <td>6723.47</td>\n",
       "      <td>46.0</td>\n",
       "      <td>6.0</td>\n",
       "      <td>0.0</td>\n",
       "      <td>199.0</td>\n",
       "    </tr>\n",
       "    <tr>\n",
       "      <th>10</th>\n",
       "      <td>2</td>\n",
       "      <td>5809.91</td>\n",
       "      <td>32.0</td>\n",
       "      <td>6.0</td>\n",
       "      <td>0.0</td>\n",
       "      <td>199.0</td>\n",
       "    </tr>\n",
       "    <tr>\n",
       "      <th>11</th>\n",
       "      <td>3</td>\n",
       "      <td>7003.50</td>\n",
       "      <td>56.0</td>\n",
       "      <td>6.0</td>\n",
       "      <td>0.0</td>\n",
       "      <td>199.0</td>\n",
       "    </tr>\n",
       "  </tbody>\n",
       "</table>\n",
       "</div>"
      ],
      "text/plain": [
       "                   distance          duration_full minute_price  \\\n",
       "                      count      sum           sum         mean   \n",
       "user_id ride_month                                                \n",
       "1       1                 2  7027.51          42.0          6.0   \n",
       "        4                 1   754.16           7.0          6.0   \n",
       "        8                 2  6723.47          46.0          6.0   \n",
       "        10                2  5809.91          32.0          6.0   \n",
       "        11                3  7003.50          56.0          6.0   \n",
       "\n",
       "                   start_ride_price subscription_fee  \n",
       "                               mean             mean  \n",
       "user_id ride_month                                    \n",
       "1       1                       0.0            199.0  \n",
       "        4                       0.0            199.0  \n",
       "        8                       0.0            199.0  \n",
       "        10                      0.0            199.0  \n",
       "        11                      0.0            199.0  "
      ]
     },
     "execution_count": 40,
     "metadata": {},
     "output_type": "execute_result"
    }
   ],
   "source": [
    "# округлим значения в столбце distance  \n",
    "agg_df['distance'] = agg_df['distance'].round(2) \n",
    "\n",
    "agg_df.head()"
   ]
  },
  {
   "cell_type": "code",
   "execution_count": 41,
   "id": "74064326",
   "metadata": {},
   "outputs": [
    {
     "data": {
      "application/vnd.microsoft.datawrangler.viewer.v0+json": {
       "columns": [
        {
         "name": "('user_id', 'ride_month')",
         "rawType": "object",
         "type": "unknown"
        },
        {
         "name": "ride_count",
         "rawType": "int64",
         "type": "integer"
        },
        {
         "name": "distance",
         "rawType": "float64",
         "type": "float"
        },
        {
         "name": "duration",
         "rawType": "float64",
         "type": "float"
        },
        {
         "name": "minute_price",
         "rawType": "float64",
         "type": "float"
        },
        {
         "name": "start_ride_price",
         "rawType": "float64",
         "type": "float"
        },
        {
         "name": "subscription_fee",
         "rawType": "float64",
         "type": "float"
        },
        {
         "name": "revenue",
         "rawType": "float64",
         "type": "float"
        }
       ],
       "conversionMethod": "pd.DataFrame",
       "ref": "336d3757-0c8d-4a15-9330-fb08363876d7",
       "rows": [
        [
         "(np.int64(1), np.int32(1))",
         "2",
         "7027.51",
         "42.0",
         "6.0",
         "0.0",
         "199.0",
         "451.0"
        ],
        [
         "(np.int64(1), np.int32(4))",
         "1",
         "754.16",
         "7.0",
         "6.0",
         "0.0",
         "199.0",
         "241.0"
        ],
        [
         "(np.int64(1), np.int32(8))",
         "2",
         "6723.47",
         "46.0",
         "6.0",
         "0.0",
         "199.0",
         "475.0"
        ],
        [
         "(np.int64(1), np.int32(10))",
         "2",
         "5809.91",
         "32.0",
         "6.0",
         "0.0",
         "199.0",
         "391.0"
        ],
        [
         "(np.int64(1), np.int32(11))",
         "3",
         "7003.5",
         "56.0",
         "6.0",
         "0.0",
         "199.0",
         "535.0"
        ]
       ],
       "shape": {
        "columns": 7,
        "rows": 5
       }
      },
      "text/html": [
       "<div>\n",
       "<style scoped>\n",
       "    .dataframe tbody tr th:only-of-type {\n",
       "        vertical-align: middle;\n",
       "    }\n",
       "\n",
       "    .dataframe tbody tr th {\n",
       "        vertical-align: top;\n",
       "    }\n",
       "\n",
       "    .dataframe thead th {\n",
       "        text-align: right;\n",
       "    }\n",
       "</style>\n",
       "<table border=\"1\" class=\"dataframe\">\n",
       "  <thead>\n",
       "    <tr style=\"text-align: right;\">\n",
       "      <th></th>\n",
       "      <th></th>\n",
       "      <th>ride_count</th>\n",
       "      <th>distance</th>\n",
       "      <th>duration</th>\n",
       "      <th>minute_price</th>\n",
       "      <th>start_ride_price</th>\n",
       "      <th>subscription_fee</th>\n",
       "      <th>revenue</th>\n",
       "    </tr>\n",
       "    <tr>\n",
       "      <th>user_id</th>\n",
       "      <th>ride_month</th>\n",
       "      <th></th>\n",
       "      <th></th>\n",
       "      <th></th>\n",
       "      <th></th>\n",
       "      <th></th>\n",
       "      <th></th>\n",
       "      <th></th>\n",
       "    </tr>\n",
       "  </thead>\n",
       "  <tbody>\n",
       "    <tr>\n",
       "      <th rowspan=\"5\" valign=\"top\">1</th>\n",
       "      <th>1</th>\n",
       "      <td>2</td>\n",
       "      <td>7027.51</td>\n",
       "      <td>42.0</td>\n",
       "      <td>6.0</td>\n",
       "      <td>0.0</td>\n",
       "      <td>199.0</td>\n",
       "      <td>451.0</td>\n",
       "    </tr>\n",
       "    <tr>\n",
       "      <th>4</th>\n",
       "      <td>1</td>\n",
       "      <td>754.16</td>\n",
       "      <td>7.0</td>\n",
       "      <td>6.0</td>\n",
       "      <td>0.0</td>\n",
       "      <td>199.0</td>\n",
       "      <td>241.0</td>\n",
       "    </tr>\n",
       "    <tr>\n",
       "      <th>8</th>\n",
       "      <td>2</td>\n",
       "      <td>6723.47</td>\n",
       "      <td>46.0</td>\n",
       "      <td>6.0</td>\n",
       "      <td>0.0</td>\n",
       "      <td>199.0</td>\n",
       "      <td>475.0</td>\n",
       "    </tr>\n",
       "    <tr>\n",
       "      <th>10</th>\n",
       "      <td>2</td>\n",
       "      <td>5809.91</td>\n",
       "      <td>32.0</td>\n",
       "      <td>6.0</td>\n",
       "      <td>0.0</td>\n",
       "      <td>199.0</td>\n",
       "      <td>391.0</td>\n",
       "    </tr>\n",
       "    <tr>\n",
       "      <th>11</th>\n",
       "      <td>3</td>\n",
       "      <td>7003.50</td>\n",
       "      <td>56.0</td>\n",
       "      <td>6.0</td>\n",
       "      <td>0.0</td>\n",
       "      <td>199.0</td>\n",
       "      <td>535.0</td>\n",
       "    </tr>\n",
       "  </tbody>\n",
       "</table>\n",
       "</div>"
      ],
      "text/plain": [
       "                    ride_count  distance  duration  minute_price  \\\n",
       "user_id ride_month                                                 \n",
       "1       1                    2   7027.51      42.0           6.0   \n",
       "        4                    1    754.16       7.0           6.0   \n",
       "        8                    2   6723.47      46.0           6.0   \n",
       "        10                   2   5809.91      32.0           6.0   \n",
       "        11                   3   7003.50      56.0           6.0   \n",
       "\n",
       "                    start_ride_price  subscription_fee  revenue  \n",
       "user_id ride_month                                               \n",
       "1       1                        0.0             199.0    451.0  \n",
       "        4                        0.0             199.0    241.0  \n",
       "        8                        0.0             199.0    475.0  \n",
       "        10                       0.0             199.0    391.0  \n",
       "        11                       0.0             199.0    535.0  "
      ]
     },
     "execution_count": 41,
     "metadata": {},
     "output_type": "execute_result"
    }
   ],
   "source": [
    "# уберем второй уровень столбцов\n",
    "agg_df.columns = ['ride_count', 'distance', 'duration', 'minute_price', 'start_ride_price', 'subscription_fee']\n",
    "\n",
    "# добавим столбец с помесячной выручкой, которую принёс каждый пользователь\n",
    "agg_df['revenue'] = agg_df['start_ride_price'] * agg_df['ride_count'] + agg_df['minute_price'] * agg_df['duration'] + agg_df['subscription_fee']\n",
    "\n",
    "agg_df.head()"
   ]
  },
  {
   "cell_type": "code",
   "execution_count": 42,
   "id": "019da51a",
   "metadata": {},
   "outputs": [
    {
     "data": {
      "text/plain": [
       "count    11331.000000\n",
       "mean       342.303504\n",
       "std        153.875346\n",
       "min         58.000000\n",
       "25%        234.000000\n",
       "50%        319.000000\n",
       "75%        415.000000\n",
       "max       1444.000000\n",
       "Name: revenue, dtype: float64"
      ]
     },
     "execution_count": 42,
     "metadata": {},
     "output_type": "execute_result"
    }
   ],
   "source": [
    "agg_df['revenue'].describe()"
   ]
  },
  {
   "cell_type": "markdown",
   "id": "f6de7b04",
   "metadata": {},
   "source": [
    "Подсчитали помесячную выручку, которую принес каждый пользователь. Ее медианное значение равно 319 руб. \n",
    "\n",
    "Минимальное значение выручки составило 58 руб., максимальное - 1444 руб. "
   ]
  },
  {
   "cell_type": "markdown",
   "id": "41545ac0",
   "metadata": {},
   "source": [
    "#### Шаг 6. Проверка гипотез"
   ]
  },
  {
   "cell_type": "markdown",
   "id": "7af6e504",
   "metadata": {},
   "source": [
    "##### Гипотеза 1\n",
    "\n",
    "**Нулевая гипотеза, H0**: Пользователи с подпиской тратят времени на поездки столько же, сколько и пользователи без подписки. \n",
    "\n",
    "**Альтернативная гипотеза, Н1**: Пользователи с подпиской тратят больше времени на поездки, чем пользователи без подписки. "
   ]
  },
  {
   "cell_type": "code",
   "execution_count": 43,
   "id": "23ea867b",
   "metadata": {},
   "outputs": [
    {
     "name": "stdout",
     "output_type": "stream",
     "text": [
      "p-value: 1.2804098316645613e-34\n",
      "Отвергаем нулевую гипотезу\n"
     ]
    }
   ],
   "source": [
    "# зададим уровень значимости\n",
    "alpha = 0.05\n",
    "\n",
    "# проводим ttest для двух выборок, в качестве альтернативной используем одностороннюю гипотезу «больше»\n",
    "results = st.ttest_ind(users_with_subscriptions['duration'], users_no_subscriptions['duration'], alternative='greater')\n",
    "\n",
    "print(f'p-value: {results.pvalue}')\n",
    "\n",
    "# проверяем p-value\n",
    "if results.pvalue < alpha:\n",
    "    print('Отвергаем нулевую гипотезу')\n",
    "else:\n",
    "    print('Нет оснований отвергнуть нулевую гипотезу')"
   ]
  },
  {
   "cell_type": "markdown",
   "id": "d754245b",
   "metadata": {},
   "source": [
    "##### Гипотеза 2\n",
    "\n",
    "**Нулевая гипотеза, H0**: Среднее расстояние, которое проезжают пользователи с подпиской за одну поездку, равно 3130 м. \n",
    "\n",
    "**Альтернативная гипотеза, Н1**:  Среднее расстояние, которое проезжают пользователи с подпиской за одну поездку, более 3130 м."
   ]
  },
  {
   "cell_type": "code",
   "execution_count": 44,
   "id": "f1c14ffe",
   "metadata": {},
   "outputs": [
    {
     "name": "stdout",
     "output_type": "stream",
     "text": [
      "p-value: 0.9195368847849785\n",
      "Нет оснований отвергнуть нулевую гипотезу\n"
     ]
    }
   ],
   "source": [
    "# зададим уровень значимости\n",
    "alpha = 0.05\n",
    "\n",
    "# расстояние, которое считается оптимальным с точки зрения износа самоката\n",
    "optimal_distance = 3130\n",
    "\n",
    "# проводим ttest для выборки, используя одностороннюю гипотезу \"меньше\"\n",
    "results = st.ttest_1samp(users_with_subscriptions['distance'], optimal_distance, alternative='greater')\n",
    "\n",
    "print(f'p-value: {results.pvalue}')\n",
    "\n",
    "# проверяем p-value\n",
    "if results.pvalue < alpha:\n",
    "    print('Отвергаем нулевую гипотезу')\n",
    "else:\n",
    "    print('Нет оснований отвергнуть нулевую гипотезу')"
   ]
  },
  {
   "cell_type": "markdown",
   "id": "1f4f9009",
   "metadata": {},
   "source": [
    "##### Гипотеза 3\n",
    "\n",
    "**Нулевая гипотеза, H0**: Помесячная выручка от пользователей с подпиской равна выручке от пользователей без подписки. \n",
    "\n",
    "**Альтернативная гипотеза, Н1**:  Помесячная выручка от пользователей с подпиской больше выручки от пользователей без подписки. "
   ]
  },
  {
   "cell_type": "code",
   "execution_count": 45,
   "id": "c5631683",
   "metadata": {},
   "outputs": [
    {
     "name": "stdout",
     "output_type": "stream",
     "text": [
      "p-value: 1.8850394384715216e-31\n",
      "Отвергаем нулевую гипотезу\n"
     ]
    }
   ],
   "source": [
    "# зададим уровень значимости\n",
    "alpha = 0.05\n",
    "\n",
    "# проводим ttest для двух выборок, в качестве альтернативной используем одностороннюю гипотезу «больше»\n",
    "results = st.ttest_ind(agg_df[agg_df['subscription_fee'] == 199]['revenue'],\n",
    "                        agg_df[agg_df['subscription_fee'] == 0]['revenue'], alternative='greater')\n",
    "\n",
    "print(f'p-value: {results.pvalue}')\n",
    "\n",
    "# проверяем p-value\n",
    "if results.pvalue < alpha:\n",
    "    print('Отвергаем нулевую гипотезу')\n",
    "else:\n",
    "    print('Нет оснований отвергнуть нулевую гипотезу')"
   ]
  },
  {
   "cell_type": "markdown",
   "id": "50243167",
   "metadata": {},
   "source": [
    "##### Вопрос\n",
    "\n",
    "Представьте такую ситуацию: техническая команда сервиса обновила сервера, с которыми взаимодействует мобильное приложение. Она надеется, что из-за этого количество обращений в техподдержку значимо снизилось. Некоторый файл содержит для каждого пользователя данные о количестве обращений до обновления и после него. Какой тест вам понадобился бы для проверки этой гипотезы?\n",
    "\n",
    "**Ответ:**\n",
    "В таком случае нам необходимо проанализовать одну генеральную совокупность, с которой произошли изменения. \n",
    "\n",
    "Потребуется использовать `scipy.stats.ttest_rel()`\n"
   ]
  },
  {
   "cell_type": "markdown",
   "id": "ca5c400d",
   "metadata": {},
   "source": [
    "**Выводы:**\n",
    "\n",
    "По результатам проверки гипотез (при установленном уровне значимости = 5%) есть основания говорить, что:\n",
    "- пользователи с подпиской тратят больше времени на поездки, чем пользователи без подписки;\n",
    "- среднее расстояние, которое проезжают пользователи с подпиской за одну поездку, равно 3130 м;\n",
    "- помесячная выручка от пользователей с подпиской больше выручки от пользователей без подписки. "
   ]
  },
  {
   "cell_type": "markdown",
   "id": "61213c5e",
   "metadata": {},
   "source": [
    "#### Шаг 7. Распределения"
   ]
  },
  {
   "cell_type": "markdown",
   "id": "fe46953f",
   "metadata": {},
   "source": [
    "**Задача № 1:**\n",
    "\n",
    "Отделу маркетинга GoFast поставили задачу: нужно провести акцию с раздачей промокодов на один бесплатный месяц подписки, в рамках которой как минимум 100 существующих клиентов должны продлить эту подписку. То есть по завершении периода действия подписки пользователь может либо отказаться от неё, либо продлить, совершив соответствующий платёж. \n",
    "\n",
    "Эта акция уже проводилась ранее и по итогу выяснилось, что после бесплатного пробного периода подписку продлевают \n",
    "10% пользователей. Выясните, какое минимальное количество промокодов нужно разослать, чтобы вероятность не выполнить план была примерно 5 %. \n",
    "\n",
    "Подберите параметры распределения, описывающего эту ситуацию, постройте график распределения и сформулируйте ответ на вопрос о количестве промокодов."
   ]
  },
  {
   "cell_type": "code",
   "execution_count": 46,
   "id": "2b4ed720",
   "metadata": {},
   "outputs": [
    {
     "name": "stdout",
     "output_type": "stream",
     "text": [
      "100.02841955223582\n"
     ]
    }
   ],
   "source": [
    "# вероятность продления подписки и количество промокодов\n",
    "p = 0.1 \n",
    "n = 1169\n",
    "\n",
    "# зададим мат.ожидание и ст.отклонение нормального распределения равными\n",
    "# мат.ожиданию и ст.отклонению биномиального распределения\n",
    "mu = n*p\n",
    "sigma = sqrt(n * p * (1 - p))\n",
    "\n",
    "# зададим нормальное распределение \n",
    "distr = st.norm(mu, sigma) \n",
    "\n",
    "x = 0.05\n",
    "\n",
    "result = distr.ppf(x)\n",
    "print(result)"
   ]
  },
  {
   "cell_type": "code",
   "execution_count": 47,
   "id": "5d9f520b",
   "metadata": {},
   "outputs": [
    {
     "data": {
      "image/png": "[encoded data removed]",
      "text/plain": [
       "<Figure size 640x480 with 1 Axes>"
      ]
     },
     "metadata": {},
     "output_type": "display_data"
    }
   ],
   "source": [
    "# вероятность продления подписки и количество промокодов\n",
    "p = 0.1 \n",
    "n = 1169\n",
    "\n",
    "# границы промежутка, в котором будем строить аппроксимацию -\n",
    "# от n*p минус 4 ст.отклонения бином.распределения\n",
    "# до n*p плюс 4 ст.отклонения бином.распределения\n",
    "left = int(n * p - 4 * sqrt(n * p * (1 - p)))\n",
    "right = int(n * p + 4 * sqrt(n * p * (1 - p)))\n",
    "\n",
    "# зададим набор значений биномиальной величины на выбранном промежутке\n",
    "x = list(range(max(0, left), right))\n",
    "\n",
    "# зададим мат.ожидание и ст.отклонение нормального распределения \n",
    "mu = n * p\n",
    "sigma = sqrt(n * p * (1 - p))\n",
    "\n",
    "# рисуем график нормального распределения\n",
    "plt.plot(x, norm.pdf(x, mu, sigma), alpha=0.3)\n",
    "x_ticks = list(range(int(mu - 3 * sigma), int(mu + 3 * sigma), 1));"
   ]
  },
  {
   "cell_type": "markdown",
   "id": "7fe69172",
   "metadata": {},
   "source": [
    "Минимальное количество промокодов, которое нужно разослать, чтобы вероятность не выполнить план была примерно 5 % составляет 1169 шт."
   ]
  },
  {
   "cell_type": "markdown",
   "id": "f727fbaa",
   "metadata": {},
   "source": [
    "**Задача № 2:**\n",
    "\n",
    "Отдел маркетинга рассылает клиентам push-уведомления в мобильном приложении. Клиенты могут открыть его или не открывать. Известно, что уведомления открывают около 40 % получивших клиентов. Отдел планирует разослать 1 млн уведомлений. С помощью аппроксимации постройте примерный график распределения и оцените вероятность того, что уведомление откроют не более 399,5 тыс. пользователей."
   ]
  },
  {
   "cell_type": "code",
   "execution_count": 48,
   "id": "6c84b982",
   "metadata": {},
   "outputs": [
    {
     "data": {
      "image/png": "[encoded data removed]",
      "text/plain": [
       "<Figure size 640x480 with 1 Axes>"
      ]
     },
     "metadata": {},
     "output_type": "display_data"
    }
   ],
   "source": [
    "# задаём параметры биномиального распределения\n",
    "p = 0.4\n",
    "n = 1000000\n",
    "\n",
    "# границы промежутка, в котором будем строить аппроксимацию -\n",
    "# от n*p минус 4 ст.отклонения бином.распределения\n",
    "# до n*p плюс 4 ст.отклонения бином.распределения\n",
    "left = int(n * p - 4 * sqrt(n * p * (1 - p)))\n",
    "right = int(n * p + 4 * sqrt(n * p * (1 - p)))\n",
    "\n",
    "# зададим набор значений биномиальной величины на выбранном промежутке\n",
    "x = list(range(max(0, left), right))\n",
    "\n",
    "# зададим мат.ожидание и ст.отклонение нормального распределения \n",
    "mu = n * p\n",
    "sigma = sqrt(n * p * (1 - p))\n",
    "\n",
    "# рисуем график нормального распределения\n",
    "plt.plot(x, norm.pdf(x, mu, sigma), alpha=0.3)\n",
    "x_ticks = list(range(int(mu - 3 * sigma), int(mu + 3 * sigma), 1))"
   ]
  },
  {
   "cell_type": "code",
   "execution_count": 49,
   "id": "6bb5fa3e",
   "metadata": {},
   "outputs": [
    {
     "name": "stdout",
     "output_type": "stream",
     "text": [
      "Вероятность получить значение менее 395000: 0.15371708296369768\n"
     ]
    }
   ],
   "source": [
    "\n",
    "# вероятность открытия клиентов уведомления и количество планируемых уведомлений\n",
    "p = 0.4\n",
    "n = 1000000\n",
    "\n",
    "# зададим мат.ожидание и ст.отклонение нормального распределения равными\n",
    "# мат.ожиданию и ст.отклонению биномиального распределения\n",
    "mu = n*p\n",
    "sigma = sqrt(n * p * (1 - p))\n",
    "\n",
    "# зададим нормальное распределение \n",
    "distr = st.norm(mu, sigma) \n",
    "\n",
    "x = 399500\n",
    "\n",
    "# считаем вероятность хвоста слева от y\n",
    "result = distr.cdf(x)\n",
    "print('Вероятность получить значение менее 395000:', result)"
   ]
  },
  {
   "cell_type": "markdown",
   "id": "e9d0a179",
   "metadata": {},
   "source": [
    "Вероятность того, что push-уведомление откроют не более 399,5 тыс. пользователей составляет ~15%."
   ]
  },
  {
   "cell_type": "markdown",
   "id": "e667c5a8",
   "metadata": {},
   "source": [
    "#### Общий вывод"
   ]
  },
  {
   "cell_type": "markdown",
   "id": "fab050b9",
   "metadata": {},
   "source": [
    "1. Была выполнена предобработка данных: \n",
    "- скорректированы типы данных в столбце `date`;\n",
    "- создан новый столбец `ride_month` с номером месяца;\n",
    "- удалены дубликаты в данных о пользователях.\n",
    "2. Качество данных - хорошее. Аномалий в данных не выявлено. \n",
    "3. В результате анализа данных выявлено:\n",
    "- количество пользователей на юге страны больше, возможно, из-за длительного сезона пользования самокатами;\n",
    "- пользователей без подписки больше, чем пользователей, которые приобрели подписку, почти на 10%;\n",
    "- больше всего пользователей, арендующих самокаты, находятся в возрасте ~25 лет;\n",
    "- основная часть поездок занимает от 2500 до 3800 метров. Медиана 3133 метра. Поездки на расстояние более 5 км редки. Однако на гистограмме видно, что некоторая часть пользователей использует самокаты для коротких поездок - до 1500 м**;\n",
    "- медианная (как и средняя) длительность поездок составляет ~ 17 мин.\n",
    "4. Проведен анализ информации о расстоянии и времени поездок для пользователей обоих категорий: \n",
    "- у пользователей без подписки значительно больше коротких поездок - до 1 км;\n",
    "- у пользователей без подписки максимальная дальность поездки выше, чем у платных пользователей;\n",
    "- средняя длительность поездок у обоих категорий пользователей составляет от 10 до 20 минут.\n",
    "При этом у пользователей без подписки наблюдается некоторое количество поездок с расстоянием до 1 км, у пользователей с подпиской таких поездок значительно меньше. Это может быть связано с тем, что пользователи могут впервые пробовать поездки на самокате, чтобы оценить их удобство для себя и т.п. \n",
    "5. Подсчитали помесячную выручку, которую принес каждый пользователь:\n",
    "- ее медианное значение равно 319 руб.\n",
    "- минимальное значение выручки составило 58 руб., максимальное - 1444 руб. \n",
    "6. По результатам проверки гипотез (при установленном уровне значимости = 5%) есть основания говорить, что:\n",
    "- пользователи с подпиской тратят больше времени на поездки, чем пользователи без подписки;\n",
    "- среднее расстояние, которое проезжают пользователи с подпиской за одну поездку, равно 3130 м;\n",
    "- помесячная выручка от пользователей с подпиской больше выручки от пользователей без подписки. \n",
    "\n",
    "**Рекомендации:**\n",
    "Т.к. пользователи с подпиской приносят больше прибыли, чем пользователи без подписки, то проведение акций для увеличения количества пользователей с подпиской - это хорошая идея. "
   ]
  }
 ],
 "metadata": {
  "ExecuteTimeLog": [
   {
    "duration": 1327,
    "start_time": "2025-03-10T21:44:22.463Z"
   },
   {
    "duration": 72,
    "start_time": "2025-03-10T21:44:23.792Z"
   },
   {
    "duration": 17,
    "start_time": "2025-03-10T21:44:23.867Z"
   },
   {
    "duration": 10,
    "start_time": "2025-03-10T21:44:23.886Z"
   },
   {
    "duration": 6,
    "start_time": "2025-03-10T21:44:23.898Z"
   },
   {
    "duration": 14,
    "start_time": "2025-03-10T21:44:23.906Z"
   },
   {
    "duration": 36,
    "start_time": "2025-03-10T21:44:23.922Z"
   },
   {
    "duration": 13,
    "start_time": "2025-03-10T21:44:23.961Z"
   },
   {
    "duration": 6,
    "start_time": "2025-03-10T21:44:23.976Z"
   },
   {
    "duration": 4,
    "start_time": "2025-03-10T21:44:23.983Z"
   },
   {
    "duration": 6,
    "start_time": "2025-03-10T21:44:23.988Z"
   },
   {
    "duration": 18,
    "start_time": "2025-03-10T21:44:23.995Z"
   },
   {
    "duration": 23,
    "start_time": "2025-03-10T21:44:24.015Z"
   },
   {
    "duration": 17,
    "start_time": "2025-03-10T21:44:24.041Z"
   },
   {
    "duration": 11,
    "start_time": "2025-03-10T21:44:24.061Z"
   },
   {
    "duration": 158,
    "start_time": "2025-03-10T21:44:24.073Z"
   },
   {
    "duration": 115,
    "start_time": "2025-03-10T21:44:24.233Z"
   },
   {
    "duration": 17,
    "start_time": "2025-03-10T21:44:24.349Z"
   },
   {
    "duration": 164,
    "start_time": "2025-03-10T21:44:24.368Z"
   },
   {
    "duration": 106,
    "start_time": "2025-03-10T21:44:24.534Z"
   },
   {
    "duration": 18,
    "start_time": "2025-03-10T21:44:24.641Z"
   },
   {
    "duration": 166,
    "start_time": "2025-03-10T21:44:24.661Z"
   },
   {
    "duration": 131,
    "start_time": "2025-03-10T21:44:24.828Z"
   },
   {
    "duration": 12,
    "start_time": "2025-03-10T21:44:24.961Z"
   },
   {
    "duration": 167,
    "start_time": "2025-03-10T21:44:24.975Z"
   },
   {
    "duration": 138,
    "start_time": "2025-03-10T21:44:25.144Z"
   },
   {
    "duration": 16,
    "start_time": "2025-03-10T21:44:25.284Z"
   },
   {
    "duration": 10,
    "start_time": "2025-03-10T21:44:25.302Z"
   },
   {
    "duration": 192,
    "start_time": "2025-03-10T21:44:25.313Z"
   },
   {
    "duration": 234,
    "start_time": "2025-03-10T21:44:25.507Z"
   },
   {
    "duration": 64,
    "start_time": "2025-03-10T21:44:25.743Z"
   },
   {
    "duration": 16,
    "start_time": "2025-03-10T21:44:25.809Z"
   },
   {
    "duration": 12,
    "start_time": "2025-03-10T21:44:25.826Z"
   },
   {
    "duration": 6,
    "start_time": "2025-03-10T21:44:25.858Z"
   },
   {
    "duration": 41,
    "start_time": "2025-03-10T21:44:25.866Z"
   },
   {
    "duration": 7,
    "start_time": "2025-03-10T21:44:25.909Z"
   },
   {
    "duration": 17,
    "start_time": "2025-03-10T21:44:25.917Z"
   },
   {
    "duration": 134,
    "start_time": "2025-03-10T21:44:25.936Z"
   },
   {
    "duration": 145,
    "start_time": "2025-03-10T21:44:26.072Z"
   },
   {
    "duration": 6,
    "start_time": "2025-03-10T21:44:26.218Z"
   },
   {
    "duration": 1188,
    "start_time": "2025-03-11T08:18:09.133Z"
   },
   {
    "duration": 70,
    "start_time": "2025-03-11T08:18:10.323Z"
   },
   {
    "duration": 12,
    "start_time": "2025-03-11T08:18:10.395Z"
   },
   {
    "duration": 9,
    "start_time": "2025-03-11T08:18:10.409Z"
   },
   {
    "duration": 9,
    "start_time": "2025-03-11T08:18:10.420Z"
   },
   {
    "duration": 12,
    "start_time": "2025-03-11T08:18:10.430Z"
   },
   {
    "duration": 16,
    "start_time": "2025-03-11T08:18:10.443Z"
   },
   {
    "duration": 10,
    "start_time": "2025-03-11T08:18:10.460Z"
   },
   {
    "duration": 7,
    "start_time": "2025-03-11T08:18:10.471Z"
   },
   {
    "duration": 7,
    "start_time": "2025-03-11T08:18:10.480Z"
   },
   {
    "duration": 7,
    "start_time": "2025-03-11T08:18:10.488Z"
   },
   {
    "duration": 9,
    "start_time": "2025-03-11T08:18:10.497Z"
   },
   {
    "duration": 5,
    "start_time": "2025-03-11T08:18:10.507Z"
   },
   {
    "duration": 8,
    "start_time": "2025-03-11T08:18:10.515Z"
   },
   {
    "duration": 9,
    "start_time": "2025-03-11T08:18:10.557Z"
   },
   {
    "duration": 160,
    "start_time": "2025-03-11T08:18:10.568Z"
   },
   {
    "duration": 117,
    "start_time": "2025-03-11T08:18:10.730Z"
   },
   {
    "duration": 12,
    "start_time": "2025-03-11T08:18:10.849Z"
   },
   {
    "duration": 162,
    "start_time": "2025-03-11T08:18:10.862Z"
   },
   {
    "duration": 101,
    "start_time": "2025-03-11T08:18:11.025Z"
   },
   {
    "duration": 8,
    "start_time": "2025-03-11T08:18:11.128Z"
   },
   {
    "duration": 170,
    "start_time": "2025-03-11T08:18:11.138Z"
   },
   {
    "duration": 147,
    "start_time": "2025-03-11T08:18:11.310Z"
   },
   {
    "duration": 8,
    "start_time": "2025-03-11T08:18:11.459Z"
   },
   {
    "duration": 148,
    "start_time": "2025-03-11T08:18:11.469Z"
   },
   {
    "duration": 140,
    "start_time": "2025-03-11T08:18:11.618Z"
   },
   {
    "duration": 16,
    "start_time": "2025-03-11T08:18:11.760Z"
   },
   {
    "duration": 11,
    "start_time": "2025-03-11T08:18:11.777Z"
   },
   {
    "duration": 186,
    "start_time": "2025-03-11T08:18:11.790Z"
   },
   {
    "duration": 233,
    "start_time": "2025-03-11T08:18:11.977Z"
   },
   {
    "duration": 61,
    "start_time": "2025-03-11T08:18:12.211Z"
   },
   {
    "duration": 13,
    "start_time": "2025-03-11T08:18:12.273Z"
   },
   {
    "duration": 8,
    "start_time": "2025-03-11T08:18:12.287Z"
   },
   {
    "duration": 5,
    "start_time": "2025-03-11T08:18:12.296Z"
   },
   {
    "duration": 6,
    "start_time": "2025-03-11T08:18:12.302Z"
   },
   {
    "duration": 6,
    "start_time": "2025-03-11T08:18:12.310Z"
   },
   {
    "duration": 4,
    "start_time": "2025-03-11T08:18:12.318Z"
   },
   {
    "duration": 139,
    "start_time": "2025-03-11T08:18:12.358Z"
   },
   {
    "duration": 146,
    "start_time": "2025-03-11T08:18:12.499Z"
   },
   {
    "duration": 11,
    "start_time": "2025-03-11T08:18:12.647Z"
   },
   {
    "duration": 2784,
    "start_time": "2025-03-11T08:20:28.975Z"
   },
   {
    "duration": 1361,
    "start_time": "2025-03-11T16:06:09.956Z"
   },
   {
    "duration": 76,
    "start_time": "2025-03-11T16:06:11.319Z"
   },
   {
    "duration": 15,
    "start_time": "2025-03-11T16:06:11.397Z"
   },
   {
    "duration": 49,
    "start_time": "2025-03-11T16:06:11.414Z"
   },
   {
    "duration": 9,
    "start_time": "2025-03-11T16:06:11.466Z"
   },
   {
    "duration": 29,
    "start_time": "2025-03-11T16:06:11.477Z"
   },
   {
    "duration": 14,
    "start_time": "2025-03-11T16:06:11.507Z"
   },
   {
    "duration": 20,
    "start_time": "2025-03-11T16:06:11.524Z"
   },
   {
    "duration": 8,
    "start_time": "2025-03-11T16:06:11.546Z"
   },
   {
    "duration": 12,
    "start_time": "2025-03-11T16:06:11.556Z"
   },
   {
    "duration": 5,
    "start_time": "2025-03-11T16:06:11.570Z"
   },
   {
    "duration": 38,
    "start_time": "2025-03-11T16:06:11.577Z"
   },
   {
    "duration": 8,
    "start_time": "2025-03-11T16:06:11.617Z"
   },
   {
    "duration": 7,
    "start_time": "2025-03-11T16:06:11.628Z"
   },
   {
    "duration": 7,
    "start_time": "2025-03-11T16:06:11.637Z"
   },
   {
    "duration": 9,
    "start_time": "2025-03-11T16:06:11.646Z"
   },
   {
    "duration": 216,
    "start_time": "2025-03-11T16:06:11.657Z"
   },
   {
    "duration": 112,
    "start_time": "2025-03-11T16:06:11.875Z"
   },
   {
    "duration": 10,
    "start_time": "2025-03-11T16:06:11.989Z"
   },
   {
    "duration": 184,
    "start_time": "2025-03-11T16:06:12.014Z"
   },
   {
    "duration": 119,
    "start_time": "2025-03-11T16:06:12.199Z"
   },
   {
    "duration": 10,
    "start_time": "2025-03-11T16:06:12.320Z"
   },
   {
    "duration": 186,
    "start_time": "2025-03-11T16:06:12.331Z"
   },
   {
    "duration": 143,
    "start_time": "2025-03-11T16:06:12.518Z"
   },
   {
    "duration": 9,
    "start_time": "2025-03-11T16:06:12.663Z"
   },
   {
    "duration": 176,
    "start_time": "2025-03-11T16:06:12.674Z"
   },
   {
    "duration": 143,
    "start_time": "2025-03-11T16:06:12.852Z"
   },
   {
    "duration": 24,
    "start_time": "2025-03-11T16:06:12.996Z"
   },
   {
    "duration": 37,
    "start_time": "2025-03-11T16:06:13.022Z"
   },
   {
    "duration": 11,
    "start_time": "2025-03-11T16:06:13.061Z"
   },
   {
    "duration": 26,
    "start_time": "2025-03-11T16:06:13.075Z"
   },
   {
    "duration": 33,
    "start_time": "2025-03-11T16:06:13.103Z"
   },
   {
    "duration": 45,
    "start_time": "2025-03-11T16:06:13.138Z"
   },
   {
    "duration": 20,
    "start_time": "2025-03-11T16:06:13.185Z"
   },
   {
    "duration": 21,
    "start_time": "2025-03-11T16:06:13.207Z"
   },
   {
    "duration": 234,
    "start_time": "2025-03-11T16:06:13.229Z"
   },
   {
    "duration": 295,
    "start_time": "2025-03-11T16:06:13.465Z"
   },
   {
    "duration": 16,
    "start_time": "2025-03-11T16:06:13.762Z"
   },
   {
    "duration": 62,
    "start_time": "2025-03-11T16:06:13.780Z"
   },
   {
    "duration": 20,
    "start_time": "2025-03-11T16:06:13.844Z"
   },
   {
    "duration": 15,
    "start_time": "2025-03-11T16:06:13.869Z"
   },
   {
    "duration": 35,
    "start_time": "2025-03-11T16:06:13.886Z"
   },
   {
    "duration": 68,
    "start_time": "2025-03-11T16:06:13.923Z"
   },
   {
    "duration": 7,
    "start_time": "2025-03-11T16:06:13.993Z"
   },
   {
    "duration": 9,
    "start_time": "2025-03-11T16:06:14.002Z"
   },
   {
    "duration": 6,
    "start_time": "2025-03-11T16:06:14.013Z"
   },
   {
    "duration": 147,
    "start_time": "2025-03-11T16:06:14.021Z"
   },
   {
    "duration": 157,
    "start_time": "2025-03-11T16:06:14.169Z"
   },
   {
    "duration": 5,
    "start_time": "2025-03-11T16:06:14.328Z"
   },
   {
    "duration": 9,
    "start_time": "2025-03-11T16:07:23.914Z"
   },
   {
    "duration": 154,
    "start_time": "2025-03-11T16:08:30.346Z"
   },
   {
    "duration": 155,
    "start_time": "2025-03-11T16:08:38.806Z"
   },
   {
    "duration": 186,
    "start_time": "2025-03-11T16:08:42.995Z"
   },
   {
    "duration": 1171,
    "start_time": "2025-03-11T16:09:10.016Z"
   },
   {
    "duration": 59,
    "start_time": "2025-03-11T16:09:11.189Z"
   },
   {
    "duration": 13,
    "start_time": "2025-03-11T16:09:11.250Z"
   },
   {
    "duration": 9,
    "start_time": "2025-03-11T16:09:11.265Z"
   },
   {
    "duration": 8,
    "start_time": "2025-03-11T16:09:11.277Z"
   },
   {
    "duration": 14,
    "start_time": "2025-03-11T16:09:11.286Z"
   },
   {
    "duration": 20,
    "start_time": "2025-03-11T16:09:11.302Z"
   },
   {
    "duration": 12,
    "start_time": "2025-03-11T16:09:11.324Z"
   },
   {
    "duration": 8,
    "start_time": "2025-03-11T16:09:11.338Z"
   },
   {
    "duration": 10,
    "start_time": "2025-03-11T16:09:11.348Z"
   },
   {
    "duration": 5,
    "start_time": "2025-03-11T16:09:11.360Z"
   },
   {
    "duration": 19,
    "start_time": "2025-03-11T16:09:11.367Z"
   },
   {
    "duration": 15,
    "start_time": "2025-03-11T16:09:11.413Z"
   },
   {
    "duration": 9,
    "start_time": "2025-03-11T16:09:11.432Z"
   },
   {
    "duration": 11,
    "start_time": "2025-03-11T16:09:11.442Z"
   },
   {
    "duration": 14,
    "start_time": "2025-03-11T16:09:11.454Z"
   },
   {
    "duration": 169,
    "start_time": "2025-03-11T16:09:11.470Z"
   },
   {
    "duration": 109,
    "start_time": "2025-03-11T16:09:11.641Z"
   },
   {
    "duration": 8,
    "start_time": "2025-03-11T16:09:11.752Z"
   },
   {
    "duration": 170,
    "start_time": "2025-03-11T16:09:11.762Z"
   },
   {
    "duration": 112,
    "start_time": "2025-03-11T16:09:11.934Z"
   },
   {
    "duration": 9,
    "start_time": "2025-03-11T16:09:12.047Z"
   },
   {
    "duration": 170,
    "start_time": "2025-03-11T16:09:12.058Z"
   },
   {
    "duration": 135,
    "start_time": "2025-03-11T16:09:12.230Z"
   },
   {
    "duration": 8,
    "start_time": "2025-03-11T16:09:12.367Z"
   },
   {
    "duration": 152,
    "start_time": "2025-03-11T16:09:12.377Z"
   },
   {
    "duration": 137,
    "start_time": "2025-03-11T16:09:12.530Z"
   },
   {
    "duration": 10,
    "start_time": "2025-03-11T16:09:12.669Z"
   },
   {
    "duration": 10,
    "start_time": "2025-03-11T16:09:12.680Z"
   },
   {
    "duration": 29,
    "start_time": "2025-03-11T16:09:12.692Z"
   },
   {
    "duration": 25,
    "start_time": "2025-03-11T16:09:12.722Z"
   },
   {
    "duration": 20,
    "start_time": "2025-03-11T16:09:12.749Z"
   },
   {
    "duration": 14,
    "start_time": "2025-03-11T16:09:12.771Z"
   },
   {
    "duration": 45,
    "start_time": "2025-03-11T16:09:12.786Z"
   },
   {
    "duration": 16,
    "start_time": "2025-03-11T16:09:12.832Z"
   },
   {
    "duration": 223,
    "start_time": "2025-03-11T16:09:12.849Z"
   },
   {
    "duration": 288,
    "start_time": "2025-03-11T16:09:13.074Z"
   },
   {
    "duration": 16,
    "start_time": "2025-03-11T16:09:13.363Z"
   },
   {
    "duration": 96,
    "start_time": "2025-03-11T16:09:13.381Z"
   },
   {
    "duration": 17,
    "start_time": "2025-03-11T16:09:13.479Z"
   },
   {
    "duration": 18,
    "start_time": "2025-03-11T16:09:13.500Z"
   },
   {
    "duration": 8,
    "start_time": "2025-03-11T16:09:13.519Z"
   },
   {
    "duration": 10,
    "start_time": "2025-03-11T16:09:13.529Z"
   },
   {
    "duration": 5,
    "start_time": "2025-03-11T16:09:13.541Z"
   },
   {
    "duration": 8,
    "start_time": "2025-03-11T16:09:13.547Z"
   },
   {
    "duration": 5,
    "start_time": "2025-03-11T16:09:13.556Z"
   },
   {
    "duration": 181,
    "start_time": "2025-03-11T16:09:13.563Z"
   },
   {
    "duration": 149,
    "start_time": "2025-03-11T16:09:13.745Z"
   },
   {
    "duration": 6,
    "start_time": "2025-03-11T16:09:13.896Z"
   },
   {
    "duration": 193,
    "start_time": "2025-03-11T16:10:35.182Z"
   },
   {
    "duration": 1183,
    "start_time": "2025-03-11T16:11:14.819Z"
   },
   {
    "duration": 63,
    "start_time": "2025-03-11T16:11:16.004Z"
   },
   {
    "duration": 14,
    "start_time": "2025-03-11T16:11:16.068Z"
   },
   {
    "duration": 10,
    "start_time": "2025-03-11T16:11:16.084Z"
   },
   {
    "duration": 8,
    "start_time": "2025-03-11T16:11:16.096Z"
   },
   {
    "duration": 16,
    "start_time": "2025-03-11T16:11:16.106Z"
   },
   {
    "duration": 11,
    "start_time": "2025-03-11T16:11:16.124Z"
   },
   {
    "duration": 10,
    "start_time": "2025-03-11T16:11:16.137Z"
   },
   {
    "duration": 8,
    "start_time": "2025-03-11T16:11:16.149Z"
   },
   {
    "duration": 10,
    "start_time": "2025-03-11T16:11:16.159Z"
   },
   {
    "duration": 5,
    "start_time": "2025-03-11T16:11:16.171Z"
   },
   {
    "duration": 45,
    "start_time": "2025-03-11T16:11:16.177Z"
   },
   {
    "duration": 7,
    "start_time": "2025-03-11T16:11:16.225Z"
   },
   {
    "duration": 7,
    "start_time": "2025-03-11T16:11:16.236Z"
   },
   {
    "duration": 6,
    "start_time": "2025-03-11T16:11:16.244Z"
   },
   {
    "duration": 9,
    "start_time": "2025-03-11T16:11:16.252Z"
   },
   {
    "duration": 217,
    "start_time": "2025-03-11T16:11:16.263Z"
   },
   {
    "duration": 133,
    "start_time": "2025-03-11T16:11:16.482Z"
   },
   {
    "duration": 9,
    "start_time": "2025-03-11T16:11:16.617Z"
   },
   {
    "duration": 186,
    "start_time": "2025-03-11T16:11:16.628Z"
   },
   {
    "duration": 118,
    "start_time": "2025-03-11T16:11:16.816Z"
   },
   {
    "duration": 8,
    "start_time": "2025-03-11T16:11:16.936Z"
   },
   {
    "duration": 169,
    "start_time": "2025-03-11T16:11:16.946Z"
   },
   {
    "duration": 137,
    "start_time": "2025-03-11T16:11:17.116Z"
   },
   {
    "duration": 9,
    "start_time": "2025-03-11T16:11:17.255Z"
   },
   {
    "duration": 169,
    "start_time": "2025-03-11T16:11:17.266Z"
   },
   {
    "duration": 137,
    "start_time": "2025-03-11T16:11:17.437Z"
   },
   {
    "duration": 11,
    "start_time": "2025-03-11T16:11:17.575Z"
   },
   {
    "duration": 29,
    "start_time": "2025-03-11T16:11:17.588Z"
   },
   {
    "duration": 10,
    "start_time": "2025-03-11T16:11:17.619Z"
   },
   {
    "duration": 21,
    "start_time": "2025-03-11T16:11:17.632Z"
   },
   {
    "duration": 21,
    "start_time": "2025-03-11T16:11:17.655Z"
   },
   {
    "duration": 47,
    "start_time": "2025-03-11T16:11:17.678Z"
   },
   {
    "duration": 19,
    "start_time": "2025-03-11T16:11:17.727Z"
   },
   {
    "duration": 15,
    "start_time": "2025-03-11T16:11:17.748Z"
   },
   {
    "duration": 233,
    "start_time": "2025-03-11T16:11:17.764Z"
   },
   {
    "duration": 264,
    "start_time": "2025-03-11T16:11:17.999Z"
   },
   {
    "duration": 15,
    "start_time": "2025-03-11T16:11:18.265Z"
   },
   {
    "duration": 55,
    "start_time": "2025-03-11T16:11:18.282Z"
   },
   {
    "duration": 40,
    "start_time": "2025-03-11T16:11:18.339Z"
   },
   {
    "duration": 14,
    "start_time": "2025-03-11T16:11:18.382Z"
   },
   {
    "duration": 8,
    "start_time": "2025-03-11T16:11:18.398Z"
   },
   {
    "duration": 10,
    "start_time": "2025-03-11T16:11:18.407Z"
   },
   {
    "duration": 5,
    "start_time": "2025-03-11T16:11:18.418Z"
   },
   {
    "duration": 7,
    "start_time": "2025-03-11T16:11:18.425Z"
   },
   {
    "duration": 5,
    "start_time": "2025-03-11T16:11:18.434Z"
   },
   {
    "duration": 173,
    "start_time": "2025-03-11T16:11:18.440Z"
   },
   {
    "duration": 151,
    "start_time": "2025-03-11T16:11:18.615Z"
   },
   {
    "duration": 6,
    "start_time": "2025-03-11T16:11:18.768Z"
   },
   {
    "duration": 7,
    "start_time": "2025-03-11T16:12:20.095Z"
   },
   {
    "duration": 157,
    "start_time": "2025-03-11T16:12:23.470Z"
   },
   {
    "duration": 129,
    "start_time": "2025-03-11T16:12:28.901Z"
   },
   {
    "duration": 239,
    "start_time": "2025-03-11T16:12:42.158Z"
   },
   {
    "duration": 14,
    "start_time": "2025-03-11T16:12:49.262Z"
   },
   {
    "duration": 134,
    "start_time": "2025-03-11T16:12:52.376Z"
   },
   {
    "duration": 143,
    "start_time": "2025-03-11T16:13:03.243Z"
   },
   {
    "duration": 140,
    "start_time": "2025-03-11T16:13:11.914Z"
   },
   {
    "duration": 144,
    "start_time": "2025-03-11T16:14:49.683Z"
   },
   {
    "duration": 143,
    "start_time": "2025-03-11T16:15:03.550Z"
   },
   {
    "duration": 223,
    "start_time": "2025-03-11T16:15:08.072Z"
   },
   {
    "duration": 133,
    "start_time": "2025-03-11T16:15:24.447Z"
   },
   {
    "duration": 146,
    "start_time": "2025-03-11T16:15:30.579Z"
   },
   {
    "duration": 151,
    "start_time": "2025-03-11T16:15:40.944Z"
   },
   {
    "duration": 119,
    "start_time": "2025-03-11T16:15:54.390Z"
   },
   {
    "duration": 134,
    "start_time": "2025-03-11T16:15:58.625Z"
   },
   {
    "duration": 142,
    "start_time": "2025-03-11T16:16:11.079Z"
   },
   {
    "duration": 143,
    "start_time": "2025-03-11T16:16:18.480Z"
   },
   {
    "duration": 141,
    "start_time": "2025-03-11T16:16:54.151Z"
   },
   {
    "duration": 151,
    "start_time": "2025-03-11T16:17:07.411Z"
   },
   {
    "duration": 147,
    "start_time": "2025-03-11T16:17:15.723Z"
   },
   {
    "duration": 139,
    "start_time": "2025-03-11T16:17:19.786Z"
   },
   {
    "duration": 1175,
    "start_time": "2025-03-11T16:18:03.414Z"
   },
   {
    "duration": 63,
    "start_time": "2025-03-11T16:18:04.591Z"
   },
   {
    "duration": 12,
    "start_time": "2025-03-11T16:18:04.655Z"
   },
   {
    "duration": 13,
    "start_time": "2025-03-11T16:18:04.669Z"
   },
   {
    "duration": 7,
    "start_time": "2025-03-11T16:18:04.684Z"
   },
   {
    "duration": 15,
    "start_time": "2025-03-11T16:18:04.693Z"
   },
   {
    "duration": 12,
    "start_time": "2025-03-11T16:18:04.709Z"
   },
   {
    "duration": 12,
    "start_time": "2025-03-11T16:18:04.722Z"
   },
   {
    "duration": 7,
    "start_time": "2025-03-11T16:18:04.736Z"
   },
   {
    "duration": 8,
    "start_time": "2025-03-11T16:18:04.745Z"
   },
   {
    "duration": 4,
    "start_time": "2025-03-11T16:18:04.755Z"
   },
   {
    "duration": 6,
    "start_time": "2025-03-11T16:18:04.761Z"
   },
   {
    "duration": 6,
    "start_time": "2025-03-11T16:18:04.768Z"
   },
   {
    "duration": 6,
    "start_time": "2025-03-11T16:18:04.814Z"
   },
   {
    "duration": 5,
    "start_time": "2025-03-11T16:18:04.822Z"
   },
   {
    "duration": 9,
    "start_time": "2025-03-11T16:18:04.828Z"
   },
   {
    "duration": 187,
    "start_time": "2025-03-11T16:18:04.839Z"
   },
   {
    "duration": 106,
    "start_time": "2025-03-11T16:18:05.028Z"
   },
   {
    "duration": 9,
    "start_time": "2025-03-11T16:18:05.135Z"
   },
   {
    "duration": 215,
    "start_time": "2025-03-11T16:18:05.145Z"
   },
   {
    "duration": 109,
    "start_time": "2025-03-11T16:18:05.362Z"
   },
   {
    "duration": 9,
    "start_time": "2025-03-11T16:18:05.473Z"
   },
   {
    "duration": 179,
    "start_time": "2025-03-11T16:18:05.484Z"
   },
   {
    "duration": 131,
    "start_time": "2025-03-11T16:18:05.665Z"
   },
   {
    "duration": 23,
    "start_time": "2025-03-11T16:18:05.798Z"
   },
   {
    "duration": 160,
    "start_time": "2025-03-11T16:18:05.823Z"
   },
   {
    "duration": 136,
    "start_time": "2025-03-11T16:18:05.985Z"
   },
   {
    "duration": 12,
    "start_time": "2025-03-11T16:18:06.122Z"
   },
   {
    "duration": 14,
    "start_time": "2025-03-11T16:18:06.135Z"
   },
   {
    "duration": 9,
    "start_time": "2025-03-11T16:18:06.151Z"
   },
   {
    "duration": 53,
    "start_time": "2025-03-11T16:18:06.162Z"
   },
   {
    "duration": 27,
    "start_time": "2025-03-11T16:18:06.217Z"
   },
   {
    "duration": 15,
    "start_time": "2025-03-11T16:18:06.246Z"
   },
   {
    "duration": 18,
    "start_time": "2025-03-11T16:18:06.262Z"
   },
   {
    "duration": 43,
    "start_time": "2025-03-11T16:18:06.282Z"
   },
   {
    "duration": 274,
    "start_time": "2025-03-11T16:18:06.327Z"
   },
   {
    "duration": 268,
    "start_time": "2025-03-11T16:18:06.603Z"
   },
   {
    "duration": 55,
    "start_time": "2025-03-11T16:18:06.872Z"
   },
   {
    "duration": 97,
    "start_time": "2025-03-11T16:18:06.929Z"
   },
   {
    "duration": 17,
    "start_time": "2025-03-11T16:18:07.027Z"
   },
   {
    "duration": 77,
    "start_time": "2025-03-11T16:18:07.048Z"
   },
   {
    "duration": 7,
    "start_time": "2025-03-11T16:18:07.126Z"
   },
   {
    "duration": 81,
    "start_time": "2025-03-11T16:18:07.135Z"
   },
   {
    "duration": 6,
    "start_time": "2025-03-11T16:18:07.217Z"
   },
   {
    "duration": 7,
    "start_time": "2025-03-11T16:18:07.225Z"
   },
   {
    "duration": 5,
    "start_time": "2025-03-11T16:18:07.234Z"
   },
   {
    "duration": 288,
    "start_time": "2025-03-11T16:18:07.240Z"
   },
   {
    "duration": 297,
    "start_time": "2025-03-11T16:18:07.529Z"
   },
   {
    "duration": 6,
    "start_time": "2025-03-11T16:18:07.827Z"
   },
   {
    "duration": 157,
    "start_time": "2025-03-11T16:18:39.278Z"
   },
   {
    "duration": 1103,
    "start_time": "2025-03-11T16:19:51.690Z"
   },
   {
    "duration": 64,
    "start_time": "2025-03-11T16:19:52.795Z"
   },
   {
    "duration": 14,
    "start_time": "2025-03-11T16:19:52.861Z"
   },
   {
    "duration": 9,
    "start_time": "2025-03-11T16:19:52.877Z"
   },
   {
    "duration": 9,
    "start_time": "2025-03-11T16:19:52.889Z"
   },
   {
    "duration": 21,
    "start_time": "2025-03-11T16:19:52.900Z"
   },
   {
    "duration": 11,
    "start_time": "2025-03-11T16:19:52.922Z"
   },
   {
    "duration": 10,
    "start_time": "2025-03-11T16:19:52.934Z"
   },
   {
    "duration": 8,
    "start_time": "2025-03-11T16:19:52.946Z"
   },
   {
    "duration": 8,
    "start_time": "2025-03-11T16:19:52.955Z"
   },
   {
    "duration": 5,
    "start_time": "2025-03-11T16:19:52.964Z"
   },
   {
    "duration": 6,
    "start_time": "2025-03-11T16:19:52.970Z"
   },
   {
    "duration": 7,
    "start_time": "2025-03-11T16:19:53.014Z"
   },
   {
    "duration": 84,
    "start_time": "2025-03-11T16:19:53.024Z"
   },
   {
    "duration": 6,
    "start_time": "2025-03-11T16:19:53.110Z"
   },
   {
    "duration": 64,
    "start_time": "2025-03-11T16:19:53.118Z"
   },
   {
    "duration": 184,
    "start_time": "2025-03-11T16:19:53.184Z"
   },
   {
    "duration": 96,
    "start_time": "2025-03-11T16:19:53.370Z"
   },
   {
    "duration": 7,
    "start_time": "2025-03-11T16:19:53.468Z"
   },
   {
    "duration": 174,
    "start_time": "2025-03-11T16:19:53.477Z"
   },
   {
    "duration": 115,
    "start_time": "2025-03-11T16:19:53.653Z"
   },
   {
    "duration": 11,
    "start_time": "2025-03-11T16:19:53.771Z"
   },
   {
    "duration": 177,
    "start_time": "2025-03-11T16:19:53.784Z"
   },
   {
    "duration": 131,
    "start_time": "2025-03-11T16:19:53.962Z"
   },
   {
    "duration": 21,
    "start_time": "2025-03-11T16:19:54.095Z"
   },
   {
    "duration": 152,
    "start_time": "2025-03-11T16:19:54.118Z"
   },
   {
    "duration": 131,
    "start_time": "2025-03-11T16:19:54.272Z"
   },
   {
    "duration": 13,
    "start_time": "2025-03-11T16:19:54.413Z"
   },
   {
    "duration": 13,
    "start_time": "2025-03-11T16:19:54.428Z"
   },
   {
    "duration": 9,
    "start_time": "2025-03-11T16:19:54.442Z"
   },
   {
    "duration": 21,
    "start_time": "2025-03-11T16:19:54.452Z"
   },
   {
    "duration": 45,
    "start_time": "2025-03-11T16:19:54.474Z"
   },
   {
    "duration": 12,
    "start_time": "2025-03-11T16:19:54.521Z"
   },
   {
    "duration": 75,
    "start_time": "2025-03-11T16:19:54.535Z"
   },
   {
    "duration": 17,
    "start_time": "2025-03-11T16:19:54.612Z"
   },
   {
    "duration": 222,
    "start_time": "2025-03-11T16:19:54.631Z"
   },
   {
    "duration": 276,
    "start_time": "2025-03-11T16:19:54.854Z"
   },
   {
    "duration": 15,
    "start_time": "2025-03-11T16:19:55.132Z"
   },
   {
    "duration": 106,
    "start_time": "2025-03-11T16:19:55.149Z"
   },
   {
    "duration": 63,
    "start_time": "2025-03-11T16:19:55.257Z"
   },
   {
    "duration": 13,
    "start_time": "2025-03-11T16:19:55.323Z"
   },
   {
    "duration": 19,
    "start_time": "2025-03-11T16:19:55.338Z"
   },
   {
    "duration": 6,
    "start_time": "2025-03-11T16:19:55.358Z"
   },
   {
    "duration": 5,
    "start_time": "2025-03-11T16:19:55.414Z"
   },
   {
    "duration": 97,
    "start_time": "2025-03-11T16:19:55.421Z"
   },
   {
    "duration": 5,
    "start_time": "2025-03-11T16:19:55.519Z"
   },
   {
    "duration": 291,
    "start_time": "2025-03-11T16:19:55.525Z"
   },
   {
    "duration": 296,
    "start_time": "2025-03-11T16:19:55.818Z"
   },
   {
    "duration": 5,
    "start_time": "2025-03-11T16:19:56.116Z"
   },
   {
    "duration": 236,
    "start_time": "2025-03-11T16:20:20.656Z"
   },
   {
    "duration": 146,
    "start_time": "2025-03-11T16:20:27.291Z"
   },
   {
    "duration": 137,
    "start_time": "2025-03-11T16:20:35.133Z"
   },
   {
    "duration": 152,
    "start_time": "2025-03-11T16:20:48.305Z"
   },
   {
    "duration": 87,
    "start_time": "2025-03-11T16:21:15.758Z"
   },
   {
    "duration": 137,
    "start_time": "2025-03-11T16:21:24.033Z"
   },
   {
    "duration": 139,
    "start_time": "2025-03-11T16:21:34.107Z"
   },
   {
    "duration": 139,
    "start_time": "2025-03-11T16:21:52.381Z"
   },
   {
    "duration": 135,
    "start_time": "2025-03-11T16:22:18.022Z"
   },
   {
    "duration": 150,
    "start_time": "2025-03-11T16:22:31.850Z"
   },
   {
    "duration": 272,
    "start_time": "2025-03-11T16:22:46.472Z"
   },
   {
    "duration": 166,
    "start_time": "2025-03-11T16:22:56.517Z"
   },
   {
    "duration": 1186,
    "start_time": "2025-03-11T16:23:17.504Z"
   },
   {
    "duration": 72,
    "start_time": "2025-03-11T16:23:18.693Z"
   },
   {
    "duration": 14,
    "start_time": "2025-03-11T16:23:18.767Z"
   },
   {
    "duration": 9,
    "start_time": "2025-03-11T16:23:18.782Z"
   },
   {
    "duration": 7,
    "start_time": "2025-03-11T16:23:18.794Z"
   },
   {
    "duration": 14,
    "start_time": "2025-03-11T16:23:18.802Z"
   },
   {
    "duration": 10,
    "start_time": "2025-03-11T16:23:18.818Z"
   },
   {
    "duration": 9,
    "start_time": "2025-03-11T16:23:18.830Z"
   },
   {
    "duration": 7,
    "start_time": "2025-03-11T16:23:18.841Z"
   },
   {
    "duration": 8,
    "start_time": "2025-03-11T16:23:18.850Z"
   },
   {
    "duration": 5,
    "start_time": "2025-03-11T16:23:18.859Z"
   },
   {
    "duration": 6,
    "start_time": "2025-03-11T16:23:18.866Z"
   },
   {
    "duration": 41,
    "start_time": "2025-03-11T16:23:18.874Z"
   },
   {
    "duration": 6,
    "start_time": "2025-03-11T16:23:18.918Z"
   },
   {
    "duration": 21,
    "start_time": "2025-03-11T16:23:18.925Z"
   },
   {
    "duration": 9,
    "start_time": "2025-03-11T16:23:18.948Z"
   },
   {
    "duration": 185,
    "start_time": "2025-03-11T16:23:18.959Z"
   },
   {
    "duration": 104,
    "start_time": "2025-03-11T16:23:19.147Z"
   },
   {
    "duration": 9,
    "start_time": "2025-03-11T16:23:19.254Z"
   },
   {
    "duration": 176,
    "start_time": "2025-03-11T16:23:19.265Z"
   },
   {
    "duration": 111,
    "start_time": "2025-03-11T16:23:19.443Z"
   },
   {
    "duration": 10,
    "start_time": "2025-03-11T16:23:19.556Z"
   },
   {
    "duration": 176,
    "start_time": "2025-03-11T16:23:19.567Z"
   },
   {
    "duration": 133,
    "start_time": "2025-03-11T16:23:19.745Z"
   },
   {
    "duration": 9,
    "start_time": "2025-03-11T16:23:19.880Z"
   },
   {
    "duration": 162,
    "start_time": "2025-03-11T16:23:19.891Z"
   },
   {
    "duration": 130,
    "start_time": "2025-03-11T16:23:20.055Z"
   },
   {
    "duration": 10,
    "start_time": "2025-03-11T16:23:20.187Z"
   },
   {
    "duration": 21,
    "start_time": "2025-03-11T16:23:20.199Z"
   },
   {
    "duration": 25,
    "start_time": "2025-03-11T16:23:20.222Z"
   },
   {
    "duration": 29,
    "start_time": "2025-03-11T16:23:20.248Z"
   },
   {
    "duration": 21,
    "start_time": "2025-03-11T16:23:20.279Z"
   },
   {
    "duration": 12,
    "start_time": "2025-03-11T16:23:20.302Z"
   },
   {
    "duration": 101,
    "start_time": "2025-03-11T16:23:20.316Z"
   },
   {
    "duration": 14,
    "start_time": "2025-03-11T16:23:20.419Z"
   },
   {
    "duration": 215,
    "start_time": "2025-03-11T16:23:20.435Z"
   },
   {
    "duration": 272,
    "start_time": "2025-03-11T16:23:20.652Z"
   },
   {
    "duration": 17,
    "start_time": "2025-03-11T16:23:20.926Z"
   },
   {
    "duration": 54,
    "start_time": "2025-03-11T16:23:20.944Z"
   },
   {
    "duration": 25,
    "start_time": "2025-03-11T16:23:21.000Z"
   },
   {
    "duration": 14,
    "start_time": "2025-03-11T16:23:21.029Z"
   },
   {
    "duration": 66,
    "start_time": "2025-03-11T16:23:21.045Z"
   },
   {
    "duration": 5,
    "start_time": "2025-03-11T16:23:21.112Z"
   },
   {
    "duration": 137,
    "start_time": "2025-03-11T16:23:21.119Z"
   },
   {
    "duration": 13,
    "start_time": "2025-03-11T16:23:21.258Z"
   },
   {
    "duration": 5,
    "start_time": "2025-03-11T16:23:21.273Z"
   },
   {
    "duration": 141,
    "start_time": "2025-03-11T16:23:21.280Z"
   },
   {
    "duration": 154,
    "start_time": "2025-03-11T16:23:21.422Z"
   },
   {
    "duration": 6,
    "start_time": "2025-03-11T16:23:21.578Z"
   },
   {
    "duration": 235,
    "start_time": "2025-03-11T16:23:43.644Z"
   },
   {
    "duration": 1148,
    "start_time": "2025-03-11T16:23:53.241Z"
   },
   {
    "duration": 61,
    "start_time": "2025-03-11T16:23:54.391Z"
   },
   {
    "duration": 13,
    "start_time": "2025-03-11T16:23:54.454Z"
   },
   {
    "duration": 9,
    "start_time": "2025-03-11T16:23:54.469Z"
   },
   {
    "duration": 7,
    "start_time": "2025-03-11T16:23:54.480Z"
   },
   {
    "duration": 10,
    "start_time": "2025-03-11T16:23:54.489Z"
   },
   {
    "duration": 19,
    "start_time": "2025-03-11T16:23:54.501Z"
   },
   {
    "duration": 9,
    "start_time": "2025-03-11T16:23:54.522Z"
   },
   {
    "duration": 11,
    "start_time": "2025-03-11T16:23:54.533Z"
   },
   {
    "duration": 9,
    "start_time": "2025-03-11T16:23:54.545Z"
   },
   {
    "duration": 4,
    "start_time": "2025-03-11T16:23:54.555Z"
   },
   {
    "duration": 78,
    "start_time": "2025-03-11T16:23:54.561Z"
   },
   {
    "duration": 7,
    "start_time": "2025-03-11T16:23:54.640Z"
   },
   {
    "duration": 5,
    "start_time": "2025-03-11T16:23:54.650Z"
   },
   {
    "duration": 5,
    "start_time": "2025-03-11T16:23:54.657Z"
   },
   {
    "duration": 8,
    "start_time": "2025-03-11T16:23:54.663Z"
   },
   {
    "duration": 181,
    "start_time": "2025-03-11T16:23:54.673Z"
   },
   {
    "duration": 107,
    "start_time": "2025-03-11T16:23:54.856Z"
   },
   {
    "duration": 9,
    "start_time": "2025-03-11T16:23:54.965Z"
   },
   {
    "duration": 178,
    "start_time": "2025-03-11T16:23:54.976Z"
   },
   {
    "duration": 112,
    "start_time": "2025-03-11T16:23:55.156Z"
   },
   {
    "duration": 10,
    "start_time": "2025-03-11T16:23:55.270Z"
   },
   {
    "duration": 179,
    "start_time": "2025-03-11T16:23:55.282Z"
   },
   {
    "duration": 130,
    "start_time": "2025-03-11T16:23:55.464Z"
   },
   {
    "duration": 18,
    "start_time": "2025-03-11T16:23:55.596Z"
   },
   {
    "duration": 152,
    "start_time": "2025-03-11T16:23:55.616Z"
   },
   {
    "duration": 124,
    "start_time": "2025-03-11T16:23:55.770Z"
   },
   {
    "duration": 20,
    "start_time": "2025-03-11T16:23:55.896Z"
   },
   {
    "duration": 12,
    "start_time": "2025-03-11T16:23:55.918Z"
   },
   {
    "duration": 8,
    "start_time": "2025-03-11T16:23:55.932Z"
   },
   {
    "duration": 18,
    "start_time": "2025-03-11T16:23:55.942Z"
   },
   {
    "duration": 64,
    "start_time": "2025-03-11T16:23:55.961Z"
   },
   {
    "duration": 13,
    "start_time": "2025-03-11T16:23:56.027Z"
   },
   {
    "duration": 97,
    "start_time": "2025-03-11T16:23:56.042Z"
   },
   {
    "duration": 17,
    "start_time": "2025-03-11T16:23:56.141Z"
   },
   {
    "duration": 430,
    "start_time": "2025-03-11T16:23:56.213Z"
   },
   {
    "duration": 579,
    "start_time": "2025-03-11T16:23:56.645Z"
   },
   {
    "duration": 16,
    "start_time": "2025-03-11T16:23:57.226Z"
   },
   {
    "duration": 97,
    "start_time": "2025-03-11T16:23:57.243Z"
   },
   {
    "duration": 73,
    "start_time": "2025-03-11T16:23:57.342Z"
   },
   {
    "duration": 15,
    "start_time": "2025-03-11T16:23:57.418Z"
   },
   {
    "duration": 78,
    "start_time": "2025-03-11T16:23:57.435Z"
   },
   {
    "duration": 5,
    "start_time": "2025-03-11T16:23:57.515Z"
   },
   {
    "duration": 5,
    "start_time": "2025-03-11T16:23:57.521Z"
   },
   {
    "duration": 7,
    "start_time": "2025-03-11T16:23:57.528Z"
   },
   {
    "duration": 7,
    "start_time": "2025-03-11T16:23:57.537Z"
   },
   {
    "duration": 160,
    "start_time": "2025-03-11T16:23:57.546Z"
   },
   {
    "duration": 160,
    "start_time": "2025-03-11T16:23:57.707Z"
   },
   {
    "duration": 6,
    "start_time": "2025-03-11T16:23:57.868Z"
   },
   {
    "duration": 86,
    "start_time": "2025-03-11T16:24:10.071Z"
   },
   {
    "duration": 252,
    "start_time": "2025-03-11T16:24:37.440Z"
   },
   {
    "duration": 1172,
    "start_time": "2025-03-11T16:24:44.718Z"
   },
   {
    "duration": 60,
    "start_time": "2025-03-11T16:24:45.892Z"
   },
   {
    "duration": 13,
    "start_time": "2025-03-11T16:24:45.954Z"
   },
   {
    "duration": 9,
    "start_time": "2025-03-11T16:24:45.969Z"
   },
   {
    "duration": 7,
    "start_time": "2025-03-11T16:24:45.980Z"
   },
   {
    "duration": 24,
    "start_time": "2025-03-11T16:24:45.988Z"
   },
   {
    "duration": 94,
    "start_time": "2025-03-11T16:24:46.013Z"
   },
   {
    "duration": 10,
    "start_time": "2025-03-11T16:24:46.109Z"
   },
   {
    "duration": 15,
    "start_time": "2025-03-11T16:24:46.121Z"
   },
   {
    "duration": 9,
    "start_time": "2025-03-11T16:24:46.138Z"
   },
   {
    "duration": 6,
    "start_time": "2025-03-11T16:24:46.148Z"
   },
   {
    "duration": 10,
    "start_time": "2025-03-11T16:24:46.155Z"
   },
   {
    "duration": 11,
    "start_time": "2025-03-11T16:24:46.166Z"
   },
   {
    "duration": 6,
    "start_time": "2025-03-11T16:24:46.180Z"
   },
   {
    "duration": 29,
    "start_time": "2025-03-11T16:24:46.188Z"
   },
   {
    "duration": 12,
    "start_time": "2025-03-11T16:24:46.219Z"
   },
   {
    "duration": 190,
    "start_time": "2025-03-11T16:24:46.233Z"
   },
   {
    "duration": 106,
    "start_time": "2025-03-11T16:24:46.425Z"
   },
   {
    "duration": 11,
    "start_time": "2025-03-11T16:24:46.534Z"
   },
   {
    "duration": 205,
    "start_time": "2025-03-11T16:24:46.547Z"
   },
   {
    "duration": 106,
    "start_time": "2025-03-11T16:24:46.754Z"
   },
   {
    "duration": 9,
    "start_time": "2025-03-11T16:24:46.861Z"
   },
   {
    "duration": 170,
    "start_time": "2025-03-11T16:24:46.871Z"
   },
   {
    "duration": 133,
    "start_time": "2025-03-11T16:24:47.043Z"
   },
   {
    "duration": 8,
    "start_time": "2025-03-11T16:24:47.178Z"
   },
   {
    "duration": 198,
    "start_time": "2025-03-11T16:24:47.188Z"
   },
   {
    "duration": 129,
    "start_time": "2025-03-11T16:24:47.388Z"
   },
   {
    "duration": 11,
    "start_time": "2025-03-11T16:24:47.519Z"
   },
   {
    "duration": 12,
    "start_time": "2025-03-11T16:24:47.531Z"
   },
   {
    "duration": 9,
    "start_time": "2025-03-11T16:24:47.545Z"
   },
   {
    "duration": 20,
    "start_time": "2025-03-11T16:24:47.556Z"
   },
   {
    "duration": 52,
    "start_time": "2025-03-11T16:24:47.578Z"
   },
   {
    "duration": 14,
    "start_time": "2025-03-11T16:24:47.631Z"
   },
   {
    "duration": 18,
    "start_time": "2025-03-11T16:24:47.646Z"
   },
   {
    "duration": 15,
    "start_time": "2025-03-11T16:24:47.665Z"
   },
   {
    "duration": 227,
    "start_time": "2025-03-11T16:24:47.682Z"
   },
   {
    "duration": 406,
    "start_time": "2025-03-11T16:24:47.910Z"
   },
   {
    "duration": 16,
    "start_time": "2025-03-11T16:24:48.317Z"
   },
   {
    "duration": 117,
    "start_time": "2025-03-11T16:24:48.335Z"
   },
   {
    "duration": 68,
    "start_time": "2025-03-11T16:24:48.454Z"
   },
   {
    "duration": 14,
    "start_time": "2025-03-11T16:24:48.525Z"
   },
   {
    "duration": 7,
    "start_time": "2025-03-11T16:24:48.540Z"
   },
   {
    "duration": 4,
    "start_time": "2025-03-11T16:24:48.549Z"
   },
   {
    "duration": 99,
    "start_time": "2025-03-11T16:24:48.555Z"
   },
   {
    "duration": 8,
    "start_time": "2025-03-11T16:24:48.656Z"
   },
   {
    "duration": 5,
    "start_time": "2025-03-11T16:24:48.665Z"
   },
   {
    "duration": 281,
    "start_time": "2025-03-11T16:24:48.671Z"
   },
   {
    "duration": 305,
    "start_time": "2025-03-11T16:24:48.953Z"
   },
   {
    "duration": 58,
    "start_time": "2025-03-11T16:24:49.260Z"
   },
   {
    "duration": 258,
    "start_time": "2025-03-11T16:25:06.818Z"
   },
   {
    "duration": 1111,
    "start_time": "2025-03-11T16:25:13.273Z"
   },
   {
    "duration": 60,
    "start_time": "2025-03-11T16:25:14.386Z"
   },
   {
    "duration": 13,
    "start_time": "2025-03-11T16:25:14.448Z"
   },
   {
    "duration": 9,
    "start_time": "2025-03-11T16:25:14.464Z"
   },
   {
    "duration": 7,
    "start_time": "2025-03-11T16:25:14.475Z"
   },
   {
    "duration": 11,
    "start_time": "2025-03-11T16:25:14.485Z"
   },
   {
    "duration": 25,
    "start_time": "2025-03-11T16:25:14.497Z"
   },
   {
    "duration": 9,
    "start_time": "2025-03-11T16:25:14.524Z"
   },
   {
    "duration": 8,
    "start_time": "2025-03-11T16:25:14.534Z"
   },
   {
    "duration": 8,
    "start_time": "2025-03-11T16:25:14.545Z"
   },
   {
    "duration": 4,
    "start_time": "2025-03-11T16:25:14.555Z"
   },
   {
    "duration": 79,
    "start_time": "2025-03-11T16:25:14.560Z"
   },
   {
    "duration": 6,
    "start_time": "2025-03-11T16:25:14.641Z"
   },
   {
    "duration": 6,
    "start_time": "2025-03-11T16:25:14.649Z"
   },
   {
    "duration": 5,
    "start_time": "2025-03-11T16:25:14.656Z"
   },
   {
    "duration": 9,
    "start_time": "2025-03-11T16:25:14.663Z"
   },
   {
    "duration": 165,
    "start_time": "2025-03-11T16:25:14.674Z"
   },
   {
    "duration": 89,
    "start_time": "2025-03-11T16:25:14.840Z"
   },
   {
    "duration": 8,
    "start_time": "2025-03-11T16:25:14.931Z"
   },
   {
    "duration": 185,
    "start_time": "2025-03-11T16:25:14.941Z"
   },
   {
    "duration": 115,
    "start_time": "2025-03-11T16:25:15.127Z"
   },
   {
    "duration": 25,
    "start_time": "2025-03-11T16:25:15.244Z"
   },
   {
    "duration": 155,
    "start_time": "2025-03-11T16:25:15.271Z"
   },
   {
    "duration": 135,
    "start_time": "2025-03-11T16:25:15.428Z"
   },
   {
    "duration": 9,
    "start_time": "2025-03-11T16:25:15.565Z"
   },
   {
    "duration": 155,
    "start_time": "2025-03-11T16:25:15.575Z"
   },
   {
    "duration": 125,
    "start_time": "2025-03-11T16:25:15.732Z"
   },
   {
    "duration": 11,
    "start_time": "2025-03-11T16:25:15.860Z"
   },
   {
    "duration": 10,
    "start_time": "2025-03-11T16:25:15.872Z"
   },
   {
    "duration": 29,
    "start_time": "2025-03-11T16:25:15.884Z"
   },
   {
    "duration": 21,
    "start_time": "2025-03-11T16:25:15.914Z"
   },
   {
    "duration": 19,
    "start_time": "2025-03-11T16:25:15.936Z"
   },
   {
    "duration": 13,
    "start_time": "2025-03-11T16:25:15.957Z"
   },
   {
    "duration": 46,
    "start_time": "2025-03-11T16:25:15.971Z"
   },
   {
    "duration": 15,
    "start_time": "2025-03-11T16:25:16.019Z"
   },
   {
    "duration": 324,
    "start_time": "2025-03-11T16:25:16.035Z"
   },
   {
    "duration": 574,
    "start_time": "2025-03-11T16:25:16.361Z"
   },
   {
    "duration": 17,
    "start_time": "2025-03-11T16:25:16.936Z"
   },
   {
    "duration": 96,
    "start_time": "2025-03-11T16:25:16.954Z"
   },
   {
    "duration": 65,
    "start_time": "2025-03-11T16:25:17.052Z"
   },
   {
    "duration": 14,
    "start_time": "2025-03-11T16:25:17.119Z"
   },
   {
    "duration": 9,
    "start_time": "2025-03-11T16:25:17.134Z"
   },
   {
    "duration": 6,
    "start_time": "2025-03-11T16:25:17.144Z"
   },
   {
    "duration": 89,
    "start_time": "2025-03-11T16:25:17.151Z"
   },
   {
    "duration": 9,
    "start_time": "2025-03-11T16:25:17.242Z"
   },
   {
    "duration": 5,
    "start_time": "2025-03-11T16:25:17.253Z"
   },
   {
    "duration": 279,
    "start_time": "2025-03-11T16:25:17.259Z"
   },
   {
    "duration": 282,
    "start_time": "2025-03-11T16:25:17.540Z"
   },
   {
    "duration": 6,
    "start_time": "2025-03-11T16:25:17.823Z"
   },
   {
    "duration": 258,
    "start_time": "2025-03-11T16:25:43.782Z"
   },
   {
    "duration": 1192,
    "start_time": "2025-03-11T16:25:49.794Z"
   },
   {
    "duration": 71,
    "start_time": "2025-03-11T16:25:50.988Z"
   },
   {
    "duration": 13,
    "start_time": "2025-03-11T16:25:51.061Z"
   },
   {
    "duration": 50,
    "start_time": "2025-03-11T16:25:51.075Z"
   },
   {
    "duration": 7,
    "start_time": "2025-03-11T16:25:51.127Z"
   },
   {
    "duration": 14,
    "start_time": "2025-03-11T16:25:51.136Z"
   },
   {
    "duration": 15,
    "start_time": "2025-03-11T16:25:51.152Z"
   },
   {
    "duration": 59,
    "start_time": "2025-03-11T16:25:51.170Z"
   },
   {
    "duration": 8,
    "start_time": "2025-03-11T16:25:51.231Z"
   },
   {
    "duration": 10,
    "start_time": "2025-03-11T16:25:51.241Z"
   },
   {
    "duration": 5,
    "start_time": "2025-03-11T16:25:51.253Z"
   },
   {
    "duration": 7,
    "start_time": "2025-03-11T16:25:51.260Z"
   },
   {
    "duration": 19,
    "start_time": "2025-03-11T16:25:51.269Z"
   },
   {
    "duration": 7,
    "start_time": "2025-03-11T16:25:51.313Z"
   },
   {
    "duration": 6,
    "start_time": "2025-03-11T16:25:51.322Z"
   },
   {
    "duration": 10,
    "start_time": "2025-03-11T16:25:51.331Z"
   },
   {
    "duration": 231,
    "start_time": "2025-03-11T16:25:51.343Z"
   },
   {
    "duration": 103,
    "start_time": "2025-03-11T16:25:51.576Z"
   },
   {
    "duration": 8,
    "start_time": "2025-03-11T16:25:51.681Z"
   },
   {
    "duration": 182,
    "start_time": "2025-03-11T16:25:51.690Z"
   },
   {
    "duration": 141,
    "start_time": "2025-03-11T16:25:51.874Z"
   },
   {
    "duration": 8,
    "start_time": "2025-03-11T16:25:52.017Z"
   },
   {
    "duration": 221,
    "start_time": "2025-03-11T16:25:52.027Z"
   },
   {
    "duration": 132,
    "start_time": "2025-03-11T16:25:52.250Z"
   },
   {
    "duration": 9,
    "start_time": "2025-03-11T16:25:52.384Z"
   },
   {
    "duration": 169,
    "start_time": "2025-03-11T16:25:52.394Z"
   },
   {
    "duration": 134,
    "start_time": "2025-03-11T16:25:52.565Z"
   },
   {
    "duration": 19,
    "start_time": "2025-03-11T16:25:52.701Z"
   },
   {
    "duration": 11,
    "start_time": "2025-03-11T16:25:52.722Z"
   },
   {
    "duration": 10,
    "start_time": "2025-03-11T16:25:52.735Z"
   },
   {
    "duration": 33,
    "start_time": "2025-03-11T16:25:52.746Z"
   },
   {
    "duration": 44,
    "start_time": "2025-03-11T16:25:52.781Z"
   },
   {
    "duration": 13,
    "start_time": "2025-03-11T16:25:52.827Z"
   },
   {
    "duration": 19,
    "start_time": "2025-03-11T16:25:52.842Z"
   },
   {
    "duration": 16,
    "start_time": "2025-03-11T16:25:52.863Z"
   },
   {
    "duration": 433,
    "start_time": "2025-03-11T16:25:52.881Z"
   },
   {
    "duration": 529,
    "start_time": "2025-03-11T16:25:53.315Z"
   },
   {
    "duration": 69,
    "start_time": "2025-03-11T16:25:53.846Z"
   },
   {
    "duration": 101,
    "start_time": "2025-03-11T16:25:53.916Z"
   },
   {
    "duration": 18,
    "start_time": "2025-03-11T16:25:54.018Z"
   },
   {
    "duration": 84,
    "start_time": "2025-03-11T16:25:54.040Z"
   },
   {
    "duration": 8,
    "start_time": "2025-03-11T16:25:54.126Z"
   },
   {
    "duration": 6,
    "start_time": "2025-03-11T16:25:54.136Z"
   },
   {
    "duration": 6,
    "start_time": "2025-03-11T16:25:54.144Z"
   },
   {
    "duration": 62,
    "start_time": "2025-03-11T16:25:54.152Z"
   },
   {
    "duration": 7,
    "start_time": "2025-03-11T16:25:54.216Z"
   },
   {
    "duration": 301,
    "start_time": "2025-03-11T16:25:54.225Z"
   },
   {
    "duration": 154,
    "start_time": "2025-03-11T16:25:54.528Z"
   },
   {
    "duration": 6,
    "start_time": "2025-03-11T16:25:54.683Z"
   },
   {
    "duration": 1164,
    "start_time": "2025-03-11T16:26:25.436Z"
   },
   {
    "duration": 60,
    "start_time": "2025-03-11T16:26:26.603Z"
   },
   {
    "duration": 13,
    "start_time": "2025-03-11T16:26:26.664Z"
   },
   {
    "duration": 11,
    "start_time": "2025-03-11T16:26:26.678Z"
   },
   {
    "duration": 7,
    "start_time": "2025-03-11T16:26:26.692Z"
   },
   {
    "duration": 12,
    "start_time": "2025-03-11T16:26:26.701Z"
   },
   {
    "duration": 11,
    "start_time": "2025-03-11T16:26:26.715Z"
   },
   {
    "duration": 17,
    "start_time": "2025-03-11T16:26:26.728Z"
   },
   {
    "duration": 12,
    "start_time": "2025-03-11T16:26:26.747Z"
   },
   {
    "duration": 12,
    "start_time": "2025-03-11T16:26:26.761Z"
   },
   {
    "duration": 5,
    "start_time": "2025-03-11T16:26:26.775Z"
   },
   {
    "duration": 7,
    "start_time": "2025-03-11T16:26:26.782Z"
   },
   {
    "duration": 8,
    "start_time": "2025-03-11T16:26:26.815Z"
   },
   {
    "duration": 7,
    "start_time": "2025-03-11T16:26:26.827Z"
   },
   {
    "duration": 6,
    "start_time": "2025-03-11T16:26:26.836Z"
   },
   {
    "duration": 9,
    "start_time": "2025-03-11T16:26:26.843Z"
   },
   {
    "duration": 289,
    "start_time": "2025-03-11T16:26:26.854Z"
   },
   {
    "duration": 198,
    "start_time": "2025-03-11T16:26:27.145Z"
   },
   {
    "duration": 8,
    "start_time": "2025-03-11T16:26:27.345Z"
   },
   {
    "duration": 374,
    "start_time": "2025-03-11T16:26:27.355Z"
   },
   {
    "duration": 210,
    "start_time": "2025-03-11T16:26:27.731Z"
   },
   {
    "duration": 9,
    "start_time": "2025-03-11T16:26:27.943Z"
   },
   {
    "duration": 364,
    "start_time": "2025-03-11T16:26:27.953Z"
   },
   {
    "duration": 236,
    "start_time": "2025-03-11T16:26:28.318Z"
   },
   {
    "duration": 62,
    "start_time": "2025-03-11T16:26:28.556Z"
   },
   {
    "duration": 171,
    "start_time": "2025-03-11T16:26:28.619Z"
   },
   {
    "duration": 135,
    "start_time": "2025-03-11T16:26:28.792Z"
   },
   {
    "duration": 11,
    "start_time": "2025-03-11T16:26:28.929Z"
   },
   {
    "duration": 10,
    "start_time": "2025-03-11T16:26:28.941Z"
   },
   {
    "duration": 9,
    "start_time": "2025-03-11T16:26:28.953Z"
   },
   {
    "duration": 53,
    "start_time": "2025-03-11T16:26:28.964Z"
   },
   {
    "duration": 21,
    "start_time": "2025-03-11T16:26:29.019Z"
   },
   {
    "duration": 16,
    "start_time": "2025-03-11T16:26:29.043Z"
   },
   {
    "duration": 75,
    "start_time": "2025-03-11T16:26:29.060Z"
   },
   {
    "duration": 16,
    "start_time": "2025-03-11T16:26:29.137Z"
   },
   {
    "duration": 212,
    "start_time": "2025-03-11T16:26:29.154Z"
   },
   {
    "duration": 454,
    "start_time": "2025-03-11T16:26:29.368Z"
   },
   {
    "duration": 17,
    "start_time": "2025-03-11T16:26:29.824Z"
   },
   {
    "duration": 102,
    "start_time": "2025-03-11T16:26:29.842Z"
   },
   {
    "duration": 73,
    "start_time": "2025-03-11T16:26:29.946Z"
   },
   {
    "duration": 15,
    "start_time": "2025-03-11T16:26:30.023Z"
   },
   {
    "duration": 99,
    "start_time": "2025-03-11T16:26:30.039Z"
   },
   {
    "duration": 18,
    "start_time": "2025-03-11T16:26:30.139Z"
   },
   {
    "duration": 57,
    "start_time": "2025-03-11T16:26:30.159Z"
   },
   {
    "duration": 18,
    "start_time": "2025-03-11T16:26:30.217Z"
   },
   {
    "duration": 19,
    "start_time": "2025-03-11T16:26:30.237Z"
   },
   {
    "duration": 290,
    "start_time": "2025-03-11T16:26:30.258Z"
   },
   {
    "duration": 302,
    "start_time": "2025-03-11T16:26:30.550Z"
   },
   {
    "duration": 63,
    "start_time": "2025-03-11T16:26:30.853Z"
   },
   {
    "duration": 247,
    "start_time": "2025-03-11T16:26:38.269Z"
   },
   {
    "duration": 1217,
    "start_time": "2025-03-11T16:26:45.500Z"
   },
   {
    "duration": 61,
    "start_time": "2025-03-11T16:26:46.719Z"
   },
   {
    "duration": 12,
    "start_time": "2025-03-11T16:26:46.782Z"
   },
   {
    "duration": 9,
    "start_time": "2025-03-11T16:26:46.796Z"
   },
   {
    "duration": 7,
    "start_time": "2025-03-11T16:26:46.807Z"
   },
   {
    "duration": 12,
    "start_time": "2025-03-11T16:26:46.815Z"
   },
   {
    "duration": 11,
    "start_time": "2025-03-11T16:26:46.828Z"
   },
   {
    "duration": 10,
    "start_time": "2025-03-11T16:26:46.840Z"
   },
   {
    "duration": 7,
    "start_time": "2025-03-11T16:26:46.851Z"
   },
   {
    "duration": 8,
    "start_time": "2025-03-11T16:26:46.860Z"
   },
   {
    "duration": 5,
    "start_time": "2025-03-11T16:26:46.869Z"
   },
   {
    "duration": 7,
    "start_time": "2025-03-11T16:26:46.914Z"
   },
   {
    "duration": 7,
    "start_time": "2025-03-11T16:26:46.922Z"
   },
   {
    "duration": 5,
    "start_time": "2025-03-11T16:26:46.932Z"
   },
   {
    "duration": 4,
    "start_time": "2025-03-11T16:26:46.939Z"
   },
   {
    "duration": 9,
    "start_time": "2025-03-11T16:26:46.945Z"
   },
   {
    "duration": 200,
    "start_time": "2025-03-11T16:26:46.955Z"
   },
   {
    "duration": 100,
    "start_time": "2025-03-11T16:26:47.157Z"
   },
   {
    "duration": 9,
    "start_time": "2025-03-11T16:26:47.259Z"
   },
   {
    "duration": 183,
    "start_time": "2025-03-11T16:26:47.270Z"
   },
   {
    "duration": 109,
    "start_time": "2025-03-11T16:26:47.455Z"
   },
   {
    "duration": 8,
    "start_time": "2025-03-11T16:26:47.566Z"
   },
   {
    "duration": 164,
    "start_time": "2025-03-11T16:26:47.575Z"
   },
   {
    "duration": 129,
    "start_time": "2025-03-11T16:26:47.741Z"
   },
   {
    "duration": 9,
    "start_time": "2025-03-11T16:26:47.871Z"
   },
   {
    "duration": 165,
    "start_time": "2025-03-11T16:26:47.882Z"
   },
   {
    "duration": 131,
    "start_time": "2025-03-11T16:26:48.048Z"
   },
   {
    "duration": 10,
    "start_time": "2025-03-11T16:26:48.181Z"
   },
   {
    "duration": 24,
    "start_time": "2025-03-11T16:26:48.193Z"
   },
   {
    "duration": 9,
    "start_time": "2025-03-11T16:26:48.219Z"
   },
   {
    "duration": 20,
    "start_time": "2025-03-11T16:26:48.230Z"
   },
   {
    "duration": 20,
    "start_time": "2025-03-11T16:26:48.251Z"
   },
   {
    "duration": 40,
    "start_time": "2025-03-11T16:26:48.273Z"
   },
   {
    "duration": 19,
    "start_time": "2025-03-11T16:26:48.315Z"
   },
   {
    "duration": 73,
    "start_time": "2025-03-11T16:26:48.336Z"
   },
   {
    "duration": 203,
    "start_time": "2025-03-11T16:26:48.411Z"
   },
   {
    "duration": 261,
    "start_time": "2025-03-11T16:26:48.616Z"
   },
   {
    "duration": 16,
    "start_time": "2025-03-11T16:26:48.878Z"
   },
   {
    "duration": 56,
    "start_time": "2025-03-11T16:26:48.896Z"
   },
   {
    "duration": 17,
    "start_time": "2025-03-11T16:26:48.954Z"
   },
   {
    "duration": 15,
    "start_time": "2025-03-11T16:26:48.974Z"
   },
   {
    "duration": 30,
    "start_time": "2025-03-11T16:26:48.990Z"
   },
   {
    "duration": 8,
    "start_time": "2025-03-11T16:26:49.021Z"
   },
   {
    "duration": 83,
    "start_time": "2025-03-11T16:26:49.031Z"
   },
   {
    "duration": 8,
    "start_time": "2025-03-11T16:26:49.116Z"
   },
   {
    "duration": 5,
    "start_time": "2025-03-11T16:26:49.126Z"
   },
   {
    "duration": 154,
    "start_time": "2025-03-11T16:26:49.132Z"
   },
   {
    "duration": 328,
    "start_time": "2025-03-11T16:26:49.288Z"
   },
   {
    "duration": 6,
    "start_time": "2025-03-11T16:26:49.617Z"
   },
   {
    "duration": 1122,
    "start_time": "2025-03-11T16:27:48.876Z"
   },
   {
    "duration": 61,
    "start_time": "2025-03-11T16:27:50.000Z"
   },
   {
    "duration": 12,
    "start_time": "2025-03-11T16:27:50.063Z"
   },
   {
    "duration": 59,
    "start_time": "2025-03-11T16:27:50.077Z"
   },
   {
    "duration": 7,
    "start_time": "2025-03-11T16:27:50.138Z"
   },
   {
    "duration": 21,
    "start_time": "2025-03-11T16:27:50.147Z"
   },
   {
    "duration": 12,
    "start_time": "2025-03-11T16:27:50.170Z"
   },
   {
    "duration": 9,
    "start_time": "2025-03-11T16:27:50.183Z"
   },
   {
    "duration": 12,
    "start_time": "2025-03-11T16:27:50.194Z"
   },
   {
    "duration": 11,
    "start_time": "2025-03-11T16:27:50.207Z"
   },
   {
    "duration": 11,
    "start_time": "2025-03-11T16:27:50.220Z"
   },
   {
    "duration": 7,
    "start_time": "2025-03-11T16:27:50.232Z"
   },
   {
    "duration": 7,
    "start_time": "2025-03-11T16:27:50.240Z"
   },
   {
    "duration": 6,
    "start_time": "2025-03-11T16:27:50.250Z"
   },
   {
    "duration": 5,
    "start_time": "2025-03-11T16:27:50.257Z"
   },
   {
    "duration": 8,
    "start_time": "2025-03-11T16:27:50.264Z"
   },
   {
    "duration": 203,
    "start_time": "2025-03-11T16:27:50.273Z"
   },
   {
    "duration": 102,
    "start_time": "2025-03-11T16:27:50.478Z"
   },
   {
    "duration": 9,
    "start_time": "2025-03-11T16:27:50.582Z"
   },
   {
    "duration": 210,
    "start_time": "2025-03-11T16:27:50.593Z"
   },
   {
    "duration": 111,
    "start_time": "2025-03-11T16:27:50.805Z"
   },
   {
    "duration": 10,
    "start_time": "2025-03-11T16:27:50.918Z"
   },
   {
    "duration": 175,
    "start_time": "2025-03-11T16:27:50.929Z"
   },
   {
    "duration": 134,
    "start_time": "2025-03-11T16:27:51.114Z"
   },
   {
    "duration": 10,
    "start_time": "2025-03-11T16:27:51.250Z"
   },
   {
    "duration": 174,
    "start_time": "2025-03-11T16:27:51.262Z"
   },
   {
    "duration": 137,
    "start_time": "2025-03-11T16:27:51.438Z"
   },
   {
    "duration": 11,
    "start_time": "2025-03-11T16:27:51.576Z"
   },
   {
    "duration": 27,
    "start_time": "2025-03-11T16:27:51.588Z"
   },
   {
    "duration": 11,
    "start_time": "2025-03-11T16:27:51.617Z"
   },
   {
    "duration": 21,
    "start_time": "2025-03-11T16:27:51.629Z"
   },
   {
    "duration": 20,
    "start_time": "2025-03-11T16:27:51.651Z"
   },
   {
    "duration": 13,
    "start_time": "2025-03-11T16:27:51.673Z"
   },
   {
    "duration": 44,
    "start_time": "2025-03-11T16:27:51.687Z"
   },
   {
    "duration": 16,
    "start_time": "2025-03-11T16:27:51.732Z"
   },
   {
    "duration": 238,
    "start_time": "2025-03-11T16:27:51.749Z"
   },
   {
    "duration": 264,
    "start_time": "2025-03-11T16:27:51.989Z"
   },
   {
    "duration": 16,
    "start_time": "2025-03-11T16:27:52.255Z"
   },
   {
    "duration": 61,
    "start_time": "2025-03-11T16:27:52.273Z"
   },
   {
    "duration": 20,
    "start_time": "2025-03-11T16:27:52.336Z"
   },
   {
    "duration": 78,
    "start_time": "2025-03-11T16:27:52.361Z"
   },
   {
    "duration": 15,
    "start_time": "2025-03-11T16:27:52.441Z"
   },
   {
    "duration": 6,
    "start_time": "2025-03-11T16:27:52.459Z"
   },
   {
    "duration": 15,
    "start_time": "2025-03-11T16:27:52.468Z"
   },
   {
    "duration": 10,
    "start_time": "2025-03-11T16:27:52.486Z"
   },
   {
    "duration": 16,
    "start_time": "2025-03-11T16:27:52.498Z"
   },
   {
    "duration": 155,
    "start_time": "2025-03-11T16:27:52.516Z"
   },
   {
    "duration": 273,
    "start_time": "2025-03-11T16:27:52.674Z"
   },
   {
    "duration": 6,
    "start_time": "2025-03-11T16:27:52.949Z"
   },
   {
    "duration": 1097,
    "start_time": "2025-03-11T16:28:38.256Z"
   },
   {
    "duration": 60,
    "start_time": "2025-03-11T16:28:39.355Z"
   },
   {
    "duration": 11,
    "start_time": "2025-03-11T16:28:39.419Z"
   },
   {
    "duration": 46,
    "start_time": "2025-03-11T16:28:39.432Z"
   },
   {
    "duration": 56,
    "start_time": "2025-03-11T16:28:39.480Z"
   },
   {
    "duration": 13,
    "start_time": "2025-03-11T16:28:39.538Z"
   },
   {
    "duration": 14,
    "start_time": "2025-03-11T16:28:39.552Z"
   },
   {
    "duration": 10,
    "start_time": "2025-03-11T16:28:39.567Z"
   },
   {
    "duration": 8,
    "start_time": "2025-03-11T16:28:39.579Z"
   },
   {
    "duration": 8,
    "start_time": "2025-03-11T16:28:39.589Z"
   },
   {
    "duration": 17,
    "start_time": "2025-03-11T16:28:39.598Z"
   },
   {
    "duration": 6,
    "start_time": "2025-03-11T16:28:39.617Z"
   },
   {
    "duration": 6,
    "start_time": "2025-03-11T16:28:39.626Z"
   },
   {
    "duration": 5,
    "start_time": "2025-03-11T16:28:39.634Z"
   },
   {
    "duration": 6,
    "start_time": "2025-03-11T16:28:39.640Z"
   },
   {
    "duration": 8,
    "start_time": "2025-03-11T16:28:39.647Z"
   },
   {
    "duration": 199,
    "start_time": "2025-03-11T16:28:39.657Z"
   },
   {
    "duration": 95,
    "start_time": "2025-03-11T16:28:39.858Z"
   },
   {
    "duration": 8,
    "start_time": "2025-03-11T16:28:39.954Z"
   },
   {
    "duration": 174,
    "start_time": "2025-03-11T16:28:39.964Z"
   },
   {
    "duration": 106,
    "start_time": "2025-03-11T16:28:40.140Z"
   },
   {
    "duration": 8,
    "start_time": "2025-03-11T16:28:40.247Z"
   },
   {
    "duration": 165,
    "start_time": "2025-03-11T16:28:40.257Z"
   },
   {
    "duration": 128,
    "start_time": "2025-03-11T16:28:40.424Z"
   },
   {
    "duration": 8,
    "start_time": "2025-03-11T16:28:40.554Z"
   },
   {
    "duration": 162,
    "start_time": "2025-03-11T16:28:40.563Z"
   },
   {
    "duration": 123,
    "start_time": "2025-03-11T16:28:40.727Z"
   },
   {
    "duration": 10,
    "start_time": "2025-03-11T16:28:40.852Z"
   },
   {
    "duration": 10,
    "start_time": "2025-03-11T16:28:40.863Z"
   },
   {
    "duration": 10,
    "start_time": "2025-03-11T16:28:40.875Z"
   },
   {
    "duration": 48,
    "start_time": "2025-03-11T16:28:40.886Z"
   },
   {
    "duration": 19,
    "start_time": "2025-03-11T16:28:40.935Z"
   },
   {
    "duration": 13,
    "start_time": "2025-03-11T16:28:40.956Z"
   },
   {
    "duration": 43,
    "start_time": "2025-03-11T16:28:40.971Z"
   },
   {
    "duration": 15,
    "start_time": "2025-03-11T16:28:41.016Z"
   },
   {
    "duration": 222,
    "start_time": "2025-03-11T16:28:41.032Z"
   },
   {
    "duration": 269,
    "start_time": "2025-03-11T16:28:41.255Z"
   },
   {
    "duration": 16,
    "start_time": "2025-03-11T16:28:41.526Z"
   },
   {
    "duration": 43,
    "start_time": "2025-03-11T16:28:41.544Z"
   },
   {
    "duration": 40,
    "start_time": "2025-03-11T16:28:41.591Z"
   },
   {
    "duration": 15,
    "start_time": "2025-03-11T16:28:41.632Z"
   },
   {
    "duration": 8,
    "start_time": "2025-03-11T16:28:41.649Z"
   },
   {
    "duration": 5,
    "start_time": "2025-03-11T16:28:41.659Z"
   },
   {
    "duration": 5,
    "start_time": "2025-03-11T16:28:41.666Z"
   },
   {
    "duration": 46,
    "start_time": "2025-03-11T16:28:41.672Z"
   },
   {
    "duration": 5,
    "start_time": "2025-03-11T16:28:41.719Z"
   },
   {
    "duration": 163,
    "start_time": "2025-03-11T16:28:41.726Z"
   },
   {
    "duration": 167,
    "start_time": "2025-03-11T16:28:41.891Z"
   },
   {
    "duration": 56,
    "start_time": "2025-03-11T16:28:42.060Z"
   },
   {
    "duration": 182,
    "start_time": "2025-03-11T16:28:52.341Z"
   },
   {
    "duration": 1228,
    "start_time": "2025-03-11T16:28:59.686Z"
   },
   {
    "duration": 65,
    "start_time": "2025-03-11T16:29:00.916Z"
   },
   {
    "duration": 14,
    "start_time": "2025-03-11T16:29:00.983Z"
   },
   {
    "duration": 18,
    "start_time": "2025-03-11T16:29:00.999Z"
   },
   {
    "duration": 55,
    "start_time": "2025-03-11T16:29:01.019Z"
   },
   {
    "duration": 57,
    "start_time": "2025-03-11T16:29:01.076Z"
   },
   {
    "duration": 13,
    "start_time": "2025-03-11T16:29:01.135Z"
   },
   {
    "duration": 56,
    "start_time": "2025-03-11T16:29:01.150Z"
   },
   {
    "duration": 33,
    "start_time": "2025-03-11T16:29:01.208Z"
   },
   {
    "duration": 19,
    "start_time": "2025-03-11T16:29:01.243Z"
   },
   {
    "duration": 5,
    "start_time": "2025-03-11T16:29:01.263Z"
   },
   {
    "duration": 25,
    "start_time": "2025-03-11T16:29:01.270Z"
   },
   {
    "duration": 9,
    "start_time": "2025-03-11T16:29:01.297Z"
   },
   {
    "duration": 6,
    "start_time": "2025-03-11T16:29:01.309Z"
   },
   {
    "duration": 10,
    "start_time": "2025-03-11T16:29:01.317Z"
   },
   {
    "duration": 17,
    "start_time": "2025-03-11T16:29:01.329Z"
   },
   {
    "duration": 177,
    "start_time": "2025-03-11T16:29:01.347Z"
   },
   {
    "duration": 95,
    "start_time": "2025-03-11T16:29:01.526Z"
   },
   {
    "duration": 8,
    "start_time": "2025-03-11T16:29:01.623Z"
   },
   {
    "duration": 179,
    "start_time": "2025-03-11T16:29:01.632Z"
   },
   {
    "duration": 107,
    "start_time": "2025-03-11T16:29:01.813Z"
   },
   {
    "duration": 9,
    "start_time": "2025-03-11T16:29:01.922Z"
   },
   {
    "duration": 178,
    "start_time": "2025-03-11T16:29:01.932Z"
   },
   {
    "duration": 132,
    "start_time": "2025-03-11T16:29:02.111Z"
   },
   {
    "duration": 8,
    "start_time": "2025-03-11T16:29:02.244Z"
   },
   {
    "duration": 177,
    "start_time": "2025-03-11T16:29:02.254Z"
   },
   {
    "duration": 131,
    "start_time": "2025-03-11T16:29:02.433Z"
   },
   {
    "duration": 10,
    "start_time": "2025-03-11T16:29:02.566Z"
   },
   {
    "duration": 113,
    "start_time": "2025-03-11T16:29:02.578Z"
   },
   {
    "duration": 18,
    "start_time": "2025-03-11T16:29:02.693Z"
   },
   {
    "duration": 29,
    "start_time": "2025-03-11T16:29:02.713Z"
   },
   {
    "duration": 18,
    "start_time": "2025-03-11T16:29:02.743Z"
   },
   {
    "duration": 12,
    "start_time": "2025-03-11T16:29:02.763Z"
   },
   {
    "duration": 35,
    "start_time": "2025-03-11T16:29:02.776Z"
   },
   {
    "duration": 15,
    "start_time": "2025-03-11T16:29:02.813Z"
   },
   {
    "duration": 228,
    "start_time": "2025-03-11T16:29:02.830Z"
   },
   {
    "duration": 283,
    "start_time": "2025-03-11T16:29:03.060Z"
   },
   {
    "duration": 16,
    "start_time": "2025-03-11T16:29:03.345Z"
   },
   {
    "duration": 65,
    "start_time": "2025-03-11T16:29:03.363Z"
   },
   {
    "duration": 17,
    "start_time": "2025-03-11T16:29:03.430Z"
   },
   {
    "duration": 96,
    "start_time": "2025-03-11T16:29:03.451Z"
   },
   {
    "duration": 9,
    "start_time": "2025-03-11T16:29:03.548Z"
   },
   {
    "duration": 6,
    "start_time": "2025-03-11T16:29:03.558Z"
   },
   {
    "duration": 8,
    "start_time": "2025-03-11T16:29:03.566Z"
   },
   {
    "duration": 17,
    "start_time": "2025-03-11T16:29:03.575Z"
   },
   {
    "duration": 12,
    "start_time": "2025-03-11T16:29:03.593Z"
   },
   {
    "duration": 141,
    "start_time": "2025-03-11T16:29:03.607Z"
   },
   {
    "duration": 150,
    "start_time": "2025-03-11T16:29:03.749Z"
   },
   {
    "duration": 5,
    "start_time": "2025-03-11T16:29:03.901Z"
   },
   {
    "duration": 1154,
    "start_time": "2025-03-11T16:29:32.437Z"
   },
   {
    "duration": 59,
    "start_time": "2025-03-11T16:29:33.593Z"
   },
   {
    "duration": 11,
    "start_time": "2025-03-11T16:29:33.654Z"
   },
   {
    "duration": 8,
    "start_time": "2025-03-11T16:29:33.667Z"
   },
   {
    "duration": 11,
    "start_time": "2025-03-11T16:29:33.677Z"
   },
   {
    "duration": 19,
    "start_time": "2025-03-11T16:29:33.690Z"
   },
   {
    "duration": 12,
    "start_time": "2025-03-11T16:29:33.711Z"
   },
   {
    "duration": 9,
    "start_time": "2025-03-11T16:29:33.725Z"
   },
   {
    "duration": 13,
    "start_time": "2025-03-11T16:29:33.736Z"
   },
   {
    "duration": 8,
    "start_time": "2025-03-11T16:29:33.751Z"
   },
   {
    "duration": 4,
    "start_time": "2025-03-11T16:29:33.761Z"
   },
   {
    "duration": 6,
    "start_time": "2025-03-11T16:29:33.766Z"
   },
   {
    "duration": 7,
    "start_time": "2025-03-11T16:29:33.773Z"
   },
   {
    "duration": 34,
    "start_time": "2025-03-11T16:29:33.783Z"
   },
   {
    "duration": 5,
    "start_time": "2025-03-11T16:29:33.818Z"
   },
   {
    "duration": 8,
    "start_time": "2025-03-11T16:29:33.825Z"
   },
   {
    "duration": 175,
    "start_time": "2025-03-11T16:29:33.834Z"
   },
   {
    "duration": 91,
    "start_time": "2025-03-11T16:29:34.011Z"
   },
   {
    "duration": 8,
    "start_time": "2025-03-11T16:29:34.113Z"
   },
   {
    "duration": 170,
    "start_time": "2025-03-11T16:29:34.123Z"
   },
   {
    "duration": 103,
    "start_time": "2025-03-11T16:29:34.295Z"
   },
   {
    "duration": 16,
    "start_time": "2025-03-11T16:29:34.400Z"
   },
   {
    "duration": 158,
    "start_time": "2025-03-11T16:29:34.418Z"
   },
   {
    "duration": 125,
    "start_time": "2025-03-11T16:29:34.578Z"
   },
   {
    "duration": 8,
    "start_time": "2025-03-11T16:29:34.713Z"
   },
   {
    "duration": 161,
    "start_time": "2025-03-11T16:29:34.723Z"
   },
   {
    "duration": 132,
    "start_time": "2025-03-11T16:29:34.886Z"
   },
   {
    "duration": 12,
    "start_time": "2025-03-11T16:29:35.020Z"
   },
   {
    "duration": 10,
    "start_time": "2025-03-11T16:29:35.033Z"
   },
   {
    "duration": 82,
    "start_time": "2025-03-11T16:29:35.044Z"
   },
   {
    "duration": 20,
    "start_time": "2025-03-11T16:29:35.127Z"
   },
   {
    "duration": 20,
    "start_time": "2025-03-11T16:29:35.148Z"
   },
   {
    "duration": 134,
    "start_time": "2025-03-11T16:29:35.169Z"
   },
   {
    "duration": 39,
    "start_time": "2025-03-11T16:29:35.306Z"
   },
   {
    "duration": 16,
    "start_time": "2025-03-11T16:29:35.347Z"
   },
   {
    "duration": 209,
    "start_time": "2025-03-11T16:29:35.365Z"
   },
   {
    "duration": 251,
    "start_time": "2025-03-11T16:29:35.575Z"
   },
   {
    "duration": 15,
    "start_time": "2025-03-11T16:29:35.828Z"
   },
   {
    "duration": 41,
    "start_time": "2025-03-11T16:29:35.844Z"
   },
   {
    "duration": 42,
    "start_time": "2025-03-11T16:29:35.886Z"
   },
   {
    "duration": 15,
    "start_time": "2025-03-11T16:29:35.932Z"
   },
   {
    "duration": 18,
    "start_time": "2025-03-11T16:29:35.949Z"
   },
   {
    "duration": 5,
    "start_time": "2025-03-11T16:29:35.969Z"
   },
   {
    "duration": 29,
    "start_time": "2025-03-11T16:29:35.975Z"
   },
   {
    "duration": 12,
    "start_time": "2025-03-11T16:29:36.005Z"
   },
   {
    "duration": 89,
    "start_time": "2025-03-11T16:29:36.019Z"
   },
   {
    "duration": 158,
    "start_time": "2025-03-11T16:29:36.110Z"
   },
   {
    "duration": 157,
    "start_time": "2025-03-11T16:29:36.270Z"
   },
   {
    "duration": 6,
    "start_time": "2025-03-11T16:29:36.428Z"
   },
   {
    "duration": 1227,
    "start_time": "2025-03-11T16:30:00.183Z"
   },
   {
    "duration": 61,
    "start_time": "2025-03-11T16:30:01.412Z"
   },
   {
    "duration": 71,
    "start_time": "2025-03-11T16:30:01.475Z"
   },
   {
    "duration": 9,
    "start_time": "2025-03-11T16:30:01.547Z"
   },
   {
    "duration": 7,
    "start_time": "2025-03-11T16:30:01.559Z"
   },
   {
    "duration": 13,
    "start_time": "2025-03-11T16:30:01.568Z"
   },
   {
    "duration": 30,
    "start_time": "2025-03-11T16:30:01.583Z"
   },
   {
    "duration": 10,
    "start_time": "2025-03-11T16:30:01.615Z"
   },
   {
    "duration": 8,
    "start_time": "2025-03-11T16:30:01.626Z"
   },
   {
    "duration": 8,
    "start_time": "2025-03-11T16:30:01.636Z"
   },
   {
    "duration": 5,
    "start_time": "2025-03-11T16:30:01.646Z"
   },
   {
    "duration": 7,
    "start_time": "2025-03-11T16:30:01.653Z"
   },
   {
    "duration": 7,
    "start_time": "2025-03-11T16:30:01.662Z"
   },
   {
    "duration": 8,
    "start_time": "2025-03-11T16:30:01.713Z"
   },
   {
    "duration": 13,
    "start_time": "2025-03-11T16:30:01.723Z"
   },
   {
    "duration": 10,
    "start_time": "2025-03-11T16:30:01.738Z"
   },
   {
    "duration": 185,
    "start_time": "2025-03-11T16:30:01.750Z"
   },
   {
    "duration": 97,
    "start_time": "2025-03-11T16:30:01.937Z"
   },
   {
    "duration": 8,
    "start_time": "2025-03-11T16:30:02.036Z"
   },
   {
    "duration": 254,
    "start_time": "2025-03-11T16:30:02.045Z"
   },
   {
    "duration": 120,
    "start_time": "2025-03-11T16:30:02.300Z"
   },
   {
    "duration": 9,
    "start_time": "2025-03-11T16:30:02.421Z"
   },
   {
    "duration": 184,
    "start_time": "2025-03-11T16:30:02.431Z"
   },
   {
    "duration": 133,
    "start_time": "2025-03-11T16:30:02.617Z"
   },
   {
    "duration": 9,
    "start_time": "2025-03-11T16:30:02.752Z"
   },
   {
    "duration": 172,
    "start_time": "2025-03-11T16:30:02.763Z"
   },
   {
    "duration": 138,
    "start_time": "2025-03-11T16:30:02.937Z"
   },
   {
    "duration": 17,
    "start_time": "2025-03-11T16:30:03.077Z"
   },
   {
    "duration": 44,
    "start_time": "2025-03-11T16:30:03.096Z"
   },
   {
    "duration": 14,
    "start_time": "2025-03-11T16:30:03.141Z"
   },
   {
    "duration": 46,
    "start_time": "2025-03-11T16:30:03.158Z"
   },
   {
    "duration": 47,
    "start_time": "2025-03-11T16:30:03.206Z"
   },
   {
    "duration": 13,
    "start_time": "2025-03-11T16:30:03.255Z"
   },
   {
    "duration": 24,
    "start_time": "2025-03-11T16:30:03.270Z"
   },
   {
    "duration": 17,
    "start_time": "2025-03-11T16:30:03.296Z"
   },
   {
    "duration": 238,
    "start_time": "2025-03-11T16:30:03.315Z"
   },
   {
    "duration": 273,
    "start_time": "2025-03-11T16:30:03.556Z"
   },
   {
    "duration": 18,
    "start_time": "2025-03-11T16:30:03.831Z"
   },
   {
    "duration": 44,
    "start_time": "2025-03-11T16:30:03.850Z"
   },
   {
    "duration": 19,
    "start_time": "2025-03-11T16:30:03.914Z"
   },
   {
    "duration": 15,
    "start_time": "2025-03-11T16:30:03.937Z"
   },
   {
    "duration": 9,
    "start_time": "2025-03-11T16:30:03.953Z"
   },
   {
    "duration": 6,
    "start_time": "2025-03-11T16:30:03.963Z"
   },
   {
    "duration": 43,
    "start_time": "2025-03-11T16:30:03.970Z"
   },
   {
    "duration": 9,
    "start_time": "2025-03-11T16:30:04.015Z"
   },
   {
    "duration": 13,
    "start_time": "2025-03-11T16:30:04.025Z"
   },
   {
    "duration": 202,
    "start_time": "2025-03-11T16:30:04.040Z"
   },
   {
    "duration": 273,
    "start_time": "2025-03-11T16:30:04.243Z"
   },
   {
    "duration": 6,
    "start_time": "2025-03-11T16:30:04.518Z"
   },
   {
    "duration": 1208,
    "start_time": "2025-03-11T16:30:29.865Z"
   },
   {
    "duration": 61,
    "start_time": "2025-03-11T16:30:31.075Z"
   },
   {
    "duration": 14,
    "start_time": "2025-03-11T16:30:31.138Z"
   },
   {
    "duration": 59,
    "start_time": "2025-03-11T16:30:31.155Z"
   },
   {
    "duration": 22,
    "start_time": "2025-03-11T16:30:31.217Z"
   },
   {
    "duration": 24,
    "start_time": "2025-03-11T16:30:31.241Z"
   },
   {
    "duration": 16,
    "start_time": "2025-03-11T16:30:31.268Z"
   },
   {
    "duration": 13,
    "start_time": "2025-03-11T16:30:31.286Z"
   },
   {
    "duration": 21,
    "start_time": "2025-03-11T16:30:31.301Z"
   },
   {
    "duration": 18,
    "start_time": "2025-03-11T16:30:31.324Z"
   },
   {
    "duration": 18,
    "start_time": "2025-03-11T16:30:31.343Z"
   },
   {
    "duration": 18,
    "start_time": "2025-03-11T16:30:31.362Z"
   },
   {
    "duration": 31,
    "start_time": "2025-03-11T16:30:31.381Z"
   },
   {
    "duration": 104,
    "start_time": "2025-03-11T16:30:31.415Z"
   },
   {
    "duration": 44,
    "start_time": "2025-03-11T16:30:31.521Z"
   },
   {
    "duration": 10,
    "start_time": "2025-03-11T16:30:31.566Z"
   },
   {
    "duration": 171,
    "start_time": "2025-03-11T16:30:31.578Z"
   },
   {
    "duration": 96,
    "start_time": "2025-03-11T16:30:31.751Z"
   },
   {
    "duration": 9,
    "start_time": "2025-03-11T16:30:31.849Z"
   },
   {
    "duration": 195,
    "start_time": "2025-03-11T16:30:31.860Z"
   },
   {
    "duration": 113,
    "start_time": "2025-03-11T16:30:32.057Z"
   },
   {
    "duration": 9,
    "start_time": "2025-03-11T16:30:32.171Z"
   },
   {
    "duration": 174,
    "start_time": "2025-03-11T16:30:32.182Z"
   },
   {
    "duration": 128,
    "start_time": "2025-03-11T16:30:32.357Z"
   },
   {
    "duration": 9,
    "start_time": "2025-03-11T16:30:32.486Z"
   },
   {
    "duration": 163,
    "start_time": "2025-03-11T16:30:32.514Z"
   },
   {
    "duration": 137,
    "start_time": "2025-03-11T16:30:32.678Z"
   },
   {
    "duration": 11,
    "start_time": "2025-03-11T16:30:32.816Z"
   },
   {
    "duration": 16,
    "start_time": "2025-03-11T16:30:32.828Z"
   },
   {
    "duration": 15,
    "start_time": "2025-03-11T16:30:32.845Z"
   },
   {
    "duration": 23,
    "start_time": "2025-03-11T16:30:32.862Z"
   },
   {
    "duration": 41,
    "start_time": "2025-03-11T16:30:32.887Z"
   },
   {
    "duration": 14,
    "start_time": "2025-03-11T16:30:32.929Z"
   },
   {
    "duration": 19,
    "start_time": "2025-03-11T16:30:32.944Z"
   },
   {
    "duration": 16,
    "start_time": "2025-03-11T16:30:32.964Z"
   },
   {
    "duration": 279,
    "start_time": "2025-03-11T16:30:32.982Z"
   },
   {
    "duration": 290,
    "start_time": "2025-03-11T16:30:33.262Z"
   },
   {
    "duration": 17,
    "start_time": "2025-03-11T16:30:33.553Z"
   },
   {
    "duration": 59,
    "start_time": "2025-03-11T16:30:33.571Z"
   },
   {
    "duration": 18,
    "start_time": "2025-03-11T16:30:33.631Z"
   },
   {
    "duration": 14,
    "start_time": "2025-03-11T16:30:33.653Z"
   },
   {
    "duration": 8,
    "start_time": "2025-03-11T16:30:33.668Z"
   },
   {
    "duration": 7,
    "start_time": "2025-03-11T16:30:33.678Z"
   },
   {
    "duration": 30,
    "start_time": "2025-03-11T16:30:33.687Z"
   },
   {
    "duration": 18,
    "start_time": "2025-03-11T16:30:33.719Z"
   },
   {
    "duration": 5,
    "start_time": "2025-03-11T16:30:33.739Z"
   },
   {
    "duration": 151,
    "start_time": "2025-03-11T16:30:33.746Z"
   },
   {
    "duration": 165,
    "start_time": "2025-03-11T16:30:33.899Z"
   },
   {
    "duration": 6,
    "start_time": "2025-03-11T16:30:34.066Z"
   },
   {
    "duration": 1306,
    "start_time": "2025-03-11T16:39:56.311Z"
   },
   {
    "duration": 71,
    "start_time": "2025-03-11T16:39:57.619Z"
   },
   {
    "duration": 12,
    "start_time": "2025-03-11T16:39:57.694Z"
   },
   {
    "duration": 7,
    "start_time": "2025-03-11T16:39:57.708Z"
   },
   {
    "duration": 7,
    "start_time": "2025-03-11T16:39:57.717Z"
   },
   {
    "duration": 11,
    "start_time": "2025-03-11T16:39:57.725Z"
   },
   {
    "duration": 11,
    "start_time": "2025-03-11T16:39:57.737Z"
   },
   {
    "duration": 9,
    "start_time": "2025-03-11T16:39:57.750Z"
   },
   {
    "duration": 6,
    "start_time": "2025-03-11T16:39:57.761Z"
   },
   {
    "duration": 40,
    "start_time": "2025-03-11T16:39:57.769Z"
   },
   {
    "duration": 5,
    "start_time": "2025-03-11T16:39:57.810Z"
   },
   {
    "duration": 6,
    "start_time": "2025-03-11T16:39:57.816Z"
   },
   {
    "duration": 7,
    "start_time": "2025-03-11T16:39:57.824Z"
   },
   {
    "duration": 6,
    "start_time": "2025-03-11T16:39:57.832Z"
   },
   {
    "duration": 5,
    "start_time": "2025-03-11T16:39:57.839Z"
   },
   {
    "duration": 8,
    "start_time": "2025-03-11T16:39:57.845Z"
   },
   {
    "duration": 196,
    "start_time": "2025-03-11T16:39:57.855Z"
   },
   {
    "duration": 96,
    "start_time": "2025-03-11T16:39:58.053Z"
   },
   {
    "duration": 8,
    "start_time": "2025-03-11T16:39:58.150Z"
   },
   {
    "duration": 185,
    "start_time": "2025-03-11T16:39:58.159Z"
   },
   {
    "duration": 106,
    "start_time": "2025-03-11T16:39:58.346Z"
   },
   {
    "duration": 8,
    "start_time": "2025-03-11T16:39:58.454Z"
   },
   {
    "duration": 174,
    "start_time": "2025-03-11T16:39:58.463Z"
   },
   {
    "duration": 130,
    "start_time": "2025-03-11T16:39:58.639Z"
   },
   {
    "duration": 10,
    "start_time": "2025-03-11T16:39:58.771Z"
   },
   {
    "duration": 161,
    "start_time": "2025-03-11T16:39:58.783Z"
   },
   {
    "duration": 122,
    "start_time": "2025-03-11T16:39:58.946Z"
   },
   {
    "duration": 11,
    "start_time": "2025-03-11T16:39:59.070Z"
   },
   {
    "duration": 29,
    "start_time": "2025-03-11T16:39:59.083Z"
   },
   {
    "duration": 9,
    "start_time": "2025-03-11T16:39:59.114Z"
   },
   {
    "duration": 20,
    "start_time": "2025-03-11T16:39:59.125Z"
   },
   {
    "duration": 114,
    "start_time": "2025-03-11T16:39:59.147Z"
   },
   {
    "duration": 13,
    "start_time": "2025-03-11T16:39:59.263Z"
   },
   {
    "duration": 32,
    "start_time": "2025-03-11T16:39:59.278Z"
   },
   {
    "duration": 16,
    "start_time": "2025-03-11T16:39:59.312Z"
   },
   {
    "duration": 219,
    "start_time": "2025-03-11T16:39:59.330Z"
   },
   {
    "duration": 191,
    "start_time": "2025-03-11T16:39:59.551Z"
   },
   {
    "duration": 16,
    "start_time": "2025-03-11T16:39:59.744Z"
   },
   {
    "duration": 56,
    "start_time": "2025-03-11T16:39:59.762Z"
   },
   {
    "duration": 20,
    "start_time": "2025-03-11T16:39:59.823Z"
   },
   {
    "duration": 14,
    "start_time": "2025-03-11T16:39:59.845Z"
   },
   {
    "duration": 12,
    "start_time": "2025-03-11T16:39:59.861Z"
   },
   {
    "duration": 5,
    "start_time": "2025-03-11T16:39:59.874Z"
   },
   {
    "duration": 5,
    "start_time": "2025-03-11T16:39:59.904Z"
   },
   {
    "duration": 11,
    "start_time": "2025-03-11T16:39:59.910Z"
   },
   {
    "duration": 4,
    "start_time": "2025-03-11T16:39:59.923Z"
   },
   {
    "duration": 151,
    "start_time": "2025-03-11T16:39:59.929Z"
   },
   {
    "duration": 148,
    "start_time": "2025-03-11T16:40:00.081Z"
   },
   {
    "duration": 5,
    "start_time": "2025-03-11T16:40:00.231Z"
   }
  ],
  "kernelspec": {
   "display_name": "Python 3",
   "language": "python",
   "name": "python3"
  },
  "language_info": {
   "codemirror_mode": {
    "name": "ipython",
    "version": 3
   },
   "file_extension": ".py",
   "mimetype": "text/x-python",
   "name": "python",
   "nbconvert_exporter": "python",
   "pygments_lexer": "ipython3",
   "version": "3.11.9"
  },
  "toc": {
   "base_numbering": 1,
   "nav_menu": {},
   "number_sections": true,
   "sideBar": true,
   "skip_h1_title": true,
   "title_cell": "Table of Contents",
   "title_sidebar": "Contents",
   "toc_cell": false,
   "toc_position": {
    "height": "calc(100% - 180px)",
    "left": "10px",
    "top": "150px",
    "width": "371.188px"
   },
   "toc_section_display": true,
   "toc_window_display": true
  }
 },
 "nbformat": 4,
 "nbformat_minor": 5
}
